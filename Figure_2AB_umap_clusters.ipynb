{
 "cells": [
  {
   "cell_type": "code",
   "execution_count": null,
   "metadata": {},
   "outputs": [],
   "source": [
    "import numpy, matplotlib, pandas, scanpy"
   ]
  },
  {
   "cell_type": "code",
   "execution_count": null,
   "metadata": {},
   "outputs": [],
   "source": [
    "input_file_directory = '/Users/kja11/OneDrive - Háskóli Íslands/PhD ATG7//0 in_silico/Python/1)data_input/'\n",
    "output_file_directory = '/Users/kja11/OneDrive - Háskóli Íslands/PhD ATG7/0 in_silico/Python/3)output/'"
   ]
  },
  {
   "cell_type": "code",
   "execution_count": null,
   "metadata": {},
   "outputs": [],
   "source": [
    "matplotlib.rcParams.update({'font.size':20, 'xtick.labelsize':20, 'ytick.labelsize':20, \n",
    "                            'axes.grid' : True, 'grid.alpha': 0.5, 'grid.linestyle' : ':',\n",
    "                            'figure.figsize':(8, 5), 'svg.fonttype' : 'none'})"
   ]
  },
  {
   "cell_type": "code",
   "execution_count": null,
   "metadata": {},
   "outputs": [],
   "source": [
    "scanpy.set_figure_params(fontsize=20, figsize=(8, 5), format='tiff')"
   ]
  },
  {
   "cell_type": "code",
   "execution_count": null,
   "metadata": {},
   "outputs": [],
   "source": [
    "# from http://godsnotwheregodsnot.blogspot.de/2012/09/color-distribution-methodology.html\n",
    "# from https://github.com/scverse/scanpy/blob/master/scanpy/plotting/palettes.py\n",
    "godsnot_102 = [# \"#000000\",  # remove the black, as often, we have black colored annotation\n",
    "                \"#FFFF00\",\"#1CE6FF\",\"#FF34FF\",\"#FF4A46\",\"#008941\",\"#006FA6\",\"#A30059\",\"#FFDBE5\",\n",
    "                \"#7A4900\",\"#0000A6\",\"#63FFAC\",\"#B79762\",\"#004D43\",\"#8FB0FF\",\"#997D87\",\"#5A0007\",\n",
    "                \"#809693\",\"#6A3A4C\",\"#1B4400\",\"#4FC601\",\"#3B5DFF\",\"#4A3B53\",\"#FF2F80\",\"#61615A\",\n",
    "                \"#BA0900\",\"#6B7900\",\"#00C2A0\",\"#FFAA92\",\"#FF90C9\",\"#B903AA\",\"#D16100\",\"#DDEFFF\",\n",
    "                \"#000035\",\"#7B4F4B\",\"#A1C299\",\"#300018\",\"#0AA6D8\",\"#013349\",\"#00846F\",\"#372101\",\n",
    "                \"#FFB500\",\"#C2FFED\",\"#A079BF\",\"#CC0744\",\"#C0B9B2\",\"#C2FF99\",\"#001E09\",\"#00489C\",\n",
    "                \"#6F0062\",\"#0CBD66\",\"#EEC3FF\",\"#456D75\",\"#B77B68\",\"#7A87A1\",\"#788D66\",\"#885578\",\n",
    "                \"#FAD09F\",\"#FF8A9A\",\"#D157A0\",\"#BEC459\",\"#456648\",\"#0086ED\",\"#886F4C\",\"#34362D\",\n",
    "                \"#B4A8BD\",\"#00A6AA\",\"#452C2C\",\"#636375\",\"#A3C8C9\",\"#FF913F\",\"#938A81\",\"#575329\",\n",
    "                \"#00FECF\",\"#B05B6F\",\"#8CD0FF\",\"#3B9700\",\"#04F757\",\"#C8A1A1\",\"#1E6E00\",\"#7900D7\",\n",
    "                \"#A77500\",\"#6367A9\",\"#A05837\",\"#6B002C\",\"#772600\",\"#D790FF\",\"#9B9700\",\"#549E79\",\n",
    "                \"#FFF69F\",\"#201625\",\"#72418F\",\"#BC23FF\",\"#99ADC0\",\"#3A2465\",\"#922329\",\"#5B4534\",\n",
    "                \"#FDE8DC\",\"#404E55\",\"#0089A3\",\"#CB7E98\",\"#A4E804\",\"#324E72\"]\n",
    "x = godsnot_102 + godsnot_102\n",
    "two_hundred_colors = x[:200]\n",
    "print(len(two_hundred_colors))"
   ]
  },
  {
   "cell_type": "code",
   "execution_count": null,
   "metadata": {},
   "outputs": [],
   "source": [
    "iso1 = 'ENST00000354449.7'\n",
    "iso2 = 'ENST00000354956.9'"
   ]
  },
  {
   "cell_type": "code",
   "execution_count": null,
   "metadata": {},
   "outputs": [],
   "source": [
    "%%time\n",
    "#Open the big expression data with all the transcripts\n",
    "path = output_file_directory + \"/dataframes_for_input/all_transcripts_zscore.tsv\"\n",
    "adata  = scanpy.read_csv(path, delimiter='\\t')\n",
    "\n",
    "print(adata.shape)"
   ]
  },
  {
   "cell_type": "markdown",
   "metadata": {},
   "source": [
    "# PCA"
   ]
  },
  {
   "cell_type": "code",
   "execution_count": null,
   "metadata": {},
   "outputs": [],
   "source": [
    "path2  = output_file_directory + 'ATG7/TCGA_GTEX/transcripts/'"
   ]
  },
  {
   "cell_type": "code",
   "execution_count": null,
   "metadata": {},
   "outputs": [],
   "source": [
    "%%time\n",
    "\n",
    "nei = 5\n",
    "dist = 0.2\n",
    "spre = 10\n",
    "scanpy.pp.neighbors(adata, n_neighbors=nei, n_pcs=100)\n",
    "scanpy.tl.leiden(adata)\n",
    "scanpy.tl.paga(adata)\n",
    "scanpy.pl.paga(adata, plot=False)\n",
    "scanpy.tl.umap(adata, min_dist=dist, spread=spre, init_pos='paga')      \n",
    "scanpy.pl.umap(adata, color='leiden', palette=two_hundred_colors, legend_loc=None, save='_all')"
   ]
  },
  {
   "cell_type": "markdown",
   "metadata": {},
   "source": [
    "# umap and leiden"
   ]
  },
  {
   "cell_type": "code",
   "execution_count": null,
   "metadata": {},
   "outputs": [],
   "source": [
    "%%time\n",
    "# neis 5, spre 10 and then explore multiple values\n",
    "neis = [5]\n",
    "dists = [0.2]\n",
    "spres = [10]\n",
    "\n",
    "for nei in neis:\n",
    "    for dist in dists:\n",
    "        for spre in spres:\n",
    "            # initial exploration\n",
    "            scanpy.pp.neighbors(adata, n_neighbors=nei, n_pcs=100)\n",
    "            scanpy.tl.leiden(adata)\n",
    "            scanpy.tl.paga(adata)\n",
    "            scanpy.pl.paga(adata, plot=False)\n",
    "            scanpy.tl.umap(adata, min_dist=dist, spread=spre, init_pos='paga')         \n",
    "            \n",
    "            # dealing with colors\n",
    "            umap0 = adata.obsm['X_umap'][:, 0]\n",
    "            umap1 = adata.obsm['X_umap'][:, 1]\n",
    "\n",
    "            group1x = []; group1y = []\n",
    "            group2x = []; group2y = []\n",
    "            othersx = []; othersy = []\n",
    "\n",
    "            for i in range(len(adata.obs.index)):\n",
    "\n",
    "                transcript = adata.obs.index[i]\n",
    "                label = adata.obs.loc[transcript, 'leiden']\n",
    "                x = adata.obsm['X_umap'][i, 0] \n",
    "                y = adata.obsm['X_umap'][i, 1]\n",
    "\n",
    "                if label == adata.obs.loc[iso1, 'leiden']:\n",
    "                    group1x.append(x); group1y.append(y)\n",
    "                elif label == adata.obs.loc[iso2, 'leiden']:\n",
    "                    group2x.append(x); group2y.append(y)\n",
    "                else:\n",
    "                    othersx.append(x); othersy.append(y)\n",
    "\n",
    "            matplotlib.pyplot.scatter(group1x, group1y, s=10, c='skyblue', alpha=0.1, edgecolors='none')\n",
    "            matplotlib.pyplot.scatter(group2x, group2y, s=10, c='gold', alpha=0.1, edgecolors='none')\n",
    "            matplotlib.pyplot.scatter(othersx, othersy, s=5, c='gray', alpha=0.01, edgecolors='none')\n",
    "\n",
    "            # location of iso1 and iso2\n",
    "            position1 = adata.obsm['X_umap'][adata.obs.index.get_loc(iso1), :]\n",
    "            position2 = adata.obsm['X_umap'][adata.obs.index.get_loc(iso2), :]\n",
    "            matplotlib.pyplot.scatter(position1[0], position1[1], s=50, c='skyblue', edgecolors='black', marker='*')\n",
    "            matplotlib.pyplot.scatter(position2[0], position2[1], s=50, c='gold', marker='*', edgecolors='black')\n",
    "\n",
    "            matplotlib.pyplot.title('n{} d{} s{}'.format(nei, dist, spre))\n",
    "            matplotlib.pyplot.xlabel('UMAP1')\n",
    "            matplotlib.pyplot.ylabel('UMAP2')\n",
    "            matplotlib.pyplot.xticks([])\n",
    "            matplotlib.pyplot.yticks([])\n",
    "            matplotlib.pyplot.savefig(path2+'umap_iso1_2.tiff')\n",
    "            matplotlib.pyplot.show()"
   ]
  }
 ],
 "metadata": {
  "kernelspec": {
   "display_name": "Python 3 (ipykernel)",
   "language": "python",
   "name": "python3"
  },
  "language_info": {
   "codemirror_mode": {
    "name": "ipython",
    "version": 3
   },
   "file_extension": ".py",
   "mimetype": "text/x-python",
   "name": "python",
   "nbconvert_exporter": "python",
   "pygments_lexer": "ipython3",
   "version": "3.8.16"
  }
 },
 "nbformat": 4,
 "nbformat_minor": 4
}
