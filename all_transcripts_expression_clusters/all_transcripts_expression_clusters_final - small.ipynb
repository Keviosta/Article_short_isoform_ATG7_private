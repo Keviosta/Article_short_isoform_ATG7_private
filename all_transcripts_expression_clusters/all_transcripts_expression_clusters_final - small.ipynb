{
 "cells": [
  {
   "cell_type": "code",
   "execution_count": null,
   "metadata": {},
   "outputs": [],
   "source": [
    "import pandas, numpy, seaborn, sklearn\n",
    "import matplotlib.pyplot as plt\n",
    "from sklearn.cluster import KMeans"
   ]
  },
  {
   "cell_type": "markdown",
   "metadata": {},
   "source": [
    "## functions & options\n"
   ]
  },
  {
   "cell_type": "code",
   "execution_count": null,
   "metadata": {},
   "outputs": [],
   "source": [
    "input_file_directory = '/Users/kja11/OneDrive - Háskóli Íslands/PhD ATG7//0 in_silico/Python/1)data_input/'\n",
    "output_file_directory = '/Users/kja11/OneDrive - Háskóli Íslands/PhD ATG7/0 in_silico/Python/3)output/'"
   ]
  },
  {
   "cell_type": "markdown",
   "metadata": {},
   "source": [
    "# I] Dataframe settings"
   ]
  },
  {
   "cell_type": "code",
   "execution_count": null,
   "metadata": {},
   "outputs": [],
   "source": [
    "%%time\n",
    "#Open the big expression data with all the transcripts in 3 parts. Chunksize is number of rows.\n",
    "path = output_file_directory + \"/dataframes_for_input/all_transcripts_zscore.tsv\"\n",
    "df = pandas.read_csv(path, sep = \"\\t\", index_col='sample')\n",
    "\n",
    "print(df.shape)\n",
    "df.head()"
   ]
  },
  {
   "cell_type": "code",
   "execution_count": 1,
   "metadata": {},
   "outputs": [
    {
     "ename": "NameError",
     "evalue": "name 'df' is not defined",
     "output_type": "error",
     "traceback": [
      "\u001b[1;31m---------------------------------------------------------------------------\u001b[0m",
      "\u001b[1;31mNameError\u001b[0m                                 Traceback (most recent call last)",
      "\u001b[1;32m<ipython-input-1-ac503c06ae26>\u001b[0m in \u001b[0;36m<module>\u001b[1;34m\u001b[0m\n\u001b[1;32m----> 1\u001b[1;33m \u001b[0mrow_10p\u001b[0m \u001b[1;33m=\u001b[0m \u001b[0mint\u001b[0m\u001b[1;33m(\u001b[0m\u001b[0mdf\u001b[0m\u001b[1;33m.\u001b[0m\u001b[0mshape\u001b[0m\u001b[1;33m[\u001b[0m\u001b[1;36m0\u001b[0m\u001b[1;33m]\u001b[0m\u001b[1;33m/\u001b[0m\u001b[1;36m10\u001b[0m\u001b[1;33m)\u001b[0m\u001b[1;33m\u001b[0m\u001b[1;33m\u001b[0m\u001b[0m\n\u001b[0m\u001b[0;32m      2\u001b[0m \u001b[0mdf_small\u001b[0m \u001b[1;33m=\u001b[0m \u001b[0mdf\u001b[0m\u001b[1;33m.\u001b[0m\u001b[0miloc\u001b[0m\u001b[1;33m[\u001b[0m\u001b[1;33m:\u001b[0m\u001b[0mrow_10p\u001b[0m\u001b[1;33m,\u001b[0m\u001b[1;33m:\u001b[0m\u001b[1;33m]\u001b[0m\u001b[1;33m\u001b[0m\u001b[1;33m\u001b[0m\u001b[0m\n",
      "\u001b[1;31mNameError\u001b[0m: name 'df' is not defined"
     ]
    }
   ],
   "source": [
    "row_10p = int(df.shape[0]/10)\n",
    "df_small = df.iloc[:row_10p,:]"
   ]
  },
  {
   "cell_type": "markdown",
   "metadata": {},
   "source": [
    "# IV] Result: Are they in the same expression cluster ? "
   ]
  },
  {
   "cell_type": "code",
   "execution_count": null,
   "metadata": {},
   "outputs": [],
   "source": [
    "%%time\n",
    "# 9 is the best number of cluster\n",
    "kmeans_model = KMeans(n_clusters = 4, random_state=1, verbose=False).fit(df_small)\n",
    "labels = kmeans_model.labels_\n",
    "# Find what cluster for each gene\n",
    "pred_cluster = kmeans_model.predict(df_small)\n",
    "print(pred_cluster)\n",
    "#add the prediction in a column\n",
    "df_small['cluster'] = pred_cluster\n",
    "df_small.head()"
   ]
  },
  {
   "cell_type": "code",
   "execution_count": null,
   "metadata": {},
   "outputs": [],
   "source": [
    "#Final answer\n",
    "ATG7_1 = 'ENST00000354449.7'\n",
    "ATG7_2 = 'ENST00000354956.9'\n",
    "\n",
    "# print(df['cluster'][[ATG7_1, ATG7_2]])"
   ]
  },
  {
   "cell_type": "code",
   "execution_count": null,
   "metadata": {},
   "outputs": [],
   "source": [
    "# print('The two transcripts are not in the same cluster. BINGO ')"
   ]
  },
  {
   "cell_type": "markdown",
   "metadata": {},
   "source": [
    "# IV] Clustermap"
   ]
  },
  {
   "cell_type": "code",
   "execution_count": null,
   "metadata": {},
   "outputs": [],
   "source": [
    "seaborn.hls_palette(4)"
   ]
  },
  {
   "cell_type": "code",
   "execution_count": null,
   "metadata": {},
   "outputs": [],
   "source": [
    "# %%time\n",
    "# # #pop the cluster column\n",
    "# cluster_uniq = df_small.pop(\"cluster\")\n",
    "# #use one color per cluster group\n",
    "# lut = dict(zip(cluster_uniq.unique(), seaborn.hls_palette(4)))\n",
    "# row_colors_clust = cluster_uniq.map(lut)\n",
    "# #plot\n",
    "# seaborn.clustermap(df_small, cmap='bwr', col_cluster=True, row_cluster=True,\n",
    "#                    row_colors= row_colors_clust, \n",
    "#                    method = \"complete\", metric = 'correlation',\n",
    "#                    yticklabels= '', xticklabels = '',\n",
    "#                    cbar_kws={'label':'expression [z-score]'})"
   ]
  },
  {
   "cell_type": "code",
   "execution_count": null,
   "metadata": {},
   "outputs": [],
   "source": [
    "df_small"
   ]
  },
  {
   "cell_type": "code",
   "execution_count": null,
   "metadata": {},
   "outputs": [],
   "source": [
    "#sort the df_small with the cluster numbers.\n",
    "df_small = df_small.sort_values('cluster')\n",
    "\n",
    "#save index of 1st row of each clusters for horizontal line\n",
    "nb_cluster = 4\n",
    "horiz_line_pos = []\n",
    "print('First row for each clusters:')\n",
    "for i in range(1,nb_cluster):\n",
    "    \n",
    "    first_index = df_small.reset_index().loc[df_small.reset_index()['cluster'].isin([i])].index[0]\n",
    "    horiz_line_pos.append(first_index)\n",
    "print(horiz_line_pos)\n",
    "\n",
    "# calculate the number of transcripts per cluster\n",
    "fst_index_clust = horiz_line_pos\n",
    "length = len(fst_index_clust)\n",
    "print(f'\\nNumber of transcripts per cluster:')\n",
    "print(f'cluster 1 = {fst_index_clust[0]}')\n",
    "for i in range(1, length):\n",
    "    print(f'cluster {i+1} = {fst_index_clust[i] - fst_index_clust[i-1]}')\n",
    "print(f'cluster {i+2} = {len(df_small) - fst_index_clust[i]}')"
   ]
  },
  {
   "cell_type": "code",
   "execution_count": null,
   "metadata": {
    "scrolled": true
   },
   "outputs": [],
   "source": [
    "%%time\n",
    "# #pop the cluster column\n",
    "cluster_uniq = df_small.pop(\"cluster\")\n",
    "\n",
    "#use one color per cluster group \n",
    "lut = dict(zip(cluster_uniq.unique(), seaborn.hls_palette(4)))\n",
    "row_colors_clust = cluster_uniq.map(lut)\n",
    "\n",
    "#plot\n",
    "seaborn.clustermap(df_small, cmap='bwr', col_cluster=True, row_cluster=False,\n",
    "                   center=0, vmin=-12, vmax=12,\n",
    "                   row_colors= row_colors_clust, \n",
    "                   yticklabels= '', xticklabels = '',\n",
    "                   cbar_kws={'label':'expression [log2(tpm+1)]'})\n",
    "\n",
    "plt.hlines(horiz_line_pos, xmin=0, xmax=4386, colors = 'black', label='LAAA')\n",
    "plt.show()\n",
    "plt.close()"
   ]
  },
  {
   "cell_type": "markdown",
   "metadata": {},
   "source": [
    "## Why don't see the hlines ??? "
   ]
  },
  {
   "cell_type": "code",
   "execution_count": null,
   "metadata": {
    "scrolled": true
   },
   "outputs": [],
   "source": [
    "print('Why plt.hlines() is not working ?')"
   ]
  },
  {
   "cell_type": "code",
   "execution_count": null,
   "metadata": {},
   "outputs": [],
   "source": [
    "x = [1, 2, 3]\n",
    "y = numpy.array([[1, 2], [3, 4], [5, 6]])\n",
    "plt.plot(x, y)\n",
    "\n",
    "adada = [5,4,3,2]\n",
    "plt.hlines(adada, xmin=0, xmax=3, colors = 'black')"
   ]
  },
  {
   "cell_type": "code",
   "execution_count": null,
   "metadata": {},
   "outputs": [],
   "source": [
    "print(\"I thnik it works but I don't see hlines because they are to tiny\")"
   ]
  },
  {
   "cell_type": "code",
   "execution_count": null,
   "metadata": {},
   "outputs": [],
   "source": []
  },
  {
   "cell_type": "code",
   "execution_count": null,
   "metadata": {},
   "outputs": [],
   "source": [
    "#ATG7 (1) and (2) are in cluster 2 and 0 respectively"
   ]
  },
  {
   "cell_type": "code",
   "execution_count": null,
   "metadata": {
    "scrolled": false
   },
   "outputs": [],
   "source": [
    "%%time\n",
    "#reinstall the cluster column\n",
    "df['cluster'] = cluster_uniq\n",
    "print( set(df['cluster']) )\n",
    "\n",
    "cluster_atg7_1 = df.loc[df.index == ATG7_1]['cluster'][0]\n",
    "cluster_atg7_2 = df.loc[df.index == ATG7_2]['cluster'][0]\n",
    "\n",
    "#create df with the entire cluster where iso1 and iso2 are\n",
    "df_2_clusters =  df[ (df['cluster'] == cluster_atg7_1) | (df['cluster'] == cluster_atg7_2) ]\n",
    "print( set(df_2_clusters['cluster']) )\n",
    "\n",
    "#pop the cluster column\n",
    "cluster_uniq = df_2_clusters.pop(\"cluster\")\n",
    "\n",
    "#use one color per cluster group \n",
    "lut = dict(zip(cluster_uniq.unique(), seaborn.hls_palette(2)))\n",
    "row_colors_clust = cluster_uniq.map(lut)\n",
    "\n",
    "#plot\n",
    "seaborn.clustermap(df_2_clusters, cmap='bwr', col_cluster=True, row_cluster=False,\n",
    "                   center=0, \n",
    "#                    vmin=-8, vmax=8,\n",
    "                   row_colors= row_colors_clust, \n",
    "                   yticklabels= '', xticklabels = '',\n",
    "                   cbar_kws={'label':'expression [log2(tpm+1)]'})\n",
    "\n",
    "plt.show()\n",
    "plt.close()"
   ]
  },
  {
   "cell_type": "code",
   "execution_count": null,
   "metadata": {},
   "outputs": [],
   "source": [
    "%%time\n",
    "#all select ATG7(1) and (2)\n",
    "ATG7_1 = 'ENST00000354449.7'\n",
    "ATG7_2 = 'ENST00000354956.9'\n",
    "ensembl_atg7_list = [ATG7_1, ATG7_2]\n",
    "\n",
    "#create df with only ATG7(1) and (2) from df_clust1_2\n",
    "df_iso1_2 =  df_2_clusters[df_2_clusters.index.isin(ensembl_atg7_list)]\n",
    "print(df_iso1_2.shape)\n",
    "\n",
    "#use one color per isoform \n",
    "lut = dict(zip(ensembl_atg7_list, seaborn.hls_palette(2)))\n",
    "row_colors_isof = df_iso1_2.index.map(lut)\n",
    "\n",
    "#plot\n",
    "seaborn.clustermap(df_iso1_2, cmap='bwr', col_cluster=True, row_cluster=False,\n",
    "                   center=0, \n",
    "#                    vmin=-8, vmax=8,\n",
    "                   row_colors= row_colors_clust, \n",
    "                   yticklabels= '', xticklabels = '',\n",
    "                   cbar_kws={'label':'expression [log2(tpm+1)]'})\n",
    "\n",
    "plt.show()\n",
    "plt.close()"
   ]
  }
 ],
 "metadata": {
  "kernelspec": {
   "display_name": "Python 3",
   "language": "python",
   "name": "python3"
  },
  "language_info": {
   "codemirror_mode": {
    "name": "ipython",
    "version": 3
   },
   "file_extension": ".py",
   "mimetype": "text/x-python",
   "name": "python",
   "nbconvert_exporter": "python",
   "pygments_lexer": "ipython3",
   "version": "3.8.5"
  }
 },
 "nbformat": 4,
 "nbformat_minor": 4
}
