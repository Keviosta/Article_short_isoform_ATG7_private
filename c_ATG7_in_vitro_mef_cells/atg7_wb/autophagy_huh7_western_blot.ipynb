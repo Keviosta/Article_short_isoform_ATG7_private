{
 "cells": [
  {
   "cell_type": "markdown",
   "metadata": {
    "id": "wYGSc-xPDaFV"
   },
   "source": [
    "# I] Import and options\n"
   ]
  },
  {
   "cell_type": "code",
   "execution_count": 1,
   "metadata": {},
   "outputs": [],
   "source": [
    "import pandas, numpy, seaborn, scipy, scipy.stats\n",
    "import matplotlib, matplotlib.pyplot as plt"
   ]
  },
  {
   "cell_type": "code",
   "execution_count": 2,
   "metadata": {},
   "outputs": [],
   "source": [
    "matplotlib.rcParams.update({'font.size':20, 'xtick.labelsize':20, 'ytick.labelsize':20, \n",
    "                            'axes.grid' : True, 'grid.alpha': 0.5, 'grid.linestyle' : ':',\n",
    "                            'figure.figsize':(12, 8), 'svg.fonttype' : 'none'})"
   ]
  },
  {
   "cell_type": "code",
   "execution_count": 3,
   "metadata": {},
   "outputs": [],
   "source": [
    "input_file_directory = '/Users/kja11/OneDrive - Háskóli Íslands/PhD ATG7/0 in_silico/Python/1)data_input/'\n",
    "output_file_directory = '/Users/kja11/OneDrive - Háskóli Íslands/PhD ATG7/0 in_silico/Python/3)output/'"
   ]
  },
  {
   "cell_type": "code",
   "execution_count": 4,
   "metadata": {},
   "outputs": [],
   "source": [
    "path = \"huh7/\""
   ]
  },
  {
   "cell_type": "markdown",
   "metadata": {},
   "source": [
    "# II] DL data"
   ]
  },
  {
   "cell_type": "code",
   "execution_count": null,
   "metadata": {},
   "outputs": [],
   "source": [
    "# REFAIRE SANS LA NORMALISATION"
   ]
  },
  {
   "cell_type": "code",
   "execution_count": 42,
   "metadata": {},
   "outputs": [
    {
     "data": {
      "text/html": [
       "<div>\n",
       "<style scoped>\n",
       "    .dataframe tbody tr th:only-of-type {\n",
       "        vertical-align: middle;\n",
       "    }\n",
       "\n",
       "    .dataframe tbody tr th {\n",
       "        vertical-align: top;\n",
       "    }\n",
       "\n",
       "    .dataframe thead th {\n",
       "        text-align: right;\n",
       "    }\n",
       "</style>\n",
       "<table border=\"1\" class=\"dataframe\">\n",
       "  <thead>\n",
       "    <tr style=\"text-align: right;\">\n",
       "      <th></th>\n",
       "      <th>Unnamed: 0</th>\n",
       "      <th>lc3</th>\n",
       "      <th>p62</th>\n",
       "    </tr>\n",
       "  </thead>\n",
       "  <tbody>\n",
       "    <tr>\n",
       "      <th>0</th>\n",
       "      <td>EV</td>\n",
       "      <td>1</td>\n",
       "      <td>1</td>\n",
       "    </tr>\n",
       "    <tr>\n",
       "      <th>1</th>\n",
       "      <td>EV</td>\n",
       "      <td>1</td>\n",
       "      <td>1</td>\n",
       "    </tr>\n",
       "    <tr>\n",
       "      <th>2</th>\n",
       "      <td>EV</td>\n",
       "      <td>1</td>\n",
       "      <td>1</td>\n",
       "    </tr>\n",
       "    <tr>\n",
       "      <th>3</th>\n",
       "      <td>WT1</td>\n",
       "      <td>1,122909373</td>\n",
       "      <td>1,031180429</td>\n",
       "    </tr>\n",
       "    <tr>\n",
       "      <th>4</th>\n",
       "      <td>WT1</td>\n",
       "      <td>1,187700365</td>\n",
       "      <td>1,046131904</td>\n",
       "    </tr>\n",
       "    <tr>\n",
       "      <th>5</th>\n",
       "      <td>WT1</td>\n",
       "      <td>0,554562367</td>\n",
       "      <td>0,990641127</td>\n",
       "    </tr>\n",
       "    <tr>\n",
       "      <th>6</th>\n",
       "      <td>WT2</td>\n",
       "      <td>1,09513016</td>\n",
       "      <td>1,215549367</td>\n",
       "    </tr>\n",
       "    <tr>\n",
       "      <th>7</th>\n",
       "      <td>WT2</td>\n",
       "      <td>0,654261743</td>\n",
       "      <td>1,106396291</td>\n",
       "    </tr>\n",
       "    <tr>\n",
       "      <th>8</th>\n",
       "      <td>WT2</td>\n",
       "      <td>0,380746914</td>\n",
       "      <td>0,619883482</td>\n",
       "    </tr>\n",
       "  </tbody>\n",
       "</table>\n",
       "</div>"
      ],
      "text/plain": [
       "  Unnamed: 0          lc3          p62\n",
       "0         EV            1            1\n",
       "1         EV            1            1\n",
       "2         EV            1            1\n",
       "3        WT1  1,122909373  1,031180429\n",
       "4        WT1  1,187700365  1,046131904\n",
       "5        WT1  0,554562367  0,990641127\n",
       "6        WT2   1,09513016  1,215549367\n",
       "7        WT2  0,654261743  1,106396291\n",
       "8        WT2  0,380746914  0,619883482"
      ]
     },
     "execution_count": 42,
     "metadata": {},
     "output_type": "execute_result"
    }
   ],
   "source": [
    "df_dmso = pandas.read_csv(input_file_directory + path + 'wb_autophagy_huh7_dmso.csv', sep = \";\")\n",
    "df_baf = pandas.read_csv(input_file_directory + path + 'wb_autophagy_huh7_baf.csv', sep = \";\")\n",
    "df_baf"
   ]
  },
  {
   "cell_type": "code",
   "execution_count": 43,
   "metadata": {},
   "outputs": [
    {
     "ename": "KeyError",
     "evalue": "\"The following 'id_vars' are not present in the DataFrame: ['index']\"",
     "output_type": "error",
     "traceback": [
      "\u001b[1;31m---------------------------------------------------------------------------\u001b[0m",
      "\u001b[1;31mKeyError\u001b[0m                                  Traceback (most recent call last)",
      "\u001b[1;32m<ipython-input-43-2afc5fee7999>\u001b[0m in \u001b[0;36m<module>\u001b[1;34m\u001b[0m\n\u001b[0;32m      9\u001b[0m     \u001b[0mdf\u001b[0m\u001b[1;33m.\u001b[0m\u001b[0miloc\u001b[0m\u001b[1;33m[\u001b[0m\u001b[1;33m:\u001b[0m\u001b[1;33m,\u001b[0m\u001b[1;36m1\u001b[0m\u001b[1;33m:\u001b[0m\u001b[1;33m]\u001b[0m \u001b[1;33m=\u001b[0m \u001b[0mdf\u001b[0m\u001b[1;33m.\u001b[0m\u001b[0miloc\u001b[0m\u001b[1;33m[\u001b[0m\u001b[1;33m:\u001b[0m\u001b[1;33m,\u001b[0m\u001b[1;36m1\u001b[0m\u001b[1;33m:\u001b[0m\u001b[1;33m]\u001b[0m\u001b[1;33m.\u001b[0m\u001b[0mapply\u001b[0m\u001b[1;33m(\u001b[0m\u001b[1;32mlambda\u001b[0m \u001b[0mx\u001b[0m\u001b[1;33m:\u001b[0m \u001b[0mx\u001b[0m\u001b[1;33m.\u001b[0m\u001b[0mstr\u001b[0m\u001b[1;33m.\u001b[0m\u001b[0mreplace\u001b[0m\u001b[1;33m(\u001b[0m\u001b[1;34m','\u001b[0m\u001b[1;33m,\u001b[0m\u001b[1;34m'.'\u001b[0m\u001b[1;33m)\u001b[0m\u001b[1;33m)\u001b[0m\u001b[1;33m\u001b[0m\u001b[1;33m\u001b[0m\u001b[0m\n\u001b[0;32m     10\u001b[0m     \u001b[1;31m#from wide to long df\u001b[0m\u001b[1;33m\u001b[0m\u001b[1;33m\u001b[0m\u001b[1;33m\u001b[0m\u001b[0m\n\u001b[1;32m---> 11\u001b[1;33m     \u001b[0mdf\u001b[0m \u001b[1;33m=\u001b[0m \u001b[0mdf\u001b[0m\u001b[1;33m.\u001b[0m\u001b[0mmelt\u001b[0m\u001b[1;33m(\u001b[0m\u001b[0mid_vars\u001b[0m\u001b[1;33m=\u001b[0m\u001b[1;33m[\u001b[0m\u001b[1;34m\"index\"\u001b[0m\u001b[1;33m]\u001b[0m\u001b[1;33m,\u001b[0m \u001b[0mvar_name\u001b[0m\u001b[1;33m=\u001b[0m\u001b[1;34m\"proteins\"\u001b[0m\u001b[1;33m)\u001b[0m\u001b[1;33m\u001b[0m\u001b[1;33m\u001b[0m\u001b[0m\n\u001b[0m\u001b[0;32m     12\u001b[0m     \u001b[0mdf\u001b[0m\u001b[1;33m[\u001b[0m\u001b[1;34m'value'\u001b[0m\u001b[1;33m]\u001b[0m \u001b[1;33m=\u001b[0m \u001b[0mdf\u001b[0m\u001b[1;33m[\u001b[0m\u001b[1;34m'value'\u001b[0m\u001b[1;33m]\u001b[0m\u001b[1;33m.\u001b[0m\u001b[0mastype\u001b[0m\u001b[1;33m(\u001b[0m\u001b[0mfloat\u001b[0m\u001b[1;33m)\u001b[0m\u001b[1;33m\u001b[0m\u001b[1;33m\u001b[0m\u001b[0m\n\u001b[0;32m     13\u001b[0m     \u001b[0mprint\u001b[0m\u001b[1;33m(\u001b[0m\u001b[0mdf\u001b[0m\u001b[1;33m.\u001b[0m\u001b[0mhead\u001b[0m\u001b[1;33m(\u001b[0m\u001b[1;36m10\u001b[0m\u001b[1;33m)\u001b[0m\u001b[1;33m)\u001b[0m\u001b[1;33m\u001b[0m\u001b[1;33m\u001b[0m\u001b[0m\n",
      "\u001b[1;32m~\\anaconda3\\lib\\site-packages\\pandas\\core\\frame.py\u001b[0m in \u001b[0;36mmelt\u001b[1;34m(self, id_vars, value_vars, var_name, value_name, col_level, ignore_index)\u001b[0m\n\u001b[0;32m   7160\u001b[0m     ) -> \"DataFrame\":\n\u001b[0;32m   7161\u001b[0m \u001b[1;33m\u001b[0m\u001b[0m\n\u001b[1;32m-> 7162\u001b[1;33m         return melt(\n\u001b[0m\u001b[0;32m   7163\u001b[0m             \u001b[0mself\u001b[0m\u001b[1;33m,\u001b[0m\u001b[1;33m\u001b[0m\u001b[1;33m\u001b[0m\u001b[0m\n\u001b[0;32m   7164\u001b[0m             \u001b[0mid_vars\u001b[0m\u001b[1;33m=\u001b[0m\u001b[0mid_vars\u001b[0m\u001b[1;33m,\u001b[0m\u001b[1;33m\u001b[0m\u001b[1;33m\u001b[0m\u001b[0m\n",
      "\u001b[1;32m~\\anaconda3\\lib\\site-packages\\pandas\\core\\reshape\\melt.py\u001b[0m in \u001b[0;36mmelt\u001b[1;34m(frame, id_vars, value_vars, var_name, value_name, col_level, ignore_index)\u001b[0m\n\u001b[0;32m     65\u001b[0m             \u001b[0mmissing\u001b[0m \u001b[1;33m=\u001b[0m \u001b[0mIndex\u001b[0m\u001b[1;33m(\u001b[0m\u001b[0mcom\u001b[0m\u001b[1;33m.\u001b[0m\u001b[0mflatten\u001b[0m\u001b[1;33m(\u001b[0m\u001b[0mid_vars\u001b[0m\u001b[1;33m)\u001b[0m\u001b[1;33m)\u001b[0m\u001b[1;33m.\u001b[0m\u001b[0mdifference\u001b[0m\u001b[1;33m(\u001b[0m\u001b[0mcols\u001b[0m\u001b[1;33m)\u001b[0m\u001b[1;33m\u001b[0m\u001b[1;33m\u001b[0m\u001b[0m\n\u001b[0;32m     66\u001b[0m             \u001b[1;32mif\u001b[0m \u001b[1;32mnot\u001b[0m \u001b[0mmissing\u001b[0m\u001b[1;33m.\u001b[0m\u001b[0mempty\u001b[0m\u001b[1;33m:\u001b[0m\u001b[1;33m\u001b[0m\u001b[1;33m\u001b[0m\u001b[0m\n\u001b[1;32m---> 67\u001b[1;33m                 raise KeyError(\n\u001b[0m\u001b[0;32m     68\u001b[0m                     \u001b[1;34m\"The following 'id_vars' are not present \"\u001b[0m\u001b[1;33m\u001b[0m\u001b[1;33m\u001b[0m\u001b[0m\n\u001b[0;32m     69\u001b[0m                     \u001b[1;34mf\"in the DataFrame: {list(missing)}\"\u001b[0m\u001b[1;33m\u001b[0m\u001b[1;33m\u001b[0m\u001b[0m\n",
      "\u001b[1;31mKeyError\u001b[0m: \"The following 'id_vars' are not present in the DataFrame: ['index']\""
     ]
    }
   ],
   "source": [
    "# Distribution: Data preparation + graph\n",
    "dfs = df_dmso, df_baf\n",
    "infos = 'dmso', 'baf'\n",
    "\n",
    "for i in range(len(dfs)) :\n",
    "    df = dfs[i]\n",
    "    Info = infos[i]\n",
    "    \n",
    "    df = df['index', 'p62', 'LC3']\n",
    "    df.rename(columns={df.columns[0]: 'index', df.columns[1]: 'LC3B'},inplace=True)\n",
    "    #convert \",\" to \".\"\n",
    "    df.iloc[:,1:] = df.iloc[:,1:].apply(lambda x: x.str.replace(',','.'))\n",
    "    #from wide to long df\n",
    "    df = df.melt(id_vars=[\"index\"], var_name=\"proteins\")\n",
    "    df['value'] = df['value'].astype(float)\n",
    "    print(df.head(10))\n",
    "    \n",
    "    #graph\n",
    "    seaborn.catplot(x=\"proteins\", y=\"value\", hue=\"index\", aspect= 1.2, kind=\"box\", palette = 'mako',\n",
    "                    data = df, boxprops={'lw':2, 'alpha' : 0.8}, medianprops={'lw':2}, whiskerprops={'lw':2}, \n",
    "                    showcaps=True, showfliers=False, legend=False)\n",
    "\n",
    "    plt.tight_layout()\n",
    "    plt.grid(alpha = 0.5, ls=':')\n",
    "    plt.ylabel('relative prot. expr.')\n",
    "    plt.xlabel('')\n",
    "    plt.title('Autophagy in HuH7 with '+ Info + ' (n=3)', x=.55)\n",
    "    plt.legend(loc='center right', fontsize=20, bbox_to_anchor=(1.55, 0.5))\n",
    "\n",
    "    #save\n",
    "    path2 = 'ATG7/HuH7/Western_blot/'\n",
    "    plt.savefig(output_file_directory+path2+'ATG7_autophagy_huh7_'+Info+'.svg')"
   ]
  },
  {
   "cell_type": "code",
   "execution_count": 64,
   "metadata": {},
   "outputs": [
    {
     "name": "stdout",
     "output_type": "stream",
     "text": [
      "DMSO\n",
      "P62\n",
      "the pvalue between ATG7(1) and EV is 7.28415E-01\n",
      "the pvalue between ATG7(2) and EV is 8.66710E-01\n",
      "the pvalue between ATG7(1) and ATG7(2) is 6.52196E-01\n",
      "LC3B\n",
      "the pvalue between ATG7(1) and EV is 6.13200E-01\n",
      "the pvalue between ATG7(2) and EV is 2.03344E-01\n",
      "the pvalue between ATG7(1) and ATG7(2) is 4.22466E-02\n",
      "\n",
      "\n",
      "BAF\n",
      "P62\n",
      "the pvalue between ATG7(1) and EV is 8.89351E-01\n",
      "the pvalue between ATG7(2) and EV is 8.69400E-01\n",
      "the pvalue between ATG7(1) and ATG7(2) is 7.92302E-01\n",
      "LC3B\n",
      "the pvalue between ATG7(1) and EV is 6.74837E-01\n",
      "the pvalue between ATG7(2) and EV is 1.27182E-01\n",
      "the pvalue between ATG7(1) and ATG7(2) is 1.96110E-01\n",
      "\n",
      "\n"
     ]
    }
   ],
   "source": [
    "#Statistics T-test for the means of two independent samples\n",
    "dfs = df_dmso, df_baf\n",
    "infos = 'dmso', 'baf'\n",
    "proteins = 'p62', 'LC3B'\n",
    "\n",
    "for i in range(len(dfs)) :\n",
    "    df = dfs[i]\n",
    "    Info = infos[i]\n",
    "      \n",
    "    # Stats of all compare to MEF WT\n",
    "    ev_label = df.iloc[0]['index']\n",
    "    iso1_label = df.loc[3]['index']\n",
    "    iso2_label = df.iloc[6]['index']\n",
    "    \n",
    "    df_ev = df.iloc[:3, 1:].astype(float)\n",
    "    df_iso1 = df.iloc[3:6, 1:].astype(float)\n",
    "    df_iso2 = df.iloc[6:, 1:].astype(float)\n",
    "    \n",
    "    print(Info.upper())\n",
    "    for protein in proteins:\n",
    "        print(protein.upper())\n",
    "        ###ATG7-/-\n",
    "        statistic, pvalue = scipy.stats.ttest_ind(df_iso1[protein], df_ev[protein])\n",
    "        print(\"the pvalue between\", iso1_label, \"and\", ev_label,\"is\", \"{:.5E}\".format(pvalue))\n",
    "        ###ATG7\n",
    "        statistic, pvalue = scipy.stats.ttest_ind(df_iso2[protein], df_ev[protein])\n",
    "        print(\"the pvalue between\", iso2_label, \"and\", ev_label,\"is\", \"{:.5E}\".format(pvalue))\n",
    "        ###delVSR\n",
    "        statistic, pvalue = scipy.stats.ttest_ind(df_iso1[protein], df_iso2[protein])\n",
    "        print(\"the pvalue between\", iso1_label, \"and\", iso2_label,\"is\", \"{:.5E}\".format(pvalue))\n",
    "    print('\\n')"
   ]
  }
 ],
 "metadata": {
  "kernelspec": {
   "display_name": "Python 3",
   "language": "python",
   "name": "python3"
  },
  "language_info": {
   "codemirror_mode": {
    "name": "ipython",
    "version": 3
   },
   "file_extension": ".py",
   "mimetype": "text/x-python",
   "name": "python",
   "nbconvert_exporter": "python",
   "pygments_lexer": "ipython3",
   "version": "3.8.5"
  }
 },
 "nbformat": 4,
 "nbformat_minor": 4
}
