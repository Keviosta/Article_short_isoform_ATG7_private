{
 "cells": [
  {
   "cell_type": "code",
   "execution_count": null,
   "metadata": {
    "id": "TLQwwG5VDPFA"
   },
   "outputs": [],
   "source": [
    "import pandas, numpy, math, seaborn\n",
    "import scipy, scipy.stats\n",
    "import matplotlib, matplotlib.pyplot as plt\n",
    "# this is a trick to make figures look nicer\n",
    "matplotlib.rcParams.update({'font.size':20, 'font.family':'FreeSans', 'xtick.labelsize':20, 'ytick.labelsize':10, 'figure.figsize':(12, 8)})"
   ]
  },
  {
   "cell_type": "code",
   "execution_count": null,
   "metadata": {
    "id": "80fqBs1JAN7C"
   },
   "outputs": [],
   "source": [
    "from matplotlib_venn import venn2"
   ]
  },
  {
   "cell_type": "code",
   "execution_count": null,
   "metadata": {},
   "outputs": [],
   "source": [
    "input_file_directory_gene_expr = '/Users/kja11/OneDrive - Háskóli Íslands/PhD ATG7/0 Python Analysis/gene_expr_preparation/'"
   ]
  },
  {
   "cell_type": "markdown",
   "metadata": {
    "id": "wYGSc-xPDaFV"
   },
   "source": [
    "## functions & options\n"
   ]
  },
  {
   "cell_type": "code",
   "execution_count": null,
   "metadata": {
    "id": "K8VbSwcZyDon"
   },
   "outputs": [],
   "source": [
    "#define a function to split after the \".\". The 1 is for how many word to have. if we have several dot. The [1] is what is after the dot, and [0] what is before\n",
    "def split(L):\n",
    "  return L.split(\".\",1)[0]"
   ]
  },
  {
   "cell_type": "markdown",
   "metadata": {
    "id": "IpmCT5mEDPFD"
   },
   "source": [
    "# II] Dataframe settings"
   ]
  },
  {
   "cell_type": "code",
   "execution_count": null,
   "metadata": {
    "scrolled": true
   },
   "outputs": [],
   "source": [
    "%%time\n",
    "protein_coding_list= pandas.read_csv(\"protein_coding_list.txt\", sep = \"\\t\")\n",
    "print(protein_coding_list.shape)\n",
    "protein_coding_list.head()"
   ]
  },
  {
   "cell_type": "markdown",
   "metadata": {},
   "source": [
    "## A) tissue_specific samples"
   ]
  },
  {
   "cell_type": "code",
   "execution_count": null,
   "metadata": {
    "scrolled": true
   },
   "outputs": [],
   "source": [
    "%%time\n",
    "# DL data gene expression for Normal Tissue and Primary Tumors\n",
    "input_file_directory_organ_specific_samples = input_file_directory_gene_expr +'/Organ_specific_samples/'\n",
    "# input_file_directory_gene_expr = '/Organ_specific_samples/'\n",
    "directory = input_file_directory_organ_specific_samples + \"samples_liver.tsv\"\n",
    "liver_samples_IDs= pandas.read_csv(directory, sep = \"\\t\")\n",
    "print(liver_samples_IDs.shape)\n",
    "liver_samples_IDs.head()"
   ]
  },
  {
   "cell_type": "code",
   "execution_count": null,
   "metadata": {},
   "outputs": [],
   "source": [
    "aaa = liver_samples_IDs['_sample_type'].value_counts()\n",
    "print(aaa)\n",
    "\n",
    "#select IDs of Normal and Primary\n",
    "liver_normal_tissue_IDs = liver_samples_IDs.loc[liver_samples_IDs['_sample_type'] == \"Normal Tissue\"]\n",
    "liver_primary_tumor_IDs = liver_samples_IDs.loc[liver_samples_IDs['_sample_type'] == \"Primary Tumor\"]\n",
    "print('normal →', len(liver_normal_tissue_IDs))\n",
    "print('primary →', len(liver_primary_tumor_IDs))"
   ]
  },
  {
   "cell_type": "code",
   "execution_count": null,
   "metadata": {},
   "outputs": [],
   "source": [
    "#convert IDs to list\n",
    "liver_normal_tissue_IDs = liver_normal_tissue_IDs['sample'].to_list()\n",
    "liver_primary_tumor_IDs = liver_primary_tumor_IDs['sample'].to_list()\n",
    "\n",
    "liver_primary_tumor_IDs.head()"
   ]
  },
  {
   "cell_type": "markdown",
   "metadata": {},
   "source": [
    "## B) protcoding_expr file ENSEMBL"
   ]
  },
  {
   "cell_type": "code",
   "execution_count": null,
   "metadata": {},
   "outputs": [],
   "source": [
    "#Download all the ensembl_normal_protcoding_expr file\n",
    "%%time\n",
    "ensembl_normal_protcoding_expr = pandas.read_csv(\"ensembl_normal_protcoding_expr.csv\", sep = \"\\t\")\n",
    "print(ensembl_normal_protcoding_expr.shape)\n",
    "\n",
    "ensembl_primary_protcoding_expr = pandas.read_csv(\"ensembl_primary_protcoding_expr.csv\", sep = \"\\t\")\n",
    "print(ensembl_primary_protcoding_expr.shape)\n",
    "ensembl_primary_protcoding_expr.head(2)"
   ]
  },
  {
   "cell_type": "code",
   "execution_count": null,
   "metadata": {},
   "outputs": [],
   "source": [
    "%%time\n",
    "#Do subset\n",
    "ensembl_normal_liver_protcoding_expr = ensembl_normal_protcoding_expr[liver_ensembl_normal_tissue_IDs]\n",
    "ensembl_primary_liver_protcoding_expr = ensembl_primary_protcoding_expr[liver_ensembl_primary_tumor_IDs]\n",
    "\n",
    "ensembl_normal_liver_protcoding_expr.reset_index(inplace=True)\n",
    "ensembl_primary_liver_protcoding_expr.reset_index(inplace=True)\n",
    "\n",
    "print('normal →', ensembl_normal_liver_protcoding_expr.shape)\n",
    "print('primary →', ensembl_primary_liver_protcoding_expr.shape)\n",
    "ensembl_normal_liver_protcoding_expr.head(2)"
   ]
  },
  {
   "cell_type": "code",
   "execution_count": null,
   "metadata": {},
   "outputs": [],
   "source": [
    "#save to csv\n",
    "ensembl_normal_liver_protcoding_expr.to_csv('ensembl_normal_liver_protcoding_expr.csv', sep = \"\\t\", index=False)\n",
    "ensembl_primary_liver_protcoding_expr.to_csv('ensembl_primary_liver_protcoding_expr.csv', sep = \"\\t\", index=False)"
   ]
  },
  {
   "cell_type": "markdown",
   "metadata": {},
   "source": [
    "## C) protcoding_expr file SYMBOL"
   ]
  },
  {
   "cell_type": "code",
   "execution_count": null,
   "metadata": {},
   "outputs": [],
   "source": [
    "#Download all the symbol_normal_protcoding_expr file\n",
    "%%time\n",
    "symbol_normal_protcoding_expr = pandas.read_csv(\"symbol_normal_protcoding_expr.csv\", sep = \"\\t\")\n",
    "print(symbol_normal_protcoding_expr.shape)\n",
    "\n",
    "symbol_primary_protcoding_expr = pandas.read_csv(\"symbol_primary_protcoding_expr.csv\", sep = \"\\t\")\n",
    "print(symbol_primary_protcoding_expr.shape)\n",
    "symbol_primary_protcoding_expr.head(2)"
   ]
  },
  {
   "cell_type": "code",
   "execution_count": null,
   "metadata": {},
   "outputs": [],
   "source": [
    "%%time\n",
    "#Do subset\n",
    "symbol_normal_liver_protcoding_expr = symbol_normal_protcoding_expr[liver_symbol_normal_tissue_IDs]\n",
    "symbol_primary_liver_protcoding_expr = symbol_primary_protcoding_expr[liver_symbol_primary_tumor_IDs]\n",
    "\n",
    "symbol_normal_liver_protcoding_expr.reset_index(inplace=True)\n",
    "symbol_primary_liver_protcoding_expr.reset_index(inplace=True)\n",
    "\n",
    "print('normal →', symbol_normal_liver_protcoding_expr.shape)\n",
    "print('primary →', symbol_primary_liver_protcoding_expr.shape)\n",
    "symbol_normal_liver_protcoding_expr.head(2)"
   ]
  },
  {
   "cell_type": "code",
   "execution_count": null,
   "metadata": {},
   "outputs": [],
   "source": [
    "#save to csv\n",
    "symbol_normal_liver_protcoding_expr.to_csv('symbol_normal_liver_protcoding_expr.csv', sep = \"\\t\", index=False)\n",
    "symbol_primary_liver_protcoding_expr.to_csv('symbol_primary_liver_protcoding_expr.csv', sep = \"\\t\", index=False)"
   ]
  }
 ],
 "metadata": {
  "colab": {
   "collapsed_sections": [
    "scwtwuDCqUKz",
    "fbjL51C8RltI",
    "R8fLWHXOBYJl"
   ],
   "name": "all_organs.v004.ipynb",
   "provenance": []
  },
  "kernelspec": {
   "display_name": "Python 3",
   "language": "python",
   "name": "python3"
  },
  "language_info": {
   "codemirror_mode": {
    "name": "ipython",
    "version": 3
   },
   "file_extension": ".py",
   "mimetype": "text/x-python",
   "name": "python",
   "nbconvert_exporter": "python",
   "pygments_lexer": "ipython3",
   "version": "3.8.5"
  }
 },
 "nbformat": 4,
 "nbformat_minor": 1
}
