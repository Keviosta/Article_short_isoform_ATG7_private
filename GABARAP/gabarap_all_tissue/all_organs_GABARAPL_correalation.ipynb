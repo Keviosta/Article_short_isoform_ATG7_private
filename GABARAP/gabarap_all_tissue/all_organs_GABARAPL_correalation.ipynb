{
 "cells": [
  {
   "cell_type": "markdown",
   "metadata": {
    "id": "ifhgKXirU9Ds"
   },
   "source": [
    "# I] Import + user-defined variables"
   ]
  },
  {
   "cell_type": "code",
   "execution_count": 1,
   "metadata": {
    "id": "TLQwwG5VDPFA"
   },
   "outputs": [],
   "source": [
    "import pandas, numpy, math, seaborn\n",
    "import scipy, scipy.stats\n",
    "import matplotlib, matplotlib.pyplot as plt\n",
    "# this is a trick to make figures look nicer\n",
    "matplotlib.rcParams.update({'font.size':20, 'font.family':'FreeSans', 'xtick.labelsize':20, 'ytick.labelsize':10, 'figure.figsize':(12, 8)})"
   ]
  },
  {
   "cell_type": "code",
   "execution_count": 2,
   "metadata": {
    "id": "80fqBs1JAN7C"
   },
   "outputs": [],
   "source": [
    "from matplotlib_venn import venn2"
   ]
  },
  {
   "cell_type": "markdown",
   "metadata": {
    "id": "wYGSc-xPDaFV"
   },
   "source": [
    "## functions & options\n"
   ]
  },
  {
   "cell_type": "code",
   "execution_count": 3,
   "metadata": {},
   "outputs": [],
   "source": [
    "input_file_directory = '/Users/kja11/OneDrive - Háskóli Íslands/PhD ATG7//0 in_silico/Python/1)data_input/'"
   ]
  },
  {
   "cell_type": "code",
   "execution_count": 4,
   "metadata": {},
   "outputs": [],
   "source": [
    "output_file_directory = '/Users/kja11/OneDrive - Háskóli Íslands/PhD ATG7/0 in_silico/Python/3)output/'"
   ]
  },
  {
   "cell_type": "markdown",
   "metadata": {
    "id": "IpmCT5mEDPFD"
   },
   "source": [
    "# II] Dataframe downlaod"
   ]
  },
  {
   "cell_type": "code",
   "execution_count": null,
   "metadata": {},
   "outputs": [],
   "source": [
    "%%time\n",
    "# DL data gene expression for Normal Tissue and Primary Tumors\n",
    "path = output_file_directory + \"/GABARAP/dataframes_for_input/\"\n",
    "ensembl_normal_GABARAP_proteinGE = pandas.read_csv(path+\"ensembl_normal_GABARAP_proteinGE.tsv\", sep = \"\\t\")\n",
    "ensembl_primary_GABARAP_proteinGE = pandas.read_csv(path+\"ensembl_primary_GABARAP_proteinGE.tsv\", sep = \"\\t\")\n",
    "\n",
    "print(ensembl_normal_GABARAP_proteinGE.shape)\n",
    "print(ensembl_primary_GABARAP_proteinGE.shape)\n",
    "ensembl_normal_GABARAP_proteinGE.head(2)"
   ]
  },
  {
   "cell_type": "code",
   "execution_count": null,
   "metadata": {
    "colab": {
     "base_uri": "https://localhost:8080/",
     "height": 0
    },
    "id": "oC8hQXN9WRsH",
    "outputId": "288b4bb0-ceba-465d-80ee-b90171d0ee38",
    "scrolled": true
   },
   "outputs": [],
   "source": [
    "%%time\n",
    "#download the protein coding list. will be useful with correlation results.\n",
    "path = input_file_directory + \"protein_coding_list.txt\"\n",
    "protein_coding_list= pandas.read_csv(path, sep = \"\\t\")\n",
    "print(protein_coding_list.shape)\n",
    "protein_coding_list.head()"
   ]
  },
  {
   "cell_type": "markdown",
   "metadata": {
    "id": "CGVz9_mqWgpw"
   },
   "source": [
    "# III] Expression correlation between GABARAP and all protein coding "
   ]
  },
  {
   "cell_type": "code",
   "execution_count": null,
   "metadata": {
    "colab": {
     "base_uri": "https://localhost:8080/"
    },
    "id": "oA7fE5E3pxi_",
    "outputId": "bfd33158-dc8a-4dc7-d6d9-663682776e2e"
   },
   "outputs": [],
   "source": [
    "%%time\n",
    "# pearson Correlation, all genes WITHOUT cutoff\n",
    "all_tissue_used = [[normal_protcoding_GABARAP_expr,'Normal_Tissues'], [primary_protcoding_GABARAP_expr,'Primary_Tumors']]\n",
    "\n",
    "isoforms = ['GABARAP_1', 'GABARAP_2']\n",
    "\n",
    "all_positiv_corr_pearson = []\n",
    "all_negativ_corr_pearson = []\n",
    "\n",
    "for tissue in all_tissue_used:\n",
    "  print(tissue[1], tissue[0].shape)\n",
    "\n",
    "  #create a new row with max() for each gene and transpose\n",
    "  tissue[0].loc['max()'] = tissue[0].max()\n",
    "  tissue[0] = tissue[0].T\n",
    "\n",
    "  #select all row where max() > 2.3 (= 5 tpm)\n",
    "  nb_before = tissue[0]['max()'].count()\n",
    "  tissue[0] = tissue[0].drop(tissue[0].index[0:2])\n",
    "  tissue[0] = tissue[0][tissue[0]['max()'] > 2.3]\n",
    "  nb_after = tissue[0]['max()'].count()\n",
    "  print(\"number of genes removed:\", nb_before-nb_after)\n",
    "  print('the minimum of TPM is', tissue[0]['max()'].min())\n",
    "  \n",
    "  #delete the column max() and tranpose back\n",
    "  tissue[0] =  tissue[0].drop('max()', axis = 1) \n",
    "  tissue[0] = tissue[0].T\n",
    "  print('nombre genes after removing < 4tpm', tissue[0].shape)\n",
    "\n",
    "  for isoform in isoforms:\n",
    "\n",
    "    genepos = []\n",
    "    geneneg = []\n",
    "    rvaluepos = []\n",
    "    rvalueneg = []\n",
    "    pvaluepos = []\n",
    "    pvalueneg = []\n",
    "\n",
    "    print(isoform)\n",
    "    x = tissue[0][isoform].to_list()\n",
    "    genes = tissue[0].columns[3:]\n",
    "\n",
    "    for gene in genes:\n",
    "      y = tissue[0][gene].to_list()\n",
    "      r_value, p_value = scipy.stats.pearsonr(x, y)\n",
    "\n",
    "      if r_value > 0:\n",
    "        genepos.append(gene)\n",
    "        rvaluepos.append(r_value)\n",
    "        pvaluepos.append(p_value)\n",
    "        \n",
    "      elif r_value < 0:\n",
    "        geneneg.append(gene)\n",
    "        rvalueneg.append(r_value)\n",
    "        pvalueneg.append(p_value)\n",
    "\n",
    "    #create a dictionnary\n",
    "    d = dict(ensembl_gene_id= genepos, r_value=rvaluepos,  p_value=pvaluepos)\n",
    "    d2 = dict(ensembl_gene_id= geneneg, r_value=rvalueneg,  p_value=pvalueneg)\n",
    "\n",
    "    #Convert to dataframe\n",
    "    df_positiv_corr = pandas.DataFrame.from_dict(d, orient='index')\n",
    "    df_negativ_corr = pandas.DataFrame.from_dict(data=d2, orient='index')\n",
    "\n",
    "    #Transpose to have a better table\n",
    "    df_positiv_corr = df_positiv_corr.transpose()\n",
    "    df_negativ_corr = df_negativ_corr.transpose()\n",
    "\n",
    "    #name\n",
    "    positiv_corr = 'pos_pearson_corr_'+tissue[1]+'_'+isoform\n",
    "    negativ_corr = 'neg_pearson_corr_'+tissue[1]+'_'+isoform\n",
    "\n",
    "    print(positiv_corr, df_positiv_corr.shape)\n",
    "    print(negativ_corr, df_negativ_corr.shape)\n",
    "\n",
    "    #scending orde, save to excel\n",
    "    df_positiv_corr['info'] = tissue[1]+'_'+isoform\n",
    "    df_positiv_corr = protein_coding_list.merge(df_positiv_corr)\n",
    "    df_positiv_corr = df_positiv_corr.drop(['entrezgene_id', 'transcript_biotype'], axis = 1)\n",
    "    df_positiv_corr = df_positiv_corr.sort_values(['r_value'], ascending = False)\n",
    "    df_positiv_corr.to_excel(positiv_corr+'.xlsx', index=False)\n",
    "\n",
    "    #save positive\n",
    "    path = 'GABARAP/table_correlation_enrichr/all_tissue/corr_all/'\n",
    "    df_positiv_corr.to_excel(output_file_directory+path+positiv_corr+'.xlsx', index=False)\n",
    "    \n",
    "    df_negativ_corr['info'] = tissue[1]+'_'+isoform\n",
    "    df_negativ_corr = protein_coding_list.merge(df_negativ_corr)\n",
    "    df_negativ_corr = df_negativ_corr.drop(['entrezgene_id', 'transcript_biotype'], axis = 1)\n",
    "    df_negativ_corr = df_negativ_corr.sort_values(['r_value'], ascending = False)\n",
    "    df_negativ_corr.to_excel(negativ_corr+'.xlsx', index=False)\n",
    "\n",
    "    #save negative\n",
    "    df_negativ_corr.to_excel(output_file_directory+path+negativ_corr+'.xlsx', index=False)\n",
    "    \n",
    "    all_positiv_corr_pearson.append(df_positiv_corr)\n",
    "    all_negativ_corr_pearson.append(df_negativ_corr)\n",
    "  print()"
   ]
  },
  {
   "cell_type": "markdown",
   "metadata": {
    "id": "ivLjI2vHTV5A"
   },
   "source": [
    "## 1) Distribution of all rvalue to select cutoff"
   ]
  },
  {
   "cell_type": "code",
   "execution_count": null,
   "metadata": {
    "colab": {
     "base_uri": "https://localhost:8080/",
     "height": 1000
    },
    "id": "ZZBYSa2qgBLX",
    "outputId": "4eddba07-4896-4831-8f09-f9bc742dc938"
   },
   "outputs": [],
   "source": [
    "%%time\n",
    "#Merge Negative and Positive data\n",
    "data =  [\n",
    "         [all_negativ_corr_pearson[0], all_positiv_corr_pearson[0], 'Normal Tissue, GABARAP(1)'], \n",
    "         [all_negativ_corr_pearson[1], all_positiv_corr_pearson[1], 'Normal Tissue, GABARAP(2)'],\n",
    "         [all_negativ_corr_pearson[2], all_positiv_corr_pearson[2], 'Primary Tumor, GABARAP(1)'], \n",
    "         [all_negativ_corr_pearson[3], all_positiv_corr_pearson[3], 'Primary Tumor, GABARAP(2)']\n",
    "         ]\n",
    "\n",
    "all_corr_negpos_merged = []\n",
    "for dfs in data:\n",
    "  print('shape positiv', dfs[0].shape)\n",
    "  print('shape negativ', dfs[1].shape)\n",
    "\n",
    "  df_merged = pandas.concat([dfs[0], dfs[1]], axis=0)\n",
    "  df_merged = df_merged.reset_index(drop = True)\n",
    "  print('shape after merge', df_merged.shape)\n",
    "  all_corr_negpos_merged.append(df_merged)\n",
    "\n",
    "#Merge GABARAP(1) and GABARAP(2)\n",
    "data = [\n",
    "        [all_corr_negpos_merged[0], all_corr_negpos_merged[1], 'Normal Tissue'],\n",
    "        [all_corr_negpos_merged[2], all_corr_negpos_merged[3], 'Primary Tumor']\n",
    "        ]\n",
    "\n",
    "all_corr_isoforms_merged = []\n",
    "for dfs in data:\n",
    "  print('shape normal', dfs[0].shape)\n",
    "  print('shape primary', dfs[1].shape)\n",
    "\n",
    "  df_merged = pandas.concat([dfs[0], dfs[1]], axis=0)\n",
    "  df_merged = df_merged.reset_index(drop = True)\n",
    "  print('shape after merge', df_merged.shape)\n",
    "  all_corr_isoforms_merged.append(df_merged)\n",
    "\n",
    "#Distribution of correlation\n",
    "data = [\n",
    "        [all_corr_isoforms_merged[0], 'Normal Tissue'],\n",
    "        [all_corr_isoforms_merged[1], 'Primary Tumor']\n",
    "        ]\n",
    "\n",
    "for dfs in data:\n",
    "  seaborn.displot(dfs[0], x=\"r_value\", hue='info', aspect = 2.6)\n",
    "  label_title = 'Distribution of correlation in ' + dfs[1]\n",
    "  plt.title(label_title, fontsize = 22)\n",
    "  plt.show()\n",
    "  plt.clf()\n",
    "  print()"
   ]
  },
  {
   "cell_type": "code",
   "execution_count": null,
   "metadata": {
    "id": "2NtZEBOEJk91"
   },
   "outputs": [],
   "source": [
    "all_corr_negpos_extremities = []\n",
    "\n",
    "for df in all_corr_negpos_merged:\n",
    "  df = df.sort_values(['r_value'], ascending = False)\n",
    "  df = df.reset_index(drop = True)\n",
    "  \n",
    "  lenght = len(df)\n",
    "  only_1_perc = int(lenght*0.010)\n",
    "  just_head = only_1_perc\n",
    "  just_tail = lenght - only_1_perc\n",
    "\n",
    "  df_head = df.iloc[0:just_head,:]\n",
    "  df_tail = df.iloc[just_tail:,:]\n",
    "  df_extremeties = pandas.concat([df_head, df_tail], axis=0)\n",
    "\n",
    "  inform = df['info'][1]\n",
    "  extremities_name = 'corr_1%extremities'+ '_pearson_' +inform\n",
    "#   df_extremeties.to_excel(extremities_name+'.xlsx', index=False)\n",
    "\n",
    "  all_corr_negpos_extremities.append(df_extremeties)"
   ]
  },
  {
   "cell_type": "markdown",
   "metadata": {},
   "source": [
    "## 2) About the candidate genes"
   ]
  },
  {
   "cell_type": "code",
   "execution_count": null,
   "metadata": {
    "colab": {
     "base_uri": "https://localhost:8080/",
     "height": 80
    },
    "id": "LxKzIf-63QkM",
    "outputId": "d3f87990-186f-495a-f239-47666351655f"
   },
   "outputs": [],
   "source": [
    "#to know the ensembl code for HK2\n",
    "protein_coding_list.loc[protein_coding_list['hgnc_symbol'] == 'YAP1']"
   ]
  },
  {
   "cell_type": "code",
   "execution_count": null,
   "metadata": {
    "colab": {
     "base_uri": "https://localhost:8080/"
    },
    "id": "hsgaqjKl3z5F",
    "outputId": "a615b3c1-2391-49f4-986a-5b9a922069f9"
   },
   "outputs": [],
   "source": [
    "# pearson Correlation, main genes \n",
    "\n",
    "all_tissue_used = [[normal_protcoding_GABARAP_expr,'Normal Tissue'], \n",
    "                   [primary_protcoding_GABARAP_expr,'Primary Tumors']]\n",
    "\n",
    "HK2 = 'ENSG00000159399'\n",
    "YAP1 = 'ENSG00000137693'\n",
    "AJUBA = 'ENSG00000129474'\n",
    "YBX1 = 'ENSG00000065978'\n",
    "TGFB1 = 'ENSG00000105329'\n",
    "GABARAP_1 = 'GABARAP_1'\n",
    "GABARAP_2 = 'GABARAP_2'\n",
    "MTDH = 'ENSG00000147649'\n",
    "MAPK1 = 'ENSG00000100030'\n",
    "KPNA1 = 'ENSG00000114030'\n",
    "TNPO1 = 'ENSG00000083312'\n",
    "\n",
    "for tissue in all_tissue_used:\n",
    "  genes_x = [[KPNA1,'KPNA1'], [MAPK1, 'MAPK1'], [TNPO1,'TNPO1'], [MTDH,'MTDH'], \n",
    "             [HK2, \"HK2\"], [YAP1, 'YAP1'], [AJUBA,'AJUBA'], [YBX1,'YBX1'], \n",
    "             [TGFB1,'TGFB1'], [GABARAP_1,'GABARAP_1'], [GABARAP_2,'GABARAP_2']]\n",
    "\n",
    "  print(tissue[1])\n",
    "\n",
    "  for gene in genes_x:\n",
    "    x = tissue[0][gene[0]].to_list()\n",
    "    y = tissue[0]['GABARAP'].to_list()\n",
    "    y1 = tissue[0]['GABARAP_1'].to_list()\n",
    "    y2 = tissue[0]['GABARAP_2'].to_list()  \n",
    "  \n",
    "    r_value, p_value = scipy.stats.pearsonr(x, y)\n",
    "    print('  correlation between GABARAP and', gene[1],  'is:', 'r_value = {:.2f} for a p_value of {:.2e}'.format(r_value, p_value))\n",
    "    r_value, p_value = scipy.stats.pearsonr(x, y1)\n",
    "    print('  correlation between GABARAP_1 and', gene[1],  'is:', 'r_value = {:.2f} for a p_value of {:.2e}'.format(r_value, p_value))\n",
    "    r_value, p_value = scipy.stats.pearsonr(x, y2)\n",
    "    print('  correlation between GABARAP_2 and', gene[1],  'is:', 'r_value = {:.2f} for a p_value of {:.2e}'.format(r_value, p_value))\n",
    "    print()"
   ]
  },
  {
   "cell_type": "markdown",
   "metadata": {
    "id": "q808ZjOLTvDm"
   },
   "source": [
    "# IV] Venn diagrams"
   ]
  },
  {
   "cell_type": "code",
   "execution_count": null,
   "metadata": {
    "scrolled": true
   },
   "outputs": [],
   "source": [
    "all_corr_negpos_extremities[0]"
   ]
  },
  {
   "cell_type": "code",
   "execution_count": null,
   "metadata": {},
   "outputs": [],
   "source": [
    "#separate pos and neg correlation\n",
    "all_corr_positiv_extremities = []\n",
    "all_corr_negativ_extremities = []\n",
    "\n",
    "for df in all_corr_negpos_extremities:\n",
    "    data_pos = df[df['r_value']>0]\n",
    "    data_neg = df[df['r_value']<0]\n",
    "    all_corr_positiv_extremities.append(data_pos)\n",
    "    all_corr_negativ_extremities.append(data_neg)\n",
    "len(all_corr_positiv_extremities)\n",
    "all_corr_negativ_extremities[0].head()"
   ]
  },
  {
   "cell_type": "code",
   "execution_count": null,
   "metadata": {},
   "outputs": [],
   "source": [
    "#VENN DIAGRAMS GABARAP(1)vs GABARAP(2) FOR the 1% of the genes the most correlated\n",
    "data_pos =  [\n",
    "         [all_corr_positiv_extremities[0], all_corr_positiv_extremities[1], 'Normal Tissue', 'positive'], \n",
    "         [all_corr_positiv_extremities[2], all_corr_positiv_extremities[3], 'Primary Tumor', 'positive']\n",
    "         ]\n",
    "\n",
    "data_neg =  [\n",
    "         [all_corr_negativ_extremities[0], all_corr_negativ_extremities[1], 'Normal Tissue', 'negative'], \n",
    "         [all_corr_negativ_extremities[2], all_corr_negativ_extremities[3], 'Primary Tumor', 'negative']\n",
    "         ]\n",
    "\n",
    "data = data_pos + data_neg\n",
    "\n",
    "for dfs in data:\n",
    "    set1 = set(dfs[0]['hgnc_symbol'])\n",
    "    set2 = set(dfs[1]['hgnc_symbol'])\n",
    "    subset = (set1, set2)\n",
    "\n",
    "    #save results in list\n",
    "    with_only1 = list(set2.symmetric_difference(set1) & set1)\n",
    "    with_only2 = list(set2.symmetric_difference(set1) & set2)\n",
    "    intersection = set1.intersection(set2)\n",
    "\n",
    "    #create a dictionnary\n",
    "    d = dict(Only_GABARAP_1 = with_only1, Only_GABARAP_2 = with_only2, Intersection= intersection)\n",
    "\n",
    "    #Convert to dataframe\n",
    "    df_only_and_intersection = pandas.DataFrame.from_dict(d, orient='index')\n",
    "    name_file = 'only_and_intersection_pearson_isos'+dfs[2]+dfs[3]\n",
    "\n",
    "    #Transpose to have a better table and save\n",
    "    df_only_and_intersection = df_only_and_intersection.transpose()\n",
    "    df_only_and_intersection['info'] = dfs[2]+dfs[3]\n",
    "    \n",
    "    path = 'GABARAP/table_correlation_enrichr/all_tissue_GABARAP/corr_extremities/'\n",
    "    df_only_and_intersection.to_excel(output_file_directory+path+name_file+'.xlsx', index=False)\n",
    "\n",
    "    #Venn Diagram\n",
    "    venn2(subset, set_labels=('GABARAP(1)', 'GABARAP(2)'), set_colors=('grey', 'darksalmon'))\n",
    "    label_title = dfs[2] + ' ' + dfs[3]\n",
    "    plt.title(label_title)\n",
    "    plt.show()\n",
    "    plt.clf()\n",
    "    print()\n",
    "\n"
   ]
  },
  {
   "cell_type": "code",
   "execution_count": null,
   "metadata": {
    "colab": {
     "base_uri": "https://localhost:8080/",
     "height": 1000
    },
    "id": "Q4nXgwefy1rE",
    "outputId": "c860c647-ba4d-4e97-f155-98cb1ed7a765"
   },
   "outputs": [],
   "source": [
    "#VENN DIAGRAMS FOR 100% of the genes\n",
    "\n",
    "data_pos =  [\n",
    "         [all_positiv_corr_pearson[0], all_positiv_corr_pearson[1], 'Normal Tissue', 'positive'], \n",
    "         [all_positiv_corr_pearson[2], all_positiv_corr_pearson[3], 'Primary Tumor', 'positive']\n",
    "         ]\n",
    "\n",
    "data_neg =  [\n",
    "         [all_negativ_corr_pearson[0], all_negativ_corr_pearson[1], 'Normal Tissue', 'negative'], \n",
    "         [all_negativ_corr_pearson[2], all_negativ_corr_pearson[3], 'Primary Tumor', 'negative']\n",
    "         ]\n",
    "\n",
    "data = data_pos + data_neg\n",
    "\n",
    "list_only1 = []\n",
    "list_only2 = []\n",
    "\n",
    "for dfs in data:\n",
    "  set1 = set(dfs[0]['ensembl_gene_id'])\n",
    "  set2 = set(dfs[1]['ensembl_gene_id'])\n",
    "  subset = (set1, set2)\n",
    "\n",
    "  #just to save some results in list\n",
    "  with_only1 = set2.symmetric_difference(set1) & set1\n",
    "  list_only1.append(with_only1)\n",
    "\n",
    "  with_only2 = set2.symmetric_difference(set1) & set2\n",
    "  list_only2.append(with_only2)\n",
    "\n",
    "  #Venn Diagram\n",
    "  venn2(subset, set_labels=('GABARAP(1)', 'GABARAP(2)'), set_colors=('grey', 'darksalmon'))\n",
    "  label_title = dfs[2] + ' ' + dfs[3]\n",
    "  plt.title(label_title)\n",
    "  plt.show()\n",
    "  plt.clf()\n",
    "  print()\n",
    "\n"
   ]
  },
  {
   "cell_type": "code",
   "execution_count": null,
   "metadata": {},
   "outputs": [],
   "source": [
    "print((len(list_only2)), '= norm_pos_iso2, norm_neg_iso2, prim_pos_iso2, prim_neg_iso2, ')"
   ]
  },
  {
   "cell_type": "code",
   "execution_count": null,
   "metadata": {},
   "outputs": [],
   "source": [
    "#VENN DIAGRAMS FOR NORM vs PRIM for the 1% of the genes the most correlated\n",
    "data_pos =  [\n",
    "         [all_corr_positiv_extremities[0], all_corr_positiv_extremities[2], 'GABARAP(1)', 'positive'], \n",
    "         [all_corr_positiv_extremities[1], all_corr_positiv_extremities[3], 'GABARAP(2)', 'positive']\n",
    "         ]\n",
    "\n",
    "data_neg =  [\n",
    "         [all_corr_negativ_extremities[0], all_corr_negativ_extremities[2], 'GABARAP(1)', 'negative'], \n",
    "         [all_corr_negativ_extremities[1], all_corr_negativ_extremities[3], 'GABARAP(2)', 'negative']\n",
    "         ]\n",
    "\n",
    "data = data_pos + data_neg\n",
    "\n",
    "for dfs in data:\n",
    "    set1 = set(dfs[0]['hgnc_symbol'])\n",
    "    set2 = set(dfs[1]['hgnc_symbol'])\n",
    "    subset = (set1, set2)\n",
    "\n",
    "    #save results in list\n",
    "    with_normal = list(set2.symmetric_difference(set1) & set1)\n",
    "    with_primary = list(set2.symmetric_difference(set1) & set2)\n",
    "    intersection = set1.intersection(set2)\n",
    "\n",
    "    #create a dictionnary\n",
    "    d = dict(Only_normal = with_normal, Only_primary = with_primary, Intersection= intersection)\n",
    "\n",
    "    #Convert to dataframe\n",
    "    df_only_and_intersection = pandas.DataFrame.from_dict(d, orient='index')\n",
    "    name_file = 'only_and_intersection_isos_'+dfs[2]+'_'+dfs[3]\n",
    "       \n",
    "    #Transpose to have a better table and save\n",
    "    df_only_and_intersection = df_only_and_intersection.transpose()\n",
    "    df_only_and_intersection['info'] = dfs[2]+dfs[3]\n",
    "    \n",
    "    path = 'GABARAP/table_correlation_enrichr/all_tissue/corr_extremities/'\n",
    "    df_only_and_intersection.to_excel(output_file_directory+path+name_file+'.xlsx', index=False)\n",
    "    \n",
    "    #Venn Diagram\n",
    "    venn2(subset, set_labels=('Normal', 'Primary'), set_colors=('grey', 'darksalmon'))\n",
    "    label_title = dfs[2] + ' ' + dfs[3]\n",
    "    plt.title(label_title)\n",
    "    plt.show()\n",
    "    plt.clf()\n",
    "    print()"
   ]
  }
 ],
 "metadata": {
  "colab": {
   "collapsed_sections": [
    "scwtwuDCqUKz",
    "fbjL51C8RltI",
    "R8fLWHXOBYJl"
   ],
   "name": "all_organs.v004.ipynb",
   "provenance": []
  },
  "kernelspec": {
   "display_name": "Python 3",
   "language": "python",
   "name": "python3"
  },
  "language_info": {
   "codemirror_mode": {
    "name": "ipython",
    "version": 3
   },
   "file_extension": ".py",
   "mimetype": "text/x-python",
   "name": "python",
   "nbconvert_exporter": "python",
   "pygments_lexer": "ipython3",
   "version": "3.8.5"
  }
 },
 "nbformat": 4,
 "nbformat_minor": 1
}
