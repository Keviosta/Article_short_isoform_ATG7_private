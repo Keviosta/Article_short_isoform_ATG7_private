{
 "cells": [
  {
   "cell_type": "code",
   "execution_count": null,
   "metadata": {},
   "outputs": [],
   "source": [
    "import pandas, numpy, scipy, seaborn, sklearn\n",
    "from sklearn.cluster import KMeans\n",
    "from sklearn import metrics\n",
    "from scipy import stats"
   ]
  },
  {
   "cell_type": "markdown",
   "metadata": {},
   "source": [
    "## functions & options\n"
   ]
  },
  {
   "cell_type": "code",
   "execution_count": null,
   "metadata": {},
   "outputs": [],
   "source": [
    "input_file_directory = '/Users/kja11/OneDrive - Háskóli Íslands/PhD ATG7//0 in_silico/Python/1)data_input/'\n",
    "output_file_directory = '/Users/kja11/OneDrive - Háskóli Íslands/PhD ATG7/0 in_silico/Python/3)output/'"
   ]
  },
  {
   "cell_type": "markdown",
   "metadata": {},
   "source": [
    "# I] Dataframe settings"
   ]
  },
  {
   "cell_type": "code",
   "execution_count": null,
   "metadata": {},
   "outputs": [],
   "source": [
    "%%time\n",
    "#Download the big expression data with all the transcripts\n",
    "path = input_file_directory + \"/xenabrowser_brut_data/all_transcripts/gtex_Kallisto_tpm.tsv\"\n",
    "df = pandas.read_csv(path, sep = \"\\t\", index_col='sample')\n",
    "\n",
    "print(df.shape)\n",
    "df.head()"
   ]
  },
  {
   "cell_type": "code",
   "execution_count": null,
   "metadata": {},
   "outputs": [],
   "source": []
  },
  {
   "cell_type": "code",
   "execution_count": null,
   "metadata": {},
   "outputs": [],
   "source": []
  },
  {
   "cell_type": "code",
   "execution_count": null,
   "metadata": {},
   "outputs": [],
   "source": []
  },
  {
   "cell_type": "code",
   "execution_count": null,
   "metadata": {},
   "outputs": [],
   "source": [
    "# #Do a subset to practice and save it\n",
    "# # 50% of the transcrits of the full samples\n",
    "# df = df.iloc[:98522,:3931]\n",
    "\n",
    "# #save to csv\n",
    "# path = \"/xenabrowser_brut_data/all_transcripts/\"\n",
    "# df.to_csv(input_file_directory+path+'gtex_Kallisto_tpm_50perc_part.tsv',sep = \"\\t\")"
   ]
  },
  {
   "cell_type": "code",
   "execution_count": null,
   "metadata": {},
   "outputs": [],
   "source": [
    "%%time\n",
    "#Download 50% of the big expression data with all the transcripts\n",
    "path = input_file_directory + \"/xenabrowser_brut_data/all_transcripts/gtex_Kallisto_tpm_50perc_part.tsv\"\n",
    "df = pandas.read_csv(path, sep = \"\\t\")\n",
    "\n",
    "print(df.shape)\n",
    "\n",
    "df.set_index('Unnamed: 0', inplace = True)\n",
    "df.index.name = None\n",
    "df.head()"
   ]
  },
  {
   "cell_type": "code",
   "execution_count": null,
   "metadata": {},
   "outputs": [],
   "source": [
    "%%time\n",
    "#Calcul to have value from log2;  2**(x)-0.001\n",
    "df = df.apply(lambda x: pow(2,x)-0.001)\n",
    "\n",
    "#Calcul to have log2+1 from value;\n",
    "df = df.apply(lambda x: numpy.log2(x+1))\n",
    "df.head()"
   ]
  },
  {
   "cell_type": "code",
   "execution_count": null,
   "metadata": {},
   "outputs": [],
   "source": [
    "genes = \"ENST00000354449.7\", \"ENST00000354956.9\"\n",
    "g_names = \"ATG7_1\", \"ATG7_2\"\n",
    "for i in range(len(genes)):\n",
    "    print(f'{g_names[i]}: {df.loc[genes[i], :].sum()}')"
   ]
  },
  {
   "cell_type": "code",
   "execution_count": null,
   "metadata": {},
   "outputs": [],
   "source": [
    "ATG7_2_sum = 217.98617066869969\n",
    "\n",
    "print('shape before filtering', df.shape)\n",
    "#create boolean and select the genes where sum is higher than ATG7(2) sum expression\n",
    "bool_higher_iso2 = df.sum(axis=1) > ATG7_2_sum \n",
    "df = df[bool_higher_iso2]\n",
    "\n",
    "print('shape after filtering', df.shape)"
   ]
  },
  {
   "cell_type": "code",
   "execution_count": null,
   "metadata": {},
   "outputs": [],
   "source": [
    "# #1%\n",
    "# small_smallpart = df.iloc[:1970,:78]"
   ]
  },
  {
   "cell_type": "code",
   "execution_count": null,
   "metadata": {},
   "outputs": [],
   "source": [
    "%%time\n",
    "#evaluate the goodness score for each cluster to select the best possibility.\n",
    "cluster_numbers = list(range(2, 40))\n",
    "number_clust_L = [] \n",
    "goodness_chs_L = []\n",
    "goodness_dbi_L = []\n",
    "for nb in cluster_numbers:\n",
    "    kmeans_model = KMeans(n_clusters = nb, random_state=1).fit(df)\n",
    "    labels = kmeans_model.labels_\n",
    "    goodness_chs = metrics.calinski_harabasz_score(df, labels)\n",
    "    goodness_dbi = metrics.davies_bouldin_score(df, labels)\n",
    "    \n",
    "    #save score in list\n",
    "    number_clust_L.append(nb)\n",
    "    goodness_chs_L.append(goodness_chs)\n",
    "    goodness_dbi_L.append(goodness_dbi)\n",
    "\n",
    "#convert to dict then to DF\n",
    "d = dict(Number = number_clust_L, Goodness_CHS = goodness_chs_L, Goodness_DBI = goodness_dbi_L)\n",
    "df = pandas.DataFrame.from_dict(d, orient='columns')\n",
    "df.head()"
   ]
  },
  {
   "cell_type": "code",
   "execution_count": null,
   "metadata": {},
   "outputs": [],
   "source": [
    "#plot the Goodness on the number to determine the best one.\n",
    "##calinski_harabasz_score\n",
    "seaborn.lineplot(data = df, x = 'Number', y = 'Goodness_CHS', marker=\"o\")\n",
    "plt.grid(ls=':', alpha = 0.5)\n",
    "print('the elbow curve is at between 6 and 12')"
   ]
  },
  {
   "cell_type": "code",
   "execution_count": null,
   "metadata": {},
   "outputs": [],
   "source": [
    "#davies_bouldin_score\n",
    "seaborn.lineplot(data = df, x = 'Number', y = 'Goodness_DBI', marker=\"o\")\n",
    "plt.grid(ls=':', alpha = 0.5)\n",
    "print('the plateau start at 7')"
   ]
  },
  {
   "cell_type": "code",
   "execution_count": null,
   "metadata": {},
   "outputs": [],
   "source": [
    "# 10 is the best number of cluster\n",
    "kmeans_model = KMeans(n_clusters = 7, random_state=1).fit(df)\n",
    "# Find what cluster for each gene\n",
    "pred_cluster = kmeans_model.predict(df)\n",
    "print(pred_cluster)\n",
    "#add the prediction in a column\n",
    "df['cluster_7'] = pred_cluster\n",
    "df.head()"
   ]
  },
  {
   "cell_type": "code",
   "execution_count": null,
   "metadata": {},
   "outputs": [],
   "source": [
    "# #ATG7 is not in the list\n",
    "# ATG7_1 = 'ENST00000354449.7'\n",
    "# ATG7_2 = 'ENST00000354956.9'\n",
    "\n",
    "# print(df['cluster_10'][[ATG7_1, ATG7_2]])"
   ]
  },
  {
   "cell_type": "code",
   "execution_count": null,
   "metadata": {},
   "outputs": [],
   "source": [
    "#let's take random ones\n",
    "geneX = 'ENST00000552583.1'\n",
    "geneY = 'ENST00000486061.1'\n",
    "\n",
    "print(df['cluster_7'][[geneX, geneY]])"
   ]
  },
  {
   "cell_type": "code",
   "execution_count": null,
   "metadata": {},
   "outputs": [],
   "source": [
    "'The two genes are not in the same cluster. They are different'"
   ]
  }
 ],
 "metadata": {
  "kernelspec": {
   "display_name": "Python 3",
   "language": "python",
   "name": "python3"
  },
  "language_info": {
   "codemirror_mode": {
    "name": "ipython",
    "version": 3
   },
   "file_extension": ".py",
   "mimetype": "text/x-python",
   "name": "python",
   "nbconvert_exporter": "python",
   "pygments_lexer": "ipython3",
   "version": "3.8.5"
  }
 },
 "nbformat": 4,
 "nbformat_minor": 4
}
