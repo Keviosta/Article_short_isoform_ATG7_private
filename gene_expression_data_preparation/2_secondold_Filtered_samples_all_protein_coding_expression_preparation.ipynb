{
 "cells": [
  {
   "cell_type": "markdown",
   "metadata": {
    "id": "ifhgKXirU9Ds"
   },
   "source": [
    "# I] Import and download"
   ]
  },
  {
   "cell_type": "code",
   "execution_count": 2,
   "metadata": {
    "id": "TLQwwG5VDPFA"
   },
   "outputs": [],
   "source": [
    "import pandas, numpy\n",
    "import scipy, scipy.signal\n",
    "import matplotlib, matplotlib.pyplot as plt"
   ]
  },
  {
   "cell_type": "code",
   "execution_count": 3,
   "metadata": {},
   "outputs": [],
   "source": [
    "input_file_directory = '/Users/kja11/OneDrive - Háskóli Íslands/PhD ATG7//0 in_silico/Python/1)data_input/'\n",
    "output_file_directory = '/Users/kja11/OneDrive - Háskóli Íslands/PhD ATG7/0 in_silico/Python/3)output/'"
   ]
  },
  {
   "cell_type": "code",
   "execution_count": 4,
   "metadata": {},
   "outputs": [],
   "source": [
    "path = output_file_directory + \"dataframes_for_input/\""
   ]
  },
  {
   "cell_type": "code",
   "execution_count": null,
   "metadata": {},
   "outputs": [],
   "source": [
    "%%time\n",
    "# DL data gene expression for Normal Tissue and Primary Tumors\n",
    "df_normal = pandas.read_csv(path+\"ensembl_normal_protcoding_expr.tsv\", sep = \"\\t\")\n",
    "df_primary = pandas.read_csv(path+\"ensembl_primary_protcoding_expr.tsv\", sep = \"\\t\")\n",
    "\n",
    "print(df_normal.shape)\n",
    "print(df_primary.shape)\n",
    "\n",
    "df_normal.head(2)"
   ]
  },
  {
   "cell_type": "markdown",
   "metadata": {},
   "source": [
    "# II] Data transformation"
   ]
  },
  {
   "cell_type": "code",
   "execution_count": null,
   "metadata": {},
   "outputs": [],
   "source": [
    "#remove gene where the maximum is lower than 10 TPM \n",
    "dfs =  df_normal, df_primary\n",
    "infos = 'normal', 'primary'\n",
    "\n",
    "df_L = []\n",
    "for i in range(len(dfs)):\n",
    "    df = dfs[i]\n",
    "    info = infos[i]\n",
    "    \n",
    "    print(f'\\n {info.upper()} \\nshape is: {df.shape}')\n",
    "    #remove gene where the maximum is lower than 10 TPM \n",
    "    max_number_log2_tpm_p1 = 3.322\n",
    "    df = df.loc[:, (df.max() > max_number_log2_tpm_p1)]\n",
    "    print(f'minimum of the max expression is {df.max().min()} [log2(tpm+1)]')\n",
    "    print(f'new shape is: {df.shape}')\n",
    "    df_L.append(df)\n",
    "\n",
    "df_normal = df_L[0].T\n",
    "df_primary = df_L[1].T"
   ]
  },
  {
   "cell_type": "code",
   "execution_count": null,
   "metadata": {},
   "outputs": [],
   "source": [
    "df_normal.head()"
   ]
  },
  {
   "cell_type": "markdown",
   "metadata": {},
   "source": [
    "# III] Distribution and filtering"
   ]
  },
  {
   "cell_type": "code",
   "execution_count": null,
   "metadata": {},
   "outputs": [],
   "source": [
    "# find max\n",
    "print(df_normal.max().max())\n",
    "print(df_primary.max().max())"
   ]
  },
  {
   "cell_type": "code",
   "execution_count": null,
   "metadata": {},
   "outputs": [],
   "source": [
    "%%time\n",
    "#show everything. All the samples \n",
    "found_max = 19\n",
    "#means 50 dots per bins\n",
    "resolution = 50\n",
    "number_of_bins = found_max * resolution\n",
    "absolute_max = 0\n",
    "#remove at extremities\n",
    "margin = int(resolution/3)\n",
    "\n",
    "dfs = df_normal, df_primary\n",
    "infos = \"normal\", \"primary\"\n",
    "\n",
    "for i in range(len(dfs)):\n",
    "    df = dfs[i]\n",
    "    info = infos[i]  \n",
    "\n",
    "    for sample in df.columns:\n",
    "        expression_values = df.loc[:, sample]\n",
    "\n",
    "        # histogram\n",
    "        hist, bin_edges = numpy.histogram(expression_values, bins=number_of_bins, range=(0, found_max))\n",
    "        half_bin = (bin_edges[1] - bin_edges[0])/2\n",
    "        x = bin_edges + half_bin\n",
    "        x = x[:-1]\n",
    "\n",
    "        # curve fitting - smooth\n",
    "        plotting_x = x[margin:-margin]\n",
    "        plotting_hist = hist[margin:-margin]\n",
    "        yhat = scipy.signal.savgol_filter(plotting_hist, 51, 3)\n",
    "        \n",
    "        # plotting\n",
    "        plt.plot(plotting_x, yhat, '-', lw=4, alpha=1/300, color='tab:blue')\n",
    "\n",
    "    plt.xlim(-1, 11)                  \n",
    "    plt.xticks(range(0, 10+1))\n",
    "    plt.title(f'Distribution of of the expression in {info} for all samples ')\n",
    "    plt.xlabel('Expression [log$_2$ (TPM + 1)]')\n",
    "    plt.ylabel('Feature count')\n",
    "    plt.grid(ls=':')\n",
    "    plt.tight_layout()\n",
    "    plt.show()\n",
    "    plt.close()"
   ]
  },
  {
   "cell_type": "code",
   "execution_count": null,
   "metadata": {},
   "outputs": [],
   "source": [
    "%%time\n",
    "#Plot the maximum of expression to find a communal pattern among samples\n",
    "#because we saw bad sample in the beginning until 1. I remove the 50 values first with margin\n",
    "\n",
    "found_max = 19\n",
    "# means 50 dots per bins (betweeen 0 and 1)\n",
    "resolution = 50\n",
    "number_of_bins = found_max * resolution\n",
    "absolute_max = 0\n",
    "\n",
    "dfs = df_normal, df_primary\n",
    "infos = \"normal\", \"primary\"\n",
    "\n",
    "for i in range(len(dfs)):\n",
    "    df = dfs[i]\n",
    "    info = infos[i]  \n",
    "    \n",
    "    most_likely_expressions = []\n",
    "    for sample in df.columns:\n",
    "        expression_values = df.loc[:, sample]\n",
    "\n",
    "        # histogram of all sample (without the beginning of the values = no pic at 0)\n",
    "        hist, bin_edges = numpy.histogram(expression_values, bins=number_of_bins, range=(0, found_max))\n",
    "        half_bin = (bin_edges[1] - bin_edges[0])/2\n",
    "        x = bin_edges + half_bin\n",
    "        x = x[:-1]\n",
    "        \n",
    "        # curve fitting\n",
    "        margin = 50\n",
    "        plotting_x = x[margin:-margin]\n",
    "        plotting_hist = hist[margin:-margin]\n",
    "        yhat = scipy.signal.savgol_filter(plotting_hist, 51, 3)\n",
    "        \n",
    "        # To visualize the communal pattern in samples : maximum of all samples \n",
    "        ## argmax gives position of the max.\n",
    "        most_likely_expression = x[numpy.argmax(yhat)]\n",
    "        most_likely_expressions.append(most_likely_expression)\n",
    "        \n",
    "    # histogram of the maximum value of all samples\n",
    "    print(len(most_likely_expressions))\n",
    "    hist, bin_edges = numpy.histogram(most_likely_expressions, bins=250, range=(0, 10))\n",
    "    half_bin = (bin_edges[1] - bin_edges[0])/2\n",
    "    x = bin_edges + half_bin\n",
    "    x = x[:-1]\n",
    "\n",
    "    # curve fitting\n",
    "    margin = 5\n",
    "    plotting_x = x[margin:-margin]\n",
    "    plotting_hist = hist[margin:-margin]\n",
    "    yhat = scipy.signal.savgol_filter(plotting_hist, 51, 3)\n",
    "\n",
    "    #plot\n",
    "    plt.plot(x, hist, 'o', color='tab:blue', alpha=1/2, markeredgecolor='None', markersize=10)\n",
    "    plt.plot(plotting_x, yhat, '-', lw=4, alpha=1/2, color='tab:blue')\n",
    "\n",
    "    plt.xticks(range(0, 11))\n",
    "    plt.grid(ls=':')\n",
    "    plt.title(f'Distribution of the maximum in {info} for all samples ')\n",
    "    plt.xlabel('Most expected log2 TPM + 1')\n",
    "    plt.ylabel('Sample count')\n",
    "    plt.tight_layout()\n",
    "    plt.show()\n",
    "    plt.close()"
   ]
  },
  {
   "cell_type": "code",
   "execution_count": null,
   "metadata": {},
   "outputs": [],
   "source": [
    "print('The communal pattern of the maximal is mainly between 1.8 and 3.8 in the two groups')"
   ]
  },
  {
   "cell_type": "code",
   "execution_count": null,
   "metadata": {},
   "outputs": [],
   "source": [
    "%%time\n",
    "# We want to select only the samples following the pattern.\n",
    "\n",
    "found_max = 19\n",
    "#means 50 dots per bins\n",
    "resolution = 50\n",
    "number_of_bins = found_max * resolution\n",
    "absolute_max = 0\n",
    "margin = 50\n",
    "\n",
    "dfs = df_normal, df_primary\n",
    "infos = \"normal\", \"primary\"\n",
    "\n",
    "selected_expressions = []\n",
    "\n",
    "for i in range(len(dfs)):\n",
    "    df = dfs[i]\n",
    "    info = infos[i]\n",
    "    \n",
    "    print(info)\n",
    "    selected_samples = []\n",
    "    \n",
    "    for sample in df.columns:\n",
    "        expression_values = df.loc[:, sample]\n",
    "\n",
    "        # histogram\n",
    "        hist, bin_edges = numpy.histogram(expression_values, bins=number_of_bins, range=(0, found_max))\n",
    "        half_bin = (bin_edges[1] - bin_edges[0])/2\n",
    "        x = bin_edges + half_bin\n",
    "        x = x[:-1]\n",
    "\n",
    "        # curve fitting - smooth\n",
    "        plotting_x = x[margin:-margin]\n",
    "        plotting_hist = hist[margin:-margin]\n",
    "        yhat = scipy.signal.savgol_filter(plotting_hist, 51, 3)\n",
    "        \n",
    "        # determine most likely expression\n",
    "        ## argmax gives position of the max. This is to select samples with max at this range\n",
    "        most_likely_expression = x[numpy.argmax(yhat)]\n",
    "\n",
    "        # sample selection. Where max is between 1.8 and 3.8.\n",
    "        if 1.8 <= most_likely_expression <= 3.8:\n",
    "            selected_samples.append(sample)\n",
    "            \n",
    "    selected_expression = df.loc[:, selected_samples]\n",
    "    print(selected_expression.shape)\n",
    "    selected_expressions.append(selected_expression)\n",
    "\n",
    "# create the new dataframe\n",
    "selected_expr_normal = selected_expressions[0]\n",
    "selected_expr_primary = selected_expressions[1]\n",
    "selected_expr_normal.head(3)"
   ]
  },
  {
   "cell_type": "code",
   "execution_count": null,
   "metadata": {},
   "outputs": [],
   "source": [
    "%%time\n",
    "#Plot the distribution of the selected samples\n",
    "found_max = 19\n",
    "#means 50 dots per bins\n",
    "resolution = 50\n",
    "number_of_bins = found_max * resolution\n",
    "absolute_max = 0\n",
    "#remove at extremities\n",
    "margin = int(resolution/3)\n",
    "\n",
    "dfs = selected_expr_normal, selected_expr_primary\n",
    "infos = \"normal\", \"primary\"\n",
    "\n",
    "most_likely_expressions = []\n",
    "selected_samples = []\n",
    "\n",
    "for i in range(len(dfs)):\n",
    "    df = dfs[i]\n",
    "    info = infos[i]  \n",
    "\n",
    "    for sample in df.columns:\n",
    "        expression_values = df.loc[:, sample]\n",
    "\n",
    "        # histogram\n",
    "        hist, bin_edges = numpy.histogram(expression_values, bins=number_of_bins, range=(0, found_max))\n",
    "        half_bin = (bin_edges[1] - bin_edges[0])/2\n",
    "        x = bin_edges + half_bin\n",
    "        x = x[:-1]\n",
    "\n",
    "        # curve fitting - smooth\n",
    "        plotting_x = x[margin:-margin]\n",
    "        plotting_hist = hist[margin:-margin]\n",
    "        yhat = scipy.signal.savgol_filter(plotting_hist, 51, 3)\n",
    "               \n",
    "        # plotting\n",
    "        plt.plot(plotting_x, yhat, '-', lw=4, alpha=1/300, color='tab:green')\n",
    "\n",
    "    plt.xlim(-1, 11)                  \n",
    "    plt.xticks(range(0, 10+1))\n",
    "    plt.title(f'Distribution of the expression in {info}')\n",
    "    plt.xlabel('Expression [log$_2$ (TPM + 1)]')\n",
    "    plt.ylabel('Feature count')\n",
    "    plt.grid(ls=':')\n",
    "    plt.tight_layout()\n",
    "    plt.show()\n",
    "    plt.close()"
   ]
  },
  {
   "cell_type": "code",
   "execution_count": null,
   "metadata": {},
   "outputs": [],
   "source": [
    "selected_expr_normal = selected_expr_normal.T\n",
    "selected_expr_primary = selected_expr_primary.T\n",
    "\n",
    "print(selected_expr_normal.shape)\n",
    "print(selected_expr_primary.shape)"
   ]
  },
  {
   "cell_type": "code",
   "execution_count": null,
   "metadata": {},
   "outputs": [],
   "source": [
    "# %%time\n",
    "# #save to csv\n",
    "# selected_expr_normal.to_csv(path+'filtered_samples_protcod_expr_normal.tsv',sep = \"\\t\")\n",
    "# selected_expr_primary.to_csv(path+'filtered_samples_protcod_expr_protein.tsv',sep = \"\\t\")"
   ]
  }
 ],
 "metadata": {
  "colab": {
   "collapsed_sections": [
    "scwtwuDCqUKz",
    "fbjL51C8RltI",
    "R8fLWHXOBYJl"
   ],
   "name": "all_organs.v004.ipynb",
   "provenance": []
  },
  "kernelspec": {
   "display_name": "Python 3",
   "language": "python",
   "name": "python3"
  },
  "language_info": {
   "codemirror_mode": {
    "name": "ipython",
    "version": 3
   },
   "file_extension": ".py",
   "mimetype": "text/x-python",
   "name": "python",
   "nbconvert_exporter": "python",
   "pygments_lexer": "ipython3",
   "version": "3.8.5"
  }
 },
 "nbformat": 4,
 "nbformat_minor": 1
}
