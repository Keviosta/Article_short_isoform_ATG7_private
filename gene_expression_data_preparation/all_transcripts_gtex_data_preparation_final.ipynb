{
 "cells": [
  {
   "cell_type": "code",
   "execution_count": 1,
   "metadata": {},
   "outputs": [],
   "source": [
    "import pandas, numpy, seaborn, sklearn\n",
    "import matplotlib.pyplot as plt\n",
    "from sklearn.cluster import KMeans\n",
    "from sklearn import metrics"
   ]
  },
  {
   "cell_type": "markdown",
   "metadata": {},
   "source": [
    "## functions & options\n"
   ]
  },
  {
   "cell_type": "code",
   "execution_count": 2,
   "metadata": {},
   "outputs": [],
   "source": [
    "input_file_directory = '/Users/kja11/OneDrive - Háskóli Íslands/PhD ATG7//0 in_silico/Python/1)data_input/'\n",
    "output_file_directory = '/Users/kja11/OneDrive - Háskóli Íslands/PhD ATG7/0 in_silico/Python/3)output/'"
   ]
  },
  {
   "cell_type": "markdown",
   "metadata": {},
   "source": [
    "# I] Dataframe settings"
   ]
  },
  {
   "cell_type": "code",
   "execution_count": 42,
   "metadata": {
    "collapsed": true
   },
   "outputs": [
    {
     "ename": "MemoryError",
     "evalue": "Unable to allocate 3.85 GiB for an array with shape (7862, 65644) and data type float64",
     "output_type": "error",
     "traceback": [
      "\u001b[1;31m---------------------------------------------------------------------------\u001b[0m",
      "\u001b[1;31mMemoryError\u001b[0m                               Traceback (most recent call last)",
      "\u001b[1;32m<timed exec>\u001b[0m in \u001b[0;36m<module>\u001b[1;34m\u001b[0m\n",
      "\u001b[1;32m~\\anaconda3\\lib\\site-packages\\pandas\\io\\parsers.py\u001b[0m in \u001b[0;36m__next__\u001b[1;34m(self)\u001b[0m\n\u001b[0;32m   1169\u001b[0m     \u001b[1;32mdef\u001b[0m \u001b[0m__next__\u001b[0m\u001b[1;33m(\u001b[0m\u001b[0mself\u001b[0m\u001b[1;33m)\u001b[0m\u001b[1;33m:\u001b[0m\u001b[1;33m\u001b[0m\u001b[1;33m\u001b[0m\u001b[0m\n\u001b[0;32m   1170\u001b[0m         \u001b[1;32mtry\u001b[0m\u001b[1;33m:\u001b[0m\u001b[1;33m\u001b[0m\u001b[1;33m\u001b[0m\u001b[0m\n\u001b[1;32m-> 1171\u001b[1;33m             \u001b[1;32mreturn\u001b[0m \u001b[0mself\u001b[0m\u001b[1;33m.\u001b[0m\u001b[0mget_chunk\u001b[0m\u001b[1;33m(\u001b[0m\u001b[1;33m)\u001b[0m\u001b[1;33m\u001b[0m\u001b[1;33m\u001b[0m\u001b[0m\n\u001b[0m\u001b[0;32m   1172\u001b[0m         \u001b[1;32mexcept\u001b[0m \u001b[0mStopIteration\u001b[0m\u001b[1;33m:\u001b[0m\u001b[1;33m\u001b[0m\u001b[1;33m\u001b[0m\u001b[0m\n\u001b[0;32m   1173\u001b[0m             \u001b[0mself\u001b[0m\u001b[1;33m.\u001b[0m\u001b[0mclose\u001b[0m\u001b[1;33m(\u001b[0m\u001b[1;33m)\u001b[0m\u001b[1;33m\u001b[0m\u001b[1;33m\u001b[0m\u001b[0m\n",
      "\u001b[1;32m~\\anaconda3\\lib\\site-packages\\pandas\\io\\parsers.py\u001b[0m in \u001b[0;36mget_chunk\u001b[1;34m(self, size)\u001b[0m\n\u001b[0;32m   1228\u001b[0m                 \u001b[1;32mraise\u001b[0m \u001b[0mStopIteration\u001b[0m\u001b[1;33m\u001b[0m\u001b[1;33m\u001b[0m\u001b[0m\n\u001b[0;32m   1229\u001b[0m             \u001b[0msize\u001b[0m \u001b[1;33m=\u001b[0m \u001b[0mmin\u001b[0m\u001b[1;33m(\u001b[0m\u001b[0msize\u001b[0m\u001b[1;33m,\u001b[0m \u001b[0mself\u001b[0m\u001b[1;33m.\u001b[0m\u001b[0mnrows\u001b[0m \u001b[1;33m-\u001b[0m \u001b[0mself\u001b[0m\u001b[1;33m.\u001b[0m\u001b[0m_currow\u001b[0m\u001b[1;33m)\u001b[0m\u001b[1;33m\u001b[0m\u001b[1;33m\u001b[0m\u001b[0m\n\u001b[1;32m-> 1230\u001b[1;33m         \u001b[1;32mreturn\u001b[0m \u001b[0mself\u001b[0m\u001b[1;33m.\u001b[0m\u001b[0mread\u001b[0m\u001b[1;33m(\u001b[0m\u001b[0mnrows\u001b[0m\u001b[1;33m=\u001b[0m\u001b[0msize\u001b[0m\u001b[1;33m)\u001b[0m\u001b[1;33m\u001b[0m\u001b[1;33m\u001b[0m\u001b[0m\n\u001b[0m\u001b[0;32m   1231\u001b[0m \u001b[1;33m\u001b[0m\u001b[0m\n\u001b[0;32m   1232\u001b[0m \u001b[1;33m\u001b[0m\u001b[0m\n",
      "\u001b[1;32m~\\anaconda3\\lib\\site-packages\\pandas\\io\\parsers.py\u001b[0m in \u001b[0;36mread\u001b[1;34m(self, nrows)\u001b[0m\n\u001b[0;32m   1209\u001b[0m             \u001b[0mnew_rows\u001b[0m \u001b[1;33m=\u001b[0m \u001b[0mlen\u001b[0m\u001b[1;33m(\u001b[0m\u001b[0mindex\u001b[0m\u001b[1;33m)\u001b[0m\u001b[1;33m\u001b[0m\u001b[1;33m\u001b[0m\u001b[0m\n\u001b[0;32m   1210\u001b[0m \u001b[1;33m\u001b[0m\u001b[0m\n\u001b[1;32m-> 1211\u001b[1;33m         \u001b[0mdf\u001b[0m \u001b[1;33m=\u001b[0m \u001b[0mDataFrame\u001b[0m\u001b[1;33m(\u001b[0m\u001b[0mcol_dict\u001b[0m\u001b[1;33m,\u001b[0m \u001b[0mcolumns\u001b[0m\u001b[1;33m=\u001b[0m\u001b[0mcolumns\u001b[0m\u001b[1;33m,\u001b[0m \u001b[0mindex\u001b[0m\u001b[1;33m=\u001b[0m\u001b[0mindex\u001b[0m\u001b[1;33m)\u001b[0m\u001b[1;33m\u001b[0m\u001b[1;33m\u001b[0m\u001b[0m\n\u001b[0m\u001b[0;32m   1212\u001b[0m \u001b[1;33m\u001b[0m\u001b[0m\n\u001b[0;32m   1213\u001b[0m         \u001b[0mself\u001b[0m\u001b[1;33m.\u001b[0m\u001b[0m_currow\u001b[0m \u001b[1;33m+=\u001b[0m \u001b[0mnew_rows\u001b[0m\u001b[1;33m\u001b[0m\u001b[1;33m\u001b[0m\u001b[0m\n",
      "\u001b[1;32m~\\anaconda3\\lib\\site-packages\\pandas\\core\\frame.py\u001b[0m in \u001b[0;36m__init__\u001b[1;34m(self, data, index, columns, dtype, copy)\u001b[0m\n\u001b[0;32m    466\u001b[0m \u001b[1;33m\u001b[0m\u001b[0m\n\u001b[0;32m    467\u001b[0m         \u001b[1;32melif\u001b[0m \u001b[0misinstance\u001b[0m\u001b[1;33m(\u001b[0m\u001b[0mdata\u001b[0m\u001b[1;33m,\u001b[0m \u001b[0mdict\u001b[0m\u001b[1;33m)\u001b[0m\u001b[1;33m:\u001b[0m\u001b[1;33m\u001b[0m\u001b[1;33m\u001b[0m\u001b[0m\n\u001b[1;32m--> 468\u001b[1;33m             \u001b[0mmgr\u001b[0m \u001b[1;33m=\u001b[0m \u001b[0minit_dict\u001b[0m\u001b[1;33m(\u001b[0m\u001b[0mdata\u001b[0m\u001b[1;33m,\u001b[0m \u001b[0mindex\u001b[0m\u001b[1;33m,\u001b[0m \u001b[0mcolumns\u001b[0m\u001b[1;33m,\u001b[0m \u001b[0mdtype\u001b[0m\u001b[1;33m=\u001b[0m\u001b[0mdtype\u001b[0m\u001b[1;33m)\u001b[0m\u001b[1;33m\u001b[0m\u001b[1;33m\u001b[0m\u001b[0m\n\u001b[0m\u001b[0;32m    469\u001b[0m         \u001b[1;32melif\u001b[0m \u001b[0misinstance\u001b[0m\u001b[1;33m(\u001b[0m\u001b[0mdata\u001b[0m\u001b[1;33m,\u001b[0m \u001b[0mma\u001b[0m\u001b[1;33m.\u001b[0m\u001b[0mMaskedArray\u001b[0m\u001b[1;33m)\u001b[0m\u001b[1;33m:\u001b[0m\u001b[1;33m\u001b[0m\u001b[1;33m\u001b[0m\u001b[0m\n\u001b[0;32m    470\u001b[0m             \u001b[1;32mimport\u001b[0m \u001b[0mnumpy\u001b[0m\u001b[1;33m.\u001b[0m\u001b[0mma\u001b[0m\u001b[1;33m.\u001b[0m\u001b[0mmrecords\u001b[0m \u001b[1;32mas\u001b[0m \u001b[0mmrecords\u001b[0m\u001b[1;33m\u001b[0m\u001b[1;33m\u001b[0m\u001b[0m\n",
      "\u001b[1;32m~\\anaconda3\\lib\\site-packages\\pandas\\core\\internals\\construction.py\u001b[0m in \u001b[0;36minit_dict\u001b[1;34m(data, index, columns, dtype)\u001b[0m\n\u001b[0;32m    281\u001b[0m             \u001b[0marr\u001b[0m \u001b[1;32mif\u001b[0m \u001b[1;32mnot\u001b[0m \u001b[0mis_datetime64tz_dtype\u001b[0m\u001b[1;33m(\u001b[0m\u001b[0marr\u001b[0m\u001b[1;33m)\u001b[0m \u001b[1;32melse\u001b[0m \u001b[0marr\u001b[0m\u001b[1;33m.\u001b[0m\u001b[0mcopy\u001b[0m\u001b[1;33m(\u001b[0m\u001b[1;33m)\u001b[0m \u001b[1;32mfor\u001b[0m \u001b[0marr\u001b[0m \u001b[1;32min\u001b[0m \u001b[0marrays\u001b[0m\u001b[1;33m\u001b[0m\u001b[1;33m\u001b[0m\u001b[0m\n\u001b[0;32m    282\u001b[0m         ]\n\u001b[1;32m--> 283\u001b[1;33m     \u001b[1;32mreturn\u001b[0m \u001b[0marrays_to_mgr\u001b[0m\u001b[1;33m(\u001b[0m\u001b[0marrays\u001b[0m\u001b[1;33m,\u001b[0m \u001b[0mdata_names\u001b[0m\u001b[1;33m,\u001b[0m \u001b[0mindex\u001b[0m\u001b[1;33m,\u001b[0m \u001b[0mcolumns\u001b[0m\u001b[1;33m,\u001b[0m \u001b[0mdtype\u001b[0m\u001b[1;33m=\u001b[0m\u001b[0mdtype\u001b[0m\u001b[1;33m)\u001b[0m\u001b[1;33m\u001b[0m\u001b[1;33m\u001b[0m\u001b[0m\n\u001b[0m\u001b[0;32m    284\u001b[0m \u001b[1;33m\u001b[0m\u001b[0m\n\u001b[0;32m    285\u001b[0m \u001b[1;33m\u001b[0m\u001b[0m\n",
      "\u001b[1;32m~\\anaconda3\\lib\\site-packages\\pandas\\core\\internals\\construction.py\u001b[0m in \u001b[0;36marrays_to_mgr\u001b[1;34m(arrays, arr_names, index, columns, dtype, verify_integrity)\u001b[0m\n\u001b[0;32m     91\u001b[0m     \u001b[0maxes\u001b[0m \u001b[1;33m=\u001b[0m \u001b[1;33m[\u001b[0m\u001b[0mcolumns\u001b[0m\u001b[1;33m,\u001b[0m \u001b[0mindex\u001b[0m\u001b[1;33m]\u001b[0m\u001b[1;33m\u001b[0m\u001b[1;33m\u001b[0m\u001b[0m\n\u001b[0;32m     92\u001b[0m \u001b[1;33m\u001b[0m\u001b[0m\n\u001b[1;32m---> 93\u001b[1;33m     \u001b[1;32mreturn\u001b[0m \u001b[0mcreate_block_manager_from_arrays\u001b[0m\u001b[1;33m(\u001b[0m\u001b[0marrays\u001b[0m\u001b[1;33m,\u001b[0m \u001b[0marr_names\u001b[0m\u001b[1;33m,\u001b[0m \u001b[0maxes\u001b[0m\u001b[1;33m)\u001b[0m\u001b[1;33m\u001b[0m\u001b[1;33m\u001b[0m\u001b[0m\n\u001b[0m\u001b[0;32m     94\u001b[0m \u001b[1;33m\u001b[0m\u001b[0m\n\u001b[0;32m     95\u001b[0m \u001b[1;33m\u001b[0m\u001b[0m\n",
      "\u001b[1;32m~\\anaconda3\\lib\\site-packages\\pandas\\core\\internals\\managers.py\u001b[0m in \u001b[0;36mcreate_block_manager_from_arrays\u001b[1;34m(arrays, names, axes)\u001b[0m\n\u001b[0;32m   1681\u001b[0m \u001b[1;33m\u001b[0m\u001b[0m\n\u001b[0;32m   1682\u001b[0m     \u001b[1;32mtry\u001b[0m\u001b[1;33m:\u001b[0m\u001b[1;33m\u001b[0m\u001b[1;33m\u001b[0m\u001b[0m\n\u001b[1;32m-> 1683\u001b[1;33m         \u001b[0mblocks\u001b[0m \u001b[1;33m=\u001b[0m \u001b[0mform_blocks\u001b[0m\u001b[1;33m(\u001b[0m\u001b[0marrays\u001b[0m\u001b[1;33m,\u001b[0m \u001b[0mnames\u001b[0m\u001b[1;33m,\u001b[0m \u001b[0maxes\u001b[0m\u001b[1;33m)\u001b[0m\u001b[1;33m\u001b[0m\u001b[1;33m\u001b[0m\u001b[0m\n\u001b[0m\u001b[0;32m   1684\u001b[0m         \u001b[0mmgr\u001b[0m \u001b[1;33m=\u001b[0m \u001b[0mBlockManager\u001b[0m\u001b[1;33m(\u001b[0m\u001b[0mblocks\u001b[0m\u001b[1;33m,\u001b[0m \u001b[0maxes\u001b[0m\u001b[1;33m)\u001b[0m\u001b[1;33m\u001b[0m\u001b[1;33m\u001b[0m\u001b[0m\n\u001b[0;32m   1685\u001b[0m         \u001b[0mmgr\u001b[0m\u001b[1;33m.\u001b[0m\u001b[0m_consolidate_inplace\u001b[0m\u001b[1;33m(\u001b[0m\u001b[1;33m)\u001b[0m\u001b[1;33m\u001b[0m\u001b[1;33m\u001b[0m\u001b[0m\n",
      "\u001b[1;32m~\\anaconda3\\lib\\site-packages\\pandas\\core\\internals\\managers.py\u001b[0m in \u001b[0;36mform_blocks\u001b[1;34m(arrays, names, axes)\u001b[0m\n\u001b[0;32m   1739\u001b[0m     \u001b[0mblocks\u001b[0m\u001b[1;33m:\u001b[0m \u001b[0mList\u001b[0m\u001b[1;33m[\u001b[0m\u001b[0mBlock\u001b[0m\u001b[1;33m]\u001b[0m \u001b[1;33m=\u001b[0m \u001b[1;33m[\u001b[0m\u001b[1;33m]\u001b[0m\u001b[1;33m\u001b[0m\u001b[1;33m\u001b[0m\u001b[0m\n\u001b[0;32m   1740\u001b[0m     \u001b[1;32mif\u001b[0m \u001b[0mlen\u001b[0m\u001b[1;33m(\u001b[0m\u001b[0mitems_dict\u001b[0m\u001b[1;33m[\u001b[0m\u001b[1;34m\"FloatBlock\"\u001b[0m\u001b[1;33m]\u001b[0m\u001b[1;33m)\u001b[0m\u001b[1;33m:\u001b[0m\u001b[1;33m\u001b[0m\u001b[1;33m\u001b[0m\u001b[0m\n\u001b[1;32m-> 1741\u001b[1;33m         \u001b[0mfloat_blocks\u001b[0m \u001b[1;33m=\u001b[0m \u001b[0m_multi_blockify\u001b[0m\u001b[1;33m(\u001b[0m\u001b[0mitems_dict\u001b[0m\u001b[1;33m[\u001b[0m\u001b[1;34m\"FloatBlock\"\u001b[0m\u001b[1;33m]\u001b[0m\u001b[1;33m)\u001b[0m\u001b[1;33m\u001b[0m\u001b[1;33m\u001b[0m\u001b[0m\n\u001b[0m\u001b[0;32m   1742\u001b[0m         \u001b[0mblocks\u001b[0m\u001b[1;33m.\u001b[0m\u001b[0mextend\u001b[0m\u001b[1;33m(\u001b[0m\u001b[0mfloat_blocks\u001b[0m\u001b[1;33m)\u001b[0m\u001b[1;33m\u001b[0m\u001b[1;33m\u001b[0m\u001b[0m\n\u001b[0;32m   1743\u001b[0m \u001b[1;33m\u001b[0m\u001b[0m\n",
      "\u001b[1;32m~\\anaconda3\\lib\\site-packages\\pandas\\core\\internals\\managers.py\u001b[0m in \u001b[0;36m_multi_blockify\u001b[1;34m(tuples, dtype)\u001b[0m\n\u001b[0;32m   1833\u001b[0m     \u001b[1;32mfor\u001b[0m \u001b[0mdtype\u001b[0m\u001b[1;33m,\u001b[0m \u001b[0mtup_block\u001b[0m \u001b[1;32min\u001b[0m \u001b[0mgrouper\u001b[0m\u001b[1;33m:\u001b[0m\u001b[1;33m\u001b[0m\u001b[1;33m\u001b[0m\u001b[0m\n\u001b[0;32m   1834\u001b[0m \u001b[1;33m\u001b[0m\u001b[0m\n\u001b[1;32m-> 1835\u001b[1;33m         \u001b[0mvalues\u001b[0m\u001b[1;33m,\u001b[0m \u001b[0mplacement\u001b[0m \u001b[1;33m=\u001b[0m \u001b[0m_stack_arrays\u001b[0m\u001b[1;33m(\u001b[0m\u001b[0mlist\u001b[0m\u001b[1;33m(\u001b[0m\u001b[0mtup_block\u001b[0m\u001b[1;33m)\u001b[0m\u001b[1;33m,\u001b[0m \u001b[0mdtype\u001b[0m\u001b[1;33m)\u001b[0m\u001b[1;33m\u001b[0m\u001b[1;33m\u001b[0m\u001b[0m\n\u001b[0m\u001b[0;32m   1836\u001b[0m \u001b[1;33m\u001b[0m\u001b[0m\n\u001b[0;32m   1837\u001b[0m         \u001b[0mblock\u001b[0m \u001b[1;33m=\u001b[0m \u001b[0mmake_block\u001b[0m\u001b[1;33m(\u001b[0m\u001b[0mvalues\u001b[0m\u001b[1;33m,\u001b[0m \u001b[0mplacement\u001b[0m\u001b[1;33m=\u001b[0m\u001b[0mplacement\u001b[0m\u001b[1;33m)\u001b[0m\u001b[1;33m\u001b[0m\u001b[1;33m\u001b[0m\u001b[0m\n",
      "\u001b[1;32m~\\anaconda3\\lib\\site-packages\\pandas\\core\\internals\\managers.py\u001b[0m in \u001b[0;36m_stack_arrays\u001b[1;34m(tuples, dtype)\u001b[0m\n\u001b[0;32m   1861\u001b[0m     \u001b[0mshape\u001b[0m \u001b[1;33m=\u001b[0m \u001b[1;33m(\u001b[0m\u001b[0mlen\u001b[0m\u001b[1;33m(\u001b[0m\u001b[0marrays\u001b[0m\u001b[1;33m)\u001b[0m\u001b[1;33m,\u001b[0m\u001b[1;33m)\u001b[0m \u001b[1;33m+\u001b[0m \u001b[0m_shape_compat\u001b[0m\u001b[1;33m(\u001b[0m\u001b[0mfirst\u001b[0m\u001b[1;33m)\u001b[0m\u001b[1;33m\u001b[0m\u001b[1;33m\u001b[0m\u001b[0m\n\u001b[0;32m   1862\u001b[0m \u001b[1;33m\u001b[0m\u001b[0m\n\u001b[1;32m-> 1863\u001b[1;33m     \u001b[0mstacked\u001b[0m \u001b[1;33m=\u001b[0m \u001b[0mnp\u001b[0m\u001b[1;33m.\u001b[0m\u001b[0mempty\u001b[0m\u001b[1;33m(\u001b[0m\u001b[0mshape\u001b[0m\u001b[1;33m,\u001b[0m \u001b[0mdtype\u001b[0m\u001b[1;33m=\u001b[0m\u001b[0mdtype\u001b[0m\u001b[1;33m)\u001b[0m\u001b[1;33m\u001b[0m\u001b[1;33m\u001b[0m\u001b[0m\n\u001b[0m\u001b[0;32m   1864\u001b[0m     \u001b[1;32mfor\u001b[0m \u001b[0mi\u001b[0m\u001b[1;33m,\u001b[0m \u001b[0marr\u001b[0m \u001b[1;32min\u001b[0m \u001b[0menumerate\u001b[0m\u001b[1;33m(\u001b[0m\u001b[0marrays\u001b[0m\u001b[1;33m)\u001b[0m\u001b[1;33m:\u001b[0m\u001b[1;33m\u001b[0m\u001b[1;33m\u001b[0m\u001b[0m\n\u001b[0;32m   1865\u001b[0m         \u001b[0mstacked\u001b[0m\u001b[1;33m[\u001b[0m\u001b[0mi\u001b[0m\u001b[1;33m]\u001b[0m \u001b[1;33m=\u001b[0m \u001b[0m_asarray_compat\u001b[0m\u001b[1;33m(\u001b[0m\u001b[0marr\u001b[0m\u001b[1;33m)\u001b[0m\u001b[1;33m\u001b[0m\u001b[1;33m\u001b[0m\u001b[0m\n",
      "\u001b[1;31mMemoryError\u001b[0m: Unable to allocate 3.85 GiB for an array with shape (7862, 65644) and data type float64"
     ]
    }
   ],
   "source": [
    "%%time\n",
    "#Open the big expression data with all the transcripts in 3 parts. Chunksize is number of rows.\n",
    "path = input_file_directory + \"/xenabrowser_brut_data/all_transcripts/gtex_Kallisto_tpm.tsv\"\n",
    "df, df2, df3 = pandas.read_csv(path, sep = \"\\t\", index_col='sample', \n",
    "                                chunksize=65700, iterator=True)\n",
    "\n",
    "print(df.shape, df2.shape, df3.shape)"
   ]
  },
  {
   "cell_type": "code",
   "execution_count": 43,
   "metadata": {},
   "outputs": [
    {
     "ename": "MemoryError",
     "evalue": "Unable to allocate 2.72 GiB for an array with shape (46489, 7863) and data type float64",
     "output_type": "error",
     "traceback": [
      "\u001b[1;31m---------------------------------------------------------------------------\u001b[0m",
      "\u001b[1;31mMemoryError\u001b[0m                               Traceback (most recent call last)",
      "\u001b[1;32m<ipython-input-43-b939e917fca4>\u001b[0m in \u001b[0;36m<module>\u001b[1;34m\u001b[0m\n\u001b[0;32m      4\u001b[0m \u001b[0mdf\u001b[0m \u001b[1;33m=\u001b[0m \u001b[1;36m2\u001b[0m\u001b[1;33m**\u001b[0m\u001b[0mdf\u001b[0m\u001b[1;33m\u001b[0m\u001b[1;33m\u001b[0m\u001b[0m\n\u001b[0;32m      5\u001b[0m \u001b[1;31m#to log2(tpm+1)\u001b[0m\u001b[1;33m\u001b[0m\u001b[1;33m\u001b[0m\u001b[1;33m\u001b[0m\u001b[0m\n\u001b[1;32m----> 6\u001b[1;33m \u001b[0mdf\u001b[0m \u001b[1;33m=\u001b[0m \u001b[0mnumpy\u001b[0m\u001b[1;33m.\u001b[0m\u001b[0mlog2\u001b[0m\u001b[1;33m(\u001b[0m\u001b[0mdf\u001b[0m\u001b[1;33m+\u001b[0m\u001b[1;36m1\u001b[0m\u001b[1;33m)\u001b[0m\u001b[1;33m\u001b[0m\u001b[1;33m\u001b[0m\u001b[0m\n\u001b[0m\u001b[0;32m      7\u001b[0m \u001b[0mdf\u001b[0m\u001b[1;33m.\u001b[0m\u001b[0mmin\u001b[0m\u001b[1;33m(\u001b[0m\u001b[1;33m)\u001b[0m\u001b[1;33m.\u001b[0m\u001b[0mmin\u001b[0m\u001b[1;33m(\u001b[0m\u001b[1;33m)\u001b[0m\u001b[1;33m\u001b[0m\u001b[1;33m\u001b[0m\u001b[0m\n",
      "\u001b[1;31mMemoryError\u001b[0m: Unable to allocate 2.72 GiB for an array with shape (46489, 7863) and data type float64"
     ]
    }
   ],
   "source": [
    "# 1st part\n",
    "df.index.name = None\n",
    "#to tpm\n",
    "df = 2**df\n",
    "#to log2(tpm+1)\n",
    "df = numpy.log2(df+1)\n",
    "#be sure nothing is lower than 0\n",
    "df.min().min()"
   ]
  },
  {
   "cell_type": "code",
   "execution_count": null,
   "metadata": {},
   "outputs": [],
   "source": [
    "# 2nd part\n",
    "df2.index.name = None\n",
    "#to tpm\n",
    "df2 = 2**df2\n",
    "#to log2(tpm+1)\n",
    "df2 = numpy.log2(df2+1)\n",
    "#be sure nothing is lower than 0\n",
    "df2.min().min()"
   ]
  },
  {
   "cell_type": "code",
   "execution_count": null,
   "metadata": {},
   "outputs": [],
   "source": [
    "#3rd part\n",
    "df3.index.name = None\n",
    "#to tpm\n",
    "df3 = 2**df3\n",
    "#to log2(tpm+1)\n",
    "df3 = numpy.log2(df3+1)\n",
    "#be sure nothing is lower than 0\n",
    "df3.min().min()"
   ]
  },
  {
   "cell_type": "code",
   "execution_count": 15,
   "metadata": {},
   "outputs": [
    {
     "data": {
      "text/plain": [
       "(197044, 7862)"
      ]
     },
     "execution_count": 15,
     "metadata": {},
     "output_type": "execute_result"
    }
   ],
   "source": [
    "#concat the 3 dataframes\n",
    "df = pandas.concat([df, df2, df3], axis=0)\n",
    "df.shape"
   ]
  },
  {
   "cell_type": "code",
   "execution_count": 19,
   "metadata": {},
   "outputs": [
    {
     "name": "stdout",
     "output_type": "stream",
     "text": [
      "ATG7_1: 20716.240270989892\n",
      "ATG7_2: 8104.745972245537\n"
     ]
    }
   ],
   "source": [
    "genes = \"ENST00000354449.7\", \"ENST00000354956.9\"\n",
    "g_names = \"ATG7_1\", \"ATG7_2\"\n",
    "for i in range(len(genes)):\n",
    "    print(f'{g_names[i]}: {df.loc[genes[i], :].sum()}')"
   ]
  },
  {
   "cell_type": "code",
   "execution_count": 20,
   "metadata": {},
   "outputs": [
    {
     "name": "stdout",
     "output_type": "stream",
     "text": [
      "shape before filtering (197044, 7862)\n",
      "shape after filtering (46489, 7862)\n"
     ]
    }
   ],
   "source": [
    "%%time\n",
    "ATG7_2_sum = 8104.73\n",
    "\n",
    "print('shape before filtering', df.shape)\n",
    "#create boolean and select the genes where sum is higher than ATG7(2) sum expression\n",
    "bool_higher_iso2 = df.sum(axis=1) > ATG7_2_sum \n",
    "df = df[bool_higher_iso2]\n",
    "\n",
    "print('shape after filtering', df.shape)"
   ]
  },
  {
   "cell_type": "code",
   "execution_count": 21,
   "metadata": {},
   "outputs": [
    {
     "name": "stdout",
     "output_type": "stream",
     "text": [
      "Wall time: 1h 13min 22s\n"
     ]
    },
    {
     "data": {
      "text/html": [
       "<div>\n",
       "<style scoped>\n",
       "    .dataframe tbody tr th:only-of-type {\n",
       "        vertical-align: middle;\n",
       "    }\n",
       "\n",
       "    .dataframe tbody tr th {\n",
       "        vertical-align: top;\n",
       "    }\n",
       "\n",
       "    .dataframe thead th {\n",
       "        text-align: right;\n",
       "    }\n",
       "</style>\n",
       "<table border=\"1\" class=\"dataframe\">\n",
       "  <thead>\n",
       "    <tr style=\"text-align: right;\">\n",
       "      <th></th>\n",
       "      <th>Number</th>\n",
       "      <th>Goodness_CHS</th>\n",
       "      <th>Goodness_DBI</th>\n",
       "    </tr>\n",
       "  </thead>\n",
       "  <tbody>\n",
       "    <tr>\n",
       "      <th>0</th>\n",
       "      <td>2</td>\n",
       "      <td>30043.903371</td>\n",
       "      <td>1.008159</td>\n",
       "    </tr>\n",
       "    <tr>\n",
       "      <th>1</th>\n",
       "      <td>3</td>\n",
       "      <td>23221.134670</td>\n",
       "      <td>1.246113</td>\n",
       "    </tr>\n",
       "    <tr>\n",
       "      <th>2</th>\n",
       "      <td>4</td>\n",
       "      <td>18732.166954</td>\n",
       "      <td>1.448772</td>\n",
       "    </tr>\n",
       "    <tr>\n",
       "      <th>3</th>\n",
       "      <td>5</td>\n",
       "      <td>15529.636186</td>\n",
       "      <td>1.671612</td>\n",
       "    </tr>\n",
       "    <tr>\n",
       "      <th>4</th>\n",
       "      <td>6</td>\n",
       "      <td>13144.940636</td>\n",
       "      <td>1.913011</td>\n",
       "    </tr>\n",
       "  </tbody>\n",
       "</table>\n",
       "</div>"
      ],
      "text/plain": [
       "   Number  Goodness_CHS  Goodness_DBI\n",
       "0       2  30043.903371      1.008159\n",
       "1       3  23221.134670      1.246113\n",
       "2       4  18732.166954      1.448772\n",
       "3       5  15529.636186      1.671612\n",
       "4       6  13144.940636      1.913011"
      ]
     },
     "execution_count": 21,
     "metadata": {},
     "output_type": "execute_result"
    }
   ],
   "source": [
    "%%time\n",
    "#evaluate the goodness score for each cluster to select the best possibility.\n",
    "cluster_numbers = list(range(2, 20))\n",
    "number_clust_L = [] \n",
    "goodness_chs_L = []\n",
    "goodness_dbi_L = []\n",
    "for nb in cluster_numbers:\n",
    "    kmeans_model = KMeans(n_clusters = nb, random_state=1).fit(df)\n",
    "    labels = kmeans_model.labels_\n",
    "    goodness_chs = metrics.calinski_harabasz_score(df, labels)\n",
    "    goodness_dbi = metrics.davies_bouldin_score(df, labels)\n",
    "    \n",
    "    #save score in list\n",
    "    number_clust_L.append(nb)\n",
    "    goodness_chs_L.append(goodness_chs)\n",
    "    goodness_dbi_L.append(goodness_dbi)\n",
    "\n",
    "#convert to dict then to DF\n",
    "d = dict(Number = number_clust_L, Goodness_CHS = goodness_chs_L, Goodness_DBI = goodness_dbi_L)\n",
    "df_goodness = pandas.DataFrame.from_dict(d, orient='columns')\n",
    "df_goodness.head()"
   ]
  },
  {
   "cell_type": "code",
   "execution_count": 39,
   "metadata": {},
   "outputs": [
    {
     "name": "stdout",
     "output_type": "stream",
     "text": [
      "the elbow curve is at between 7 and 10\n"
     ]
    },
    {
     "data": {
      "image/png": "[encoded data removed]",
      "text/plain": [
       "<Figure size 432x288 with 1 Axes>"
      ]
     },
     "metadata": {
      "needs_background": "light"
     },
     "output_type": "display_data"
    }
   ],
   "source": [
    "#plot the Goodness on the number to determine the best one.\n",
    "##calinski_harabasz_score\n",
    "seaborn.lineplot(data = df_goodness, x = 'Number', y = 'Goodness_CHS', marker=\"o\")\n",
    "plt.grid(ls=':', alpha = 0.5)\n",
    "plt.xlim(2,20)\n",
    "print('the elbow curve is at between 7 and 10')"
   ]
  },
  {
   "cell_type": "code",
   "execution_count": 40,
   "metadata": {},
   "outputs": [
    {
     "name": "stdout",
     "output_type": "stream",
     "text": [
      "the plateau start at 9\n"
     ]
    },
    {
     "data": {
      "image/png": "[encoded data removed]",
      "text/plain": [
       "<Figure size 432x288 with 1 Axes>"
      ]
     },
     "metadata": {
      "needs_background": "light"
     },
     "output_type": "display_data"
    }
   ],
   "source": [
    "#davies_bouldin_score\n",
    "seaborn.lineplot(data = df_goodness, x = 'Number', y = 'Goodness_DBI', marker=\"o\")\n",
    "plt.grid(ls=':', alpha = 0.5)\n",
    "plt.xlim(2,20)\n",
    "print('the plateau start at 9')"
   ]
  },
  {
   "cell_type": "code",
   "execution_count": 27,
   "metadata": {},
   "outputs": [
    {
     "name": "stdout",
     "output_type": "stream",
     "text": [
      "[7 5 4 ... 4 7 4]\n"
     ]
    },
    {
     "name": "stderr",
     "output_type": "stream",
     "text": [
      "<ipython-input-27-50c216617f80>:7: SettingWithCopyWarning: \n",
      "A value is trying to be set on a copy of a slice from a DataFrame.\n",
      "Try using .loc[row_indexer,col_indexer] = value instead\n",
      "\n",
      "See the caveats in the documentation: https://pandas.pydata.org/pandas-docs/stable/user_guide/indexing.html#returning-a-view-versus-a-copy\n",
      "  df['cluster_11'] = pred_cluster\n"
     ]
    },
    {
     "data": {
      "text/html": [
       "<div>\n",
       "<style scoped>\n",
       "    .dataframe tbody tr th:only-of-type {\n",
       "        vertical-align: middle;\n",
       "    }\n",
       "\n",
       "    .dataframe tbody tr th {\n",
       "        vertical-align: top;\n",
       "    }\n",
       "\n",
       "    .dataframe thead th {\n",
       "        text-align: right;\n",
       "    }\n",
       "</style>\n",
       "<table border=\"1\" class=\"dataframe\">\n",
       "  <thead>\n",
       "    <tr style=\"text-align: right;\">\n",
       "      <th></th>\n",
       "      <th>GTEX-S4Q7-0003-SM-3NM8M</th>\n",
       "      <th>GTEX-QV31-1626-SM-2S1QC</th>\n",
       "      <th>GTEX-13OW5-0626-SM-5J2N2</th>\n",
       "      <th>GTEX-ZPCL-0126-SM-4WWC8</th>\n",
       "      <th>GTEX-S33H-1226-SM-4AD69</th>\n",
       "      <th>GTEX-X88G-0426-SM-47JZ5</th>\n",
       "      <th>GTEX-ZAKK-0326-SM-5EGHA</th>\n",
       "      <th>GTEX-1399S-1726-SM-5L3DI</th>\n",
       "      <th>GTEX-ZF29-0926-SM-4WKFZ</th>\n",
       "      <th>GTEX-13W3W-2626-SM-5SIA2</th>\n",
       "      <th>...</th>\n",
       "      <th>GTEX-ZYFD-2126-SM-5E43D</th>\n",
       "      <th>GTEX-OOBK-2626-SM-2HMKY</th>\n",
       "      <th>GTEX-OHPJ-0006-SM-3LK6G</th>\n",
       "      <th>GTEX-1117F-2826-SM-5GZXL</th>\n",
       "      <th>GTEX-11ZTS-3326-SM-5LU9Y</th>\n",
       "      <th>GTEX-VJYA-0726-SM-4KL1T</th>\n",
       "      <th>GTEX-ZA64-2126-SM-5Q5A8</th>\n",
       "      <th>GTEX-Q2AG-2826-SM-2HMJQ</th>\n",
       "      <th>GTEX-XV7Q-0426-SM-4BRVN</th>\n",
       "      <th>cluster_11</th>\n",
       "    </tr>\n",
       "  </thead>\n",
       "  <tbody>\n",
       "    <tr>\n",
       "      <th>ENST00000354449.7</th>\n",
       "      <td>1.754024</td>\n",
       "      <td>3.093208</td>\n",
       "      <td>2.773255</td>\n",
       "      <td>3.140363</td>\n",
       "      <td>1.760291</td>\n",
       "      <td>3.288649</td>\n",
       "      <td>2.154118</td>\n",
       "      <td>3.055050</td>\n",
       "      <td>2.928635</td>\n",
       "      <td>1.561063</td>\n",
       "      <td>...</td>\n",
       "      <td>3.095504</td>\n",
       "      <td>3.027025</td>\n",
       "      <td>1.666746</td>\n",
       "      <td>2.696437</td>\n",
       "      <td>2.794625</td>\n",
       "      <td>2.071859</td>\n",
       "      <td>3.505205</td>\n",
       "      <td>2.864142</td>\n",
       "      <td>3.801190</td>\n",
       "      <td>7</td>\n",
       "    </tr>\n",
       "    <tr>\n",
       "      <th>ENST00000354956.9</th>\n",
       "      <td>2.031869</td>\n",
       "      <td>1.523112</td>\n",
       "      <td>0.289911</td>\n",
       "      <td>0.581803</td>\n",
       "      <td>0.304695</td>\n",
       "      <td>0.001442</td>\n",
       "      <td>1.610205</td>\n",
       "      <td>2.098074</td>\n",
       "      <td>1.752476</td>\n",
       "      <td>0.656618</td>\n",
       "      <td>...</td>\n",
       "      <td>0.177109</td>\n",
       "      <td>0.502040</td>\n",
       "      <td>2.643758</td>\n",
       "      <td>1.746153</td>\n",
       "      <td>0.203503</td>\n",
       "      <td>2.357154</td>\n",
       "      <td>1.312013</td>\n",
       "      <td>0.281734</td>\n",
       "      <td>2.265490</td>\n",
       "      <td>5</td>\n",
       "    </tr>\n",
       "    <tr>\n",
       "      <th>ENST00000625998.2</th>\n",
       "      <td>2.172917</td>\n",
       "      <td>2.098457</td>\n",
       "      <td>0.605310</td>\n",
       "      <td>1.012958</td>\n",
       "      <td>1.840341</td>\n",
       "      <td>2.113273</td>\n",
       "      <td>1.961725</td>\n",
       "      <td>1.283244</td>\n",
       "      <td>2.350880</td>\n",
       "      <td>1.159992</td>\n",
       "      <td>...</td>\n",
       "      <td>0.001583</td>\n",
       "      <td>1.761842</td>\n",
       "      <td>0.001444</td>\n",
       "      <td>2.140955</td>\n",
       "      <td>2.461130</td>\n",
       "      <td>1.478752</td>\n",
       "      <td>1.540381</td>\n",
       "      <td>3.384966</td>\n",
       "      <td>2.149081</td>\n",
       "      <td>4</td>\n",
       "    </tr>\n",
       "    <tr>\n",
       "      <th>ENST00000583693.5</th>\n",
       "      <td>1.679926</td>\n",
       "      <td>1.660177</td>\n",
       "      <td>2.344050</td>\n",
       "      <td>2.182342</td>\n",
       "      <td>1.596586</td>\n",
       "      <td>1.608995</td>\n",
       "      <td>1.097966</td>\n",
       "      <td>2.342765</td>\n",
       "      <td>1.919648</td>\n",
       "      <td>0.946337</td>\n",
       "      <td>...</td>\n",
       "      <td>2.018141</td>\n",
       "      <td>2.313614</td>\n",
       "      <td>0.592670</td>\n",
       "      <td>1.886752</td>\n",
       "      <td>3.031413</td>\n",
       "      <td>1.152825</td>\n",
       "      <td>2.085215</td>\n",
       "      <td>3.180864</td>\n",
       "      <td>1.991561</td>\n",
       "      <td>4</td>\n",
       "    </tr>\n",
       "    <tr>\n",
       "      <th>ENST00000012134.6</th>\n",
       "      <td>0.029468</td>\n",
       "      <td>1.529313</td>\n",
       "      <td>1.308731</td>\n",
       "      <td>0.800025</td>\n",
       "      <td>0.098109</td>\n",
       "      <td>2.200463</td>\n",
       "      <td>1.560996</td>\n",
       "      <td>1.650962</td>\n",
       "      <td>1.646671</td>\n",
       "      <td>1.745662</td>\n",
       "      <td>...</td>\n",
       "      <td>3.450136</td>\n",
       "      <td>2.087815</td>\n",
       "      <td>0.341077</td>\n",
       "      <td>1.688054</td>\n",
       "      <td>1.888504</td>\n",
       "      <td>1.644289</td>\n",
       "      <td>1.929813</td>\n",
       "      <td>3.288559</td>\n",
       "      <td>1.385678</td>\n",
       "      <td>4</td>\n",
       "    </tr>\n",
       "  </tbody>\n",
       "</table>\n",
       "<p>5 rows × 7863 columns</p>\n",
       "</div>"
      ],
      "text/plain": [
       "                   GTEX-S4Q7-0003-SM-3NM8M  GTEX-QV31-1626-SM-2S1QC  \\\n",
       "ENST00000354449.7                 1.754024                 3.093208   \n",
       "ENST00000354956.9                 2.031869                 1.523112   \n",
       "ENST00000625998.2                 2.172917                 2.098457   \n",
       "ENST00000583693.5                 1.679926                 1.660177   \n",
       "ENST00000012134.6                 0.029468                 1.529313   \n",
       "\n",
       "                   GTEX-13OW5-0626-SM-5J2N2  GTEX-ZPCL-0126-SM-4WWC8  \\\n",
       "ENST00000354449.7                  2.773255                 3.140363   \n",
       "ENST00000354956.9                  0.289911                 0.581803   \n",
       "ENST00000625998.2                  0.605310                 1.012958   \n",
       "ENST00000583693.5                  2.344050                 2.182342   \n",
       "ENST00000012134.6                  1.308731                 0.800025   \n",
       "\n",
       "                   GTEX-S33H-1226-SM-4AD69  GTEX-X88G-0426-SM-47JZ5  \\\n",
       "ENST00000354449.7                 1.760291                 3.288649   \n",
       "ENST00000354956.9                 0.304695                 0.001442   \n",
       "ENST00000625998.2                 1.840341                 2.113273   \n",
       "ENST00000583693.5                 1.596586                 1.608995   \n",
       "ENST00000012134.6                 0.098109                 2.200463   \n",
       "\n",
       "                   GTEX-ZAKK-0326-SM-5EGHA  GTEX-1399S-1726-SM-5L3DI  \\\n",
       "ENST00000354449.7                 2.154118                  3.055050   \n",
       "ENST00000354956.9                 1.610205                  2.098074   \n",
       "ENST00000625998.2                 1.961725                  1.283244   \n",
       "ENST00000583693.5                 1.097966                  2.342765   \n",
       "ENST00000012134.6                 1.560996                  1.650962   \n",
       "\n",
       "                   GTEX-ZF29-0926-SM-4WKFZ  GTEX-13W3W-2626-SM-5SIA2  ...  \\\n",
       "ENST00000354449.7                 2.928635                  1.561063  ...   \n",
       "ENST00000354956.9                 1.752476                  0.656618  ...   \n",
       "ENST00000625998.2                 2.350880                  1.159992  ...   \n",
       "ENST00000583693.5                 1.919648                  0.946337  ...   \n",
       "ENST00000012134.6                 1.646671                  1.745662  ...   \n",
       "\n",
       "                   GTEX-ZYFD-2126-SM-5E43D  GTEX-OOBK-2626-SM-2HMKY  \\\n",
       "ENST00000354449.7                 3.095504                 3.027025   \n",
       "ENST00000354956.9                 0.177109                 0.502040   \n",
       "ENST00000625998.2                 0.001583                 1.761842   \n",
       "ENST00000583693.5                 2.018141                 2.313614   \n",
       "ENST00000012134.6                 3.450136                 2.087815   \n",
       "\n",
       "                   GTEX-OHPJ-0006-SM-3LK6G  GTEX-1117F-2826-SM-5GZXL  \\\n",
       "ENST00000354449.7                 1.666746                  2.696437   \n",
       "ENST00000354956.9                 2.643758                  1.746153   \n",
       "ENST00000625998.2                 0.001444                  2.140955   \n",
       "ENST00000583693.5                 0.592670                  1.886752   \n",
       "ENST00000012134.6                 0.341077                  1.688054   \n",
       "\n",
       "                   GTEX-11ZTS-3326-SM-5LU9Y  GTEX-VJYA-0726-SM-4KL1T  \\\n",
       "ENST00000354449.7                  2.794625                 2.071859   \n",
       "ENST00000354956.9                  0.203503                 2.357154   \n",
       "ENST00000625998.2                  2.461130                 1.478752   \n",
       "ENST00000583693.5                  3.031413                 1.152825   \n",
       "ENST00000012134.6                  1.888504                 1.644289   \n",
       "\n",
       "                   GTEX-ZA64-2126-SM-5Q5A8  GTEX-Q2AG-2826-SM-2HMJQ  \\\n",
       "ENST00000354449.7                 3.505205                 2.864142   \n",
       "ENST00000354956.9                 1.312013                 0.281734   \n",
       "ENST00000625998.2                 1.540381                 3.384966   \n",
       "ENST00000583693.5                 2.085215                 3.180864   \n",
       "ENST00000012134.6                 1.929813                 3.288559   \n",
       "\n",
       "                   GTEX-XV7Q-0426-SM-4BRVN  cluster_11  \n",
       "ENST00000354449.7                 3.801190           7  \n",
       "ENST00000354956.9                 2.265490           5  \n",
       "ENST00000625998.2                 2.149081           4  \n",
       "ENST00000583693.5                 1.991561           4  \n",
       "ENST00000012134.6                 1.385678           4  \n",
       "\n",
       "[5 rows x 7863 columns]"
      ]
     },
     "execution_count": 27,
     "metadata": {},
     "output_type": "execute_result"
    }
   ],
   "source": [
    "%%time\n",
    "# 9 is the best number of cluster\n",
    "kmeans_model = KMeans(n_clusters = 9, random_state=1).fit(df)\n",
    "# Find what cluster for each gene\n",
    "pred_cluster = kmeans_model.predict(df)\n",
    "print(pred_cluster)\n",
    "#add the prediction in a column\n",
    "df['cluster'] = pred_cluster\n",
    "df.head()"
   ]
  },
  {
   "cell_type": "code",
   "execution_count": 28,
   "metadata": {},
   "outputs": [
    {
     "name": "stdout",
     "output_type": "stream",
     "text": [
      "ENST00000354449.7    7\n",
      "ENST00000354956.9    5\n",
      "Name: cluster_11, dtype: int32\n"
     ]
    }
   ],
   "source": [
    "#ATG7 is not in the list\n",
    "ATG7_1 = 'ENST00000354449.7'\n",
    "ATG7_2 = 'ENST00000354956.9'\n",
    "\n",
    "print(df['cluster'][[ATG7_1, ATG7_2]])"
   ]
  },
  {
   "cell_type": "code",
   "execution_count": 41,
   "metadata": {},
   "outputs": [
    {
     "data": {
      "text/plain": [
       "'The two genes are not in the same cluster. They are different'"
      ]
     },
     "execution_count": 41,
     "metadata": {},
     "output_type": "execute_result"
    }
   ],
   "source": [
    "'The two genes are not in the same cluster. They are different'"
   ]
  }
 ],
 "metadata": {
  "kernelspec": {
   "display_name": "Python 3",
   "language": "python",
   "name": "python3"
  },
  "language_info": {
   "codemirror_mode": {
    "name": "ipython",
    "version": 3
   },
   "file_extension": ".py",
   "mimetype": "text/x-python",
   "name": "python",
   "nbconvert_exporter": "python",
   "pygments_lexer": "ipython3",
   "version": "3.8.5"
  }
 },
 "nbformat": 4,
 "nbformat_minor": 4
}
