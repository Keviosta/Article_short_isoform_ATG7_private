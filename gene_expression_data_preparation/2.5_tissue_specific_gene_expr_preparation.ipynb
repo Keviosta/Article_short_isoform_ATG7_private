{
 "cells": [
  {
   "cell_type": "code",
   "execution_count": 3,
   "metadata": {
    "id": "TLQwwG5VDPFA"
   },
   "outputs": [],
   "source": [
    "import pandas, numpy, math, seaborn\n",
    "import scipy, scipy.stats\n",
    "import matplotlib, matplotlib.pyplot as plt\n",
    "# this is a trick to make figures look nicer\n",
    "matplotlib.rcParams.update({'font.size':20, 'font.family':'FreeSans', 'xtick.labelsize':20, 'ytick.labelsize':10, 'figure.figsize':(12, 8)})"
   ]
  },
  {
   "cell_type": "code",
   "execution_count": 4,
   "metadata": {},
   "outputs": [],
   "source": [
    "input_file_directory = '/Users/kja11/OneDrive - Háskóli Íslands/PhD ATG7//0 in_silico/Python/1)data_input/'\n",
    "output_file_directory = '/Users/kja11/OneDrive - Háskóli Íslands/PhD ATG7/0 in_silico/Python/3)output/'"
   ]
  },
  {
   "cell_type": "markdown",
   "metadata": {
    "id": "wYGSc-xPDaFV"
   },
   "source": [
    "## functions & options\n"
   ]
  },
  {
   "cell_type": "markdown",
   "metadata": {
    "id": "IpmCT5mEDPFD"
   },
   "source": [
    "# II] Dataframe settings"
   ]
  },
  {
   "cell_type": "markdown",
   "metadata": {},
   "source": [
    "## A) tissue_specific samples"
   ]
  },
  {
   "cell_type": "code",
   "execution_count": 5,
   "metadata": {
    "scrolled": true
   },
   "outputs": [
    {
     "name": "stdout",
     "output_type": "stream",
     "text": [
      "(345, 4)\n",
      "Wall time: 14.9 ms\n"
     ]
    },
    {
     "data": {
      "text/html": [
       "<div>\n",
       "<style scoped>\n",
       "    .dataframe tbody tr th:only-of-type {\n",
       "        vertical-align: middle;\n",
       "    }\n",
       "\n",
       "    .dataframe tbody tr th {\n",
       "        vertical-align: top;\n",
       "    }\n",
       "\n",
       "    .dataframe thead th {\n",
       "        text-align: right;\n",
       "    }\n",
       "</style>\n",
       "<table border=\"1\" class=\"dataframe\">\n",
       "  <thead>\n",
       "    <tr style=\"text-align: right;\">\n",
       "      <th></th>\n",
       "      <th>sample</th>\n",
       "      <th>samples</th>\n",
       "      <th>_sample_type</th>\n",
       "      <th>_primary_site</th>\n",
       "    </tr>\n",
       "  </thead>\n",
       "  <tbody>\n",
       "    <tr>\n",
       "      <th>0</th>\n",
       "      <td>GTEX-111CU-0526-SM-5EGHK</td>\n",
       "      <td>GTEX-111CU-0526-SM-5EGHK</td>\n",
       "      <td>Normal Tissue</td>\n",
       "      <td>Pancreas</td>\n",
       "    </tr>\n",
       "    <tr>\n",
       "      <th>1</th>\n",
       "      <td>GTEX-111YS-1226-SM-5EGGJ</td>\n",
       "      <td>GTEX-111YS-1226-SM-5EGGJ</td>\n",
       "      <td>Normal Tissue</td>\n",
       "      <td>Pancreas</td>\n",
       "    </tr>\n",
       "    <tr>\n",
       "      <th>2</th>\n",
       "      <td>GTEX-1122O-0726-SM-5GIEV</td>\n",
       "      <td>GTEX-1122O-0726-SM-5GIEV</td>\n",
       "      <td>Normal Tissue</td>\n",
       "      <td>Pancreas</td>\n",
       "    </tr>\n",
       "    <tr>\n",
       "      <th>3</th>\n",
       "      <td>GTEX-1128S-0826-SM-5GZZI</td>\n",
       "      <td>GTEX-1128S-0826-SM-5GZZI</td>\n",
       "      <td>Normal Tissue</td>\n",
       "      <td>Pancreas</td>\n",
       "    </tr>\n",
       "    <tr>\n",
       "      <th>4</th>\n",
       "      <td>GTEX-117YX-0226-SM-5EGH6</td>\n",
       "      <td>GTEX-117YX-0226-SM-5EGH6</td>\n",
       "      <td>Normal Tissue</td>\n",
       "      <td>Pancreas</td>\n",
       "    </tr>\n",
       "  </tbody>\n",
       "</table>\n",
       "</div>"
      ],
      "text/plain": [
       "                     sample                   samples   _sample_type  \\\n",
       "0  GTEX-111CU-0526-SM-5EGHK  GTEX-111CU-0526-SM-5EGHK  Normal Tissue   \n",
       "1  GTEX-111YS-1226-SM-5EGGJ  GTEX-111YS-1226-SM-5EGGJ  Normal Tissue   \n",
       "2  GTEX-1122O-0726-SM-5GIEV  GTEX-1122O-0726-SM-5GIEV  Normal Tissue   \n",
       "3  GTEX-1128S-0826-SM-5GZZI  GTEX-1128S-0826-SM-5GZZI  Normal Tissue   \n",
       "4  GTEX-117YX-0226-SM-5EGH6  GTEX-117YX-0226-SM-5EGH6  Normal Tissue   \n",
       "\n",
       "  _primary_site  \n",
       "0      Pancreas  \n",
       "1      Pancreas  \n",
       "2      Pancreas  \n",
       "3      Pancreas  \n",
       "4      Pancreas  "
      ]
     },
     "execution_count": 5,
     "metadata": {},
     "output_type": "execute_result"
    }
   ],
   "source": [
    "%%time\n",
    "# DL pancreas samples IDs for normal and primary tumors\n",
    "path = input_file_directory +'samples_IDs/Organ_specific_samples/'\n",
    "directory = path + \"samples_pancreas.tsv\"\n",
    "pancreas_samples_IDs= pandas.read_csv(directory, sep = \"\\t\")\n",
    "print(pancreas_samples_IDs.shape)\n",
    "pancreas_samples_IDs.head()"
   ]
  },
  {
   "cell_type": "code",
   "execution_count": 6,
   "metadata": {},
   "outputs": [
    {
     "name": "stdout",
     "output_type": "stream",
     "text": [
      "Primary Tumor    178\n",
      "Normal Tissue    167\n",
      "Name: _sample_type, dtype: int64\n",
      "normal → 167\n",
      "primary → 178\n"
     ]
    }
   ],
   "source": [
    "aaa = pancreas_samples_IDs['_sample_type'].value_counts()\n",
    "print(aaa)\n",
    "\n",
    "#select IDs of Normal and Primary\n",
    "pancreas_normal_tissue_IDs = pancreas_samples_IDs.loc[pancreas_samples_IDs['_sample_type'] == \"Normal Tissue\"]\n",
    "pancreas_primary_tumor_IDs = pancreas_samples_IDs.loc[pancreas_samples_IDs['_sample_type'] == \"Primary Tumor\"]\n",
    "print('normal →', len(pancreas_normal_tissue_IDs))\n",
    "print('primary →', len(pancreas_primary_tumor_IDs))"
   ]
  },
  {
   "cell_type": "code",
   "execution_count": 7,
   "metadata": {},
   "outputs": [],
   "source": [
    "#convert IDs to list\n",
    "pancreas_normal_tissue_IDs = pancreas_normal_tissue_IDs['sample'].to_list()\n",
    "pancreas_primary_tumor_IDs = pancreas_primary_tumor_IDs['sample'].to_list()"
   ]
  },
  {
   "cell_type": "markdown",
   "metadata": {},
   "source": [
    "## B) protcoding_expr file ENSEMBL"
   ]
  },
  {
   "cell_type": "code",
   "execution_count": 8,
   "metadata": {},
   "outputs": [
    {
     "name": "stdout",
     "output_type": "stream",
     "text": [
      "(7429, 19383)\n",
      "(9185, 19383)\n",
      "Wall time: 3min 33s\n"
     ]
    },
    {
     "data": {
      "text/html": [
       "<div>\n",
       "<style scoped>\n",
       "    .dataframe tbody tr th:only-of-type {\n",
       "        vertical-align: middle;\n",
       "    }\n",
       "\n",
       "    .dataframe tbody tr th {\n",
       "        vertical-align: top;\n",
       "    }\n",
       "\n",
       "    .dataframe thead th {\n",
       "        text-align: right;\n",
       "    }\n",
       "</style>\n",
       "<table border=\"1\" class=\"dataframe\">\n",
       "  <thead>\n",
       "    <tr style=\"text-align: right;\">\n",
       "      <th></th>\n",
       "      <th>sample</th>\n",
       "      <th>ENSG00000198888</th>\n",
       "      <th>ENSG00000198763</th>\n",
       "      <th>ENSG00000198804</th>\n",
       "      <th>ENSG00000198712</th>\n",
       "      <th>ENSG00000228253</th>\n",
       "      <th>ENSG00000198899</th>\n",
       "      <th>ENSG00000198938</th>\n",
       "      <th>ENSG00000198840</th>\n",
       "      <th>ENSG00000212907</th>\n",
       "      <th>...</th>\n",
       "      <th>ENSG00000160678</th>\n",
       "      <th>ENSG00000160679</th>\n",
       "      <th>ENSG00000143553</th>\n",
       "      <th>ENSG00000214193</th>\n",
       "      <th>ENSG00000196182</th>\n",
       "      <th>ENSG00000181817</th>\n",
       "      <th>ENSG00000116885</th>\n",
       "      <th>ENSG00000116898</th>\n",
       "      <th>ENSG00000119535</th>\n",
       "      <th>ENSG00000142694</th>\n",
       "    </tr>\n",
       "  </thead>\n",
       "  <tbody>\n",
       "    <tr>\n",
       "      <th>0</th>\n",
       "      <td>TCGA-02-0047-01</td>\n",
       "      <td>12.9202</td>\n",
       "      <td>13.1220</td>\n",
       "      <td>14.0136</td>\n",
       "      <td>13.5251</td>\n",
       "      <td>13.8439</td>\n",
       "      <td>13.7777</td>\n",
       "      <td>13.4037</td>\n",
       "      <td>12.8123</td>\n",
       "      <td>13.4187</td>\n",
       "      <td>...</td>\n",
       "      <td>6.4741</td>\n",
       "      <td>5.8017</td>\n",
       "      <td>6.4975</td>\n",
       "      <td>2.1509</td>\n",
       "      <td>5.2445</td>\n",
       "      <td>6.0507</td>\n",
       "      <td>3.8915</td>\n",
       "      <td>5.5389</td>\n",
       "      <td>4.2936</td>\n",
       "      <td>4.6685</td>\n",
       "    </tr>\n",
       "    <tr>\n",
       "      <th>1</th>\n",
       "      <td>TCGA-02-0055-01</td>\n",
       "      <td>10.3972</td>\n",
       "      <td>10.7774</td>\n",
       "      <td>12.3945</td>\n",
       "      <td>12.3893</td>\n",
       "      <td>11.7280</td>\n",
       "      <td>11.9408</td>\n",
       "      <td>12.2022</td>\n",
       "      <td>11.0142</td>\n",
       "      <td>11.0221</td>\n",
       "      <td>...</td>\n",
       "      <td>5.9969</td>\n",
       "      <td>5.6888</td>\n",
       "      <td>6.0633</td>\n",
       "      <td>1.9822</td>\n",
       "      <td>4.3299</td>\n",
       "      <td>6.4992</td>\n",
       "      <td>3.7582</td>\n",
       "      <td>6.7092</td>\n",
       "      <td>4.5964</td>\n",
       "      <td>5.5145</td>\n",
       "    </tr>\n",
       "  </tbody>\n",
       "</table>\n",
       "<p>2 rows × 19383 columns</p>\n",
       "</div>"
      ],
      "text/plain": [
       "            sample  ENSG00000198888  ENSG00000198763  ENSG00000198804  \\\n",
       "0  TCGA-02-0047-01          12.9202          13.1220          14.0136   \n",
       "1  TCGA-02-0055-01          10.3972          10.7774          12.3945   \n",
       "\n",
       "   ENSG00000198712  ENSG00000228253  ENSG00000198899  ENSG00000198938  \\\n",
       "0          13.5251          13.8439          13.7777          13.4037   \n",
       "1          12.3893          11.7280          11.9408          12.2022   \n",
       "\n",
       "   ENSG00000198840  ENSG00000212907  ...  ENSG00000160678  ENSG00000160679  \\\n",
       "0          12.8123          13.4187  ...           6.4741           5.8017   \n",
       "1          11.0142          11.0221  ...           5.9969           5.6888   \n",
       "\n",
       "   ENSG00000143553  ENSG00000214193  ENSG00000196182  ENSG00000181817  \\\n",
       "0           6.4975           2.1509           5.2445           6.0507   \n",
       "1           6.0633           1.9822           4.3299           6.4992   \n",
       "\n",
       "   ENSG00000116885  ENSG00000116898  ENSG00000119535  ENSG00000142694  \n",
       "0           3.8915           5.5389           4.2936           4.6685  \n",
       "1           3.7582           6.7092           4.5964           5.5145  \n",
       "\n",
       "[2 rows x 19383 columns]"
      ]
     },
     "execution_count": 8,
     "metadata": {},
     "output_type": "execute_result"
    }
   ],
   "source": [
    "%%time\n",
    "#Download all the ensembl_normal_protcoding_expr file\n",
    "\n",
    "path = output_file_directory + \"dataframes_for_input/\"\n",
    "ensembl_normal_protcoding_expr = pandas.read_csv(path+\"ensembl_normal_protcoding_expr.tsv\", sep = \"\\t\")\n",
    "print(ensembl_normal_protcoding_expr.shape)\n",
    "\n",
    "ensembl_primary_protcoding_expr = pandas.read_csv(path+\"ensembl_primary_protcoding_expr.tsv\", sep = \"\\t\")\n",
    "print(ensembl_primary_protcoding_expr.shape)\n",
    "ensembl_primary_protcoding_expr.head(2)"
   ]
  },
  {
   "cell_type": "code",
   "execution_count": 9,
   "metadata": {},
   "outputs": [
    {
     "name": "stdout",
     "output_type": "stream",
     "text": [
      "normal → (167, 19383)\n",
      "primary → (178, 19383)\n",
      "Wall time: 132 ms\n"
     ]
    },
    {
     "data": {
      "text/html": [
       "<div>\n",
       "<style scoped>\n",
       "    .dataframe tbody tr th:only-of-type {\n",
       "        vertical-align: middle;\n",
       "    }\n",
       "\n",
       "    .dataframe tbody tr th {\n",
       "        vertical-align: top;\n",
       "    }\n",
       "\n",
       "    .dataframe thead th {\n",
       "        text-align: right;\n",
       "    }\n",
       "</style>\n",
       "<table border=\"1\" class=\"dataframe\">\n",
       "  <thead>\n",
       "    <tr style=\"text-align: right;\">\n",
       "      <th></th>\n",
       "      <th>sample</th>\n",
       "      <th>ENSG00000198888</th>\n",
       "      <th>ENSG00000198763</th>\n",
       "      <th>ENSG00000198804</th>\n",
       "      <th>ENSG00000198712</th>\n",
       "      <th>ENSG00000228253</th>\n",
       "      <th>ENSG00000198899</th>\n",
       "      <th>ENSG00000198938</th>\n",
       "      <th>ENSG00000198840</th>\n",
       "      <th>ENSG00000212907</th>\n",
       "      <th>...</th>\n",
       "      <th>ENSG00000160678</th>\n",
       "      <th>ENSG00000160679</th>\n",
       "      <th>ENSG00000143553</th>\n",
       "      <th>ENSG00000214193</th>\n",
       "      <th>ENSG00000196182</th>\n",
       "      <th>ENSG00000181817</th>\n",
       "      <th>ENSG00000116885</th>\n",
       "      <th>ENSG00000116898</th>\n",
       "      <th>ENSG00000119535</th>\n",
       "      <th>ENSG00000142694</th>\n",
       "    </tr>\n",
       "  </thead>\n",
       "  <tbody>\n",
       "    <tr>\n",
       "      <th>0</th>\n",
       "      <td>GTEX-111CU-0526-SM-5EGHK</td>\n",
       "      <td>12.3812</td>\n",
       "      <td>12.9244</td>\n",
       "      <td>12.4357</td>\n",
       "      <td>13.0035</td>\n",
       "      <td>14.1000</td>\n",
       "      <td>13.3847</td>\n",
       "      <td>12.6538</td>\n",
       "      <td>12.7262</td>\n",
       "      <td>12.3425</td>\n",
       "      <td>...</td>\n",
       "      <td>2.3508</td>\n",
       "      <td>4.7138</td>\n",
       "      <td>2.8117</td>\n",
       "      <td>-1.0262</td>\n",
       "      <td>3.9393</td>\n",
       "      <td>3.3661</td>\n",
       "      <td>1.2992</td>\n",
       "      <td>4.5540</td>\n",
       "      <td>0.2154</td>\n",
       "      <td>1.6558</td>\n",
       "    </tr>\n",
       "    <tr>\n",
       "      <th>1</th>\n",
       "      <td>GTEX-111YS-1226-SM-5EGGJ</td>\n",
       "      <td>12.7144</td>\n",
       "      <td>13.2090</td>\n",
       "      <td>12.8179</td>\n",
       "      <td>13.1506</td>\n",
       "      <td>14.0744</td>\n",
       "      <td>13.4626</td>\n",
       "      <td>12.7196</td>\n",
       "      <td>13.0001</td>\n",
       "      <td>12.6243</td>\n",
       "      <td>...</td>\n",
       "      <td>0.5470</td>\n",
       "      <td>4.3413</td>\n",
       "      <td>2.5263</td>\n",
       "      <td>-1.2828</td>\n",
       "      <td>3.3717</td>\n",
       "      <td>3.1212</td>\n",
       "      <td>1.6093</td>\n",
       "      <td>4.3758</td>\n",
       "      <td>-1.4305</td>\n",
       "      <td>1.3901</td>\n",
       "    </tr>\n",
       "  </tbody>\n",
       "</table>\n",
       "<p>2 rows × 19383 columns</p>\n",
       "</div>"
      ],
      "text/plain": [
       "                     sample  ENSG00000198888  ENSG00000198763  \\\n",
       "0  GTEX-111CU-0526-SM-5EGHK          12.3812          12.9244   \n",
       "1  GTEX-111YS-1226-SM-5EGGJ          12.7144          13.2090   \n",
       "\n",
       "   ENSG00000198804  ENSG00000198712  ENSG00000228253  ENSG00000198899  \\\n",
       "0          12.4357          13.0035          14.1000          13.3847   \n",
       "1          12.8179          13.1506          14.0744          13.4626   \n",
       "\n",
       "   ENSG00000198938  ENSG00000198840  ENSG00000212907  ...  ENSG00000160678  \\\n",
       "0          12.6538          12.7262          12.3425  ...           2.3508   \n",
       "1          12.7196          13.0001          12.6243  ...           0.5470   \n",
       "\n",
       "   ENSG00000160679  ENSG00000143553  ENSG00000214193  ENSG00000196182  \\\n",
       "0           4.7138           2.8117          -1.0262           3.9393   \n",
       "1           4.3413           2.5263          -1.2828           3.3717   \n",
       "\n",
       "   ENSG00000181817  ENSG00000116885  ENSG00000116898  ENSG00000119535  \\\n",
       "0           3.3661           1.2992           4.5540           0.2154   \n",
       "1           3.1212           1.6093           4.3758          -1.4305   \n",
       "\n",
       "   ENSG00000142694  \n",
       "0           1.6558  \n",
       "1           1.3901  \n",
       "\n",
       "[2 rows x 19383 columns]"
      ]
     },
     "execution_count": 9,
     "metadata": {},
     "output_type": "execute_result"
    }
   ],
   "source": [
    "%%time\n",
    "#put sample label to index to use .loc\n",
    "dfs = ensembl_normal_protcoding_expr, ensembl_primary_protcoding_expr\n",
    "for df in dfs:\n",
    "    df.set_index(\"sample\", inplace = True)\n",
    "    \n",
    "#Do subset\n",
    "ensembl_normal_pancreas_protcoding_expr = ensembl_normal_protcoding_expr.loc[pancreas_normal_tissue_IDs]\n",
    "ensembl_primary_pancreas_protcoding_expr = ensembl_primary_protcoding_expr.loc[pancreas_primary_tumor_IDs]\n",
    "\n",
    "ensembl_normal_pancreas_protcoding_expr.reset_index(inplace=True)\n",
    "ensembl_primary_pancreas_protcoding_expr.reset_index(inplace=True)\n",
    "\n",
    "print('normal →', ensembl_normal_pancreas_protcoding_expr.shape)\n",
    "print('primary →', ensembl_primary_pancreas_protcoding_expr.shape)\n",
    "ensembl_normal_pancreas_protcoding_expr.head(2)"
   ]
  },
  {
   "cell_type": "code",
   "execution_count": 11,
   "metadata": {},
   "outputs": [],
   "source": [
    "#save to csv\n",
    "path = 'dataframes_for_input/pancreas/'\n",
    "ensembl_normal_pancreas_protcoding_expr.to_csv(output_file_directory+path+'ensembl_normal_pancreas_protcoding_expr.tsv', sep = \"\\t\", index=False)\n",
    "ensembl_primary_pancreas_protcoding_expr.to_csv(output_file_directory+path+'ensembl_primary_pancreas_protcoding_expr.tsv', sep = \"\\t\", index=False)"
   ]
  },
  {
   "cell_type": "markdown",
   "metadata": {},
   "source": [
    "## C) protcoding_expr file SYMBOL"
   ]
  },
  {
   "cell_type": "code",
   "execution_count": null,
   "metadata": {},
   "outputs": [],
   "source": [
    "# #Download all the symbol_normal_protcoding_expr file\n",
    "# %%time\n",
    "# symbol_normal_protcoding_expr = pandas.read_csv(\"symbol_normal_protcoding_expr.tsv\", sep = \"\\t\")\n",
    "# print(symbol_normal_protcoding_expr.shape)\n",
    "\n",
    "# symbol_primary_protcoding_expr = pandas.read_csv(\"symbol_primary_protcoding_expr.tsv\", sep = \"\\t\")\n",
    "# print(symbol_primary_protcoding_expr.shape)\n",
    "# symbol_primary_protcoding_expr.head(2)"
   ]
  },
  {
   "cell_type": "code",
   "execution_count": null,
   "metadata": {},
   "outputs": [],
   "source": [
    "# %%time\n",
    "# #Do subset\n",
    "# symbol_normal_pancreas_protcoding_expr = symbol_normal_protcoding_expr[pancreas_symbol_normal_tissue_IDs]\n",
    "# symbol_primary_pancreas_protcoding_expr = symbol_primary_protcoding_expr[pancreas_symbol_primary_tumor_IDs]\n",
    "\n",
    "# symbol_normal_pancreas_protcoding_expr.reset_index(inplace=True)\n",
    "# symbol_primary_pancreas_protcoding_expr.reset_index(inplace=True)\n",
    "\n",
    "# print('normal →', symbol_normal_pancreas_protcoding_expr.shape)\n",
    "# print('primary →', symbol_primary_pancreas_protcoding_expr.shape)\n",
    "# symbol_normal_pancreas_protcoding_expr.head(2)"
   ]
  },
  {
   "cell_type": "code",
   "execution_count": null,
   "metadata": {},
   "outputs": [],
   "source": [
    "# #save to csv\n",
    "# symbol_normal_pancreas_protcoding_expr.to_csv('symbol_normal_pancreas_protcoding_expr.tsv', sep = \"\\t\", index=False)\n",
    "# symbol_primary_pancreas_protcoding_expr.to_csv('symbol_primary_pancreas_protcoding_expr.tsv', sep = \"\\t\", index=False)"
   ]
  }
 ],
 "metadata": {
  "colab": {
   "collapsed_sections": [
    "scwtwuDCqUKz",
    "fbjL51C8RltI",
    "R8fLWHXOBYJl"
   ],
   "name": "all_organs.v004.ipynb",
   "provenance": []
  },
  "kernelspec": {
   "display_name": "Python 3",
   "language": "python",
   "name": "python3"
  },
  "language_info": {
   "codemirror_mode": {
    "name": "ipython",
    "version": 3
   },
   "file_extension": ".py",
   "mimetype": "text/x-python",
   "name": "python",
   "nbconvert_exporter": "python",
   "pygments_lexer": "ipython3",
   "version": "3.8.5"
  }
 },
 "nbformat": 4,
 "nbformat_minor": 1
}
