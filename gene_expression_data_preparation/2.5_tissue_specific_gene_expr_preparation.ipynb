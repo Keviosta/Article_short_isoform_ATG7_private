{
 "cells": [
  {
   "cell_type": "code",
   "execution_count": 40,
   "metadata": {
    "id": "TLQwwG5VDPFA"
   },
   "outputs": [],
   "source": [
    "import pandas, numpy, math, seaborn\n",
    "import scipy, scipy.stats\n",
    "import matplotlib, matplotlib.pyplot as plt\n",
    "# this is a trick to make figures look nicer\n",
    "matplotlib.rcParams.update({'font.size':20, 'font.family':'FreeSans', 'xtick.labelsize':20, 'ytick.labelsize':10, 'figure.figsize':(12, 8)})"
   ]
  },
  {
   "cell_type": "code",
   "execution_count": 41,
   "metadata": {},
   "outputs": [],
   "source": [
    "input_file_directory = '/Users/kja11/OneDrive - Háskóli Íslands/PhD ATG7//0 in_silico/Python/1)data_input/'\n",
    "output_file_directory = '/Users/kja11/OneDrive - Háskóli Íslands/PhD ATG7/0 in_silico/Python/3)output/'"
   ]
  },
  {
   "cell_type": "markdown",
   "metadata": {
    "id": "wYGSc-xPDaFV"
   },
   "source": [
    "## functions & options\n"
   ]
  },
  {
   "cell_type": "markdown",
   "metadata": {
    "id": "IpmCT5mEDPFD"
   },
   "source": [
    "# II] Dataframe settings"
   ]
  },
  {
   "cell_type": "markdown",
   "metadata": {},
   "source": [
    "## A) tissue_specific samples"
   ]
  },
  {
   "cell_type": "code",
   "execution_count": 45,
   "metadata": {
    "scrolled": true
   },
   "outputs": [
    {
     "name": "stdout",
     "output_type": "stream",
     "text": [
      "(479, 4)\n",
      "Wall time: 3.99 ms\n"
     ]
    },
    {
     "data": {
      "text/html": [
       "<div>\n",
       "<style scoped>\n",
       "    .dataframe tbody tr th:only-of-type {\n",
       "        vertical-align: middle;\n",
       "    }\n",
       "\n",
       "    .dataframe tbody tr th {\n",
       "        vertical-align: top;\n",
       "    }\n",
       "\n",
       "    .dataframe thead th {\n",
       "        text-align: right;\n",
       "    }\n",
       "</style>\n",
       "<table border=\"1\" class=\"dataframe\">\n",
       "  <thead>\n",
       "    <tr style=\"text-align: right;\">\n",
       "      <th></th>\n",
       "      <th>sample</th>\n",
       "      <th>samples</th>\n",
       "      <th>_sample_type</th>\n",
       "      <th>_primary_site</th>\n",
       "    </tr>\n",
       "  </thead>\n",
       "  <tbody>\n",
       "    <tr>\n",
       "      <th>0</th>\n",
       "      <td>GTEX-1192X-1026-SM-5H12P</td>\n",
       "      <td>GTEX-1192X-1026-SM-5H12P</td>\n",
       "      <td>Normal Tissue</td>\n",
       "      <td>Liver</td>\n",
       "    </tr>\n",
       "    <tr>\n",
       "      <th>1</th>\n",
       "      <td>GTEX-11DXY-0526-SM-5EGGQ</td>\n",
       "      <td>GTEX-11DXY-0526-SM-5EGGQ</td>\n",
       "      <td>Normal Tissue</td>\n",
       "      <td>Liver</td>\n",
       "    </tr>\n",
       "    <tr>\n",
       "      <th>2</th>\n",
       "      <td>GTEX-11DXZ-0126-SM-5EGGY</td>\n",
       "      <td>GTEX-11DXZ-0126-SM-5EGGY</td>\n",
       "      <td>Normal Tissue</td>\n",
       "      <td>Liver</td>\n",
       "    </tr>\n",
       "    <tr>\n",
       "      <th>3</th>\n",
       "      <td>GTEX-11EQ9-0526-SM-5A5JZ</td>\n",
       "      <td>GTEX-11EQ9-0526-SM-5A5JZ</td>\n",
       "      <td>Normal Tissue</td>\n",
       "      <td>Liver</td>\n",
       "    </tr>\n",
       "    <tr>\n",
       "      <th>4</th>\n",
       "      <td>GTEX-11NUK-1226-SM-5P9GM</td>\n",
       "      <td>GTEX-11NUK-1226-SM-5P9GM</td>\n",
       "      <td>Normal Tissue</td>\n",
       "      <td>Liver</td>\n",
       "    </tr>\n",
       "  </tbody>\n",
       "</table>\n",
       "</div>"
      ],
      "text/plain": [
       "                     sample                   samples   _sample_type  \\\n",
       "0  GTEX-1192X-1026-SM-5H12P  GTEX-1192X-1026-SM-5H12P  Normal Tissue   \n",
       "1  GTEX-11DXY-0526-SM-5EGGQ  GTEX-11DXY-0526-SM-5EGGQ  Normal Tissue   \n",
       "2  GTEX-11DXZ-0126-SM-5EGGY  GTEX-11DXZ-0126-SM-5EGGY  Normal Tissue   \n",
       "3  GTEX-11EQ9-0526-SM-5A5JZ  GTEX-11EQ9-0526-SM-5A5JZ  Normal Tissue   \n",
       "4  GTEX-11NUK-1226-SM-5P9GM  GTEX-11NUK-1226-SM-5P9GM  Normal Tissue   \n",
       "\n",
       "  _primary_site  \n",
       "0         Liver  \n",
       "1         Liver  \n",
       "2         Liver  \n",
       "3         Liver  \n",
       "4         Liver  "
      ]
     },
     "execution_count": 45,
     "metadata": {},
     "output_type": "execute_result"
    }
   ],
   "source": [
    "%%time\n",
    "# DL liver samples IDs for normal and primary tumors\n",
    "path = input_file_directory +'samples_IDs/Organ_specific_samples/'\n",
    "directory = path + \"samples_liver.tsv\"\n",
    "liver_samples_IDs= pandas.read_csv(directory, sep = \"\\t\")\n",
    "print(liver_samples_IDs.shape)\n",
    "liver_samples_IDs.head()"
   ]
  },
  {
   "cell_type": "code",
   "execution_count": 13,
   "metadata": {},
   "outputs": [
    {
     "name": "stdout",
     "output_type": "stream",
     "text": [
      "Primary Tumor    369\n",
      "Normal Tissue    110\n",
      "Name: _sample_type, dtype: int64\n",
      "normal → 110\n",
      "primary → 369\n"
     ]
    }
   ],
   "source": [
    "aaa = liver_samples_IDs['_sample_type'].value_counts()\n",
    "print(aaa)\n",
    "\n",
    "#select IDs of Normal and Primary\n",
    "liver_normal_tissue_IDs = liver_samples_IDs.loc[liver_samples_IDs['_sample_type'] == \"Normal Tissue\"]\n",
    "liver_primary_tumor_IDs = liver_samples_IDs.loc[liver_samples_IDs['_sample_type'] == \"Primary Tumor\"]\n",
    "print('normal →', len(liver_normal_tissue_IDs))\n",
    "print('primary →', len(liver_primary_tumor_IDs))"
   ]
  },
  {
   "cell_type": "code",
   "execution_count": 14,
   "metadata": {},
   "outputs": [],
   "source": [
    "#convert IDs to list\n",
    "liver_normal_tissue_IDs = liver_normal_tissue_IDs['sample'].to_list()\n",
    "liver_primary_tumor_IDs = liver_primary_tumor_IDs['sample'].to_list()"
   ]
  },
  {
   "cell_type": "markdown",
   "metadata": {},
   "source": [
    "## B) protcoding_expr file ENSEMBL"
   ]
  },
  {
   "cell_type": "code",
   "execution_count": 25,
   "metadata": {},
   "outputs": [
    {
     "name": "stdout",
     "output_type": "stream",
     "text": [
      "(7429, 19383)\n",
      "(9185, 19383)\n",
      "Wall time: 3min 41s\n"
     ]
    },
    {
     "data": {
      "text/html": [
       "<div>\n",
       "<style scoped>\n",
       "    .dataframe tbody tr th:only-of-type {\n",
       "        vertical-align: middle;\n",
       "    }\n",
       "\n",
       "    .dataframe tbody tr th {\n",
       "        vertical-align: top;\n",
       "    }\n",
       "\n",
       "    .dataframe thead th {\n",
       "        text-align: right;\n",
       "    }\n",
       "</style>\n",
       "<table border=\"1\" class=\"dataframe\">\n",
       "  <thead>\n",
       "    <tr style=\"text-align: right;\">\n",
       "      <th></th>\n",
       "      <th>sample</th>\n",
       "      <th>ENSG00000198888</th>\n",
       "      <th>ENSG00000198763</th>\n",
       "      <th>ENSG00000198804</th>\n",
       "      <th>ENSG00000198712</th>\n",
       "      <th>ENSG00000228253</th>\n",
       "      <th>ENSG00000198899</th>\n",
       "      <th>ENSG00000198938</th>\n",
       "      <th>ENSG00000198840</th>\n",
       "      <th>ENSG00000212907</th>\n",
       "      <th>...</th>\n",
       "      <th>ENSG00000160678</th>\n",
       "      <th>ENSG00000160679</th>\n",
       "      <th>ENSG00000143553</th>\n",
       "      <th>ENSG00000214193</th>\n",
       "      <th>ENSG00000196182</th>\n",
       "      <th>ENSG00000181817</th>\n",
       "      <th>ENSG00000116885</th>\n",
       "      <th>ENSG00000116898</th>\n",
       "      <th>ENSG00000119535</th>\n",
       "      <th>ENSG00000142694</th>\n",
       "    </tr>\n",
       "  </thead>\n",
       "  <tbody>\n",
       "    <tr>\n",
       "      <th>0</th>\n",
       "      <td>TCGA-02-0047-01</td>\n",
       "      <td>12.9202</td>\n",
       "      <td>13.1220</td>\n",
       "      <td>14.0136</td>\n",
       "      <td>13.5251</td>\n",
       "      <td>13.8439</td>\n",
       "      <td>13.7777</td>\n",
       "      <td>13.4037</td>\n",
       "      <td>12.8123</td>\n",
       "      <td>13.4187</td>\n",
       "      <td>...</td>\n",
       "      <td>6.4741</td>\n",
       "      <td>5.8017</td>\n",
       "      <td>6.4975</td>\n",
       "      <td>2.1509</td>\n",
       "      <td>5.2445</td>\n",
       "      <td>6.0507</td>\n",
       "      <td>3.8915</td>\n",
       "      <td>5.5389</td>\n",
       "      <td>4.2936</td>\n",
       "      <td>4.6685</td>\n",
       "    </tr>\n",
       "    <tr>\n",
       "      <th>1</th>\n",
       "      <td>TCGA-02-0055-01</td>\n",
       "      <td>10.3972</td>\n",
       "      <td>10.7774</td>\n",
       "      <td>12.3945</td>\n",
       "      <td>12.3893</td>\n",
       "      <td>11.7280</td>\n",
       "      <td>11.9408</td>\n",
       "      <td>12.2022</td>\n",
       "      <td>11.0142</td>\n",
       "      <td>11.0221</td>\n",
       "      <td>...</td>\n",
       "      <td>5.9969</td>\n",
       "      <td>5.6888</td>\n",
       "      <td>6.0633</td>\n",
       "      <td>1.9822</td>\n",
       "      <td>4.3299</td>\n",
       "      <td>6.4992</td>\n",
       "      <td>3.7582</td>\n",
       "      <td>6.7092</td>\n",
       "      <td>4.5964</td>\n",
       "      <td>5.5145</td>\n",
       "    </tr>\n",
       "  </tbody>\n",
       "</table>\n",
       "<p>2 rows × 19383 columns</p>\n",
       "</div>"
      ],
      "text/plain": [
       "            sample  ENSG00000198888  ENSG00000198763  ENSG00000198804  \\\n",
       "0  TCGA-02-0047-01          12.9202          13.1220          14.0136   \n",
       "1  TCGA-02-0055-01          10.3972          10.7774          12.3945   \n",
       "\n",
       "   ENSG00000198712  ENSG00000228253  ENSG00000198899  ENSG00000198938  \\\n",
       "0          13.5251          13.8439          13.7777          13.4037   \n",
       "1          12.3893          11.7280          11.9408          12.2022   \n",
       "\n",
       "   ENSG00000198840  ENSG00000212907  ...  ENSG00000160678  ENSG00000160679  \\\n",
       "0          12.8123          13.4187  ...           6.4741           5.8017   \n",
       "1          11.0142          11.0221  ...           5.9969           5.6888   \n",
       "\n",
       "   ENSG00000143553  ENSG00000214193  ENSG00000196182  ENSG00000181817  \\\n",
       "0           6.4975           2.1509           5.2445           6.0507   \n",
       "1           6.0633           1.9822           4.3299           6.4992   \n",
       "\n",
       "   ENSG00000116885  ENSG00000116898  ENSG00000119535  ENSG00000142694  \n",
       "0           3.8915           5.5389           4.2936           4.6685  \n",
       "1           3.7582           6.7092           4.5964           5.5145  \n",
       "\n",
       "[2 rows x 19383 columns]"
      ]
     },
     "execution_count": 25,
     "metadata": {},
     "output_type": "execute_result"
    }
   ],
   "source": [
    "%%time\n",
    "#Download all the ensembl_normal_protcoding_expr file\n",
    "\n",
    "path = output_file_directory + \"dataframes_for_input/\"\n",
    "ensembl_normal_protcoding_expr = pandas.read_csv(path+\"ensembl_normal_protcoding_expr.tsv\", sep = \"\\t\")\n",
    "print(ensembl_normal_protcoding_expr.shape)\n",
    "\n",
    "ensembl_primary_protcoding_expr = pandas.read_csv(path+\"ensembl_primary_protcoding_expr.tsv\", sep = \"\\t\")\n",
    "print(ensembl_primary_protcoding_expr.shape)\n",
    "ensembl_primary_protcoding_expr.head(2)"
   ]
  },
  {
   "cell_type": "code",
   "execution_count": 26,
   "metadata": {},
   "outputs": [],
   "source": []
  },
  {
   "cell_type": "code",
   "execution_count": 35,
   "metadata": {},
   "outputs": [
    {
     "name": "stdout",
     "output_type": "stream",
     "text": [
      "normal → (110, 19383)\n",
      "primary → (369, 19383)\n",
      "Wall time: 146 ms\n"
     ]
    },
    {
     "data": {
      "text/html": [
       "<div>\n",
       "<style scoped>\n",
       "    .dataframe tbody tr th:only-of-type {\n",
       "        vertical-align: middle;\n",
       "    }\n",
       "\n",
       "    .dataframe tbody tr th {\n",
       "        vertical-align: top;\n",
       "    }\n",
       "\n",
       "    .dataframe thead th {\n",
       "        text-align: right;\n",
       "    }\n",
       "</style>\n",
       "<table border=\"1\" class=\"dataframe\">\n",
       "  <thead>\n",
       "    <tr style=\"text-align: right;\">\n",
       "      <th></th>\n",
       "      <th>sample</th>\n",
       "      <th>ENSG00000198888</th>\n",
       "      <th>ENSG00000198763</th>\n",
       "      <th>ENSG00000198804</th>\n",
       "      <th>ENSG00000198712</th>\n",
       "      <th>ENSG00000228253</th>\n",
       "      <th>ENSG00000198899</th>\n",
       "      <th>ENSG00000198938</th>\n",
       "      <th>ENSG00000198840</th>\n",
       "      <th>ENSG00000212907</th>\n",
       "      <th>...</th>\n",
       "      <th>ENSG00000160678</th>\n",
       "      <th>ENSG00000160679</th>\n",
       "      <th>ENSG00000143553</th>\n",
       "      <th>ENSG00000214193</th>\n",
       "      <th>ENSG00000196182</th>\n",
       "      <th>ENSG00000181817</th>\n",
       "      <th>ENSG00000116885</th>\n",
       "      <th>ENSG00000116898</th>\n",
       "      <th>ENSG00000119535</th>\n",
       "      <th>ENSG00000142694</th>\n",
       "    </tr>\n",
       "  </thead>\n",
       "  <tbody>\n",
       "    <tr>\n",
       "      <th>0</th>\n",
       "      <td>GTEX-1192X-1026-SM-5H12P</td>\n",
       "      <td>8.9743</td>\n",
       "      <td>11.2312</td>\n",
       "      <td>10.6905</td>\n",
       "      <td>12.2497</td>\n",
       "      <td>12.0025</td>\n",
       "      <td>11.8226</td>\n",
       "      <td>11.4992</td>\n",
       "      <td>10.9613</td>\n",
       "      <td>10.4287</td>\n",
       "      <td>...</td>\n",
       "      <td>1.7229</td>\n",
       "      <td>5.9892</td>\n",
       "      <td>5.4738</td>\n",
       "      <td>3.055</td>\n",
       "      <td>4.8929</td>\n",
       "      <td>4.9031</td>\n",
       "      <td>3.2766</td>\n",
       "      <td>6.3815</td>\n",
       "      <td>3.3278</td>\n",
       "      <td>6.2589</td>\n",
       "    </tr>\n",
       "    <tr>\n",
       "      <th>1</th>\n",
       "      <td>GTEX-11DXY-0526-SM-5EGGQ</td>\n",
       "      <td>14.0574</td>\n",
       "      <td>14.9857</td>\n",
       "      <td>15.4510</td>\n",
       "      <td>15.6933</td>\n",
       "      <td>15.7066</td>\n",
       "      <td>15.3651</td>\n",
       "      <td>15.2979</td>\n",
       "      <td>14.9319</td>\n",
       "      <td>15.1432</td>\n",
       "      <td>...</td>\n",
       "      <td>1.6740</td>\n",
       "      <td>4.2033</td>\n",
       "      <td>3.7302</td>\n",
       "      <td>-1.685</td>\n",
       "      <td>3.6939</td>\n",
       "      <td>3.9892</td>\n",
       "      <td>-0.5332</td>\n",
       "      <td>5.4047</td>\n",
       "      <td>1.1117</td>\n",
       "      <td>1.2934</td>\n",
       "    </tr>\n",
       "  </tbody>\n",
       "</table>\n",
       "<p>2 rows × 19383 columns</p>\n",
       "</div>"
      ],
      "text/plain": [
       "                     sample  ENSG00000198888  ENSG00000198763  \\\n",
       "0  GTEX-1192X-1026-SM-5H12P           8.9743          11.2312   \n",
       "1  GTEX-11DXY-0526-SM-5EGGQ          14.0574          14.9857   \n",
       "\n",
       "   ENSG00000198804  ENSG00000198712  ENSG00000228253  ENSG00000198899  \\\n",
       "0          10.6905          12.2497          12.0025          11.8226   \n",
       "1          15.4510          15.6933          15.7066          15.3651   \n",
       "\n",
       "   ENSG00000198938  ENSG00000198840  ENSG00000212907  ...  ENSG00000160678  \\\n",
       "0          11.4992          10.9613          10.4287  ...           1.7229   \n",
       "1          15.2979          14.9319          15.1432  ...           1.6740   \n",
       "\n",
       "   ENSG00000160679  ENSG00000143553  ENSG00000214193  ENSG00000196182  \\\n",
       "0           5.9892           5.4738            3.055           4.8929   \n",
       "1           4.2033           3.7302           -1.685           3.6939   \n",
       "\n",
       "   ENSG00000181817  ENSG00000116885  ENSG00000116898  ENSG00000119535  \\\n",
       "0           4.9031           3.2766           6.3815           3.3278   \n",
       "1           3.9892          -0.5332           5.4047           1.1117   \n",
       "\n",
       "   ENSG00000142694  \n",
       "0           6.2589  \n",
       "1           1.2934  \n",
       "\n",
       "[2 rows x 19383 columns]"
      ]
     },
     "execution_count": 35,
     "metadata": {},
     "output_type": "execute_result"
    }
   ],
   "source": [
    "%%time\n",
    "#put sample label to index to use .loc\n",
    "dfs = ensembl_normal_protcoding_expr, ensembl_primary_protcoding_expr\n",
    "for df in dfs:\n",
    "    df.set_index(\"sample\", inplace = True)\n",
    "    \n",
    "#Do subset\n",
    "ensembl_normal_liver_protcoding_expr = ensembl_normal_protcoding_expr.loc[liver_normal_tissue_IDs]\n",
    "ensembl_primary_liver_protcoding_expr = ensembl_primary_protcoding_expr.loc[liver_primary_tumor_IDs]\n",
    "\n",
    "ensembl_normal_liver_protcoding_expr.reset_index(inplace=True)\n",
    "ensembl_primary_liver_protcoding_expr.reset_index(inplace=True)\n",
    "\n",
    "print('normal →', ensembl_normal_liver_protcoding_expr.shape)\n",
    "print('primary →', ensembl_primary_liver_protcoding_expr.shape)\n",
    "ensembl_normal_liver_protcoding_expr.head(2)"
   ]
  },
  {
   "cell_type": "code",
   "execution_count": 39,
   "metadata": {},
   "outputs": [],
   "source": [
    "#save to csv\n",
    "path = 'dataframes_for_input/liver/'\n",
    "ensembl_normal_liver_protcoding_expr.to_csv(output_file_directory+path+'ensembl_normal_liver_protcoding_expr.tsv', sep = \"\\t\", index=False)\n",
    "ensembl_primary_liver_protcoding_expr.to_csv(output_file_directory+path+'ensembl_primary_liver_protcoding_expr.tsv', sep = \"\\t\", index=False)"
   ]
  },
  {
   "cell_type": "markdown",
   "metadata": {},
   "source": [
    "## C) protcoding_expr file SYMBOL"
   ]
  },
  {
   "cell_type": "code",
   "execution_count": null,
   "metadata": {},
   "outputs": [],
   "source": [
    "# #Download all the symbol_normal_protcoding_expr file\n",
    "# %%time\n",
    "# symbol_normal_protcoding_expr = pandas.read_csv(\"symbol_normal_protcoding_expr.tsv\", sep = \"\\t\")\n",
    "# print(symbol_normal_protcoding_expr.shape)\n",
    "\n",
    "# symbol_primary_protcoding_expr = pandas.read_csv(\"symbol_primary_protcoding_expr.tsv\", sep = \"\\t\")\n",
    "# print(symbol_primary_protcoding_expr.shape)\n",
    "# symbol_primary_protcoding_expr.head(2)"
   ]
  },
  {
   "cell_type": "code",
   "execution_count": null,
   "metadata": {},
   "outputs": [],
   "source": [
    "# %%time\n",
    "# #Do subset\n",
    "# symbol_normal_liver_protcoding_expr = symbol_normal_protcoding_expr[liver_symbol_normal_tissue_IDs]\n",
    "# symbol_primary_liver_protcoding_expr = symbol_primary_protcoding_expr[liver_symbol_primary_tumor_IDs]\n",
    "\n",
    "# symbol_normal_liver_protcoding_expr.reset_index(inplace=True)\n",
    "# symbol_primary_liver_protcoding_expr.reset_index(inplace=True)\n",
    "\n",
    "# print('normal →', symbol_normal_liver_protcoding_expr.shape)\n",
    "# print('primary →', symbol_primary_liver_protcoding_expr.shape)\n",
    "# symbol_normal_liver_protcoding_expr.head(2)"
   ]
  },
  {
   "cell_type": "code",
   "execution_count": null,
   "metadata": {},
   "outputs": [],
   "source": [
    "# #save to csv\n",
    "# symbol_normal_liver_protcoding_expr.to_csv('symbol_normal_liver_protcoding_expr.tsv', sep = \"\\t\", index=False)\n",
    "# symbol_primary_liver_protcoding_expr.to_csv('symbol_primary_liver_protcoding_expr.tsv', sep = \"\\t\", index=False)"
   ]
  }
 ],
 "metadata": {
  "colab": {
   "collapsed_sections": [
    "scwtwuDCqUKz",
    "fbjL51C8RltI",
    "R8fLWHXOBYJl"
   ],
   "name": "all_organs.v004.ipynb",
   "provenance": []
  },
  "kernelspec": {
   "display_name": "Python 3",
   "language": "python",
   "name": "python3"
  },
  "language_info": {
   "codemirror_mode": {
    "name": "ipython",
    "version": 3
   },
   "file_extension": ".py",
   "mimetype": "text/x-python",
   "name": "python",
   "nbconvert_exporter": "python",
   "pygments_lexer": "ipython3",
   "version": "3.8.5"
  }
 },
 "nbformat": 4,
 "nbformat_minor": 1
}
