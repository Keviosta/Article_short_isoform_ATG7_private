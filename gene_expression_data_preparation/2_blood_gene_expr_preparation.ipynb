{
 "cells": [
  {
   "cell_type": "code",
   "execution_count": null,
   "metadata": {
    "id": "TLQwwG5VDPFA"
   },
   "outputs": [],
   "source": [
    "import pandas, numpy, math, seaborn\n",
    "import scipy, scipy.stats\n",
    "import matplotlib, matplotlib.pyplot as plt\n",
    "# this is a trick to make figures look nicer\n",
    "matplotlib.rcParams.update({'font.size':20, 'font.family':'FreeSans', 'xtick.labelsize':20, 'ytick.labelsize':10, 'figure.figsize':(12, 8)})"
   ]
  },
  {
   "cell_type": "code",
   "execution_count": null,
   "metadata": {},
   "outputs": [],
   "source": [
    "input_file_directory = '/Users/kja11/OneDrive - Háskóli Íslands/PhD ATG7//0 in_silico/Python/1)data_input/'\n",
    "output_file_directory = '/Users/kja11/OneDrive - Háskóli Íslands/PhD ATG7/0 in_silico/Python/3)output/'"
   ]
  },
  {
   "cell_type": "markdown",
   "metadata": {
    "id": "wYGSc-xPDaFV"
   },
   "source": [
    "## functions & options\n"
   ]
  },
  {
   "cell_type": "code",
   "execution_count": null,
   "metadata": {
    "id": "K8VbSwcZyDon"
   },
   "outputs": [],
   "source": [
    "#define a function to split after the \".\". The 1 is for how many word to have. if we have several dot. The [1] is what is after the dot, and [0] what is before\n",
    "def split(L):\n",
    "  return L.split(\".\",1)[0]"
   ]
  },
  {
   "cell_type": "markdown",
   "metadata": {
    "id": "IpmCT5mEDPFD"
   },
   "source": [
    "# II] Dataframe settings"
   ]
  },
  {
   "cell_type": "code",
   "execution_count": null,
   "metadata": {
    "scrolled": true
   },
   "outputs": [],
   "source": [
    "%%time\n",
    "path = input_file_directory + \"protein_coding_list.txt\"\n",
    "protein_coding_list= pandas.read_csv(path, sep = \"\\t\")\n",
    "print(protein_coding_list.shape)\n",
    "protein_coding_list.head()"
   ]
  },
  {
   "cell_type": "markdown",
   "metadata": {},
   "source": [
    "## A) tissue_specific samples"
   ]
  },
  {
   "cell_type": "code",
   "execution_count": null,
   "metadata": {
    "scrolled": true
   },
   "outputs": [],
   "source": [
    "%%time\n",
    "# DL data gene expression for Normal Tissue and Primary Tumors\n",
    "path = input_file_directory +'/samples_IDs/Organ_specific_samples/'\n",
    "\n",
    "directory = path+ \"samples_blood.tsv\"\n",
    "blood_samples_IDs= pandas.read_csv(directory, sep = \"\\t\")\n",
    "print(blood_samples_IDs.shape)\n",
    "blood_samples_IDs.head()"
   ]
  },
  {
   "cell_type": "code",
   "execution_count": null,
   "metadata": {},
   "outputs": [],
   "source": [
    "blood_normal_tissue_IDs = blood_samples_IDs[(blood_samples_IDs['_primary_site'] == 'Blood Vessel') | \n",
    "                      (blood_samples_IDs['_primary_site'] == 'Blood') & (blood_samples_IDs['_sample_type'] != 'Cell Line')]\n",
    "blood_primary_tumor_IDs = blood_samples_IDs[blood_samples_IDs['_sample_type'].str.match('(Primary Blood Derived Cancer - Bone Marrow)|(Primary Blood Derived Cancer - Peripheral Blood)')]\n",
    "\n",
    "print('normal →', len(blood_normal_tissue_IDs))\n",
    "print('primary →', len(blood_primary_tumor_IDs))"
   ]
  },
  {
   "cell_type": "code",
   "execution_count": null,
   "metadata": {},
   "outputs": [],
   "source": [
    "print(\"__Normal blood:\\n\",blood_normal_tissue_IDs['_primary_site'].value_counts())\n",
    "print()\n",
    "print(\"__Primary tumor blood:\\n\",blood_primary_tumor_IDs['_sample_type'].value_counts())"
   ]
  },
  {
   "cell_type": "code",
   "execution_count": null,
   "metadata": {},
   "outputs": [],
   "source": [
    "#convert IDs to list\n",
    "normal_samples_labels  = blood_normal_tissue_IDs['sample'].to_list()\n",
    "primary_samples_labels  = blood_primary_tumor_IDs['sample'].to_list()"
   ]
  },
  {
   "cell_type": "code",
   "execution_count": null,
   "metadata": {},
   "outputs": [],
   "source": [
    "%%time\n",
    "#Download the big expression data\n",
    "path = input_file_directory + \"/xenabrowser_brut_data/TcgaTargetGtex_rsem_gene_tpm.tsv\"\n",
    "df_gexpr_all = pandas.read_csv(path, sep = \"\\t\", index_col='sample')\n",
    "\n",
    "print(df_gexpr_all.shape)\n",
    "df_gexpr_all.head(2)"
   ]
  },
  {
   "cell_type": "code",
   "execution_count": null,
   "metadata": {},
   "outputs": [],
   "source": [
    "%%time\n",
    "#remove dot in ENSEMBL name. Function split created at the beginning\n",
    "#remove dot in ens name\n",
    "df_gexpr_all = df_gexpr_all.reset_index()\n",
    "df_gexpr_all[\"sample\"] = df_gexpr_all[\"sample\"].apply(split)\n",
    "#see if have duplicate\n",
    "print('number of duplicated genes:', df_gexpr_all.duplicated('ensembl_gene_id').sum())\n",
    "\n",
    "#Merge with prot coding list\n",
    "df_gexpr_all.rename(columns = {'sample' : 'ensembl_gene_id'}, inplace = True)\n",
    "dfmerged = protein_coding_list.merge(df_gexpr_all)\n",
    "print('number of duplicated genes after merge with codlist:', dfmerged.duplicated('ensembl_gene_id').sum())\n",
    "print(dfmerged.shape)\n",
    "dfmerged.head(2)"
   ]
  },
  {
   "cell_type": "markdown",
   "metadata": {},
   "source": [
    "# WHY DO I HAVE DUPLICATE AFTER MERGE ?"
   ]
  },
  {
   "cell_type": "code",
   "execution_count": null,
   "metadata": {},
   "outputs": [],
   "source": [
    "#Control of the merge. See value of ENSG00000198712 before merging\n",
    "print(df_gexpr_all.loc[df_gexpr_all['ensembl_gene_id'] == 'ENSG00000198712']['GTEX-QV31-1626-SM-2S1QC'])\n",
    "\n",
    "#Control of the merge. See value of ENSG00000198712 after merging. have to be the same\n",
    "print(dfmerged.loc[dfmerged['ensembl_gene_id'] == 'ENSG00000198712']['GTEX-QV31-1626-SM-2S1QC'])"
   ]
  },
  {
   "cell_type": "code",
   "execution_count": null,
   "metadata": {},
   "outputs": [],
   "source": [
    "%%time\n",
    "#Isolate Normal and Primary tissues\n",
    "##keep the gene_ids\n",
    "df_part1 = dfmerged.iloc[:,0:4]\n",
    "\n",
    "##subset\n",
    "normal_protcoding = dfmerged.iloc[:,4:][normal_samples_labels]\n",
    "primary_protcoding = dfmerged.iloc[:,4:][primary_samples_labels]\n",
    "\n",
    "normal_protcoding = pandas.concat([df_part1, normal_protcoding], axis=1)\n",
    "primary_protcoding = pandas.concat([df_part1, primary_protcoding], axis=1)\n",
    "\n",
    "print(normal_protcoding.shape)\n",
    "print(primary_protcoding.shape)\n",
    "normal_protcoding.head(2)"
   ]
  },
  {
   "cell_type": "code",
   "execution_count": null,
   "metadata": {},
   "outputs": [],
   "source": [
    "#test if everything is still good after concat and subset\n",
    "print(dfmerged['GTEX-ZV68-0006-SM-4YCEJ'][12])\n",
    "print(normal_protcoding['GTEX-ZV68-0006-SM-4YCEJ'][12])"
   ]
  },
  {
   "cell_type": "code",
   "execution_count": null,
   "metadata": {},
   "outputs": [],
   "source": [
    "print(\"Normal tissue\")\n",
    "print(\"is nan in ensembl:\", normal_protcoding['ensembl_gene_id'].isna().sum())\n",
    "print(' number of duplicate:',normal_protcoding.duplicated('ensembl_gene_id').sum())\n",
    "print(\"is nan in symbol:\",normal_protcoding['hgnc_symbol'].isna().sum())\n",
    "print(' number of duplicate:',normal_protcoding.duplicated('hgnc_symbol').sum())\n",
    "print()\n",
    "print(\"Primary Tumor\")\n",
    "print(\"is nan in ensembl:\", primary_protcoding['ensembl_gene_id'].isna().sum())\n",
    "print(' number of duplicate:',primary_protcoding.duplicated('ensembl_gene_id').sum())\n",
    "print(\"is nan in symbol:\",primary_protcoding['hgnc_symbol'].isna().sum())\n",
    "print(' number of duplicate:',primary_protcoding.duplicated('hgnc_symbol').sum())"
   ]
  },
  {
   "cell_type": "markdown",
   "metadata": {},
   "source": [
    "## B) protcoding_expr file ENSEMBL"
   ]
  },
  {
   "cell_type": "code",
   "execution_count": null,
   "metadata": {},
   "outputs": [],
   "source": [
    "#see how many duplicates in genes\n",
    "print('normal shape:', normal_protcoding.shape)\n",
    "print('number of duplicate:',normal_protcoding.duplicated('ensembl_gene_id').sum())\n",
    "print()\n",
    "print('primary shape is:', primary_protcoding.shape)\n",
    "print('number of duplicate:',primary_protcoding.duplicated('ensembl_gene_id').sum())\n",
    "print()\n",
    "\n",
    "#delete duplicates\n",
    "normal_protcoding.drop_duplicates(subset = \"ensembl_gene_id\", inplace = True)\n",
    "primary_protcoding.drop_duplicates(subset = \"ensembl_gene_id\", inplace = True)"
   ]
  },
  {
   "cell_type": "code",
   "execution_count": null,
   "metadata": {},
   "outputs": [],
   "source": [
    "%%time\n",
    "#Preparation of the global dataframe\n",
    "protcoding_final = []\n",
    "data = [normal_protcoding, primary_protcoding]\n",
    "\n",
    "for df in data:\n",
    "    #transpose the table \n",
    "    df = numpy.transpose(df)\n",
    "\n",
    "    #Change head column & delete the name of the column index; choose ENSEMBL\n",
    "    df.columns = df.iloc[0]\n",
    "    df.columns.name = None\n",
    "    df = df.reset_index()\n",
    "\n",
    "    #Delete the first rows & rename the columns to merge \n",
    "    df = df.drop(df.index[0:4])\n",
    "    df.rename(columns = {'index' : 'sample'}, inplace = True)\n",
    "\n",
    "    protcoding_final.append(df)\n",
    "    \n",
    "ensembl_normal_protcoding_expr = protcoding_final[0]\n",
    "ensembl_primary_protcoding_expr = protcoding_final[1]\n",
    "\n",
    "print('normal shape =', ensembl_normal_protcoding_expr.shape)\n",
    "print('primary shape =', ensembl_primary_protcoding_expr.shape)\n",
    "ensembl_primary_protcoding_expr.head()"
   ]
  },
  {
   "cell_type": "code",
   "execution_count": null,
   "metadata": {},
   "outputs": [],
   "source": [
    "#save to csv\n",
    "path = 'dataframes_for_input/blood/'\n",
    "ensembl_normal_protcoding_expr.to_csv(output_file_directory+path+'ensembl_normal_blood_protcoding_expr.tsv',sep = \"\\t\", index=False)\n",
    "ensembl_primary_protcoding_expr.to_csv(output_file_directory+path+'ensembl_primary_blood_protcoding_expr.tsv',sep = \"\\t\", index=False)"
   ]
  },
  {
   "cell_type": "markdown",
   "metadata": {},
   "source": [
    "# C) protcoding_expr file SYMBOL"
   ]
  },
  {
   "cell_type": "code",
   "execution_count": null,
   "metadata": {},
   "outputs": [],
   "source": [
    "%%time\n",
    "#Preparation of the global dataframe\n",
    "protcoding_final = []\n",
    "data = [normal_protcoding, primary_protcoding]\n",
    "\n",
    "for df in data:\n",
    "    df = df.dropna(subset=['hgnc_symbol'])\n",
    "    #transpose the table \n",
    "    df = numpy.transpose(df)\n",
    "\n",
    "    #Change head column & delete the name of the column index; choose ENSEMBL\n",
    "    df.columns = df.iloc[1]\n",
    "    df.columns.name = None\n",
    "    df = df.reset_index()\n",
    "\n",
    "    #Delete the first rows & columns rename to merge \n",
    "    df = df.drop(df.index[0:4])\n",
    "    df.rename(columns = {'index' : 'sample'}, inplace = True)\n",
    "\n",
    "    protcoding_final.append(df)\n",
    "    \n",
    "symbol_normal_protcoding = protcoding_final[0]\n",
    "symbol_primary_protcoding = protcoding_final[1]\n",
    "\n",
    "print('normal shape =', symbol_normal_protcoding.shape)\n",
    "print('primary shape =', symbol_primary_protcoding.shape)\n",
    "symbol_normal_protcoding.head()"
   ]
  },
  {
   "cell_type": "code",
   "execution_count": null,
   "metadata": {},
   "outputs": [],
   "source": [
    "#save to csv\n",
    "path = 'dataframes_for_input/blood/'\n",
    "symbol_normal_protcoding.to_csv(output_file_directory+path+'symbol_normal_blood_protcoding_expr.tsv',sep = \"\\t\", index=False)\n",
    "symbol_primary_protcoding.to_csv(output_file_directory+path+'symbol_primary_blood_protcoding_expr.tsv',sep = \"\\t\", index=False)"
   ]
  }
 ],
 "metadata": {
  "colab": {
   "collapsed_sections": [
    "scwtwuDCqUKz",
    "fbjL51C8RltI",
    "R8fLWHXOBYJl"
   ],
   "name": "all_organs.v004.ipynb",
   "provenance": []
  },
  "kernelspec": {
   "display_name": "Python 3",
   "language": "python",
   "name": "python3"
  },
  "language_info": {
   "codemirror_mode": {
    "name": "ipython",
    "version": 3
   },
   "file_extension": ".py",
   "mimetype": "text/x-python",
   "name": "python",
   "nbconvert_exporter": "python",
   "pygments_lexer": "ipython3",
   "version": "3.8.5"
  }
 },
 "nbformat": 4,
 "nbformat_minor": 1
}
