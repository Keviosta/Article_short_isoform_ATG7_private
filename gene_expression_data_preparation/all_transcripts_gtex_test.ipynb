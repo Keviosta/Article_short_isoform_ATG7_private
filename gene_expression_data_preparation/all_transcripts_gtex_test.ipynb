{
 "cells": [
  {
   "cell_type": "code",
   "execution_count": null,
   "metadata": {},
   "outputs": [],
   "source": [
    "import pandas, numpy, scipy, seaborn, sklearn\n",
    "import matplotlib.pyplot as plt\n",
    "import scipy.stats as stats\n",
    "from sklearn.cluster import KMeans\n",
    "from sklearn import metrics"
   ]
  },
  {
   "cell_type": "markdown",
   "metadata": {},
   "source": [
    "## functions & options\n"
   ]
  },
  {
   "cell_type": "code",
   "execution_count": null,
   "metadata": {},
   "outputs": [],
   "source": [
    "input_file_directory = '/Users/kja11/OneDrive - Háskóli Íslands/PhD ATG7//0 in_silico/Python/1)data_input/'\n",
    "output_file_directory = '/Users/kja11/OneDrive - Háskóli Íslands/PhD ATG7/0 in_silico/Python/3)output/'"
   ]
  },
  {
   "cell_type": "markdown",
   "metadata": {},
   "source": [
    "# I] Dataframe settings"
   ]
  },
  {
   "cell_type": "code",
   "execution_count": null,
   "metadata": {},
   "outputs": [],
   "source": [
    "%%time\n",
    "#Download 10% of the big expression data with all the transcripts\n",
    "path = input_file_directory + \"/xenabrowser_brut_data/all_transcripts/gtex_Kallisto_tpm_10perc.tsv\"\n",
    "df = pandas.read_csv(path, sep = \"\\t\")\n",
    "\n",
    "print(df.shape)\n",
    "df.set_index('sample', inplace = True)\n",
    "df.index.name = None\n",
    "df.head()"
   ]
  },
  {
   "cell_type": "code",
   "execution_count": null,
   "metadata": {},
   "outputs": [],
   "source": [
    "#Calcul to have value from log2;\n",
    "print('log2(tpm+0.001) ', df.min().min())\n",
    "df = 2**df\n",
    "print('tpm ', df.min().min())\n",
    "df = numpy.log2(df+1)\n",
    "print('log2(tpm+1) ', df.min().min())\n",
    "df.head()"
   ]
  },
  {
   "cell_type": "code",
   "execution_count": null,
   "metadata": {},
   "outputs": [],
   "source": [
    "#zscore\n",
    "df = df.apply(stats.zscore)\n",
    "df.head()"
   ]
  },
  {
   "cell_type": "code",
   "execution_count": null,
   "metadata": {},
   "outputs": [],
   "source": [
    "#see what is the total sum expression of the two isoforms\n",
    "genes = \"ENST00000354449.7\", \"ENST00000354956.9\"\n",
    "g_names = \"ATG7_1\", \"ATG7_2\"\n",
    "for i in range(len(genes)):\n",
    "    print(f'{g_names[i]}: {df.loc[genes[i], :].sum()}')"
   ]
  },
  {
   "cell_type": "code",
   "execution_count": null,
   "metadata": {},
   "outputs": [],
   "source": [
    "ATG7_2_sum = 115.21\n",
    "\n",
    "print('shape before filtering', df.shape)\n",
    "#create boolean and select the genes where sum is higher than ATG7(2) sum expression\n",
    "bool_higher_iso2 = df.sum(axis=1) > ATG7_2_sum \n",
    "df = df[bool_higher_iso2]\n",
    "\n",
    "print('shape after filtering', df.shape)"
   ]
  },
  {
   "cell_type": "code",
   "execution_count": null,
   "metadata": {},
   "outputs": [],
   "source": [
    "#look shit\n",
    "seaborn.heatmap(df) "
   ]
  },
  {
   "cell_type": "code",
   "execution_count": null,
   "metadata": {},
   "outputs": [],
   "source": [
    "%%time\n",
    "#evaluate the goodness score for each cluster to select the best possibility.\n",
    "cluster_numbers = list(range(2, 100))\n",
    "\n",
    "number_clust_L = [] \n",
    "goodness_chs_L = []\n",
    "goodness_dbs_L = []\n",
    "goodness_ss_L = []\n",
    "\n",
    "for nb in cluster_numbers:\n",
    "    kmeans_model = KMeans(n_clusters = nb, random_state=1).fit(df)\n",
    "    labels = kmeans_model.labels_\n",
    "    goodness_chs = metrics.calinski_harabasz_score(df, labels)\n",
    "    goodness_dbs = metrics.davies_bouldin_score(df, labels)\n",
    "    goodness_ss = sklearn.metrics.silhouette_score(df, labels, metric='cosine')\n",
    "    \n",
    "    #save score in list\n",
    "    number_clust_L.append(nb)\n",
    "    goodness_chs_L.append(goodness_chs)\n",
    "    goodness_dbs_L.append(goodness_dbs)\n",
    "    goodness_ss_L.append(goodness_ss)\n",
    "\n",
    "#convert to dict then to DF\n",
    "d = dict(Number = number_clust_L, Goodness_CHS = goodness_chs_L, \n",
    "         Goodness_DBS = goodness_dbs_L, Goodness_SS = goodness_ss_L)\n",
    "\n",
    "df_goodness = pandas.DataFrame.from_dict(d, orient='columns')\n",
    "\n",
    "df_goodness.head()"
   ]
  },
  {
   "cell_type": "code",
   "execution_count": null,
   "metadata": {},
   "outputs": [],
   "source": [
    "#plot the Goodness on the number to determine the best one.\n",
    "##calinski_harabasz_score\n",
    "seaborn.lineplot(data = df_goodness, x = 'Number', y = 'Goodness_CHS', marker=\"o\")\n",
    "plt.grid(ls=':', alpha = 0.5)\n",
    "plt.title('calinski_harabasz')\n",
    "print('the elbow curve is at between 8 and 11')\n"
   ]
  },
  {
   "cell_type": "code",
   "execution_count": null,
   "metadata": {},
   "outputs": [],
   "source": [
    "#davies_bouldin_score\n",
    "seaborn.lineplot(data = df_goodness, x = 'Number', y = 'Goodness_DBS', marker=\"o\")\n",
    "plt.grid(ls=':', alpha = 0.5)\n",
    "plt.title('davies_bouldin')\n",
    "print('the plateau start at 9')"
   ]
  },
  {
   "cell_type": "code",
   "execution_count": null,
   "metadata": {},
   "outputs": [],
   "source": [
    "#silhouette_score\n",
    "seaborn.lineplot(data = df_goodness, x = 'Number', y = 'Goodness_SS', marker=\"o\")\n",
    "plt.grid(ls=':', alpha = 0.5)\n",
    "plt.title('silhouette')\n",
    "print('the plateau start at 6')"
   ]
  },
  {
   "cell_type": "code",
   "execution_count": null,
   "metadata": {},
   "outputs": [],
   "source": [
    "# 10 is the best number of cluster\n",
    "kmeans_model = KMeans(n_clusters = 9, random_state=1, verbose=True).fit(df)\n",
    "labels = kmeans_model.labels_\n",
    "# Find what cluster for each gene\n",
    "pred_cluster = kmeans_model.predict(df)\n",
    "print(pred_cluster)\n",
    "#add the prediction in a column\n",
    "df['cluster'] = pred_cluster\n",
    "df.head()"
   ]
  },
  {
   "cell_type": "code",
   "execution_count": null,
   "metadata": {},
   "outputs": [],
   "source": [
    "#to select the good color map scale\n",
    "print('max is', df.max().max())\n",
    "print('min is', df.min().min())"
   ]
  },
  {
   "cell_type": "code",
   "execution_count": null,
   "metadata": {},
   "outputs": [],
   "source": [
    "#ATG7 is not in the list\n",
    "ATG7_1 = 'ENST00000354449.7'\n",
    "ATG7_2 = 'ENST00000354956.9'\n",
    "\n",
    "print(df['cluster'][[ATG7_1, ATG7_2]])"
   ]
  },
  {
   "cell_type": "code",
   "execution_count": null,
   "metadata": {},
   "outputs": [],
   "source": [
    "'The two genes are not in the same cluster. They are different'"
   ]
  },
  {
   "cell_type": "code",
   "execution_count": null,
   "metadata": {},
   "outputs": [],
   "source": [
    "seaborn.hls_palette(9)"
   ]
  },
  {
   "cell_type": "code",
   "execution_count": null,
   "metadata": {},
   "outputs": [],
   "source": [
    "#sort the df with the cluster numbers.\n",
    "df = df.sort_values('cluster')\n",
    "#pop the cluster column\n",
    "cluster_uniq = df.pop(\"cluster\")"
   ]
  },
  {
   "cell_type": "code",
   "execution_count": null,
   "metadata": {
    "scrolled": true
   },
   "outputs": [],
   "source": [
    "#use one color per cluster group\n",
    "lut = dict(zip(cluster_uniq.unique(), seaborn.hls_palette(9)))\n",
    "row_colors_clust = cluster_uniq.map(lut)\n",
    "#plot\n",
    "seaborn.clustermap(df, cmap='bwr', col_cluster=False, row_cluster=False,\n",
    "                   row_colors= row_colors_clust, \n",
    "                   method = \"centroid\", metric = 'cosine',\n",
    "                   yticklabels= '', xticklabels = '',\n",
    "                   cbar_kws={'label':'expression [log2(tpm+1)]'})"
   ]
  }
 ],
 "metadata": {
  "kernelspec": {
   "display_name": "Python 3",
   "language": "python",
   "name": "python3"
  },
  "language_info": {
   "codemirror_mode": {
    "name": "ipython",
    "version": 3
   },
   "file_extension": ".py",
   "mimetype": "text/x-python",
   "name": "python",
   "nbconvert_exporter": "python",
   "pygments_lexer": "ipython3",
   "version": "3.8.5"
  }
 },
 "nbformat": 4,
 "nbformat_minor": 4
}
