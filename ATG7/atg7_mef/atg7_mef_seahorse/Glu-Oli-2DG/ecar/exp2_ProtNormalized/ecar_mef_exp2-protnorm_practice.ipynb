{
 "cells": [
  {
   "cell_type": "markdown",
   "metadata": {
    "id": "wYGSc-xPDaFV"
   },
   "source": [
    "# I] Import and options\n"
   ]
  },
  {
   "cell_type": "code",
   "execution_count": 1,
   "metadata": {},
   "outputs": [],
   "source": [
    "import pandas, numpy, seaborn\n",
    "# import scipy, scipy.stats\n",
    "import matplotlib, matplotlib.pyplot as plt\n",
    "# this is a trick to make figures look nicer\n",
    "matplotlib.rcParams.update({'font.size':20, 'font.family':'FreeSans', 'xtick.labelsize':20, 'ytick.labelsize':10, 'figure.figsize':(12, 8)})"
   ]
  },
  {
   "cell_type": "code",
   "execution_count": 2,
   "metadata": {},
   "outputs": [],
   "source": [
    "input_file_directory = '/Users/kja11/OneDrive - Háskóli Íslands/PhD ATG7//0 in_silico/Python/1)data_input/'"
   ]
  },
  {
   "cell_type": "code",
   "execution_count": 3,
   "metadata": {},
   "outputs": [],
   "source": [
    "output_file_directory = '/Users/kja11/OneDrive - Háskóli Íslands/PhD ATG7/0 in_silico/Python/3)output/'"
   ]
  },
  {
   "cell_type": "markdown",
   "metadata": {},
   "source": [
    "# II] DL data"
   ]
  },
  {
   "cell_type": "code",
   "execution_count": 23,
   "metadata": {},
   "outputs": [
    {
     "name": "stdout",
     "output_type": "stream",
     "text": [
      "Wall time: 18.9 ms\n"
     ]
    },
    {
     "data": {
      "text/html": [
       "<div>\n",
       "<style scoped>\n",
       "    .dataframe tbody tr th:only-of-type {\n",
       "        vertical-align: middle;\n",
       "    }\n",
       "\n",
       "    .dataframe tbody tr th {\n",
       "        vertical-align: top;\n",
       "    }\n",
       "\n",
       "    .dataframe thead th {\n",
       "        text-align: right;\n",
       "    }\n",
       "</style>\n",
       "<table border=\"1\" class=\"dataframe\">\n",
       "  <thead>\n",
       "    <tr style=\"text-align: right;\">\n",
       "      <th></th>\n",
       "      <th>MEF-/-</th>\n",
       "      <th>ATG7(1)</th>\n",
       "      <th>ATG7(2)</th>\n",
       "    </tr>\n",
       "  </thead>\n",
       "  <tbody>\n",
       "    <tr>\n",
       "      <th>0</th>\n",
       "      <td>1.0</td>\n",
       "      <td>1.189939</td>\n",
       "      <td>0.711381</td>\n",
       "    </tr>\n",
       "    <tr>\n",
       "      <th>1</th>\n",
       "      <td>1.0</td>\n",
       "      <td>1.237981</td>\n",
       "      <td>0.698163</td>\n",
       "    </tr>\n",
       "    <tr>\n",
       "      <th>2</th>\n",
       "      <td>1.0</td>\n",
       "      <td>1.309724</td>\n",
       "      <td>0.703404</td>\n",
       "    </tr>\n",
       "    <tr>\n",
       "      <th>0</th>\n",
       "      <td>1.0</td>\n",
       "      <td>0.997847</td>\n",
       "      <td>0.576276</td>\n",
       "    </tr>\n",
       "    <tr>\n",
       "      <th>1</th>\n",
       "      <td>1.0</td>\n",
       "      <td>1.055864</td>\n",
       "      <td>0.597071</td>\n",
       "    </tr>\n",
       "    <tr>\n",
       "      <th>2</th>\n",
       "      <td>1.0</td>\n",
       "      <td>1.054395</td>\n",
       "      <td>0.592903</td>\n",
       "    </tr>\n",
       "    <tr>\n",
       "      <th>0</th>\n",
       "      <td>1.0</td>\n",
       "      <td>0.933618</td>\n",
       "      <td>0.651319</td>\n",
       "    </tr>\n",
       "    <tr>\n",
       "      <th>1</th>\n",
       "      <td>1.0</td>\n",
       "      <td>0.941970</td>\n",
       "      <td>0.684557</td>\n",
       "    </tr>\n",
       "    <tr>\n",
       "      <th>2</th>\n",
       "      <td>1.0</td>\n",
       "      <td>0.900535</td>\n",
       "      <td>0.674361</td>\n",
       "    </tr>\n",
       "  </tbody>\n",
       "</table>\n",
       "</div>"
      ],
      "text/plain": [
       "   MEF-/-   ATG7(1)   ATG7(2)\n",
       "0     1.0  1.189939  0.711381\n",
       "1     1.0  1.237981  0.698163\n",
       "2     1.0  1.309724  0.703404\n",
       "0     1.0  0.997847  0.576276\n",
       "1     1.0  1.055864  0.597071\n",
       "2     1.0  1.054395  0.592903\n",
       "0     1.0  0.933618  0.651319\n",
       "1     1.0  0.941970  0.684557\n",
       "2     1.0  0.900535  0.674361"
      ]
     },
     "execution_count": 23,
     "metadata": {},
     "output_type": "execute_result"
    }
   ],
   "source": [
    "%%time\n",
    "data = \"ecar_exp1_df_\", \"ecar_exp2_df_\", \"ecar_exp3_df_\"\n",
    "\n",
    "ecar_baf_exps = []\n",
    "for file in data:\n",
    "    path = output_file_directory + \"ATG7/Seahorse_results/seahorse_ECAR/\"+file+\"baf.csv\"\n",
    "    df = pandas.read_csv(path, sep = \",\")\n",
    "    \n",
    "    df = df.assign(EVnorm= df['Empty Vector +dox']/ df['Empty Vector +dox'],\n",
    "                   ATG7_1norm= df['ATG7(1)']/ df['Empty Vector +dox'],\n",
    "                   ATG7_2norm= df['ATG7(2)']/ df['Empty Vector +dox'])\n",
    "    df = df[['EVnorm','ATG7_1norm','ATG7_2norm']]\n",
    "    df = df.rename(columns = {'EVnorm' : 'MEF-/-','ATG7_1norm' : 'ATG7(1)','ATG7_2norm' : 'ATG7(2)'})\n",
    "    ecar_baf_exps.append(df)\n",
    "\n",
    "BAF_exp = pandas.concat([ecar_baf_exps[0], ecar_baf_exps[1], ecar_baf_exps[2]], axis=0)\n",
    "BAF_exp"
   ]
  },
  {
   "cell_type": "code",
   "execution_count": 24,
   "metadata": {
    "scrolled": false
   },
   "outputs": [
    {
     "data": {
      "image/png": "[encoded data removed]",
      "text/plain": [
       "<Figure size 864x576 with 1 Axes>"
      ]
     },
     "metadata": {
      "needs_background": "light"
     },
     "output_type": "display_data"
    }
   ],
   "source": [
    "seaborn.boxplot(palette = 'Set2', data = BAF_exp, \n",
    "                medianprops={'lw':2}, whiskerprops={'lw':2}, showcaps=True, showfliers=False)\n",
    "\n",
    "plt.ylabel('ECAR (pmol/min/cells)')\n",
    "plt.xlabel('')\n",
    "plt.title('ECAR on MEF with bafilomycin (n=3)', x=.55)\n",
    "plt.grid(alpha = 0.5)\n",
    "\n",
    "# save\n",
    "path = 'ATG7/Seahorse_results/seahorse_ECAR/'\n",
    "plt.savefig(output_file_directory+path+'graph_all_ecar_bafilomycin.svg')\n"
   ]
  }
 ],
 "metadata": {
  "kernelspec": {
   "display_name": "Python 3",
   "language": "python",
   "name": "python3"
  },
  "language_info": {
   "codemirror_mode": {
    "name": "ipython",
    "version": 3
   },
   "file_extension": ".py",
   "mimetype": "text/x-python",
   "name": "python",
   "nbconvert_exporter": "python",
   "pygments_lexer": "ipython3",
   "version": "3.8.5"
  }
 },
 "nbformat": 4,
 "nbformat_minor": 4
}
