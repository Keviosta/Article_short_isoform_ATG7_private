{
 "cells": [
  {
   "cell_type": "markdown",
   "metadata": {
    "id": "wYGSc-xPDaFV"
   },
   "source": [
    "# I] Import and options\n"
   ]
  },
  {
   "cell_type": "code",
   "execution_count": 100,
   "metadata": {},
   "outputs": [],
   "source": [
    "import pandas, numpy, seaborn, scipy, scipy.stats\n",
    "import matplotlib, matplotlib.pyplot as plt\n",
    "# have text as text and not curve in .svg\n",
    "matplotlib.rcParams['svg.fonttype'] = 'none'\n",
    "# this is a trick to make figures look nicer\n",
    "matplotlib.rcParams.update({'font.size':20, 'font.family':'FreeSans', 'xtick.labelsize':20, 'ytick.labelsize':10, 'figure.figsize':(12, 8)})"
   ]
  },
  {
   "cell_type": "code",
   "execution_count": 2,
   "metadata": {},
   "outputs": [],
   "source": [
    "input_file_directory = '/Users/kja11/OneDrive - Háskóli Íslands/PhD ATG7//0 in_silico/Python/1)data_input/'"
   ]
  },
  {
   "cell_type": "code",
   "execution_count": 3,
   "metadata": {},
   "outputs": [],
   "source": [
    "output_file_directory = '/Users/kja11/OneDrive - Háskóli Íslands/PhD ATG7/0 in_silico/Python/3)output/'"
   ]
  },
  {
   "cell_type": "markdown",
   "metadata": {},
   "source": [
    "# II] DL data"
   ]
  },
  {
   "cell_type": "markdown",
   "metadata": {},
   "source": [
    "## A) Extracellular Acidification Rate "
   ]
  },
  {
   "cell_type": "code",
   "execution_count": 97,
   "metadata": {},
   "outputs": [],
   "source": [
    "data = \"number_mito_exp1\", \"number_mito_exp2\", \"number_mito_exp3\"\n",
    "conditions = 'DMSO+FCCP', 'BAF+FCCP'\n",
    "\n",
    "mito_dmso_baf = []\n",
    "mito_dmso = []\n",
    "mito_baf = []\n",
    "for file in data: \n",
    "    #download data\n",
    "    path = output_file_directory + 'ATG7/Mitotracker/'+file+\".csv\"\n",
    "    df_brut = pandas.read_csv(path, sep = \",\")\n",
    "    \n",
    "    for condition in conditions:\n",
    "        #split dmso/baf\n",
    "        df = df_brut.loc[df_brut['condition'] == condition]\n",
    "        df = df.assign(mean_EVd= df['ATG7-/- +dox'].mean())\n",
    "        df = df.assign(EVnorm= df['mean_EVd']/ df['mean_EVd'],\n",
    "                                 ATG7_1norm= df['ATG7(1)']/ df['mean_EVd'],\n",
    "                                 ATG7_2norm= df['ATG7(2)']/ df['mean_EVd'])\n",
    "        df = df.rename(columns = {'ATG7_1norm' : 'ATG7(1)',\n",
    "                                  'ATG7_2norm' : 'ATG7(2)'})\n",
    "        df = (df.iloc[:,9:]\n",
    "              .dropna(axis=0))\n",
    "        mito_dmso_baf.append(df)\n",
    "\n",
    "mito_dmso = pandas.concat([mito_dmso_baf[0], mito_dmso_baf[2], mito_dmso_baf[4]], axis=0)\n",
    "mito_baf = pandas.concat([mito_dmso_baf[1], mito_dmso_baf[3], mito_dmso_baf[5]], axis=0)"
   ]
  },
  {
   "cell_type": "code",
   "execution_count": 98,
   "metadata": {},
   "outputs": [
    {
     "data": {
      "text/html": [
       "<div>\n",
       "<style scoped>\n",
       "    .dataframe tbody tr th:only-of-type {\n",
       "        vertical-align: middle;\n",
       "    }\n",
       "\n",
       "    .dataframe tbody tr th {\n",
       "        vertical-align: top;\n",
       "    }\n",
       "\n",
       "    .dataframe thead th {\n",
       "        text-align: right;\n",
       "    }\n",
       "</style>\n",
       "<table border=\"1\" class=\"dataframe\">\n",
       "  <thead>\n",
       "    <tr style=\"text-align: right;\">\n",
       "      <th></th>\n",
       "      <th>EVnorm</th>\n",
       "      <th>ATG7(1)</th>\n",
       "      <th>ATG7(2)</th>\n",
       "    </tr>\n",
       "  </thead>\n",
       "  <tbody>\n",
       "    <tr>\n",
       "      <th>0</th>\n",
       "      <td>1.0</td>\n",
       "      <td>1.089776</td>\n",
       "      <td>1.089740</td>\n",
       "    </tr>\n",
       "    <tr>\n",
       "      <th>1</th>\n",
       "      <td>1.0</td>\n",
       "      <td>0.882325</td>\n",
       "      <td>0.983207</td>\n",
       "    </tr>\n",
       "    <tr>\n",
       "      <th>2</th>\n",
       "      <td>1.0</td>\n",
       "      <td>0.998413</td>\n",
       "      <td>1.021507</td>\n",
       "    </tr>\n",
       "    <tr>\n",
       "      <th>3</th>\n",
       "      <td>1.0</td>\n",
       "      <td>1.045509</td>\n",
       "      <td>1.064229</td>\n",
       "    </tr>\n",
       "    <tr>\n",
       "      <th>0</th>\n",
       "      <td>1.0</td>\n",
       "      <td>1.047431</td>\n",
       "      <td>1.075008</td>\n",
       "    </tr>\n",
       "    <tr>\n",
       "      <th>1</th>\n",
       "      <td>1.0</td>\n",
       "      <td>0.890579</td>\n",
       "      <td>0.938398</td>\n",
       "    </tr>\n",
       "    <tr>\n",
       "      <th>2</th>\n",
       "      <td>1.0</td>\n",
       "      <td>1.036593</td>\n",
       "      <td>1.016651</td>\n",
       "    </tr>\n",
       "    <tr>\n",
       "      <th>3</th>\n",
       "      <td>1.0</td>\n",
       "      <td>1.031766</td>\n",
       "      <td>1.048268</td>\n",
       "    </tr>\n",
       "    <tr>\n",
       "      <th>0</th>\n",
       "      <td>1.0</td>\n",
       "      <td>1.099255</td>\n",
       "      <td>1.108737</td>\n",
       "    </tr>\n",
       "    <tr>\n",
       "      <th>1</th>\n",
       "      <td>1.0</td>\n",
       "      <td>1.021362</td>\n",
       "      <td>1.002996</td>\n",
       "    </tr>\n",
       "    <tr>\n",
       "      <th>2</th>\n",
       "      <td>1.0</td>\n",
       "      <td>1.033605</td>\n",
       "      <td>0.979547</td>\n",
       "    </tr>\n",
       "    <tr>\n",
       "      <th>3</th>\n",
       "      <td>1.0</td>\n",
       "      <td>1.025814</td>\n",
       "      <td>0.983180</td>\n",
       "    </tr>\n",
       "  </tbody>\n",
       "</table>\n",
       "</div>"
      ],
      "text/plain": [
       "   EVnorm   ATG7(1)   ATG7(2)\n",
       "0     1.0  1.089776  1.089740\n",
       "1     1.0  0.882325  0.983207\n",
       "2     1.0  0.998413  1.021507\n",
       "3     1.0  1.045509  1.064229\n",
       "0     1.0  1.047431  1.075008\n",
       "1     1.0  0.890579  0.938398\n",
       "2     1.0  1.036593  1.016651\n",
       "3     1.0  1.031766  1.048268\n",
       "0     1.0  1.099255  1.108737\n",
       "1     1.0  1.021362  1.002996\n",
       "2     1.0  1.033605  0.979547\n",
       "3     1.0  1.025814  0.983180"
      ]
     },
     "execution_count": 98,
     "metadata": {},
     "output_type": "execute_result"
    }
   ],
   "source": [
    "mito_dmso"
   ]
  },
  {
   "cell_type": "code",
   "execution_count": 107,
   "metadata": {},
   "outputs": [
    {
     "name": "stdout",
     "output_type": "stream",
     "text": [
      "the pvalue between ATG7(1) and ATG7(2) with DMSO is 4.655E-01\n"
     ]
    },
    {
     "data": {
      "image/png": "[encoded data removed]",
      "text/plain": [
       "<Figure size 864x576 with 1 Axes>"
      ]
     },
     "metadata": {
      "needs_background": "light"
     },
     "output_type": "display_data"
    },
    {
     "name": "stdout",
     "output_type": "stream",
     "text": [
      "the pvalue between ATG7(1) and ATG7(2) with BAF is 3.975E-01\n"
     ]
    },
    {
     "data": {
      "image/png": "[encoded data removed]",
      "text/plain": [
       "<Figure size 864x576 with 1 Axes>"
      ]
     },
     "metadata": {
      "needs_background": "light"
     },
     "output_type": "display_data"
    },
    {
     "data": {
      "text/plain": [
       "<Figure size 864x576 with 0 Axes>"
      ]
     },
     "metadata": {},
     "output_type": "display_data"
    }
   ],
   "source": [
    "all_data = [[mito_dmso, 'DMSO'], [mito_baf, 'BAF']]\n",
    "\n",
    "for data in all_data:\n",
    "    df = data[0]\n",
    "    condition = data[1]\n",
    "    \n",
    "    # Mann-Whitney analysis \n",
    "    statistic, pvalue = scipy.stats.mannwhitneyu(df['ATG7(1)'], df['ATG7(2)'])\n",
    "    Pvalue = \"{:.3E}\".format(pvalue)\n",
    "    print(\"the pvalue between ATG7(1) and ATG7(2) with\", condition,\"is\", Pvalue)\n",
    "\n",
    "    #Graph, Bloxplot\n",
    "    seaborn.boxplot(palette = 'Set2', data = df.iloc[:,1:], \n",
    "                    medianprops={'lw':2}, whiskerprops={'lw':2}, showcaps=True, showfliers=False)\n",
    "\n",
    "    plt.axhline(y=1, ls='--', lw=2, color='tab:blue', zorder=1)\n",
    "    plt.ylabel('Fluorescence intensity (emission 516 nm)')\n",
    "    plt.ylim(0.9,1.2)\n",
    "    plt.xlabel('')\n",
    "    text_title = 'Quantity of mitochondria with '+ condition+ ' (n=3)'\n",
    "    plt.title(text_title, x=.55)\n",
    "    plt.grid(alpha = 0.5)\n",
    "\n",
    "    # save\n",
    "    path = 'ATG7/Mitotracker/'\n",
    "    text_file = 'graph_all_mitotracker_'+condition\n",
    "    plt.savefig(output_file_directory+path+text_file+'.svg')\n",
    "    plt.show()\n",
    "    plt.clf()\n"
   ]
  }
 ],
 "metadata": {
  "kernelspec": {
   "display_name": "Python 3",
   "language": "python",
   "name": "python3"
  },
  "language_info": {
   "codemirror_mode": {
    "name": "ipython",
    "version": 3
   },
   "file_extension": ".py",
   "mimetype": "text/x-python",
   "name": "python",
   "nbconvert_exporter": "python",
   "pygments_lexer": "ipython3",
   "version": "3.8.5"
  }
 },
 "nbformat": 4,
 "nbformat_minor": 4
}
