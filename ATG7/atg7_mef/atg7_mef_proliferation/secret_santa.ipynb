{
 "cells": [
  {
   "cell_type": "code",
   "execution_count": 172,
   "metadata": {},
   "outputs": [],
   "source": [
    "import random, numpy, pandas"
   ]
  },
  {
   "cell_type": "code",
   "execution_count": 177,
   "metadata": {},
   "outputs": [
    {
     "name": "stdout",
     "output_type": "stream",
     "text": [
      "0 Romane - Ju - Mathilde\n",
      "1 Chloé - Mathilde - Cécile\n",
      "2 Hélène - Cécile D - Hélène\n",
      "3 Cécile G - Cécile - Romane\n",
      "4 Ju - Lucie - Ju\n",
      "5 Mathilde - Romane - Chloé\n",
      "6 Cécile D - Hélène - Lucie\n",
      "7 Lucie - Chloé - Cécile D\n"
     ]
    }
   ],
   "source": [
    "vous = []\n",
    "kdo_à = []\n",
    "qui_offre_à = []\n",
    "\n",
    "emeteurs = ['Romane', 'Chloé', 'Hélène', 'Cécile G','Ju', 'Mathilde', 'Cécile D', 'Lucie']\n",
    "\n",
    "for i in range(len(emeteurs)):\n",
    "    #Toi \n",
    "    bob = emeteurs[i]\n",
    "    vous.append(bob)\n",
    "    \n",
    "    #tu pioches (peux pas piocher quelqu'un qui a deja été pioché ou toi meme)\n",
    "    receveurs = ['Romane', 'Chloé', 'Hélène', 'Cécile','Ju', 'Mathilde', 'Cécile D', 'Lucie']\n",
    "    receveurs = list(set(receveurs) - set(kdo_à))\n",
    "    if bob in receveurs:\n",
    "        receveurs.remove(bob)\n",
    "    \n",
    "    personne_aléatoire = random.choice(receveurs)\n",
    "    kdo_à.append(personne_aléatoire)\n",
    "\n",
    "    #qui pioche\n",
    "    receveurs_bis = ['Romane', 'Chloé', 'Hélène', 'Cécile','Ju', 'Mathilde', 'Cécile D', 'Lucie']   \n",
    "    receveurs_bis = list(set(receveurs_bis) - set(qui_offre_à))\n",
    "    if personne_aléatoire in receveurs_bis:\n",
    "        receveurs_bis.remove(personne_aléatoire)\n",
    "        \n",
    "    le_random_pioche = random.choice(receveurs_bis)\n",
    "    qui_offre_à.append(le_random_pioche)\n",
    "  \n",
    "    print(i, bob, '-', personne_aléatoire, '-', le_random_pioche)"
   ]
  },
  {
   "cell_type": "code",
   "execution_count": 178,
   "metadata": {},
   "outputs": [
    {
     "data": {
      "text/html": [
       "<div>\n",
       "<style scoped>\n",
       "    .dataframe tbody tr th:only-of-type {\n",
       "        vertical-align: middle;\n",
       "    }\n",
       "\n",
       "    .dataframe tbody tr th {\n",
       "        vertical-align: top;\n",
       "    }\n",
       "\n",
       "    .dataframe thead th {\n",
       "        text-align: right;\n",
       "    }\n",
       "</style>\n",
       "<table border=\"1\" class=\"dataframe\">\n",
       "  <thead>\n",
       "    <tr style=\"text-align: right;\">\n",
       "      <th></th>\n",
       "      <th>Vous</th>\n",
       "      <th>Cadeau à</th>\n",
       "      <th>Qui offre à</th>\n",
       "    </tr>\n",
       "  </thead>\n",
       "  <tbody>\n",
       "    <tr>\n",
       "      <th>0</th>\n",
       "      <td>Romane</td>\n",
       "      <td>Ju</td>\n",
       "      <td>Mathilde</td>\n",
       "    </tr>\n",
       "    <tr>\n",
       "      <th>1</th>\n",
       "      <td>Chloé</td>\n",
       "      <td>Mathilde</td>\n",
       "      <td>Cécile</td>\n",
       "    </tr>\n",
       "    <tr>\n",
       "      <th>2</th>\n",
       "      <td>Hélène</td>\n",
       "      <td>Cécile D</td>\n",
       "      <td>Hélène</td>\n",
       "    </tr>\n",
       "    <tr>\n",
       "      <th>3</th>\n",
       "      <td>Cécile G</td>\n",
       "      <td>Cécile</td>\n",
       "      <td>Romane</td>\n",
       "    </tr>\n",
       "    <tr>\n",
       "      <th>4</th>\n",
       "      <td>Ju</td>\n",
       "      <td>Lucie</td>\n",
       "      <td>Ju</td>\n",
       "    </tr>\n",
       "    <tr>\n",
       "      <th>5</th>\n",
       "      <td>Mathilde</td>\n",
       "      <td>Romane</td>\n",
       "      <td>Chloé</td>\n",
       "    </tr>\n",
       "    <tr>\n",
       "      <th>6</th>\n",
       "      <td>Cécile D</td>\n",
       "      <td>Hélène</td>\n",
       "      <td>Lucie</td>\n",
       "    </tr>\n",
       "    <tr>\n",
       "      <th>7</th>\n",
       "      <td>Lucie</td>\n",
       "      <td>Chloé</td>\n",
       "      <td>Cécile D</td>\n",
       "    </tr>\n",
       "  </tbody>\n",
       "</table>\n",
       "</div>"
      ],
      "text/plain": [
       "       Vous  Cadeau à Qui offre à\n",
       "0    Romane        Ju    Mathilde\n",
       "1     Chloé  Mathilde      Cécile\n",
       "2    Hélène  Cécile D      Hélène\n",
       "3  Cécile G    Cécile      Romane\n",
       "4        Ju     Lucie          Ju\n",
       "5  Mathilde    Romane       Chloé\n",
       "6  Cécile D    Hélène       Lucie\n",
       "7     Lucie     Chloé    Cécile D"
      ]
     },
     "execution_count": 178,
     "metadata": {},
     "output_type": "execute_result"
    }
   ],
   "source": [
    "df = pandas.DataFrame()\n",
    "df['Vous'] = vous\n",
    "df['Cadeau à'] = kdo_à\n",
    "df['Qui offre à'] = qui_offre_à\n",
    "df"
   ]
  },
  {
   "cell_type": "code",
   "execution_count": 180,
   "metadata": {},
   "outputs": [
    {
     "name": "stdout",
     "output_type": "stream",
     "text": [
      "0\n",
      "0\n",
      "0\n"
     ]
    }
   ],
   "source": [
    "#be sure to not have twice same name \n",
    "for column in df.columns:\n",
    "    print(df.duplicated(subset=[column]).sum())"
   ]
  }
 ],
 "metadata": {
  "kernelspec": {
   "display_name": "Python 3",
   "language": "python",
   "name": "python3"
  },
  "language_info": {
   "codemirror_mode": {
    "name": "ipython",
    "version": 3
   },
   "file_extension": ".py",
   "mimetype": "text/x-python",
   "name": "python",
   "nbconvert_exporter": "python",
   "pygments_lexer": "ipython3",
   "version": "3.8.5"
  }
 },
 "nbformat": 4,
 "nbformat_minor": 4
}
