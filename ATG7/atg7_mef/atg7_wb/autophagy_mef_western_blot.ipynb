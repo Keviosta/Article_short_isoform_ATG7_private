{
 "cells": [
  {
   "cell_type": "markdown",
   "metadata": {
    "id": "wYGSc-xPDaFV"
   },
   "source": [
    "# I] Import and options\n"
   ]
  },
  {
   "cell_type": "code",
   "execution_count": 1,
   "metadata": {},
   "outputs": [],
   "source": [
    "import pandas, numpy, seaborn, scipy, scipy.stats\n",
    "import matplotlib, matplotlib.pyplot as plt\n",
    "# have text as text and not curve in .svg\n",
    "matplotlib.rcParams['svg.fonttype'] = 'none'\n",
    "# this is a trick to make figures look nicer\n",
    "matplotlib.rcParams.update({'font.size':24, 'font.family':'FreeSans', 'xtick.labelsize':20, 'ytick.labelsize':20, 'figure.figsize':(12, 8)})"
   ]
  },
  {
   "cell_type": "code",
   "execution_count": 2,
   "metadata": {},
   "outputs": [],
   "source": [
    "input_file_directory = '/Users/kja11/OneDrive - Háskóli Íslands/PhD ATG7//0 in_silico/Python/1)data_input/'\n",
    "output_file_directory = '/Users/kja11/OneDrive - Háskóli Íslands/PhD ATG7/0 in_silico/Python/3)output/'"
   ]
  },
  {
   "cell_type": "markdown",
   "metadata": {},
   "source": [
    "# II] DL data"
   ]
  },
  {
   "cell_type": "code",
   "execution_count": 32,
   "metadata": {},
   "outputs": [
    {
     "name": "stdout",
     "output_type": "stream",
     "text": [
      "   Blot proteins       MEF        EV       WT1     dVSR1       WT2     dVSR2\n",
      "0     0    actin  20571418  28367832  27610004  33498246  31388518  35179539\n",
      "1     0     flag   3713598   3713598  17355447  32148196  14710397  32205368\n",
      "2     0      p62   7086841  16363640   9175518  24157539  13905589  19385832\n",
      "3     0      lc3  41513794   4172518  54060856   4472518   4772518   4672518\n",
      "   Blot proteins       MEF        EV       WT1     dVSR1       WT2     dVSR2\n",
      "0     3    actin  26213296  25451832  19056154  23616832  17341640  20892933\n",
      "1     3     flag   1227991   2165083  22842518  28240731  10444690  12747397\n",
      "2     3      p62  10984882  26086125  12235347  21836196  15100518  11080811\n",
      "3     3      lc3  31245924  17369811  25792146  14607631   2735376   1645607\n",
      "   Blot proteins       MEF        EV       WT1     dVSR1       WT2     dVSR2\n",
      "0     5    actin  38121146  38474024  43807803  50889246  43419660  54711217\n",
      "1     5     flag   6168761   8564933  37940439  47406024  25009761  28518681\n",
      "2     5      p62  13708075  25293004  17515660  42289782  33423246  45736702\n",
      "3     5      lc3  50107945  17983610  44042116  17596388   8782217   7601468\n",
      "   Blot proteins       MEF        EV       WT1     dVSR1       WT2     dVSR2\n",
      "0     1    actin  11933933  30458196  24853368  20743296  24427489  19397782\n",
      "1     1     flag     64243    921749  20605539  22813418  12154518  27417125\n",
      "2     1      p62   6862497  22607246  15428468  24615882  16078125  20367468\n",
      "3     1      lc3  24515725   4175518  52046545   4475478   4452518   4670284\n",
      "   Blot proteins       MEF        EV       WT1     dVSR1       WT2     dVSR2\n",
      "0     4    actin  39554702  27233660  31067539  33492246  45919803  25587660\n",
      "1     4     flag   2642447    182778  31252246  30898246  18346125  11927518\n",
      "2     4      p62  25835832  21518518  15428861  19120225  21615489  12647983\n",
      "3     4      lc3  41678803   8235104  26931974   5739154   3455154   1735305\n",
      "   Blot proteins       MEF        EV       WT1     dVSR1       WT2     dVSR2\n",
      "0     6    actin  42764146  35770489  37627075  39188075  32376539  37185439\n",
      "1     6     flag   8150296  10689296  38318418  37857246  18883569  17203296\n",
      "2     6      p62  16485489  23649368  21149196  30497974  20552196  41465409\n",
      "3     6      lc3  38909752   8683811  40673995  13621368   4091205   7411861\n"
     ]
    },
    {
     "data": {
      "text/html": [
       "<div>\n",
       "<style scoped>\n",
       "    .dataframe tbody tr th:only-of-type {\n",
       "        vertical-align: middle;\n",
       "    }\n",
       "\n",
       "    .dataframe tbody tr th {\n",
       "        vertical-align: top;\n",
       "    }\n",
       "\n",
       "    .dataframe thead th {\n",
       "        text-align: right;\n",
       "    }\n",
       "</style>\n",
       "<table border=\"1\" class=\"dataframe\">\n",
       "  <thead>\n",
       "    <tr style=\"text-align: right;\">\n",
       "      <th></th>\n",
       "      <th>index</th>\n",
       "      <th>flag_actin</th>\n",
       "      <th>p62_actin</th>\n",
       "      <th>lc3_actin</th>\n",
       "    </tr>\n",
       "  </thead>\n",
       "  <tbody>\n",
       "    <tr>\n",
       "      <th>0</th>\n",
       "      <td>MEF WT</td>\n",
       "      <td>0.180522</td>\n",
       "      <td>0.344499</td>\n",
       "      <td>2.01803</td>\n",
       "    </tr>\n",
       "    <tr>\n",
       "      <th>1</th>\n",
       "      <td>ATG7-/-</td>\n",
       "      <td>0.130909</td>\n",
       "      <td>0.576838</td>\n",
       "      <td>0.147086</td>\n",
       "    </tr>\n",
       "    <tr>\n",
       "      <th>2</th>\n",
       "      <td>ATG7</td>\n",
       "      <td>0.628593</td>\n",
       "      <td>0.332326</td>\n",
       "      <td>1.95802</td>\n",
       "    </tr>\n",
       "    <tr>\n",
       "      <th>3</th>\n",
       "      <td>dVSR</td>\n",
       "      <td>0.959698</td>\n",
       "      <td>0.721158</td>\n",
       "      <td>0.133515</td>\n",
       "    </tr>\n",
       "    <tr>\n",
       "      <th>0</th>\n",
       "      <td>MEF WT</td>\n",
       "      <td>0.0468461</td>\n",
       "      <td>0.419058</td>\n",
       "      <td>1.19199</td>\n",
       "    </tr>\n",
       "    <tr>\n",
       "      <th>1</th>\n",
       "      <td>ATG7-/-</td>\n",
       "      <td>0.0850659</td>\n",
       "      <td>1.02492</td>\n",
       "      <td>0.682458</td>\n",
       "    </tr>\n",
       "    <tr>\n",
       "      <th>2</th>\n",
       "      <td>ATG7</td>\n",
       "      <td>1.1987</td>\n",
       "      <td>0.642068</td>\n",
       "      <td>1.35348</td>\n",
       "    </tr>\n",
       "    <tr>\n",
       "      <th>3</th>\n",
       "      <td>dVSR</td>\n",
       "      <td>1.19579</td>\n",
       "      <td>0.924603</td>\n",
       "      <td>0.618526</td>\n",
       "    </tr>\n",
       "    <tr>\n",
       "      <th>0</th>\n",
       "      <td>MEF WT</td>\n",
       "      <td>0.16182</td>\n",
       "      <td>0.359592</td>\n",
       "      <td>1.31444</td>\n",
       "    </tr>\n",
       "    <tr>\n",
       "      <th>1</th>\n",
       "      <td>ATG7-/-</td>\n",
       "      <td>0.222616</td>\n",
       "      <td>0.657405</td>\n",
       "      <td>0.467422</td>\n",
       "    </tr>\n",
       "    <tr>\n",
       "      <th>2</th>\n",
       "      <td>ATG7</td>\n",
       "      <td>0.866066</td>\n",
       "      <td>0.39983</td>\n",
       "      <td>1.00535</td>\n",
       "    </tr>\n",
       "    <tr>\n",
       "      <th>3</th>\n",
       "      <td>dVSR</td>\n",
       "      <td>0.931553</td>\n",
       "      <td>0.831016</td>\n",
       "      <td>0.345778</td>\n",
       "    </tr>\n",
       "  </tbody>\n",
       "</table>\n",
       "</div>"
      ],
      "text/plain": [
       "     index flag_actin p62_actin lc3_actin\n",
       "0   MEF WT   0.180522  0.344499   2.01803\n",
       "1  ATG7-/-   0.130909  0.576838  0.147086\n",
       "2     ATG7   0.628593  0.332326   1.95802\n",
       "3     dVSR   0.959698  0.721158  0.133515\n",
       "0   MEF WT  0.0468461  0.419058   1.19199\n",
       "1  ATG7-/-  0.0850659   1.02492  0.682458\n",
       "2     ATG7     1.1987  0.642068   1.35348\n",
       "3     dVSR    1.19579  0.924603  0.618526\n",
       "0   MEF WT    0.16182  0.359592   1.31444\n",
       "1  ATG7-/-   0.222616  0.657405  0.467422\n",
       "2     ATG7   0.866066   0.39983   1.00535\n",
       "3     dVSR   0.931553  0.831016  0.345778"
      ]
     },
     "execution_count": 32,
     "metadata": {},
     "output_type": "execute_result"
    }
   ],
   "source": [
    "data = \"wb1_\", \"wb2_\", \"wb3_\"\n",
    "conditions = 'dmso', 'baf'\n",
    "dfs_normalized = []\n",
    "for condition in conditions:\n",
    "    for wb in data:\n",
    "        path = input_file_directory + \"mefs/mefs_western_blot/\"+wb+condition+\".csv\" #download\n",
    "        df = pandas.read_csv(path, sep = \";\")\n",
    "        print(df)\n",
    "        df = df.T #transpose\n",
    "        df.columns = df.loc['proteins'] #select head of columns\n",
    "        df.columns.name = None #remove name of index column\n",
    "        df = df.drop(df.index[0:2])\n",
    "        df = df.assign(flag_actin = df['flag']/ df['actin'],\n",
    "                       p62_actin= df['p62']/ df['actin'],\n",
    "                       lc3_actin= df['lc3']/ df['actin']) \n",
    "        df = df.iloc[:,4:] #select normalized columns\n",
    "        df.reset_index(inplace = True)\n",
    "        df = df[(df['index'] == 'MEF') | (df['index'] == 'EV') | \n",
    "                (df['index'] == 'WT1') | (df['index'] == 'dVSR1')] #select norm_ev_wt1_mut1\n",
    "        df = df.replace({'index' : {'MEF':'MEF WT','EV':'ATG7-/-','WT1':'ATG7','dVSR1':'dVSR'}})\n",
    "        dfs_normalized.append(df)\n",
    "\n",
    "wbs_dmso = pandas.concat([dfs_normalized[0], dfs_normalized[1], dfs_normalized[2]], axis=0)\n",
    "wbs_baf = pandas.concat([dfs_normalized[3], dfs_normalized[4], dfs_normalized[5]], axis=0)\n",
    "wbs_dmso"
   ]
  },
  {
   "cell_type": "code",
   "execution_count": 31,
   "metadata": {},
   "outputs": [
    {
     "data": {
      "image/png": "[encoded data removed]",
      "text/plain": [
       "<Figure size 432x360 with 1 Axes>"
      ]
     },
     "metadata": {
      "needs_background": "light"
     },
     "output_type": "display_data"
    },
    {
     "data": {
      "image/png": "[encoded data removed]",
      "text/plain": [
       "<Figure size 432x360 with 1 Axes>"
      ]
     },
     "metadata": {
      "needs_background": "light"
     },
     "output_type": "display_data"
    }
   ],
   "source": [
    " ##Same without FLAG\n",
    "# Distribution: Data preparation + graph\n",
    "dfs = wbs_dmso, wbs_baf\n",
    "infos = 'dmso', 'baf'\n",
    "\n",
    "for i in range(len(dfs)) :\n",
    "    Data = dfs[i]\n",
    "    Info = infos[i]\n",
    "\n",
    "    #data preparation for graph\n",
    "    Data.reset_index(inplace = True, drop = True)\n",
    "    shape = Data.shape\n",
    "    shape = shape[0]\n",
    "#     print(shape)\n",
    "\n",
    "    #select the sample type column\n",
    "    sample_type = {'sample_type':[Data.iloc[:,0][i]\n",
    "      for i in range(0, shape)]}\n",
    "\n",
    "    #convert to df, and copy it 3 times\n",
    "    sample_typedf = pandas.DataFrame(sample_type)\n",
    "    sample_typedf = pandas.concat([sample_typedf,sample_typedf,sample_typedf,\n",
    "                                  sample_typedf,sample_typedf,sample_typedf])\n",
    "    sample_typedf.reset_index(drop=True, inplace=True)\n",
    "\n",
    "    # Y for expression value \n",
    "    y = {'y':[Data.iloc[:,j][i]\n",
    "      for j in range(2,4)\n",
    "        for i in range(0, shape)]}\n",
    "\n",
    "    #create df with Y \n",
    "    data_distrib = pandas.DataFrame(y)\n",
    "\n",
    "    # X for ATG7/iso1/iso2                              \n",
    "    data_distrib.loc[:shape,'x'] = 'p62'\n",
    "    data_distrib.loc[shape:,'x'] = 'LC3B'\n",
    "\n",
    "    # Will be used for Hue\n",
    "    data_distrib['Sample Type'] = sample_typedf['sample_type']\n",
    "\n",
    "    #graph\n",
    "    seaborn.catplot(x=\"x\", y=\"y\", hue=\"Sample Type\", aspect= 1.2, kind=\"box\", palette = 'mako',\n",
    "                    data = data_distrib, boxprops={'lw':2, 'alpha' : 0.8}, medianprops={'lw':2}, whiskerprops={'lw':2}, \n",
    "                    showcaps=True, showfliers=False, legend=False)\n",
    "\n",
    "    plt.tight_layout()\n",
    "    plt.grid(alpha = 0.5, ls=':')\n",
    "    plt.ylabel('relative prot. expr.')\n",
    "    plt.xlabel('')\n",
    "    plt.title('Autophagy with '+ Info + ' (n=3)', x=.55)\n",
    "    plt.legend(loc='center right', fontsize=20, bbox_to_anchor=(1.55, 0.5))\n",
    "\n",
    "#     #save\n",
    "    path = 'ATG7/MEF/Western_blot/'\n",
    "    plt.savefig(output_file_directory+path+'ATG7_autophagy_'+Info+'.svg')"
   ]
  },
  {
   "cell_type": "code",
   "execution_count": 9,
   "metadata": {},
   "outputs": [
    {
     "data": {
      "text/html": [
       "<div>\n",
       "<style scoped>\n",
       "    .dataframe tbody tr th:only-of-type {\n",
       "        vertical-align: middle;\n",
       "    }\n",
       "\n",
       "    .dataframe tbody tr th {\n",
       "        vertical-align: top;\n",
       "    }\n",
       "\n",
       "    .dataframe thead th {\n",
       "        text-align: right;\n",
       "    }\n",
       "</style>\n",
       "<table border=\"1\" class=\"dataframe\">\n",
       "  <thead>\n",
       "    <tr style=\"text-align: right;\">\n",
       "      <th></th>\n",
       "      <th>index</th>\n",
       "      <th>flag_actin</th>\n",
       "      <th>p62_actin</th>\n",
       "      <th>lc3_actin</th>\n",
       "    </tr>\n",
       "  </thead>\n",
       "  <tbody>\n",
       "    <tr>\n",
       "      <th>0</th>\n",
       "      <td>ATG7</td>\n",
       "      <td>0.829084</td>\n",
       "      <td>0.62078</td>\n",
       "      <td>2.09414</td>\n",
       "    </tr>\n",
       "    <tr>\n",
       "      <th>1</th>\n",
       "      <td>ATG7</td>\n",
       "      <td>1.00595</td>\n",
       "      <td>0.496623</td>\n",
       "      <td>0.866885</td>\n",
       "    </tr>\n",
       "    <tr>\n",
       "      <th>2</th>\n",
       "      <td>ATG7</td>\n",
       "      <td>1.01837</td>\n",
       "      <td>0.562074</td>\n",
       "      <td>1.08098</td>\n",
       "    </tr>\n",
       "    <tr>\n",
       "      <th>3</th>\n",
       "      <td>ATG7-/-</td>\n",
       "      <td>0.0302628</td>\n",
       "      <td>0.742239</td>\n",
       "      <td>0.13709</td>\n",
       "    </tr>\n",
       "    <tr>\n",
       "      <th>4</th>\n",
       "      <td>ATG7-/-</td>\n",
       "      <td>0.00671147</td>\n",
       "      <td>0.790144</td>\n",
       "      <td>0.302387</td>\n",
       "    </tr>\n",
       "    <tr>\n",
       "      <th>5</th>\n",
       "      <td>ATG7-/-</td>\n",
       "      <td>0.29883</td>\n",
       "      <td>0.661142</td>\n",
       "      <td>0.242765</td>\n",
       "    </tr>\n",
       "    <tr>\n",
       "      <th>6</th>\n",
       "      <td>MEF WT</td>\n",
       "      <td>0.00538322</td>\n",
       "      <td>0.575041</td>\n",
       "      <td>2.05429</td>\n",
       "    </tr>\n",
       "    <tr>\n",
       "      <th>7</th>\n",
       "      <td>MEF WT</td>\n",
       "      <td>0.0668049</td>\n",
       "      <td>0.653167</td>\n",
       "      <td>1.0537</td>\n",
       "    </tr>\n",
       "    <tr>\n",
       "      <th>8</th>\n",
       "      <td>MEF WT</td>\n",
       "      <td>0.190587</td>\n",
       "      <td>0.385498</td>\n",
       "      <td>0.909869</td>\n",
       "    </tr>\n",
       "    <tr>\n",
       "      <th>9</th>\n",
       "      <td>dVSR</td>\n",
       "      <td>1.0998</td>\n",
       "      <td>1.18669</td>\n",
       "      <td>0.215755</td>\n",
       "    </tr>\n",
       "    <tr>\n",
       "      <th>10</th>\n",
       "      <td>dVSR</td>\n",
       "      <td>0.922549</td>\n",
       "      <td>0.570885</td>\n",
       "      <td>0.171358</td>\n",
       "    </tr>\n",
       "    <tr>\n",
       "      <th>11</th>\n",
       "      <td>dVSR</td>\n",
       "      <td>0.96604</td>\n",
       "      <td>0.778246</td>\n",
       "      <td>0.34759</td>\n",
       "    </tr>\n",
       "  </tbody>\n",
       "</table>\n",
       "</div>"
      ],
      "text/plain": [
       "      index  flag_actin p62_actin lc3_actin\n",
       "0      ATG7    0.829084   0.62078   2.09414\n",
       "1      ATG7     1.00595  0.496623  0.866885\n",
       "2      ATG7     1.01837  0.562074   1.08098\n",
       "3   ATG7-/-   0.0302628  0.742239   0.13709\n",
       "4   ATG7-/-  0.00671147  0.790144  0.302387\n",
       "5   ATG7-/-     0.29883  0.661142  0.242765\n",
       "6    MEF WT  0.00538322  0.575041   2.05429\n",
       "7    MEF WT   0.0668049  0.653167    1.0537\n",
       "8    MEF WT    0.190587  0.385498  0.909869\n",
       "9      dVSR      1.0998   1.18669  0.215755\n",
       "10     dVSR    0.922549  0.570885  0.171358\n",
       "11     dVSR     0.96604  0.778246   0.34759"
      ]
     },
     "execution_count": 9,
     "metadata": {},
     "output_type": "execute_result"
    }
   ],
   "source": [
    "Data_stats"
   ]
  },
  {
   "cell_type": "code",
   "execution_count": 29,
   "metadata": {},
   "outputs": [
    {
     "name": "stdout",
     "output_type": "stream",
     "text": [
      "DMSO\n",
      "P62 STATS\n",
      "the pvalue between ATG7-/- and MEF WT is 4.04278E-02\n",
      "the pvalue between ATG7 and MEF WT is 5.00000E-01\n",
      "the pvalue between dVSR and MEF WT is 4.04278E-02\n",
      "LC3 STATS\n",
      "the pvalue between ATG7-/- and MEF WT is 4.04278E-02\n",
      "the pvalue between ATG7 and MEF WT is 5.00000E-01\n",
      "the pvalue between dVSR and MEF WT is 4.04278E-02\n",
      "\n",
      "BAF\n",
      "P62 STATS\n",
      "the pvalue between ATG7-/- and MEF WT is 4.04278E-02\n",
      "the pvalue between ATG7 and MEF WT is 5.00000E-01\n",
      "the pvalue between dVSR and MEF WT is 1.91367E-01\n",
      "LC3 STATS\n",
      "the pvalue between ATG7-/- and MEF WT is 4.04278E-02\n",
      "the pvalue between ATG7 and MEF WT is 5.00000E-01\n",
      "the pvalue between dVSR and MEF WT is 4.04278E-02\n",
      "\n"
     ]
    }
   ],
   "source": [
    "#Statistics\n",
    "dfs = wbs_dmso, wbs_baf\n",
    "infos = 'dmso', 'baf'\n",
    "\n",
    "for i in range(len(dfs)) :\n",
    "    Data = dfs[i]\n",
    "    Info = infos[i]\n",
    "    \n",
    "    # Mann-Whitney analysis all compare to MEF WT\n",
    "    Data_stats = Data.sort_values(['index'], ascending = True)\n",
    "    Data_stats.reset_index(drop=True, inplace=True)\n",
    "    control_label = Data_stats.loc[6]['index']\n",
    "    print(Info.upper())\n",
    "    \n",
    "    ##p62\n",
    "    control_p62 = Data_stats.iloc[6:9, 2:3]\n",
    "    print('P62 STATS')\n",
    "    ###ATG7-/-\n",
    "    statistic, pvalue = scipy.stats.mannwhitneyu(Data_stats.iloc[3:6, 2:3], control_p62)\n",
    "    Pvalue = \"{:.5E}\".format(pvalue)\n",
    "    print(\"the pvalue between\", Data_stats.loc[3]['index'], \"and\", control_label,\"is\", Pvalue)\n",
    "    ###ATG7\n",
    "    statistic, pvalue = scipy.stats.mannwhitneyu(Data_stats.iloc[0:3, 2:3], control_p62)\n",
    "    Pvalue = \"{:.5E}\".format(pvalue)\n",
    "    print(\"the pvalue between\", Data_stats.loc[0]['index'], \"and\", control_label,\"is\", Pvalue)\n",
    "    ###dVSR\n",
    "    statistic, pvalue = scipy.stats.mannwhitneyu(Data_stats.iloc[9:, 2:3], control_p62)\n",
    "    Pvalue = \"{:.5E}\".format(pvalue)\n",
    "    print(\"the pvalue between\", Data_stats.loc[9]['index'], \"and\", control_label,\"is\", Pvalue)\n",
    "\n",
    "    ##lC3\n",
    "    control_lc3 = Data_stats.iloc[6:9, 3:4]\n",
    "    print('LC3 STATS')\n",
    "    ###ATG7-/-\n",
    "    statistic, pvalue = scipy.stats.mannwhitneyu(Data_stats.iloc[3:6, 3:4], control_lc3)\n",
    "    Pvalue = \"{:.5E}\".format(pvalue)\n",
    "    print(\"the pvalue between\", Data_stats.loc[3]['index'], \"and\", control_label,\"is\", Pvalue)\n",
    "    ###ATG7\n",
    "    statistic, pvalue = scipy.stats.mannwhitneyu(Data_stats.iloc[0:3, 3:4], control_lc3)\n",
    "    Pvalue = \"{:.5E}\".format(pvalue)\n",
    "    print(\"the pvalue between\", Data_stats.loc[0]['index'], \"and\", control_label,\"is\", Pvalue)\n",
    "    ###dVSR\n",
    "    statistic, pvalue = scipy.stats.mannwhitneyu(Data_stats.iloc[9:, 3:4], control_lc3)\n",
    "    Pvalue = \"{:.5E}\".format(pvalue)\n",
    "    print(\"the pvalue between\", Data_stats.loc[9]['index'], \"and\", control_label,\"is\", Pvalue)\n",
    "    print()"
   ]
  },
  {
   "cell_type": "code",
   "execution_count": 22,
   "metadata": {},
   "outputs": [
    {
     "data": {
      "text/html": [
       "<div>\n",
       "<style scoped>\n",
       "    .dataframe tbody tr th:only-of-type {\n",
       "        vertical-align: middle;\n",
       "    }\n",
       "\n",
       "    .dataframe tbody tr th {\n",
       "        vertical-align: top;\n",
       "    }\n",
       "\n",
       "    .dataframe thead th {\n",
       "        text-align: right;\n",
       "    }\n",
       "</style>\n",
       "<table border=\"1\" class=\"dataframe\">\n",
       "  <thead>\n",
       "    <tr style=\"text-align: right;\">\n",
       "      <th></th>\n",
       "      <th>lc3_actin</th>\n",
       "    </tr>\n",
       "  </thead>\n",
       "  <tbody>\n",
       "    <tr>\n",
       "      <th>0</th>\n",
       "      <td>2.09414</td>\n",
       "    </tr>\n",
       "    <tr>\n",
       "      <th>1</th>\n",
       "      <td>0.866885</td>\n",
       "    </tr>\n",
       "    <tr>\n",
       "      <th>2</th>\n",
       "      <td>1.08098</td>\n",
       "    </tr>\n",
       "  </tbody>\n",
       "</table>\n",
       "</div>"
      ],
      "text/plain": [
       "  lc3_actin\n",
       "0   2.09414\n",
       "1  0.866885\n",
       "2   1.08098"
      ]
     },
     "execution_count": 22,
     "metadata": {},
     "output_type": "execute_result"
    }
   ],
   "source": [
    "Data_stats.iloc[0:3, 3:4]"
   ]
  },
  {
   "cell_type": "code",
   "execution_count": 23,
   "metadata": {},
   "outputs": [
    {
     "data": {
      "text/html": [
       "<div>\n",
       "<style scoped>\n",
       "    .dataframe tbody tr th:only-of-type {\n",
       "        vertical-align: middle;\n",
       "    }\n",
       "\n",
       "    .dataframe tbody tr th {\n",
       "        vertical-align: top;\n",
       "    }\n",
       "\n",
       "    .dataframe thead th {\n",
       "        text-align: right;\n",
       "    }\n",
       "</style>\n",
       "<table border=\"1\" class=\"dataframe\">\n",
       "  <thead>\n",
       "    <tr style=\"text-align: right;\">\n",
       "      <th></th>\n",
       "      <th>lc3_actin</th>\n",
       "    </tr>\n",
       "  </thead>\n",
       "  <tbody>\n",
       "    <tr>\n",
       "      <th>6</th>\n",
       "      <td>2.05429</td>\n",
       "    </tr>\n",
       "    <tr>\n",
       "      <th>7</th>\n",
       "      <td>1.0537</td>\n",
       "    </tr>\n",
       "    <tr>\n",
       "      <th>8</th>\n",
       "      <td>0.909869</td>\n",
       "    </tr>\n",
       "  </tbody>\n",
       "</table>\n",
       "</div>"
      ],
      "text/plain": [
       "  lc3_actin\n",
       "6   2.05429\n",
       "7    1.0537\n",
       "8  0.909869"
      ]
     },
     "execution_count": 23,
     "metadata": {},
     "output_type": "execute_result"
    }
   ],
   "source": [
    "control_lc3"
   ]
  },
  {
   "cell_type": "code",
   "execution_count": 24,
   "metadata": {},
   "outputs": [
    {
     "data": {
      "text/html": [
       "<div>\n",
       "<style scoped>\n",
       "    .dataframe tbody tr th:only-of-type {\n",
       "        vertical-align: middle;\n",
       "    }\n",
       "\n",
       "    .dataframe tbody tr th {\n",
       "        vertical-align: top;\n",
       "    }\n",
       "\n",
       "    .dataframe thead th {\n",
       "        text-align: right;\n",
       "    }\n",
       "</style>\n",
       "<table border=\"1\" class=\"dataframe\">\n",
       "  <thead>\n",
       "    <tr style=\"text-align: right;\">\n",
       "      <th></th>\n",
       "      <th>p62_actin</th>\n",
       "    </tr>\n",
       "  </thead>\n",
       "  <tbody>\n",
       "    <tr>\n",
       "      <th>0</th>\n",
       "      <td>0.62078</td>\n",
       "    </tr>\n",
       "    <tr>\n",
       "      <th>1</th>\n",
       "      <td>0.496623</td>\n",
       "    </tr>\n",
       "    <tr>\n",
       "      <th>2</th>\n",
       "      <td>0.562074</td>\n",
       "    </tr>\n",
       "  </tbody>\n",
       "</table>\n",
       "</div>"
      ],
      "text/plain": [
       "  p62_actin\n",
       "0   0.62078\n",
       "1  0.496623\n",
       "2  0.562074"
      ]
     },
     "execution_count": 24,
     "metadata": {},
     "output_type": "execute_result"
    }
   ],
   "source": [
    "Data_stats.iloc[0:3, 2:3]"
   ]
  },
  {
   "cell_type": "code",
   "execution_count": 25,
   "metadata": {},
   "outputs": [
    {
     "data": {
      "text/html": [
       "<div>\n",
       "<style scoped>\n",
       "    .dataframe tbody tr th:only-of-type {\n",
       "        vertical-align: middle;\n",
       "    }\n",
       "\n",
       "    .dataframe tbody tr th {\n",
       "        vertical-align: top;\n",
       "    }\n",
       "\n",
       "    .dataframe thead th {\n",
       "        text-align: right;\n",
       "    }\n",
       "</style>\n",
       "<table border=\"1\" class=\"dataframe\">\n",
       "  <thead>\n",
       "    <tr style=\"text-align: right;\">\n",
       "      <th></th>\n",
       "      <th>p62_actin</th>\n",
       "    </tr>\n",
       "  </thead>\n",
       "  <tbody>\n",
       "    <tr>\n",
       "      <th>6</th>\n",
       "      <td>0.575041</td>\n",
       "    </tr>\n",
       "    <tr>\n",
       "      <th>7</th>\n",
       "      <td>0.653167</td>\n",
       "    </tr>\n",
       "    <tr>\n",
       "      <th>8</th>\n",
       "      <td>0.385498</td>\n",
       "    </tr>\n",
       "  </tbody>\n",
       "</table>\n",
       "</div>"
      ],
      "text/plain": [
       "  p62_actin\n",
       "6  0.575041\n",
       "7  0.653167\n",
       "8  0.385498"
      ]
     },
     "execution_count": 25,
     "metadata": {},
     "output_type": "execute_result"
    }
   ],
   "source": [
    "control_p62"
   ]
  },
  {
   "cell_type": "code",
   "execution_count": 27,
   "metadata": {},
   "outputs": [
    {
     "data": {
      "text/plain": [
       "0.5"
      ]
     },
     "execution_count": 27,
     "metadata": {},
     "output_type": "execute_result"
    }
   ],
   "source": [
    "statistic, pvalue = scipy.stats.mannwhitneyu(Data_stats.iloc[0:3, 3:4], control_lc3)\n",
    "pvalue"
   ]
  },
  {
   "cell_type": "code",
   "execution_count": 26,
   "metadata": {},
   "outputs": [
    {
     "data": {
      "text/plain": [
       "0.5"
      ]
     },
     "execution_count": 26,
     "metadata": {},
     "output_type": "execute_result"
    }
   ],
   "source": [
    "statistic, pvalue = scipy.stats.mannwhitneyu(Data_stats.iloc[0:3, 2:3], control_p62)\n",
    "pvalue"
   ]
  },
  {
   "cell_type": "code",
   "execution_count": 30,
   "metadata": {
    "scrolled": true
   },
   "outputs": [
    {
     "name": "stdout",
     "output_type": "stream",
     "text": [
      "12\n",
      "12\n"
     ]
    },
    {
     "data": {
      "image/png": "[encoded data removed]",
      "text/plain": [
       "<Figure size 432x360 with 1 Axes>"
      ]
     },
     "metadata": {
      "needs_background": "light"
     },
     "output_type": "display_data"
    },
    {
     "data": {
      "image/png": "[encoded data removed]",
      "text/plain": [
       "<Figure size 432x360 with 1 Axes>"
      ]
     },
     "metadata": {
      "needs_background": "light"
     },
     "output_type": "display_data"
    }
   ],
   "source": [
    "# Distribution: Data preparation + graph. BARPLOT\n",
    "dfs = wbs_dmso, wbs_baf\n",
    "infos = 'dmso', 'baf'\n",
    "\n",
    "for i in range(len(dfs)) :\n",
    "    Data = dfs[i]\n",
    "    Info = infos[i]\n",
    "    \n",
    "    Data.reset_index(inplace = True, drop = True)\n",
    "    shape = Data.shape\n",
    "    shape = shape[0]\n",
    "    print(shape)\n",
    "\n",
    "    #select the sample type column\n",
    "    sample_type = {'sample_type':[Data.iloc[:,0][i]\n",
    "      for i in range(0, shape)]}\n",
    "\n",
    "    #convert to df, and copy it 3 times\n",
    "    sample_typedf = pandas.DataFrame(sample_type)\n",
    "    sample_typedf = pandas.concat([sample_typedf,sample_typedf,sample_typedf,\n",
    "                                  sample_typedf,sample_typedf,sample_typedf])\n",
    "    sample_typedf.reset_index(drop=True, inplace=True)\n",
    "\n",
    "    # Y for expression value \n",
    "    y = {'y':[Data.iloc[:,j][i]\n",
    "      for j in range(1,4)\n",
    "        for i in range(0, shape)]}\n",
    "\n",
    "    #create df with Y \n",
    "    data_distrib = pandas.DataFrame(y)\n",
    "\n",
    "    # X for ATG7/iso1/iso2                              \n",
    "    data_distrib.loc[:shape,'x'] = 'ATG7-Flag'\n",
    "    data_distrib.loc[shape: shape*2,'x'] = 'p62'\n",
    "    data_distrib.loc[shape*2:,'x'] = 'LC3B'\n",
    "\n",
    "    # Will be used for Hue\n",
    "    data_distrib['Sample Type'] = sample_typedf['sample_type']\n",
    "\n",
    "    #graph\n",
    "    seaborn.catplot(x=\"x\", y=\"y\", hue=\"Sample Type\", aspect= 1.2, kind=\"bar\",\n",
    "                    palette= 'mako', alpha = 0.8, data = data_distrib, legend=False)\n",
    "    plt.grid(alpha = 0.5, ls=':')\n",
    "    plt.tight_layout()\n",
    "    plt.legend(loc='center right', fontsize=20, bbox_to_anchor=(1.55, 0.5))\n",
    "    plt.ylabel('relative prot. expr.')\n",
    "    plt.xlabel('')\n",
    "    plt.title('Autophagy with '+ Info + \" (n=3)\", x=.55)\n",
    "\n",
    "    # #save\n",
    "    # path = 'ATG7/figs_ATG7_characterisation/'\n",
    "    # plt.savefig(output_file_directory+path+'ATG7_exp_alltissue.svg')\n"
   ]
  }
 ],
 "metadata": {
  "kernelspec": {
   "display_name": "Python 3",
   "language": "python",
   "name": "python3"
  },
  "language_info": {
   "codemirror_mode": {
    "name": "ipython",
    "version": 3
   },
   "file_extension": ".py",
   "mimetype": "text/x-python",
   "name": "python",
   "nbconvert_exporter": "python",
   "pygments_lexer": "ipython3",
   "version": "3.8.5"
  }
 },
 "nbformat": 4,
 "nbformat_minor": 4
}
