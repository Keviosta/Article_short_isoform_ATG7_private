{
 "cells": [
  {
   "cell_type": "markdown",
   "metadata": {
    "id": "wYGSc-xPDaFV"
   },
   "source": [
    "# I] Import and options\n"
   ]
  },
  {
   "cell_type": "code",
   "execution_count": 5,
   "metadata": {},
   "outputs": [],
   "source": [
    "import pandas, numpy, seaborn, scipy, scipy.stats\n",
    "import matplotlib, matplotlib.pyplot as plt\n",
    "# have text as text and not curve in .svg\n",
    "matplotlib.rcParams['svg.fonttype'] = 'none'\n",
    "# this is a trick to make figures look nicer\n",
    "matplotlib.rcParams.update({'font.size':24, 'font.family':'FreeSans', 'xtick.labelsize':20, 'ytick.labelsize':20, 'figure.figsize':(12, 8)})"
   ]
  },
  {
   "cell_type": "code",
   "execution_count": 6,
   "metadata": {},
   "outputs": [],
   "source": [
    "input_file_directory = '/Users/kja11/OneDrive - Háskóli Íslands/PhD ATG7//0 in_silico/Python/1)data_input/'\n",
    "output_file_directory = '/Users/kja11/OneDrive - Háskóli Íslands/PhD ATG7/0 in_silico/Python/3)output/'"
   ]
  },
  {
   "cell_type": "markdown",
   "metadata": {},
   "source": [
    "# II] DL data"
   ]
  },
  {
   "cell_type": "code",
   "execution_count": 7,
   "metadata": {},
   "outputs": [
    {
     "data": {
      "text/html": [
       "<div>\n",
       "<style scoped>\n",
       "    .dataframe tbody tr th:only-of-type {\n",
       "        vertical-align: middle;\n",
       "    }\n",
       "\n",
       "    .dataframe tbody tr th {\n",
       "        vertical-align: top;\n",
       "    }\n",
       "\n",
       "    .dataframe thead th {\n",
       "        text-align: right;\n",
       "    }\n",
       "</style>\n",
       "<table border=\"1\" class=\"dataframe\">\n",
       "  <thead>\n",
       "    <tr style=\"text-align: right;\">\n",
       "      <th></th>\n",
       "      <th>index</th>\n",
       "      <th>flag_actin</th>\n",
       "      <th>p62_actin</th>\n",
       "      <th>lc3_actin</th>\n",
       "    </tr>\n",
       "  </thead>\n",
       "  <tbody>\n",
       "    <tr>\n",
       "      <th>0</th>\n",
       "      <td>ATG7</td>\n",
       "      <td>0.628593</td>\n",
       "      <td>0.332326</td>\n",
       "      <td>1.958017</td>\n",
       "    </tr>\n",
       "    <tr>\n",
       "      <th>1</th>\n",
       "      <td>ATG7</td>\n",
       "      <td>1.198695</td>\n",
       "      <td>0.642068</td>\n",
       "      <td>1.353481</td>\n",
       "    </tr>\n",
       "    <tr>\n",
       "      <th>2</th>\n",
       "      <td>ATG7</td>\n",
       "      <td>0.866066</td>\n",
       "      <td>0.399830</td>\n",
       "      <td>1.005349</td>\n",
       "    </tr>\n",
       "    <tr>\n",
       "      <th>3</th>\n",
       "      <td>ATG7-/-</td>\n",
       "      <td>0.130909</td>\n",
       "      <td>0.576838</td>\n",
       "      <td>0.147086</td>\n",
       "    </tr>\n",
       "    <tr>\n",
       "      <th>4</th>\n",
       "      <td>ATG7-/-</td>\n",
       "      <td>0.085066</td>\n",
       "      <td>1.024921</td>\n",
       "      <td>0.682458</td>\n",
       "    </tr>\n",
       "    <tr>\n",
       "      <th>5</th>\n",
       "      <td>ATG7-/-</td>\n",
       "      <td>0.222616</td>\n",
       "      <td>0.657405</td>\n",
       "      <td>0.467422</td>\n",
       "    </tr>\n",
       "    <tr>\n",
       "      <th>6</th>\n",
       "      <td>MEF WT</td>\n",
       "      <td>0.180522</td>\n",
       "      <td>0.344499</td>\n",
       "      <td>2.018033</td>\n",
       "    </tr>\n",
       "    <tr>\n",
       "      <th>7</th>\n",
       "      <td>MEF WT</td>\n",
       "      <td>0.046846</td>\n",
       "      <td>0.419058</td>\n",
       "      <td>1.191988</td>\n",
       "    </tr>\n",
       "    <tr>\n",
       "      <th>8</th>\n",
       "      <td>MEF WT</td>\n",
       "      <td>0.161820</td>\n",
       "      <td>0.359592</td>\n",
       "      <td>1.314440</td>\n",
       "    </tr>\n",
       "    <tr>\n",
       "      <th>9</th>\n",
       "      <td>dVSR</td>\n",
       "      <td>0.959698</td>\n",
       "      <td>0.721158</td>\n",
       "      <td>0.133515</td>\n",
       "    </tr>\n",
       "    <tr>\n",
       "      <th>10</th>\n",
       "      <td>dVSR</td>\n",
       "      <td>1.195788</td>\n",
       "      <td>0.924603</td>\n",
       "      <td>0.618526</td>\n",
       "    </tr>\n",
       "    <tr>\n",
       "      <th>11</th>\n",
       "      <td>dVSR</td>\n",
       "      <td>0.931553</td>\n",
       "      <td>0.831016</td>\n",
       "      <td>0.345778</td>\n",
       "    </tr>\n",
       "  </tbody>\n",
       "</table>\n",
       "</div>"
      ],
      "text/plain": [
       "      index  flag_actin  p62_actin  lc3_actin\n",
       "0      ATG7    0.628593   0.332326   1.958017\n",
       "1      ATG7    1.198695   0.642068   1.353481\n",
       "2      ATG7    0.866066   0.399830   1.005349\n",
       "3   ATG7-/-    0.130909   0.576838   0.147086\n",
       "4   ATG7-/-    0.085066   1.024921   0.682458\n",
       "5   ATG7-/-    0.222616   0.657405   0.467422\n",
       "6    MEF WT    0.180522   0.344499   2.018033\n",
       "7    MEF WT    0.046846   0.419058   1.191988\n",
       "8    MEF WT    0.161820   0.359592   1.314440\n",
       "9      dVSR    0.959698   0.721158   0.133515\n",
       "10     dVSR    1.195788   0.924603   0.618526\n",
       "11     dVSR    0.931553   0.831016   0.345778"
      ]
     },
     "execution_count": 7,
     "metadata": {},
     "output_type": "execute_result"
    }
   ],
   "source": [
    "df = pandas.read_csv('wbs_dmso.tsv', sep = \"\\t\")\n",
    "df"
   ]
  },
  {
   "cell_type": "code",
   "execution_count": 8,
   "metadata": {},
   "outputs": [
    {
     "name": "stderr",
     "output_type": "stream",
     "text": [
      "findfont: Font family ['FreeSans'] not found. Falling back to DejaVu Sans.\n",
      "findfont: Font family ['FreeSans'] not found. Falling back to DejaVu Sans.\n"
     ]
    },
    {
     "data": {
      "text/plain": [
       "<matplotlib.legend.Legend at 0x2a076d2e760>"
      ]
     },
     "execution_count": 8,
     "metadata": {},
     "output_type": "execute_result"
    },
    {
     "name": "stderr",
     "output_type": "stream",
     "text": [
      "findfont: Font family ['FreeSans'] not found. Falling back to DejaVu Sans.\n"
     ]
    },
    {
     "data": {
      "image/png": "[encoded data removed]",
      "text/plain": [
       "<Figure size 432x360 with 1 Axes>"
      ]
     },
     "metadata": {
      "needs_background": "light"
     },
     "output_type": "display_data"
    }
   ],
   "source": [
    "##Same without FLAG\n",
    "# Distribution: Data preparation + graph\n",
    "\n",
    "Data = df\n",
    "Info = 'dmso'\n",
    "\n",
    "#data preparation for graph\n",
    "Data.reset_index(inplace = True, drop = True)\n",
    "shape = Data.shape\n",
    "shape = shape[0]\n",
    "#     print(shape)\n",
    "\n",
    "#select the sample type column\n",
    "sample_type = {'sample_type':[Data.iloc[:,0][i]\n",
    "  for i in range(0, shape)]}\n",
    "\n",
    "#convert to df, and copy it 3 times\n",
    "sample_typedf = pandas.DataFrame(sample_type)\n",
    "sample_typedf = pandas.concat([sample_typedf,sample_typedf,sample_typedf,\n",
    "                              sample_typedf,sample_typedf,sample_typedf])\n",
    "sample_typedf.reset_index(drop=True, inplace=True)\n",
    "\n",
    "# Y for expression value \n",
    "y = {'y':[Data.iloc[:,j][i]\n",
    "  for j in range(2,4)\n",
    "    for i in range(0, shape)]}\n",
    "\n",
    "#create df with Y \n",
    "data_distrib = pandas.DataFrame(y)\n",
    "\n",
    "# X for ATG7/iso1/iso2                              \n",
    "data_distrib.loc[:shape,'x'] = 'p62'\n",
    "data_distrib.loc[shape:,'x'] = 'LC3B'\n",
    "\n",
    "# Will be used for Hue\n",
    "data_distrib['Sample Type'] = sample_typedf['sample_type']\n",
    "\n",
    "#graph\n",
    "seaborn.catplot(x=\"x\", y=\"y\", hue=\"Sample Type\", aspect= 1.2, kind=\"box\", palette = 'mako',\n",
    "                data = data_distrib, boxprops={'lw':2, 'alpha' : 0.8}, medianprops={'lw':2}, whiskerprops={'lw':2}, \n",
    "                showcaps=True, showfliers=False, legend=False)\n",
    "\n",
    "plt.tight_layout()\n",
    "plt.grid(alpha = 0.5, ls=':')\n",
    "plt.ylabel('relative prot. expr.')\n",
    "plt.xlabel('')\n",
    "plt.title('Autophagy with '+ Info + ' (n=3)', x=.55)\n",
    "plt.legend(loc='center right', fontsize=20, bbox_to_anchor=(1.55, 0.5))"
   ]
  },
  {
   "cell_type": "code",
   "execution_count": 9,
   "metadata": {},
   "outputs": [
    {
     "name": "stdout",
     "output_type": "stream",
     "text": [
      "DMSO\n",
      "P62 STATS\n",
      "the pvalue between ATG7-/- and MEF WT is 4.04278E-02\n",
      "the pvalue between ATG7 and MEF WT is 5.00000E-01\n",
      "the pvalue between dVSR and MEF WT is 4.04278E-02\n",
      "LC3 STATS\n",
      "the pvalue between ATG7-/- and MEF WT is 4.04278E-02\n",
      "the pvalue between ATG7 and MEF WT is 5.00000E-01\n",
      "the pvalue between dVSR and MEF WT is 4.04278E-02\n",
      "\n"
     ]
    }
   ],
   "source": [
    "\n",
    "Data = df\n",
    "Info = 'dmso'\n",
    "\n",
    "# Mann-Whitney analysis all compare to MEF WT\n",
    "Data_stats = Data.sort_values(['index'], ascending = True)\n",
    "Data_stats.reset_index(drop=True, inplace=True)\n",
    "control_label = Data_stats.loc[6]['index']\n",
    "print(Info.upper())\n",
    "\n",
    "##p62\n",
    "control_p62 = Data_stats.iloc[6:9, 2:3]\n",
    "print('P62 STATS')\n",
    "###ATG7-/-\n",
    "statistic, pvalue = scipy.stats.mannwhitneyu(Data_stats.iloc[3:6, 2:3], control_p62)\n",
    "Pvalue = \"{:.5E}\".format(pvalue)\n",
    "print(\"the pvalue between\", Data_stats.loc[3]['index'], \"and\", control_label,\"is\", Pvalue)\n",
    "###ATG7\n",
    "statistic, pvalue = scipy.stats.mannwhitneyu(Data_stats.iloc[0:3, 2:3], control_p62)\n",
    "Pvalue = \"{:.5E}\".format(pvalue)\n",
    "print(\"the pvalue between\", Data_stats.loc[0]['index'], \"and\", control_label,\"is\", Pvalue)\n",
    "###dVSR\n",
    "statistic, pvalue = scipy.stats.mannwhitneyu(Data_stats.iloc[9:, 2:3], control_p62)\n",
    "Pvalue = \"{:.5E}\".format(pvalue)\n",
    "print(\"the pvalue between\", Data_stats.loc[9]['index'], \"and\", control_label,\"is\", Pvalue)\n",
    "\n",
    "##lC3\n",
    "control_lc3 = Data_stats.iloc[6:9, 3:4]\n",
    "print('LC3 STATS')\n",
    "###ATG7-/-\n",
    "statistic, pvalue = scipy.stats.mannwhitneyu(Data_stats.iloc[3:6, 3:4], control_lc3)\n",
    "Pvalue = \"{:.5E}\".format(pvalue)\n",
    "print(\"the pvalue between\", Data_stats.loc[3]['index'], \"and\", control_label,\"is\", Pvalue)\n",
    "###ATG7\n",
    "statistic, pvalue = scipy.stats.mannwhitneyu(Data_stats.iloc[0:3, 3:4], control_lc3)\n",
    "Pvalue = \"{:.5E}\".format(pvalue)\n",
    "print(\"the pvalue between\", Data_stats.loc[0]['index'], \"and\", control_label,\"is\", Pvalue)\n",
    "###dVSR\n",
    "statistic, pvalue = scipy.stats.mannwhitneyu(Data_stats.iloc[9:, 3:4], control_lc3)\n",
    "Pvalue = \"{:.5E}\".format(pvalue)\n",
    "print(\"the pvalue between\", Data_stats.loc[9]['index'], \"and\", control_label,\"is\", Pvalue)\n",
    "print()"
   ]
  },
  {
   "cell_type": "code",
   "execution_count": 10,
   "metadata": {},
   "outputs": [],
   "source": [
    "#WHY DO I HAVE EXACTLY SAME RESULTS ? "
   ]
  },
  {
   "cell_type": "code",
   "execution_count": 11,
   "metadata": {},
   "outputs": [
    {
     "data": {
      "text/html": [
       "<div>\n",
       "<style scoped>\n",
       "    .dataframe tbody tr th:only-of-type {\n",
       "        vertical-align: middle;\n",
       "    }\n",
       "\n",
       "    .dataframe tbody tr th {\n",
       "        vertical-align: top;\n",
       "    }\n",
       "\n",
       "    .dataframe thead th {\n",
       "        text-align: right;\n",
       "    }\n",
       "</style>\n",
       "<table border=\"1\" class=\"dataframe\">\n",
       "  <thead>\n",
       "    <tr style=\"text-align: right;\">\n",
       "      <th></th>\n",
       "      <th>lc3_actin</th>\n",
       "    </tr>\n",
       "  </thead>\n",
       "  <tbody>\n",
       "    <tr>\n",
       "      <th>9</th>\n",
       "      <td>0.133515</td>\n",
       "    </tr>\n",
       "    <tr>\n",
       "      <th>10</th>\n",
       "      <td>0.618526</td>\n",
       "    </tr>\n",
       "    <tr>\n",
       "      <th>11</th>\n",
       "      <td>0.345778</td>\n",
       "    </tr>\n",
       "  </tbody>\n",
       "</table>\n",
       "</div>"
      ],
      "text/plain": [
       "    lc3_actin\n",
       "9    0.133515\n",
       "10   0.618526\n",
       "11   0.345778"
      ]
     },
     "execution_count": 11,
     "metadata": {},
     "output_type": "execute_result"
    }
   ],
   "source": [
    "#For ATG7 vs Ctl \n",
    "## ATG7 value for LC3 : \n",
    "Data_stats.iloc[9:, 3:4]"
   ]
  },
  {
   "cell_type": "code",
   "execution_count": 12,
   "metadata": {},
   "outputs": [
    {
     "data": {
      "text/html": [
       "<div>\n",
       "<style scoped>\n",
       "    .dataframe tbody tr th:only-of-type {\n",
       "        vertical-align: middle;\n",
       "    }\n",
       "\n",
       "    .dataframe tbody tr th {\n",
       "        vertical-align: top;\n",
       "    }\n",
       "\n",
       "    .dataframe thead th {\n",
       "        text-align: right;\n",
       "    }\n",
       "</style>\n",
       "<table border=\"1\" class=\"dataframe\">\n",
       "  <thead>\n",
       "    <tr style=\"text-align: right;\">\n",
       "      <th></th>\n",
       "      <th>lc3_actin</th>\n",
       "    </tr>\n",
       "  </thead>\n",
       "  <tbody>\n",
       "    <tr>\n",
       "      <th>6</th>\n",
       "      <td>2.018033</td>\n",
       "    </tr>\n",
       "    <tr>\n",
       "      <th>7</th>\n",
       "      <td>1.191988</td>\n",
       "    </tr>\n",
       "    <tr>\n",
       "      <th>8</th>\n",
       "      <td>1.314440</td>\n",
       "    </tr>\n",
       "  </tbody>\n",
       "</table>\n",
       "</div>"
      ],
      "text/plain": [
       "   lc3_actin\n",
       "6   2.018033\n",
       "7   1.191988\n",
       "8   1.314440"
      ]
     },
     "execution_count": 12,
     "metadata": {},
     "output_type": "execute_result"
    }
   ],
   "source": [
    "## ctl value for LC3 : \n",
    "control_lc3"
   ]
  },
  {
   "cell_type": "code",
   "execution_count": 13,
   "metadata": {},
   "outputs": [
    {
     "data": {
      "text/html": [
       "<div>\n",
       "<style scoped>\n",
       "    .dataframe tbody tr th:only-of-type {\n",
       "        vertical-align: middle;\n",
       "    }\n",
       "\n",
       "    .dataframe tbody tr th {\n",
       "        vertical-align: top;\n",
       "    }\n",
       "\n",
       "    .dataframe thead th {\n",
       "        text-align: right;\n",
       "    }\n",
       "</style>\n",
       "<table border=\"1\" class=\"dataframe\">\n",
       "  <thead>\n",
       "    <tr style=\"text-align: right;\">\n",
       "      <th></th>\n",
       "      <th>p62_actin</th>\n",
       "    </tr>\n",
       "  </thead>\n",
       "  <tbody>\n",
       "    <tr>\n",
       "      <th>9</th>\n",
       "      <td>0.721158</td>\n",
       "    </tr>\n",
       "    <tr>\n",
       "      <th>10</th>\n",
       "      <td>0.924603</td>\n",
       "    </tr>\n",
       "    <tr>\n",
       "      <th>11</th>\n",
       "      <td>0.831016</td>\n",
       "    </tr>\n",
       "  </tbody>\n",
       "</table>\n",
       "</div>"
      ],
      "text/plain": [
       "    p62_actin\n",
       "9    0.721158\n",
       "10   0.924603\n",
       "11   0.831016"
      ]
     },
     "execution_count": 13,
     "metadata": {},
     "output_type": "execute_result"
    }
   ],
   "source": [
    "## ATG7 value for P62 : \n",
    "Data_stats.iloc[9:, 2:3]"
   ]
  },
  {
   "cell_type": "code",
   "execution_count": 14,
   "metadata": {},
   "outputs": [
    {
     "data": {
      "text/html": [
       "<div>\n",
       "<style scoped>\n",
       "    .dataframe tbody tr th:only-of-type {\n",
       "        vertical-align: middle;\n",
       "    }\n",
       "\n",
       "    .dataframe tbody tr th {\n",
       "        vertical-align: top;\n",
       "    }\n",
       "\n",
       "    .dataframe thead th {\n",
       "        text-align: right;\n",
       "    }\n",
       "</style>\n",
       "<table border=\"1\" class=\"dataframe\">\n",
       "  <thead>\n",
       "    <tr style=\"text-align: right;\">\n",
       "      <th></th>\n",
       "      <th>p62_actin</th>\n",
       "    </tr>\n",
       "  </thead>\n",
       "  <tbody>\n",
       "    <tr>\n",
       "      <th>6</th>\n",
       "      <td>0.344499</td>\n",
       "    </tr>\n",
       "    <tr>\n",
       "      <th>7</th>\n",
       "      <td>0.419058</td>\n",
       "    </tr>\n",
       "    <tr>\n",
       "      <th>8</th>\n",
       "      <td>0.359592</td>\n",
       "    </tr>\n",
       "  </tbody>\n",
       "</table>\n",
       "</div>"
      ],
      "text/plain": [
       "   p62_actin\n",
       "6   0.344499\n",
       "7   0.419058\n",
       "8   0.359592"
      ]
     },
     "execution_count": 14,
     "metadata": {},
     "output_type": "execute_result"
    }
   ],
   "source": [
    "## ctl value for P62 : \n",
    "control_p62"
   ]
  },
  {
   "cell_type": "code",
   "execution_count": 15,
   "metadata": {},
   "outputs": [
    {
     "data": {
      "text/plain": [
       "0.04042779918502612"
      ]
     },
     "execution_count": 15,
     "metadata": {},
     "output_type": "execute_result"
    }
   ],
   "source": [
    "#Stats for LC3\n",
    "statistic, pvalue = scipy.stats.mannwhitneyu(Data_stats.iloc[9:, 3:4], control_lc3)\n",
    "pvalue"
   ]
  },
  {
   "cell_type": "code",
   "execution_count": 16,
   "metadata": {},
   "outputs": [
    {
     "data": {
      "text/plain": [
       "0.04042779918502612"
      ]
     },
     "execution_count": 16,
     "metadata": {},
     "output_type": "execute_result"
    }
   ],
   "source": [
    "# stat for P62\n",
    "statistic, pvalue = scipy.stats.mannwhitneyu(Data_stats.iloc[9:, 2:3], control_p62)\n",
    "pvalue"
   ]
  }
 ],
 "metadata": {
  "kernelspec": {
   "display_name": "Python 3",
   "language": "python",
   "name": "python3"
  },
  "language_info": {
   "codemirror_mode": {
    "name": "ipython",
    "version": 3
   },
   "file_extension": ".py",
   "mimetype": "text/x-python",
   "name": "python",
   "nbconvert_exporter": "python",
   "pygments_lexer": "ipython3",
   "version": "3.8.5"
  }
 },
 "nbformat": 4,
 "nbformat_minor": 4
}
