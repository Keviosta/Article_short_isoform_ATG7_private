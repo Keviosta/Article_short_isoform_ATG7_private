{
 "cells": [
  {
   "cell_type": "markdown",
   "metadata": {
    "id": "ifhgKXirU9Ds"
   },
   "source": [
    "# I] Import"
   ]
  },
  {
   "cell_type": "code",
   "execution_count": 1,
   "metadata": {
    "id": "TLQwwG5VDPFA"
   },
   "outputs": [],
   "source": [
    "import pandas, numpy, math, seaborn\n",
    "import scipy, scipy.stats\n",
    "import matplotlib, matplotlib.pyplot as plt\n",
    "# this is a trick to make figures look nicer\n",
    "matplotlib.rcParams.update({'font.size':20, 'font.family':'FreeSans', 'xtick.labelsize':20, 'ytick.labelsize':10, 'figure.figsize':(12, 8)})"
   ]
  },
  {
   "cell_type": "code",
   "execution_count": 2,
   "metadata": {
    "id": "zNUQt2bu6oR7"
   },
   "outputs": [],
   "source": [
    "# pip install matplotlib-venn"
   ]
  },
  {
   "cell_type": "code",
   "execution_count": 3,
   "metadata": {
    "id": "80fqBs1JAN7C"
   },
   "outputs": [],
   "source": [
    "from matplotlib_venn import venn2"
   ]
  },
  {
   "cell_type": "code",
   "execution_count": 4,
   "metadata": {},
   "outputs": [],
   "source": [
    "input_file_directory = '/Users/kja11/OneDrive - Háskóli Íslands/PhD ATG7//0 in_silico/Python/1)data_input/'\n",
    "output_file_directory = '/Users/kja11/OneDrive - Háskóli Íslands/PhD ATG7/0 in_silico/Python/3)output/'"
   ]
  },
  {
   "cell_type": "markdown",
   "metadata": {
    "id": "wYGSc-xPDaFV"
   },
   "source": [
    "## functions & options\n"
   ]
  },
  {
   "cell_type": "code",
   "execution_count": 5,
   "metadata": {
    "id": "K8VbSwcZyDon"
   },
   "outputs": [],
   "source": [
    "#define a function to split after the \".\". The 1 is for how many word to have. if we have several dot. The [1] is what is after the dot, and [0] what is before\n",
    "def split(L):\n",
    "  return L.split(\".\",1)[0]"
   ]
  },
  {
   "cell_type": "markdown",
   "metadata": {
    "id": "IpmCT5mEDPFD"
   },
   "source": [
    "# II] Dataframe settings"
   ]
  },
  {
   "cell_type": "markdown",
   "metadata": {
    "id": "scwtwuDCqUKz"
   },
   "source": [
    "## A) Isoform data"
   ]
  },
  {
   "cell_type": "code",
   "execution_count": 6,
   "metadata": {},
   "outputs": [
    {
     "name": "stdout",
     "output_type": "stream",
     "text": [
      "(19131, 31)\n",
      "Wall time: 123 ms\n"
     ]
    },
    {
     "data": {
      "text/html": [
       "<div>\n",
       "<style scoped>\n",
       "    .dataframe tbody tr th:only-of-type {\n",
       "        vertical-align: middle;\n",
       "    }\n",
       "\n",
       "    .dataframe tbody tr th {\n",
       "        vertical-align: top;\n",
       "    }\n",
       "\n",
       "    .dataframe thead th {\n",
       "        text-align: right;\n",
       "    }\n",
       "</style>\n",
       "<table border=\"1\" class=\"dataframe\">\n",
       "  <thead>\n",
       "    <tr style=\"text-align: right;\">\n",
       "      <th></th>\n",
       "      <th>sample</th>\n",
       "      <th>samples</th>\n",
       "      <th>_sample_type</th>\n",
       "      <th>_primary_site</th>\n",
       "      <th>ENSG00000197548.12</th>\n",
       "      <th>ENST00000451513.5</th>\n",
       "      <th>ENST00000435760.5</th>\n",
       "      <th>ENST00000451830.5</th>\n",
       "      <th>ENST00000460444.5</th>\n",
       "      <th>ENST00000470474.1</th>\n",
       "      <th>...</th>\n",
       "      <th>ENST00000434066.6</th>\n",
       "      <th>ENST00000478638.5</th>\n",
       "      <th>ENST00000461278.1</th>\n",
       "      <th>ENST00000460291.1</th>\n",
       "      <th>ENST00000467121.1</th>\n",
       "      <th>ENST00000414717.5</th>\n",
       "      <th>ENST00000427759.5</th>\n",
       "      <th>ENST00000446110.1</th>\n",
       "      <th>OS</th>\n",
       "      <th>OS.time</th>\n",
       "    </tr>\n",
       "  </thead>\n",
       "  <tbody>\n",
       "    <tr>\n",
       "      <th>0</th>\n",
       "      <td>TARGET-20-PARUBT-40</td>\n",
       "      <td>TARGET-20-PARUBT-40</td>\n",
       "      <td>Recurrent Blood Derived Cancer - Peripheral Blood</td>\n",
       "      <td>White blood cell</td>\n",
       "      <td>4.401</td>\n",
       "      <td>-9.9660</td>\n",
       "      <td>0.3685</td>\n",
       "      <td>2.656</td>\n",
       "      <td>-0.7108</td>\n",
       "      <td>-1.0860</td>\n",
       "      <td>...</td>\n",
       "      <td>-9.9660</td>\n",
       "      <td>-9.966</td>\n",
       "      <td>-0.6193</td>\n",
       "      <td>-5.0120</td>\n",
       "      <td>-9.966</td>\n",
       "      <td>0.8568</td>\n",
       "      <td>-9.9660</td>\n",
       "      <td>-9.9660</td>\n",
       "      <td>NaN</td>\n",
       "      <td>NaN</td>\n",
       "    </tr>\n",
       "    <tr>\n",
       "      <th>1</th>\n",
       "      <td>TARGET-20-PATJHJ-40</td>\n",
       "      <td>TARGET-20-PATJHJ-40</td>\n",
       "      <td>Recurrent Blood Derived Cancer - Peripheral Blood</td>\n",
       "      <td>White blood cell</td>\n",
       "      <td>2.820</td>\n",
       "      <td>-9.9660</td>\n",
       "      <td>-0.1345</td>\n",
       "      <td>-1.595</td>\n",
       "      <td>-2.9320</td>\n",
       "      <td>-9.9660</td>\n",
       "      <td>...</td>\n",
       "      <td>-9.9660</td>\n",
       "      <td>-9.966</td>\n",
       "      <td>-9.9660</td>\n",
       "      <td>-3.3080</td>\n",
       "      <td>-9.966</td>\n",
       "      <td>-2.0530</td>\n",
       "      <td>-2.7270</td>\n",
       "      <td>-0.2328</td>\n",
       "      <td>NaN</td>\n",
       "      <td>NaN</td>\n",
       "    </tr>\n",
       "    <tr>\n",
       "      <th>2</th>\n",
       "      <td>TARGET-10-PASLZM-40</td>\n",
       "      <td>TARGET-10-PASLZM-40</td>\n",
       "      <td>Recurrent Blood Derived Cancer - Peripheral Blood</td>\n",
       "      <td>White blood cell</td>\n",
       "      <td>1.158</td>\n",
       "      <td>-9.9660</td>\n",
       "      <td>-2.6350</td>\n",
       "      <td>-1.994</td>\n",
       "      <td>-9.9660</td>\n",
       "      <td>-9.9660</td>\n",
       "      <td>...</td>\n",
       "      <td>-9.9660</td>\n",
       "      <td>-9.966</td>\n",
       "      <td>-9.9660</td>\n",
       "      <td>-3.6260</td>\n",
       "      <td>-9.966</td>\n",
       "      <td>-1.0860</td>\n",
       "      <td>-9.9660</td>\n",
       "      <td>-9.9660</td>\n",
       "      <td>NaN</td>\n",
       "      <td>NaN</td>\n",
       "    </tr>\n",
       "    <tr>\n",
       "      <th>3</th>\n",
       "      <td>TARGET-21-PATAIJ-42</td>\n",
       "      <td>TARGET-21-PATAIJ-42</td>\n",
       "      <td>Post treatment Blood Cancer - Blood</td>\n",
       "      <td>White blood cell</td>\n",
       "      <td>4.332</td>\n",
       "      <td>0.2642</td>\n",
       "      <td>1.0850</td>\n",
       "      <td>-1.086</td>\n",
       "      <td>-9.9660</td>\n",
       "      <td>-9.9660</td>\n",
       "      <td>...</td>\n",
       "      <td>-9.9660</td>\n",
       "      <td>-9.966</td>\n",
       "      <td>-9.9660</td>\n",
       "      <td>-1.5950</td>\n",
       "      <td>-9.966</td>\n",
       "      <td>0.3115</td>\n",
       "      <td>-0.6643</td>\n",
       "      <td>1.7230</td>\n",
       "      <td>NaN</td>\n",
       "      <td>NaN</td>\n",
       "    </tr>\n",
       "    <tr>\n",
       "      <th>4</th>\n",
       "      <td>TARGET-21-PASVJS-41</td>\n",
       "      <td>TARGET-21-PASVJS-41</td>\n",
       "      <td>Post treatment Blood Cancer - Bone Marrow</td>\n",
       "      <td>White blood cell</td>\n",
       "      <td>5.156</td>\n",
       "      <td>-9.9660</td>\n",
       "      <td>1.6280</td>\n",
       "      <td>-1.732</td>\n",
       "      <td>-2.8260</td>\n",
       "      <td>-0.6643</td>\n",
       "      <td>...</td>\n",
       "      <td>-0.1187</td>\n",
       "      <td>-9.966</td>\n",
       "      <td>-1.3550</td>\n",
       "      <td>0.4125</td>\n",
       "      <td>-9.966</td>\n",
       "      <td>0.2522</td>\n",
       "      <td>-9.9660</td>\n",
       "      <td>2.4310</td>\n",
       "      <td>NaN</td>\n",
       "      <td>NaN</td>\n",
       "    </tr>\n",
       "  </tbody>\n",
       "</table>\n",
       "<p>5 rows × 31 columns</p>\n",
       "</div>"
      ],
      "text/plain": [
       "                sample              samples  \\\n",
       "0  TARGET-20-PARUBT-40  TARGET-20-PARUBT-40   \n",
       "1  TARGET-20-PATJHJ-40  TARGET-20-PATJHJ-40   \n",
       "2  TARGET-10-PASLZM-40  TARGET-10-PASLZM-40   \n",
       "3  TARGET-21-PATAIJ-42  TARGET-21-PATAIJ-42   \n",
       "4  TARGET-21-PASVJS-41  TARGET-21-PASVJS-41   \n",
       "\n",
       "                                        _sample_type     _primary_site  \\\n",
       "0  Recurrent Blood Derived Cancer - Peripheral Blood  White blood cell   \n",
       "1  Recurrent Blood Derived Cancer - Peripheral Blood  White blood cell   \n",
       "2  Recurrent Blood Derived Cancer - Peripheral Blood  White blood cell   \n",
       "3                Post treatment Blood Cancer - Blood  White blood cell   \n",
       "4          Post treatment Blood Cancer - Bone Marrow  White blood cell   \n",
       "\n",
       "   ENSG00000197548.12  ENST00000451513.5  ENST00000435760.5  \\\n",
       "0               4.401            -9.9660             0.3685   \n",
       "1               2.820            -9.9660            -0.1345   \n",
       "2               1.158            -9.9660            -2.6350   \n",
       "3               4.332             0.2642             1.0850   \n",
       "4               5.156            -9.9660             1.6280   \n",
       "\n",
       "   ENST00000451830.5  ENST00000460444.5  ENST00000470474.1  ...  \\\n",
       "0              2.656            -0.7108            -1.0860  ...   \n",
       "1             -1.595            -2.9320            -9.9660  ...   \n",
       "2             -1.994            -9.9660            -9.9660  ...   \n",
       "3             -1.086            -9.9660            -9.9660  ...   \n",
       "4             -1.732            -2.8260            -0.6643  ...   \n",
       "\n",
       "   ENST00000434066.6  ENST00000478638.5  ENST00000461278.1  ENST00000460291.1  \\\n",
       "0            -9.9660             -9.966            -0.6193            -5.0120   \n",
       "1            -9.9660             -9.966            -9.9660            -3.3080   \n",
       "2            -9.9660             -9.966            -9.9660            -3.6260   \n",
       "3            -9.9660             -9.966            -9.9660            -1.5950   \n",
       "4            -0.1187             -9.966            -1.3550             0.4125   \n",
       "\n",
       "   ENST00000467121.1  ENST00000414717.5  ENST00000427759.5  ENST00000446110.1  \\\n",
       "0             -9.966             0.8568            -9.9660            -9.9660   \n",
       "1             -9.966            -2.0530            -2.7270            -0.2328   \n",
       "2             -9.966            -1.0860            -9.9660            -9.9660   \n",
       "3             -9.966             0.3115            -0.6643             1.7230   \n",
       "4             -9.966             0.2522            -9.9660             2.4310   \n",
       "\n",
       "   OS  OS.time  \n",
       "0 NaN      NaN  \n",
       "1 NaN      NaN  \n",
       "2 NaN      NaN  \n",
       "3 NaN      NaN  \n",
       "4 NaN      NaN  \n",
       "\n",
       "[5 rows x 31 columns]"
      ]
     },
     "execution_count": 6,
     "metadata": {},
     "output_type": "execute_result"
    }
   ],
   "source": [
    "%%time\n",
    "path = input_file_directory + \"xenabrowser_brut_data/xena_surv_ATG7.tsv\"\n",
    "df_ori= pandas.read_csv(path, sep = \"\\t\")\n",
    "print(df_ori.shape)\n",
    "df_ori.head()"
   ]
  },
  {
   "cell_type": "code",
   "execution_count": 7,
   "metadata": {},
   "outputs": [
    {
     "data": {
      "text/html": [
       "<div>\n",
       "<style scoped>\n",
       "    .dataframe tbody tr th:only-of-type {\n",
       "        vertical-align: middle;\n",
       "    }\n",
       "\n",
       "    .dataframe tbody tr th {\n",
       "        vertical-align: top;\n",
       "    }\n",
       "\n",
       "    .dataframe thead th {\n",
       "        text-align: right;\n",
       "    }\n",
       "</style>\n",
       "<table border=\"1\" class=\"dataframe\">\n",
       "  <thead>\n",
       "    <tr style=\"text-align: right;\">\n",
       "      <th></th>\n",
       "      <th>sample</th>\n",
       "      <th>Sample_Type</th>\n",
       "      <th>Primary_Site</th>\n",
       "      <th>OS</th>\n",
       "      <th>OS_time</th>\n",
       "      <th>ATG7</th>\n",
       "      <th>ATG7_1</th>\n",
       "      <th>ATG7_2</th>\n",
       "      <th>ATG7_3</th>\n",
       "      <th>ATG7_total</th>\n",
       "      <th>...</th>\n",
       "      <th>ATG7_3tpm</th>\n",
       "      <th>log2_p1_ATG7_total</th>\n",
       "      <th>log2_p1_ATG7_1</th>\n",
       "      <th>log2_p1_ATG7_2</th>\n",
       "      <th>ATG7_prot_tot</th>\n",
       "      <th>ATG7_1perc</th>\n",
       "      <th>ATG7_2perc</th>\n",
       "      <th>ATG7_3perc</th>\n",
       "      <th>ATG7_1norm</th>\n",
       "      <th>ATG7_2norm</th>\n",
       "    </tr>\n",
       "  </thead>\n",
       "  <tbody>\n",
       "    <tr>\n",
       "      <th>0</th>\n",
       "      <td>TARGET-20-PARUBT-40</td>\n",
       "      <td>Recurrent Blood Derived Cancer - Peripheral Blood</td>\n",
       "      <td>White Blood Cell</td>\n",
       "      <td>NaN</td>\n",
       "      <td>NaN</td>\n",
       "      <td>4.401</td>\n",
       "      <td>1.3900</td>\n",
       "      <td>1.522</td>\n",
       "      <td>-1.7320</td>\n",
       "      <td>21.125765</td>\n",
       "      <td>...</td>\n",
       "      <td>3.000343e-01</td>\n",
       "      <td>4.467655</td>\n",
       "      <td>1.855905</td>\n",
       "      <td>1.952665</td>\n",
       "      <td>5.790710</td>\n",
       "      <td>45.241201</td>\n",
       "      <td>49.577495</td>\n",
       "      <td>5.181305</td>\n",
       "      <td>0.124009</td>\n",
       "      <td>0.135895</td>\n",
       "    </tr>\n",
       "    <tr>\n",
       "      <th>1</th>\n",
       "      <td>TARGET-20-PATJHJ-40</td>\n",
       "      <td>Recurrent Blood Derived Cancer - Peripheral Blood</td>\n",
       "      <td>White Blood Cell</td>\n",
       "      <td>NaN</td>\n",
       "      <td>NaN</td>\n",
       "      <td>2.820</td>\n",
       "      <td>1.1180</td>\n",
       "      <td>-1.086</td>\n",
       "      <td>-9.9660</td>\n",
       "      <td>7.060624</td>\n",
       "      <td>...</td>\n",
       "      <td>-1.495113e-07</td>\n",
       "      <td>3.010892</td>\n",
       "      <td>1.664236</td>\n",
       "      <td>0.555881</td>\n",
       "      <td>2.639524</td>\n",
       "      <td>82.191280</td>\n",
       "      <td>17.808726</td>\n",
       "      <td>-0.000006</td>\n",
       "      <td>0.307262</td>\n",
       "      <td>0.066576</td>\n",
       "    </tr>\n",
       "    <tr>\n",
       "      <th>2</th>\n",
       "      <td>TARGET-10-PASLZM-40</td>\n",
       "      <td>Recurrent Blood Derived Cancer - Peripheral Blood</td>\n",
       "      <td>White Blood Cell</td>\n",
       "      <td>NaN</td>\n",
       "      <td>NaN</td>\n",
       "      <td>1.158</td>\n",
       "      <td>0.0158</td>\n",
       "      <td>-3.171</td>\n",
       "      <td>-3.8160</td>\n",
       "      <td>2.230479</td>\n",
       "      <td>...</td>\n",
       "      <td>7.000183e-02</td>\n",
       "      <td>1.691748</td>\n",
       "      <td>1.007204</td>\n",
       "      <td>0.150597</td>\n",
       "      <td>1.190042</td>\n",
       "      <td>84.871949</td>\n",
       "      <td>9.245753</td>\n",
       "      <td>5.882299</td>\n",
       "      <td>0.452823</td>\n",
       "      <td>0.049329</td>\n",
       "    </tr>\n",
       "    <tr>\n",
       "      <th>3</th>\n",
       "      <td>TARGET-21-PATAIJ-42</td>\n",
       "      <td>Post treatment Blood Cancer - Blood</td>\n",
       "      <td>White Blood Cell</td>\n",
       "      <td>NaN</td>\n",
       "      <td>NaN</td>\n",
       "      <td>4.332</td>\n",
       "      <td>1.3450</td>\n",
       "      <td>1.975</td>\n",
       "      <td>-9.9660</td>\n",
       "      <td>20.139115</td>\n",
       "      <td>...</td>\n",
       "      <td>-1.495113e-07</td>\n",
       "      <td>4.401843</td>\n",
       "      <td>1.823465</td>\n",
       "      <td>2.301670</td>\n",
       "      <td>6.469584</td>\n",
       "      <td>39.249848</td>\n",
       "      <td>60.750154</td>\n",
       "      <td>-0.000002</td>\n",
       "      <td>0.126088</td>\n",
       "      <td>0.195157</td>\n",
       "    </tr>\n",
       "    <tr>\n",
       "      <th>4</th>\n",
       "      <td>TARGET-21-PASVJS-41</td>\n",
       "      <td>Post treatment Blood Cancer - Bone Marrow</td>\n",
       "      <td>White Blood Cell</td>\n",
       "      <td>NaN</td>\n",
       "      <td>NaN</td>\n",
       "      <td>5.156</td>\n",
       "      <td>1.8040</td>\n",
       "      <td>3.769</td>\n",
       "      <td>0.5069</td>\n",
       "      <td>35.653197</td>\n",
       "      <td>...</td>\n",
       "      <td>1.419994e+00</td>\n",
       "      <td>5.195867</td>\n",
       "      <td>2.166995</td>\n",
       "      <td>3.871026</td>\n",
       "      <td>18.542569</td>\n",
       "      <td>18.826249</td>\n",
       "      <td>73.515731</td>\n",
       "      <td>7.658019</td>\n",
       "      <td>0.097912</td>\n",
       "      <td>0.382342</td>\n",
       "    </tr>\n",
       "  </tbody>\n",
       "</table>\n",
       "<p>5 rows × 22 columns</p>\n",
       "</div>"
      ],
      "text/plain": [
       "                sample                                        Sample_Type  \\\n",
       "0  TARGET-20-PARUBT-40  Recurrent Blood Derived Cancer - Peripheral Blood   \n",
       "1  TARGET-20-PATJHJ-40  Recurrent Blood Derived Cancer - Peripheral Blood   \n",
       "2  TARGET-10-PASLZM-40  Recurrent Blood Derived Cancer - Peripheral Blood   \n",
       "3  TARGET-21-PATAIJ-42                Post treatment Blood Cancer - Blood   \n",
       "4  TARGET-21-PASVJS-41          Post treatment Blood Cancer - Bone Marrow   \n",
       "\n",
       "       Primary_Site  OS  OS_time   ATG7  ATG7_1  ATG7_2  ATG7_3  ATG7_total  \\\n",
       "0  White Blood Cell NaN      NaN  4.401  1.3900   1.522 -1.7320   21.125765   \n",
       "1  White Blood Cell NaN      NaN  2.820  1.1180  -1.086 -9.9660    7.060624   \n",
       "2  White Blood Cell NaN      NaN  1.158  0.0158  -3.171 -3.8160    2.230479   \n",
       "3  White Blood Cell NaN      NaN  4.332  1.3450   1.975 -9.9660   20.139115   \n",
       "4  White Blood Cell NaN      NaN  5.156  1.8040   3.769  0.5069   35.653197   \n",
       "\n",
       "   ...     ATG7_3tpm  log2_p1_ATG7_total  log2_p1_ATG7_1  log2_p1_ATG7_2  \\\n",
       "0  ...  3.000343e-01            4.467655        1.855905        1.952665   \n",
       "1  ... -1.495113e-07            3.010892        1.664236        0.555881   \n",
       "2  ...  7.000183e-02            1.691748        1.007204        0.150597   \n",
       "3  ... -1.495113e-07            4.401843        1.823465        2.301670   \n",
       "4  ...  1.419994e+00            5.195867        2.166995        3.871026   \n",
       "\n",
       "   ATG7_prot_tot  ATG7_1perc  ATG7_2perc  ATG7_3perc  ATG7_1norm  ATG7_2norm  \n",
       "0       5.790710   45.241201   49.577495    5.181305    0.124009    0.135895  \n",
       "1       2.639524   82.191280   17.808726   -0.000006    0.307262    0.066576  \n",
       "2       1.190042   84.871949    9.245753    5.882299    0.452823    0.049329  \n",
       "3       6.469584   39.249848   60.750154   -0.000002    0.126088    0.195157  \n",
       "4      18.542569   18.826249   73.515731    7.658019    0.097912    0.382342  \n",
       "\n",
       "[5 rows x 22 columns]"
      ]
     },
     "execution_count": 7,
     "metadata": {},
     "output_type": "execute_result"
    }
   ],
   "source": [
    "# Column selection\n",
    "df = df_ori[['sample',\n",
    "            '_sample_type',\n",
    "            '_primary_site',\n",
    "             'OS', 'OS.time',\n",
    "            'ENSG00000197548.12',\n",
    "            'ENST00000354449.7', \n",
    "            'ENST00000354956.9',\n",
    "            'ENST00000446450.6']]\n",
    "\n",
    "# We have Adrenal Gland and Adrenal gland. I need to put \"G\".\n",
    "df = df.assign(_primary_site=df['_primary_site'].str.title())\n",
    "\n",
    "# Column rename\n",
    "df = df.rename(columns = {'sample' : 'sample',\n",
    "                    '_sample_type' : 'Sample_Type',\n",
    "                    'OS.time' : 'OS_time',\n",
    "                    '_primary_site' : 'Primary_Site',\n",
    "                    'ENSG00000197548.12': 'ATG7',\n",
    "                    'ENST00000354449.7': 'ATG7_1',\n",
    "                    'ENST00000354956.9': 'ATG7_2',\n",
    "                    'ENST00000446450.6': 'ATG7_3'})\n",
    "\n",
    "# Calcul to have value from log2;  2**(ATG7(1))-0.001\n",
    "df = df.assign(ATG7_total= pow(2,df['ATG7'])-0.001,\n",
    "          ATG7_1tpm= pow(2,df['ATG7_1'])-0.001,\n",
    "          ATG7_2tpm= pow(2,df['ATG7_2'])-0.001,\n",
    "          ATG7_3tpm= pow(2,df['ATG7_3'])-0.001)\n",
    "\n",
    "# Calcul to have log2+1 from value; \n",
    "df = df.assign(log2_p1_ATG7_total= numpy.log2(df['ATG7_total']+1),\n",
    "               log2_p1_ATG7_1= numpy.log2(df['ATG7_1tpm']+1),\n",
    "               log2_p1_ATG7_2= numpy.log2(df['ATG7_2tpm']+1))\n",
    "\n",
    "# Calcul to see percentage of expression of the 3 isoforms of ATG7 \n",
    "df = df.assign(ATG7_prot_tot= df['ATG7_1tpm'] + df['ATG7_2tpm'] + df['ATG7_3tpm'])\n",
    "\n",
    "df = df.assign(ATG7_1perc= (df['ATG7_1tpm'] *100)/ df['ATG7_prot_tot'],\n",
    "              ATG7_2perc= (df['ATG7_2tpm'] *100)/ df['ATG7_prot_tot'],\n",
    "              ATG7_3perc= (df['ATG7_3tpm'] *100)/ df['ATG7_prot_tot'])                              \n",
    "\n",
    "#Add columns, normalized on total\n",
    "df = df.assign(ATG7_1norm= df['ATG7_1tpm']/df[\"ATG7_total\"],\n",
    "               ATG7_2norm= df['ATG7_2tpm']/df[\"ATG7_total\"])                                   \n",
    "\n",
    "df.head()"
   ]
  },
  {
   "cell_type": "code",
   "execution_count": 8,
   "metadata": {},
   "outputs": [
    {
     "data": {
      "text/plain": [
       "Primary Tumor                                        9185\n",
       "Normal Tissue                                        7429\n",
       "Solid Tissue Normal                                   738\n",
       "Cell Line                                             433\n",
       "Metastatic                                            393\n",
       "Primary Solid Tumor                                   286\n",
       "Primary Blood Derived Cancer - Peripheral Blood       239\n",
       "Primary Blood Derived Cancer - Bone Marrow            237\n",
       "Recurrent Blood Derived Cancer - Bone Marrow          104\n",
       "Recurrent Tumor                                        45\n",
       "Recurrent Solid Tumor                                  13\n",
       "Post treatment Blood Cancer - Bone Marrow              12\n",
       "Additional - New Primary                               11\n",
       "Recurrent Blood Derived Cancer - Peripheral Blood       3\n",
       "Post treatment Blood Cancer - Blood                     1\n",
       "Control Analyte                                         1\n",
       "Additional Metastatic                                   1\n",
       "Name: Sample_Type, dtype: int64"
      ]
     },
     "execution_count": 8,
     "metadata": {},
     "output_type": "execute_result"
    }
   ],
   "source": [
    "#what kind of samples are the data ? \n",
    "df['Sample_Type'].value_counts()"
   ]
  },
  {
   "cell_type": "code",
   "execution_count": 9,
   "metadata": {},
   "outputs": [
    {
     "data": {
      "text/plain": [
       "Brain                         1846\n",
       "Lung                          1410\n",
       "Breast                        1391\n",
       "Skin                          1282\n",
       "Kidney                        1193\n",
       "Esophagus                      848\n",
       "Prostate                       648\n",
       "Colon                          639\n",
       "Stomach                        624\n",
       "Blood Vessel                   606\n",
       "White Blood Cell               595\n",
       "Thyroid Gland                  571\n",
       "Head And Neck Region           564\n",
       "Liver                          531\n",
       "Adipose Tissue                 515\n",
       "Ovary                          515\n",
       "Blood                          444\n",
       "Bladder                        435\n",
       "Muscle                         396\n",
       "Heart                          377\n",
       "Pancreas                       350\n",
       "Testis                         319\n",
       "Cervix                         309\n",
       "Thyroid                        279\n",
       "Nerve                          278\n",
       "Soft Tissue,Bone               264\n",
       "Adrenal Gland                  205\n",
       "Endometrium                    204\n",
       "Paraganglia                    185\n",
       "Sympathetic�Nervous System     162\n",
       "Uterus                         135\n",
       "Thymus                         121\n",
       "Pituitary                      107\n",
       "Rectum                         103\n",
       "Spleen                         100\n",
       "Small Intestine                 92\n",
       "Lining Of Body Cavities         87\n",
       "Vagina                          85\n",
       "Eye                             79\n",
       "Bone Marrow                     70\n",
       "Salivary Gland                  55\n",
       "Lymphatic Tissue                47\n",
       "Bile Duct                       45\n",
       "Cervix Uteri                    10\n",
       "Fallopian Tube                   5\n",
       "Name: Primary_Site, dtype: int64"
      ]
     },
     "execution_count": 9,
     "metadata": {},
     "output_type": "execute_result"
    }
   ],
   "source": [
    "#what kind of samples are the data ? \n",
    "df['Primary_Site'].value_counts()"
   ]
  },
  {
   "cell_type": "code",
   "execution_count": 10,
   "metadata": {},
   "outputs": [
    {
     "name": "stdout",
     "output_type": "stream",
     "text": [
      "normal_tissue 943\n",
      "primary_tumors 476\n"
     ]
    }
   ],
   "source": [
    "#Creation of two dataframe for blood only\n",
    "##Normal tissue=Blood and Primary tumor=Bone Marrow & Peripheral Blood.\n",
    "df_ATG7_Normal = df[(df['Primary_Site'] == 'Blood Vessel') | \n",
    "                      (df['Primary_Site'] == 'Blood') & (df['Sample_Type'] != 'Cell Line')]\n",
    "\n",
    "df_ATG7_Primary = df[df['Sample_Type'].str.match('(Primary Blood Derived Cancer - Bone Marrow)|(Primary Blood Derived Cancer - Peripheral Blood)')]\n",
    "\n",
    "print('normal_tissue' , len(df_ATG7_Normal))\n",
    "print('primary_tumors' , len(df_ATG7_Primary))"
   ]
  },
  {
   "cell_type": "code",
   "execution_count": 11,
   "metadata": {},
   "outputs": [
    {
     "data": {
      "text/html": [
       "<div>\n",
       "<style scoped>\n",
       "    .dataframe tbody tr th:only-of-type {\n",
       "        vertical-align: middle;\n",
       "    }\n",
       "\n",
       "    .dataframe tbody tr th {\n",
       "        vertical-align: top;\n",
       "    }\n",
       "\n",
       "    .dataframe thead th {\n",
       "        text-align: right;\n",
       "    }\n",
       "</style>\n",
       "<table border=\"1\" class=\"dataframe\">\n",
       "  <thead>\n",
       "    <tr style=\"text-align: right;\">\n",
       "      <th></th>\n",
       "      <th>sample</th>\n",
       "      <th>Sample_Type</th>\n",
       "      <th>Primary_Site</th>\n",
       "      <th>OS</th>\n",
       "      <th>OS_time</th>\n",
       "      <th>ATG7</th>\n",
       "      <th>ATG7_1</th>\n",
       "      <th>ATG7_2</th>\n",
       "      <th>ATG7_3</th>\n",
       "      <th>ATG7_total</th>\n",
       "      <th>...</th>\n",
       "      <th>ATG7_3tpm</th>\n",
       "      <th>log2_p1_ATG7_total</th>\n",
       "      <th>log2_p1_ATG7_1</th>\n",
       "      <th>log2_p1_ATG7_2</th>\n",
       "      <th>ATG7_prot_tot</th>\n",
       "      <th>ATG7_1perc</th>\n",
       "      <th>ATG7_2perc</th>\n",
       "      <th>ATG7_3perc</th>\n",
       "      <th>ATG7_1norm</th>\n",
       "      <th>ATG7_2norm</th>\n",
       "    </tr>\n",
       "  </thead>\n",
       "  <tbody>\n",
       "    <tr>\n",
       "      <th>16</th>\n",
       "      <td>TARGET-21-PASLZE-09</td>\n",
       "      <td>Primary Blood Derived Cancer - Bone Marrow</td>\n",
       "      <td>White Blood Cell</td>\n",
       "      <td>NaN</td>\n",
       "      <td>NaN</td>\n",
       "      <td>5.59</td>\n",
       "      <td>2.23</td>\n",
       "      <td>3.584</td>\n",
       "      <td>0.7916</td>\n",
       "      <td>48.166896</td>\n",
       "      <td>...</td>\n",
       "      <td>1.729993</td>\n",
       "      <td>5.619615</td>\n",
       "      <td>2.508515</td>\n",
       "      <td>3.69944</td>\n",
       "      <td>18.41133</td>\n",
       "      <td>25.475291</td>\n",
       "      <td>65.128358</td>\n",
       "      <td>9.396351</td>\n",
       "      <td>0.097377</td>\n",
       "      <td>0.248947</td>\n",
       "    </tr>\n",
       "  </tbody>\n",
       "</table>\n",
       "<p>1 rows × 22 columns</p>\n",
       "</div>"
      ],
      "text/plain": [
       "                 sample                                 Sample_Type  \\\n",
       "16  TARGET-21-PASLZE-09  Primary Blood Derived Cancer - Bone Marrow   \n",
       "\n",
       "        Primary_Site  OS  OS_time  ATG7  ATG7_1  ATG7_2  ATG7_3  ATG7_total  \\\n",
       "16  White Blood Cell NaN      NaN  5.59    2.23   3.584  0.7916   48.166896   \n",
       "\n",
       "    ...  ATG7_3tpm  log2_p1_ATG7_total  log2_p1_ATG7_1  log2_p1_ATG7_2  \\\n",
       "16  ...   1.729993            5.619615        2.508515         3.69944   \n",
       "\n",
       "    ATG7_prot_tot  ATG7_1perc  ATG7_2perc  ATG7_3perc  ATG7_1norm  ATG7_2norm  \n",
       "16       18.41133   25.475291   65.128358    9.396351    0.097377    0.248947  \n",
       "\n",
       "[1 rows x 22 columns]"
      ]
     },
     "execution_count": 11,
     "metadata": {},
     "output_type": "execute_result"
    }
   ],
   "source": [
    "df_ATG7_Primary.head(1)"
   ]
  },
  {
   "cell_type": "code",
   "execution_count": 12,
   "metadata": {},
   "outputs": [
    {
     "data": {
      "text/html": [
       "<div>\n",
       "<style scoped>\n",
       "    .dataframe tbody tr th:only-of-type {\n",
       "        vertical-align: middle;\n",
       "    }\n",
       "\n",
       "    .dataframe tbody tr th {\n",
       "        vertical-align: top;\n",
       "    }\n",
       "\n",
       "    .dataframe thead th {\n",
       "        text-align: right;\n",
       "    }\n",
       "</style>\n",
       "<table border=\"1\" class=\"dataframe\">\n",
       "  <thead>\n",
       "    <tr style=\"text-align: right;\">\n",
       "      <th></th>\n",
       "      <th>sample</th>\n",
       "      <th>Primary_Site</th>\n",
       "      <th>Sample_Type</th>\n",
       "      <th>OS</th>\n",
       "      <th>OS_time</th>\n",
       "      <th>ATG7</th>\n",
       "      <th>ATG7_1</th>\n",
       "      <th>ATG7_2</th>\n",
       "      <th>ATG7_3</th>\n",
       "      <th>ATG7_total</th>\n",
       "      <th>...</th>\n",
       "      <th>ATG7_3tpm</th>\n",
       "      <th>log2_p1_ATG7_total</th>\n",
       "      <th>log2_p1_ATG7_1</th>\n",
       "      <th>log2_p1_ATG7_2</th>\n",
       "      <th>ATG7_prot_tot</th>\n",
       "      <th>ATG7_1perc</th>\n",
       "      <th>ATG7_2perc</th>\n",
       "      <th>ATG7_3perc</th>\n",
       "      <th>ATG7_1norm</th>\n",
       "      <th>ATG7_2norm</th>\n",
       "    </tr>\n",
       "  </thead>\n",
       "  <tbody>\n",
       "    <tr>\n",
       "      <th>16</th>\n",
       "      <td>TARGET-21-PASLZE-09</td>\n",
       "      <td>Bone Marrow</td>\n",
       "      <td>Primary Blood Derived Cancer</td>\n",
       "      <td>NaN</td>\n",
       "      <td>NaN</td>\n",
       "      <td>5.590</td>\n",
       "      <td>2.2300</td>\n",
       "      <td>3.584</td>\n",
       "      <td>0.7916</td>\n",
       "      <td>48.166896</td>\n",
       "      <td>...</td>\n",
       "      <td>1.729993</td>\n",
       "      <td>5.619615</td>\n",
       "      <td>2.508515</td>\n",
       "      <td>3.699440</td>\n",
       "      <td>18.411330</td>\n",
       "      <td>25.475291</td>\n",
       "      <td>65.128358</td>\n",
       "      <td>9.396351</td>\n",
       "      <td>0.097377</td>\n",
       "      <td>0.248947</td>\n",
       "    </tr>\n",
       "    <tr>\n",
       "      <th>17</th>\n",
       "      <td>TARGET-21-PANZLR-09</td>\n",
       "      <td>Bone Marrow</td>\n",
       "      <td>Primary Blood Derived Cancer</td>\n",
       "      <td>NaN</td>\n",
       "      <td>NaN</td>\n",
       "      <td>5.048</td>\n",
       "      <td>0.4125</td>\n",
       "      <td>3.216</td>\n",
       "      <td>0.6969</td>\n",
       "      <td>33.081584</td>\n",
       "      <td>...</td>\n",
       "      <td>1.620018</td>\n",
       "      <td>5.090920</td>\n",
       "      <td>1.220324</td>\n",
       "      <td>3.363321</td>\n",
       "      <td>12.241078</td>\n",
       "      <td>10.864977</td>\n",
       "      <td>75.900749</td>\n",
       "      <td>13.234275</td>\n",
       "      <td>0.040203</td>\n",
       "      <td>0.280853</td>\n",
       "    </tr>\n",
       "  </tbody>\n",
       "</table>\n",
       "<p>2 rows × 22 columns</p>\n",
       "</div>"
      ],
      "text/plain": [
       "                 sample Primary_Site                   Sample_Type  OS  \\\n",
       "16  TARGET-21-PASLZE-09  Bone Marrow  Primary Blood Derived Cancer NaN   \n",
       "17  TARGET-21-PANZLR-09  Bone Marrow  Primary Blood Derived Cancer NaN   \n",
       "\n",
       "    OS_time   ATG7  ATG7_1  ATG7_2  ATG7_3  ATG7_total  ...  ATG7_3tpm  \\\n",
       "16      NaN  5.590  2.2300   3.584  0.7916   48.166896  ...   1.729993   \n",
       "17      NaN  5.048  0.4125   3.216  0.6969   33.081584  ...   1.620018   \n",
       "\n",
       "    log2_p1_ATG7_total  log2_p1_ATG7_1  log2_p1_ATG7_2  ATG7_prot_tot  \\\n",
       "16            5.619615        2.508515        3.699440      18.411330   \n",
       "17            5.090920        1.220324        3.363321      12.241078   \n",
       "\n",
       "    ATG7_1perc  ATG7_2perc  ATG7_3perc  ATG7_1norm  ATG7_2norm  \n",
       "16   25.475291   65.128358    9.396351    0.097377    0.248947  \n",
       "17   10.864977   75.900749   13.234275    0.040203    0.280853  \n",
       "\n",
       "[2 rows x 22 columns]"
      ]
     },
     "execution_count": 12,
     "metadata": {},
     "output_type": "execute_result"
    }
   ],
   "source": [
    "# Column rename\n",
    "df_ATG7_Primary = df_ATG7_Primary.rename(columns = {'Sample_Type' : 'Primary_Site',\n",
    "                                                    'Primary_Site' : 'Sample_Type'})\n",
    "#replace texts to have a better table\n",
    "df_ATG7_Primary['Sample_Type'] = df_ATG7_Primary['Sample_Type'].str.replace('White Blood Cell', 'Primary Blood Derived Cancer')\n",
    "df_ATG7_Primary['Primary_Site'] = df_ATG7_Primary['Primary_Site'].str.replace('Primary Blood Derived Cancer - ', '')\n",
    "\n",
    "df_ATG7_Primary.head(2)"
   ]
  },
  {
   "cell_type": "code",
   "execution_count": 13,
   "metadata": {},
   "outputs": [],
   "source": [
    "# create df with only Normal and Primary \n",
    "df_ATG7_NormPrim = pandas.concat([df_ATG7_Normal, df_ATG7_Primary], axis=0)\n",
    "df_ATG7_NormPrim.reset_index(drop=True, inplace=True)"
   ]
  },
  {
   "cell_type": "code",
   "execution_count": 14,
   "metadata": {},
   "outputs": [
    {
     "data": {
      "text/plain": [
       "Normal Tissue                   943\n",
       "Primary Blood Derived Cancer    476\n",
       "Name: Sample_Type, dtype: int64"
      ]
     },
     "execution_count": 14,
     "metadata": {},
     "output_type": "execute_result"
    }
   ],
   "source": [
    "df_ATG7_NormPrim['Sample_Type'].value_counts()"
   ]
  },
  {
   "cell_type": "code",
   "execution_count": 15,
   "metadata": {},
   "outputs": [
    {
     "data": {
      "text/plain": [
       "Blood Vessel        606\n",
       "Blood               337\n",
       "Peripheral Blood    239\n",
       "Bone Marrow         237\n",
       "Name: Primary_Site, dtype: int64"
      ]
     },
     "execution_count": 15,
     "metadata": {},
     "output_type": "execute_result"
    }
   ],
   "source": [
    "df_ATG7_NormPrim['Primary_Site'].value_counts()"
   ]
  },
  {
   "cell_type": "markdown",
   "metadata": {
    "id": "fbjL51C8RltI"
   },
   "source": [
    "## B) Whole gene expression"
   ]
  },
  {
   "cell_type": "code",
   "execution_count": 13,
   "metadata": {},
   "outputs": [
    {
     "name": "stdout",
     "output_type": "stream",
     "text": [
      "Blood Vessel, normal tissue shape: (606, 19383)\n",
      "White Blood Cell, Primary Blood Derived Cancer (Peripheral Blood) shape: (239, 19383)\n",
      "Wall time: 11.9 s\n"
     ]
    },
    {
     "data": {
      "text/html": [
       "<div>\n",
       "<style scoped>\n",
       "    .dataframe tbody tr th:only-of-type {\n",
       "        vertical-align: middle;\n",
       "    }\n",
       "\n",
       "    .dataframe tbody tr th {\n",
       "        vertical-align: top;\n",
       "    }\n",
       "\n",
       "    .dataframe thead th {\n",
       "        text-align: right;\n",
       "    }\n",
       "</style>\n",
       "<table border=\"1\" class=\"dataframe\">\n",
       "  <thead>\n",
       "    <tr style=\"text-align: right;\">\n",
       "      <th></th>\n",
       "      <th>sample</th>\n",
       "      <th>ENSG00000198888</th>\n",
       "      <th>ENSG00000198763</th>\n",
       "      <th>ENSG00000198804</th>\n",
       "      <th>ENSG00000198712</th>\n",
       "      <th>ENSG00000228253</th>\n",
       "      <th>ENSG00000198899</th>\n",
       "      <th>ENSG00000198938</th>\n",
       "      <th>ENSG00000198840</th>\n",
       "      <th>ENSG00000212907</th>\n",
       "      <th>...</th>\n",
       "      <th>ENSG00000160678</th>\n",
       "      <th>ENSG00000160679</th>\n",
       "      <th>ENSG00000143553</th>\n",
       "      <th>ENSG00000214193</th>\n",
       "      <th>ENSG00000196182</th>\n",
       "      <th>ENSG00000181817</th>\n",
       "      <th>ENSG00000116885</th>\n",
       "      <th>ENSG00000116898</th>\n",
       "      <th>ENSG00000119535</th>\n",
       "      <th>ENSG00000142694</th>\n",
       "    </tr>\n",
       "  </thead>\n",
       "  <tbody>\n",
       "    <tr>\n",
       "      <th>0</th>\n",
       "      <td>TARGET-10-PAKSWW-03</td>\n",
       "      <td>13.8296</td>\n",
       "      <td>13.9389</td>\n",
       "      <td>13.9181</td>\n",
       "      <td>14.1603</td>\n",
       "      <td>15.0383</td>\n",
       "      <td>14.1400</td>\n",
       "      <td>14.2213</td>\n",
       "      <td>12.7133</td>\n",
       "      <td>13.481</td>\n",
       "      <td>...</td>\n",
       "      <td>7.0239</td>\n",
       "      <td>5.2495</td>\n",
       "      <td>4.3378</td>\n",
       "      <td>-1.8314</td>\n",
       "      <td>4.4938</td>\n",
       "      <td>3.1360</td>\n",
       "      <td>0.6517</td>\n",
       "      <td>5.5072</td>\n",
       "      <td>4.8465</td>\n",
       "      <td>2.1280</td>\n",
       "    </tr>\n",
       "    <tr>\n",
       "      <th>1</th>\n",
       "      <td>TARGET-10-PANCVR-03</td>\n",
       "      <td>14.1665</td>\n",
       "      <td>13.6526</td>\n",
       "      <td>14.7652</td>\n",
       "      <td>13.7944</td>\n",
       "      <td>15.4894</td>\n",
       "      <td>14.1342</td>\n",
       "      <td>15.4220</td>\n",
       "      <td>12.7528</td>\n",
       "      <td>13.364</td>\n",
       "      <td>...</td>\n",
       "      <td>5.4631</td>\n",
       "      <td>4.8885</td>\n",
       "      <td>3.1112</td>\n",
       "      <td>-2.2447</td>\n",
       "      <td>3.2328</td>\n",
       "      <td>4.5015</td>\n",
       "      <td>0.1519</td>\n",
       "      <td>5.2277</td>\n",
       "      <td>-2.1140</td>\n",
       "      <td>0.9115</td>\n",
       "    </tr>\n",
       "  </tbody>\n",
       "</table>\n",
       "<p>2 rows × 19383 columns</p>\n",
       "</div>"
      ],
      "text/plain": [
       "                sample  ENSG00000198888  ENSG00000198763  ENSG00000198804  \\\n",
       "0  TARGET-10-PAKSWW-03          13.8296          13.9389          13.9181   \n",
       "1  TARGET-10-PANCVR-03          14.1665          13.6526          14.7652   \n",
       "\n",
       "   ENSG00000198712  ENSG00000228253  ENSG00000198899  ENSG00000198938  \\\n",
       "0          14.1603          15.0383          14.1400          14.2213   \n",
       "1          13.7944          15.4894          14.1342          15.4220   \n",
       "\n",
       "   ENSG00000198840  ENSG00000212907  ...  ENSG00000160678  ENSG00000160679  \\\n",
       "0          12.7133           13.481  ...           7.0239           5.2495   \n",
       "1          12.7528           13.364  ...           5.4631           4.8885   \n",
       "\n",
       "   ENSG00000143553  ENSG00000214193  ENSG00000196182  ENSG00000181817  \\\n",
       "0           4.3378          -1.8314           4.4938           3.1360   \n",
       "1           3.1112          -2.2447           3.2328           4.5015   \n",
       "\n",
       "   ENSG00000116885  ENSG00000116898  ENSG00000119535  ENSG00000142694  \n",
       "0           0.6517           5.5072           4.8465           2.1280  \n",
       "1           0.1519           5.2277          -2.1140           0.9115  \n",
       "\n",
       "[2 rows x 19383 columns]"
      ]
     },
     "execution_count": 13,
     "metadata": {},
     "output_type": "execute_result"
    }
   ],
   "source": [
    "%%time\n",
    "# DL data gene expression for Normal Tissue and Primary Tumors\n",
    "input_file_directory_gene_expr = '/Users/kja11/OneDrive - Háskóli Íslands/PhD ATG7/0 Python Analysis/gene_expr_preparation/'\n",
    "path = output_file_directory + \"/ATG7/Organ_specific_subsets/blood/\"\n",
    "\n",
    "directory = path + \"ensembl_normal_blood_protcoding_expr.tsv\"\n",
    "normal_blood_protcoding= pandas.read_csv(directory, sep = \"\\t\")\n",
    "print(\"Blood Vessel, normal tissue shape:\", normal_blood_protcoding.shape)\n",
    "\n",
    "directory = path + \"ensembl_primary_blood_protcoding_expr.tsv\"\n",
    "primary_blood_protcoding= pandas.read_csv(directory, sep = \"\\t\")\n",
    "print(\"White Blood Cell, Primary Blood Derived Cancer (Peripheral Blood) shape:\", primary_blood_protcoding.shape)\n",
    "primary_blood_protcoding.head(2)"
   ]
  },
  {
   "cell_type": "code",
   "execution_count": 88,
   "metadata": {},
   "outputs": [
    {
     "name": "stdout",
     "output_type": "stream",
     "text": [
      "normal shape: (606, 19383)\n",
      "number of duplicated genes: 0\n",
      "\n",
      "primary shape is: (239, 19383)\n",
      "number of duplicated genes: 0\n"
     ]
    }
   ],
   "source": [
    "#see how many duplicates in genes\n",
    "print('normal shape:', normal_blood_protcoding.shape)\n",
    "print('number of duplicated genes:', normal_blood_protcoding.columns.duplicated().sum())\n",
    "print()\n",
    "print('primary shape is:', primary_blood_protcoding.shape)\n",
    "print('number of duplicated genes:', primary_blood_protcoding.columns.duplicated().sum())"
   ]
  },
  {
   "cell_type": "code",
   "execution_count": null,
   "metadata": {},
   "outputs": [],
   "source": []
  },
  {
   "cell_type": "code",
   "execution_count": null,
   "metadata": {},
   "outputs": [],
   "source": [
    "FINIR CA "
   ]
  },
  {
   "cell_type": "code",
   "execution_count": 89,
   "metadata": {},
   "outputs": [
    {
     "name": "stdout",
     "output_type": "stream",
     "text": [
      "(0, 19390)\n",
      "(239, 19390)\n"
     ]
    },
    {
     "data": {
      "text/html": [
       "<div>\n",
       "<style scoped>\n",
       "    .dataframe tbody tr th:only-of-type {\n",
       "        vertical-align: middle;\n",
       "    }\n",
       "\n",
       "    .dataframe tbody tr th {\n",
       "        vertical-align: top;\n",
       "    }\n",
       "\n",
       "    .dataframe thead th {\n",
       "        text-align: right;\n",
       "    }\n",
       "</style>\n",
       "<table border=\"1\" class=\"dataframe\">\n",
       "  <thead>\n",
       "    <tr style=\"text-align: right;\">\n",
       "      <th></th>\n",
       "      <th>sample</th>\n",
       "      <th>Sample_Type</th>\n",
       "      <th>Primary_Site</th>\n",
       "      <th>OS</th>\n",
       "      <th>OS_time</th>\n",
       "      <th>ATG7</th>\n",
       "      <th>ATG7_1norm</th>\n",
       "      <th>ATG7_2norm</th>\n",
       "      <th>ENSG00000198888</th>\n",
       "      <th>ENSG00000198763</th>\n",
       "      <th>...</th>\n",
       "      <th>ENSG00000160678</th>\n",
       "      <th>ENSG00000160679</th>\n",
       "      <th>ENSG00000143553</th>\n",
       "      <th>ENSG00000214193</th>\n",
       "      <th>ENSG00000196182</th>\n",
       "      <th>ENSG00000181817</th>\n",
       "      <th>ENSG00000116885</th>\n",
       "      <th>ENSG00000116898</th>\n",
       "      <th>ENSG00000119535</th>\n",
       "      <th>ENSG00000142694</th>\n",
       "    </tr>\n",
       "  </thead>\n",
       "  <tbody>\n",
       "  </tbody>\n",
       "</table>\n",
       "<p>0 rows × 19390 columns</p>\n",
       "</div>"
      ],
      "text/plain": [
       "Empty DataFrame\n",
       "Columns: [sample, Sample_Type, Primary_Site, OS, OS_time, ATG7, ATG7_1norm, ATG7_2norm, ENSG00000198888, ENSG00000198763, ENSG00000198804, ENSG00000198712, ENSG00000228253, ENSG00000198899, ENSG00000198938, ENSG00000198840, ENSG00000212907, ENSG00000198886, ENSG00000198786, ENSG00000198695, ENSG00000198727, ENSG00000233803, ENSG00000169789, ENSG00000129862, ENSG00000114374, ENSG00000169807, ENSG00000198692, ENSG00000183753, ENSG00000092377, ENSG00000242389, ENSG00000238074, ENSG00000205944, ENSG00000236424, ENSG00000169763, ENSG00000234414, ENSG00000258992, ENSG00000099715, ENSG00000226941, ENSG00000280969, ENSG00000242875, ENSG00000172288, ENSG00000244395, ENSG00000165246, ENSG00000183795, ENSG00000168757, ENSG00000169953, ENSG00000012817, ENSG00000172468, ENSG00000176679, ENSG00000228927, ENSG00000169800, ENSG00000182415, ENSG00000229549, ENSG00000172352, ENSG00000099721, ENSG00000185894, ENSG00000205916, ENSG00000129873, ENSG00000188120, ENSG00000187191, ENSG00000184895, ENSG00000129824, ENSG00000067646, ENSG00000067048, ENSG00000183878, ENSG00000154620, ENSG00000129864, ENSG00000240654, ENSG00000102699, ENSG00000027001, ENSG00000132972, ENSG00000150459, ENSG00000139517, ENSG00000165487, ENSG00000277117, ENSG00000132963, ENSG00000102781, ENSG00000154646, ENSG00000196199, ENSG00000165480, ENSG00000236444, ENSG00000133101, ENSG00000102678, ENSG00000132952, ENSG00000183463, ENSG00000189403, ENSG00000120669, ENSG00000139515, ENSG00000133114, ENSG00000120694, ENSG00000278961, ENSG00000280071, ENSG00000083635, ENSG00000277277, ENSG00000154639, ENSG00000102753, ENSG00000275993, ENSG00000165475, ENSG00000079101, ENSG00000156253, ...]\n",
       "Index: []\n",
       "\n",
       "[0 rows x 19390 columns]"
      ]
     },
     "execution_count": 89,
     "metadata": {},
     "output_type": "execute_result"
    }
   ],
   "source": [
    "#Preparation of the global dataframe with ATG7\n",
    "data = [[normal_blood_protcoding, df_ATG7_NormPrim], [primary_blood_protcoding, df_ATG7_NormPrim]]\n",
    "\n",
    "df_final = []\n",
    "\n",
    "for df in data:\n",
    "    #Merge the two df to have ATG7 isoform expression + whole gene expression \n",
    "  df_merged = pandas.merge(df[1], df[0], on= 'sample')\n",
    "\n",
    "  #delete the sample column and select column\n",
    "#   df_merged = df_merged.drop(\"sample\", 1)\n",
    "  df_merged = df_merged.drop(df_merged.columns[6:20], axis=1)\n",
    "  \n",
    "  #save in list\n",
    "  df_final.append(df_merged)\n",
    "\n",
    "normal_blood_protcoding_atg7_expr = df_final[0]\n",
    "primary_blood_protcoding_atg7_expr = df_final[1]\n",
    "\n",
    "print(normal_blood_protcoding_atg7_expr.shape)\n",
    "print(primary_blood_protcoding_atg7_expr.shape)\n",
    "normal_blood_protcoding_atg7_expr.head()"
   ]
  },
  {
   "cell_type": "code",
   "execution_count": null,
   "metadata": {},
   "outputs": [],
   "source": [
    "#select samples label to have the good samples for the complete ATG7 dataframe\n",
    "normal_samples_labels = normal_blood_protcoding_atg7_expr.iloc[:,0:3]\n",
    "primary_samples_labels = primary_blood_protcoding_atg7_expr.iloc[:,0:3]\n",
    "normal_samples_labels"
   ]
  },
  {
   "cell_type": "code",
   "execution_count": null,
   "metadata": {},
   "outputs": [],
   "source": [
    "#subset\n",
    "df_ATG7_Normal_blood = normal_samples_labels.merge(df_ATG7)\n",
    "df_ATG7_Primary_blood = primary_samples_labels.merge(df_ATG7)\n",
    "df_ATG7_Primary_blood\n",
    "print(df_ATG7_Normal_blood.shape)\n",
    "print(df_ATG7_Primary_blood.shape)\n",
    "df_ATG7_Primary_blood.head(2)"
   ]
  },
  {
   "cell_type": "code",
   "execution_count": null,
   "metadata": {
    "id": "90ZnSHOcSa--"
   },
   "outputs": [],
   "source": [
    "# create df with only Normal and Primary \n",
    "df_Norm_Prim = pandas.concat([df_ATG7_Normal_blood, df_ATG7_Primary_blood], axis=0)\n",
    "df_Norm_Prim.reset_index(drop=True, inplace=True)"
   ]
  },
  {
   "cell_type": "code",
   "execution_count": null,
   "metadata": {
    "colab": {
     "base_uri": "https://localhost:8080/"
    },
    "id": "oA7fE5E3pxi_",
    "outputId": "bfd33158-dc8a-4dc7-d6d9-663682776e2e"
   },
   "outputs": [],
   "source": [
    "# What is the median for iso 1 and iso 2? If I want to create two groups\n",
    "#High >50% and low <50%\n",
    "\n",
    "Data = [[df_ATG7_Normal_blood, 'Normal_blood'], [df_ATG7_Primary_blood, 'Primary_blood']]\n",
    "isoforms = [[\"ATG7_1\", \"iso1\"], [\"ATG7_2\", \"iso2\"]]\n",
    "\n",
    "df_LoHi = [] \n",
    "\n",
    "for df in Data:\n",
    "  for isoform in isoforms:\n",
    "    xMed = df[0][isoform[0]].median()\n",
    "\n",
    "    low = df[0].loc[df[0][isoform[0]] < xMed]\n",
    "    low['L/H'] = \"Low_\"+isoform[1]\n",
    "\n",
    "    high = df[0].loc[df[0][isoform[0]] > xMed]\n",
    "    high['L/H'] = \"High_\"+isoform[1]\n",
    "\n",
    "  #merge low and high\n",
    "  concat = pandas.concat([low, high], axis=0)\n",
    "  col = concat.pop('L/H')\n",
    "  concat.insert(3, 'L/H', col)\n",
    "  df_LoHi.append(concat)\n",
    "\n",
    "normal_LoHi = df_LoHi[0]\n",
    "primary_LoHi = df_LoHi[1]"
   ]
  },
  {
   "cell_type": "markdown",
   "metadata": {
    "id": "R8fLWHXOBYJl"
   },
   "source": [
    "# III] ATG7 expression"
   ]
  },
  {
   "cell_type": "markdown",
   "metadata": {
    "id": "ufG3BGqPkmrk"
   },
   "source": [
    "##A) Distribution\n"
   ]
  },
  {
   "cell_type": "code",
   "execution_count": null,
   "metadata": {
    "colab": {
     "base_uri": "https://localhost:8080/"
    },
    "id": "vl1-Yk-8NVZi",
    "outputId": "cf7e70db-9be7-40ae-f661-307cfbc92869"
   },
   "outputs": [],
   "source": [
    "# Distribution graph, for ATG7, iso1 & iso2\n",
    "all_dfs = [[df_ATG7_Normal_blood, 'in blood', df_ATG7_Primary_blood, 'in primary blood (periph)']]\n",
    "\n",
    "isoforms = [['log2_+1_ATG7(total)', 'ATG7'], ['log2_+1_ATG7(1)', 'ATG7(1)'], ['log2_+1_ATG7(2)', 'ATG7(2)']]\n",
    "\n",
    "\n",
    "for df in all_dfs:\n",
    "  for isoform in isoforms:\n",
    "    xData = df[0][isoform[0]]\n",
    "    x2Data = df[2][isoform[0]]\n",
    "\n",
    "    seaborn.kdeplot(xData, color = 'mediumaquamarine', fill = True)\n",
    "    seaborn.kdeplot(x2Data, color = 'sandybrown', fill = True)\n",
    "\n",
    "    plt.xlabel('log2 '+ isoform[1]+ ' +1')\n",
    "    plt.title(isoform[1]+ ' expression ' + df[1] )\n",
    "    plt.legend(labels=[\"Normal Blood\",\"Primary Blood (Periph) \"])\n",
    "    plt.show()\n",
    "    plt.clf()"
   ]
  },
  {
   "cell_type": "markdown",
   "metadata": {
    "id": "PL_4aao-49o9"
   },
   "source": [
    "##B) Percentage do not express ATG7 isoforms"
   ]
  },
  {
   "cell_type": "code",
   "execution_count": null,
   "metadata": {
    "colab": {
     "base_uri": "https://localhost:8080/"
    },
    "id": "zwxExNKnmvhu",
    "outputId": "939b578e-7abb-4dd9-fc88-be8ef3eff849"
   },
   "outputs": [],
   "source": [
    "#Percentage of patients: \n",
    "all_dfs = [[df_ATG7_Normal_blood, 'all Normal Blood'], [df_ATG7_Primary_blood, 'all primary tumor']]\n",
    "\n",
    "isoforms = [['ATG7(total)', 'ATG7'], ['ATG7(1)', 'ATG7(1)'], ['ATG7(2)', 'ATG7(2)'], ['ATG7(3)', 'ATG7(3)']]\n",
    "\n",
    "for df in all_dfs:\n",
    "  print(df[1])\n",
    "  for isoform in isoforms:\n",
    "        \n",
    "    QUOI = isoform[1]\n",
    "    OU = df[1]\n",
    "    all = (df[0][isoform[0]]).shape\n",
    "    no_exp = (df[0][isoform[0]]<0.1).sum()\n",
    "    perc_no_exp = (no_exp*100)/all\n",
    "    perc_no_exp = float(perc_no_exp)\n",
    "\n",
    "    # print(\"The percentage of patient who do not express\", QUOI, OU, \"is:\", round(perc_no_exp,1),'%')\n",
    "    print(round(perc_no_exp,1),'% of tumor do not express', QUOI)\n",
    "  print()\n"
   ]
  },
  {
   "cell_type": "markdown",
   "metadata": {
    "id": "l9R88UMYsp9h"
   },
   "source": [
    "## C) Expression figures"
   ]
  },
  {
   "cell_type": "markdown",
   "metadata": {
    "id": "j87nxfPMrMLB"
   },
   "source": [
    "### 1) Value TPM"
   ]
  },
  {
   "cell_type": "code",
   "execution_count": null,
   "metadata": {
    "colab": {
     "base_uri": "https://localhost:8080/"
    },
    "id": "3_zvT1lweuYb",
    "outputId": "8b153651-5b5e-4992-989b-ac659dd1535c",
    "scrolled": true
   },
   "outputs": [],
   "source": [
    "# Distribution: Data preparation + graph\n",
    "data = [[df_Norm_Prim, 'all tissue']]\n",
    "\n",
    "for df in data:\n",
    "   \n",
    "  shape = df[0].shape\n",
    "  shape = shape[0]\n",
    "  print(shape)\n",
    "\n",
    "  #select the sample type column\n",
    "  sample_type = {'sample_type':[df[0].iloc[:,1][i]\n",
    "      for i in range(0, shape)]}\n",
    "\n",
    "  #convert to df, and copy it 3 times\n",
    "  sample_typedf = pandas.DataFrame(sample_type)\n",
    "  sample_typedf = pandas.concat([sample_typedf,sample_typedf,sample_typedf])\n",
    "  sample_typedf.reset_index(drop=True, inplace=True)\n",
    "\n",
    "  # Y for expression value \n",
    "  y = {'y':[df[0].iloc[:,j][i]\n",
    "      for j in range(7,10)\n",
    "        for i in range(0, shape)]}\n",
    "\n",
    "  #create df with Y \n",
    "  data_distrib = pandas.DataFrame(y)\n",
    "\n",
    "  # X for ATG7/iso1/iso2\n",
    "  data_distrib['x'] = ''\n",
    "  data_distrib['x'][: shape] = 'ATG7'\n",
    "  data_distrib['x'][shape: shape*2] = 'ATG7(1)'\n",
    "  data_distrib['x'][shape*2:] = 'ATG7(2)'\n",
    "\n",
    "  # Will be used for Hue\n",
    "  data_distrib['Sample Type'] = sample_typedf['sample_type']\n",
    "\n",
    "  #graph\n",
    "  seaborn.catplot(x=\"x\", y=\"y\", hue=\"Sample Type\", aspect= 1.2, kind=\"box\", palette = 'Set2', data = data_distrib, \n",
    "                  boxprops={'lw':2}, medianprops={'lw':2}, whiskerprops={'lw':2}, showcaps=True, showfliers=False)\n",
    "  \n",
    "  plt.ylabel('Expression of ATG7 (TPM)')\n",
    "  plt.xlabel('')\n",
    "  plt.title('ATG7 expression in '+ df[1], x=.55)"
   ]
  },
  {
   "cell_type": "code",
   "execution_count": null,
   "metadata": {
    "scrolled": true
   },
   "outputs": [],
   "source": [
    "# Distribution: Data preparation + graph\n",
    "data = [[df_Norm_Prim, 'all tissue']]\n",
    "\n",
    "for df in data:\n",
    "   \n",
    "  shape = df[0].shape\n",
    "  shape = shape[0]\n",
    "  print(shape)\n",
    "\n",
    "  #select the sample type column\n",
    "  sample_type = {'sample_type':[df[0].iloc[:,1][i]\n",
    "      for i in range(0, shape)]}\n",
    "\n",
    "  #convert to df, and copy it 3 times\n",
    "  sample_typedf = pandas.DataFrame(sample_type)\n",
    "  sample_typedf = pandas.concat([sample_typedf,sample_typedf,sample_typedf])\n",
    "  sample_typedf.reset_index(drop=True, inplace=True)\n",
    "\n",
    "  # Y for expression value \n",
    "  y = {'y':[df[0].iloc[:,j][i]\n",
    "      for j in range(8,10)\n",
    "        for i in range(0, shape)]}\n",
    "\n",
    "  #create df with Y \n",
    "  data_distrib = pandas.DataFrame(y)\n",
    "\n",
    "  # X for ATG7/iso1/iso2\n",
    "  data_distrib['x'] = ''\n",
    "  data_distrib['x'][: shape] = 'ATG7(1)'\n",
    "  data_distrib['x'][shape: shape*2] = 'ATG7(2)'\n",
    "\n",
    "  # Will be used for Hue\n",
    "  data_distrib['Sample Type'] = sample_typedf['sample_type']\n",
    "\n",
    "  #graph\n",
    "  seaborn.catplot(x=\"x\", y=\"y\", hue=\"Sample Type\", aspect= 1.2, kind=\"box\", palette = 'Set2', data = data_distrib, \n",
    "                  boxprops={'lw':2}, medianprops={'lw':2}, whiskerprops={'lw':2}, showcaps=True, showfliers=False)\n",
    "  \n",
    "  plt.ylabel('Expression of ATG7 (TPM)')\n",
    "  plt.xlabel('')\n",
    "  plt.title('ATG7 expression in '+ df[1], x=.55)"
   ]
  },
  {
   "cell_type": "code",
   "execution_count": null,
   "metadata": {
    "colab": {
     "base_uri": "https://localhost:8080/"
    },
    "id": "lqjTE5owk0cD",
    "outputId": "6e83cbfb-97f0-4c0e-c65a-5a2facab6905"
   },
   "outputs": [],
   "source": [
    "#Distribution: Stats for all \n",
    "\n",
    "all_dfs = [[df_ATG7_Normal_blood, 'all Normal Blood', df_ATG7_Primary_blood, 'in primary blood (periph)']]\n",
    "\n",
    "isoforms = ['ATG7', 'ATG7(1)', 'ATG7(2)']\n",
    "\n",
    "for df in all_dfs:\n",
    "  for isoform in isoforms:\n",
    "\n",
    "    n1 = \"{:.3f}\".format(numpy.median(df[0][isoform]))\n",
    "    n2 = \"{:.3f}\".format(numpy.median(df[2][isoform]))\n",
    "\n",
    "    # Mann-Whitney analysis \n",
    "    statistic, pvalue = scipy.stats.mannwhitneyu(df[0][isoform], df[2][isoform])\n",
    "    Pvalue = \"{:.3E}\".format(pvalue)\n",
    "    print(\"the pvalue between\", df[1]+'('+n1+')', \"and\", df[3]+'('+n2+')', \"for\", isoform, 'is', Pvalue)\n",
    "  print()\n"
   ]
  },
  {
   "cell_type": "code",
   "execution_count": null,
   "metadata": {},
   "outputs": [],
   "source": [
    "#median brut file to compare \n",
    "print(df_Norm_Prim['ATG7(total)'].mean())\n",
    "print(df_Norm_Prim['ATG7(1)'].mean())\n",
    "print(df_Norm_Prim['ATG7(2)'].mean())"
   ]
  },
  {
   "cell_type": "code",
   "execution_count": null,
   "metadata": {},
   "outputs": [],
   "source": [
    "#median after modification to be sure I selected the good ones\n",
    "data_distribtest = data_distrib[data_distrib['x'] == 'ATG7']\n",
    "data_distribtest1 = data_distrib[data_distrib['x'] == 'ATG7(1)']\n",
    "data_distribtest2 = data_distrib[data_distrib['x'] == 'ATG7(2)']\n",
    "print(data_distribtest.mean())\n",
    "print(data_distribtest1.mean())\n",
    "print(data_distribtest2.mean())"
   ]
  },
  {
   "cell_type": "markdown",
   "metadata": {
    "id": "rccgpnCWrUyE"
   },
   "source": [
    "### 2) Normalized"
   ]
  },
  {
   "cell_type": "code",
   "execution_count": null,
   "metadata": {
    "colab": {
     "base_uri": "https://localhost:8080/"
    },
    "id": "n_h00in7pPDk",
    "outputId": "633bce52-0b06-4c55-b888-c15331d5a62d",
    "scrolled": true
   },
   "outputs": [],
   "source": [
    "# NORMALiZED Distribution: Data preparation + graph\n",
    "\n",
    "data = [[df_Norm_Prim, 'all_tissue']]\n",
    "\n",
    "for df in data:\n",
    "   \n",
    "  shape = df[0].shape\n",
    "  shape = shape[0]\n",
    "  print(shape)\n",
    "\n",
    "  #select the sample type column\n",
    "  sample_type = {'sample_type':[df[0].iloc[:,1][i]\n",
    "      for i in range(0, shape)]}\n",
    "\n",
    "  #convert to df, and copy it 3 times\n",
    "  sample_typedf = pandas.DataFrame(sample_type)\n",
    "  sample_typedf = pandas.concat([sample_typedf,sample_typedf,sample_typedf])\n",
    "  sample_typedf.reset_index(drop=True, inplace=True)\n",
    "\n",
    "  # Y for expression value \n",
    "  y = {'y':[df[0].iloc[:,j][i]\n",
    "      for j in range(18,20)\n",
    "        for i in range(0, shape)]}\n",
    "\n",
    "  #create df with Y \n",
    "  data_distrib = pandas.DataFrame(y)\n",
    "\n",
    "  # X for iso1/ATG7 and iso2/ATG7\n",
    "  data_distrib['x'] = ''\n",
    "  data_distrib['x'][: shape] = 'ATG7(1)/ATG7'\n",
    "  data_distrib['x'][shape:] = 'ATG7(2)/ATG7'\n",
    "\n",
    "\n",
    "  # Will be used for Hue\n",
    "  data_distrib['Sample Type'] = sample_typedf['sample_type']\n",
    "\n",
    "  #graph\n",
    "  seaborn.catplot(x=\"x\", y=\"y\", hue=\"Sample Type\", aspect= 1.2, kind=\"box\", palette = 'Set2', data = data_distrib, \n",
    "                  boxprops={'lw':2}, medianprops={'lw':2}, whiskerprops={'lw':2}, showcaps=True, showfliers=False)\n",
    "  \n",
    "  plt.ylabel('ATG7 isoforms/total ATG7 in TPM')\n",
    "  plt.xlabel('')\n",
    "  plt.title('ATG7 proportion in '+ df[1], x=0.55)\n"
   ]
  },
  {
   "cell_type": "code",
   "execution_count": null,
   "metadata": {
    "colab": {
     "base_uri": "https://localhost:8080/"
    },
    "id": "JflZDsJbpPDl",
    "outputId": "9e991f35-7f0d-44bf-9e88-9308609b34a0"
   },
   "outputs": [],
   "source": [
    "#NORMALIZED Distribution: Stats for all \n",
    "\n",
    "all_dfs = [[df_ATG7_Normal_blood, 'all Normal Blood', df_ATG7_Primary_blood, 'in primary blood (periph)']]\n",
    "\n",
    "isoforms = ['ATG7(1)norm', 'ATG7(2)norm']\n",
    "print('NORMALIZED')\n",
    "\n",
    "for df in all_dfs:\n",
    "  for isoform in isoforms:\n",
    "\n",
    "    n1 = \"{:.3f}\".format(numpy.median(df[0][isoform]))\n",
    "    n2 = \"{:.3f}\".format(numpy.median(df[2][isoform]))\n",
    "\n",
    "    # Mann-Whitney analysis \n",
    "    statistic, pvalue = scipy.stats.mannwhitneyu(df[0][isoform], df[2][isoform])\n",
    "    Pvalue = \"{:.3E}\".format(pvalue)\n",
    "    print(\"the pvalue between\", df[1]+'('+n1+')', \"and\", df[3]+'('+n2+')', \"for\", isoform, 'is', Pvalue)\n",
    "  print()\n"
   ]
  },
  {
   "cell_type": "markdown",
   "metadata": {
    "id": "ivLjI2vHTV5A"
   },
   "source": [
    "# IV] Expression correlation "
   ]
  },
  {
   "cell_type": "markdown",
   "metadata": {
    "id": "Et5DpsPy4DBP"
   },
   "source": [
    "## 1) between the two isoforms"
   ]
  },
  {
   "cell_type": "code",
   "execution_count": null,
   "metadata": {
    "colab": {
     "base_uri": "https://localhost:8080/",
     "height": 1000
    },
    "id": "4azGSbHX1l11",
    "outputId": "5d88c8a6-f8dd-4de1-fecb-f15ee78c8212"
   },
   "outputs": [],
   "source": [
    "#isoform correlation in blood \n",
    "#three values are very high and make my graph ugly... I remove them.\n",
    "df_ATG7_Primary_blood2 = df_ATG7_Primary_blood[df_ATG7_Primary_blood['ATG7(1)'] < 30 ]\n",
    "print(\"shape:\",df_ATG7_Primary_blood.shape)\n",
    "print(\"shape after removing extrem dots:\",df_ATG7_Primary_blood2.shape)\n",
    "\n",
    "\n",
    "tissues = [[df_ATG7_Normal_blood, \"Normal Blood\"], [df_ATG7_Primary_blood2, \"primary tumors\"]]\n",
    "\n",
    "for tissue in tissues: \n",
    "  x = tissue[0]['ATG7(1)'].to_list()\n",
    "  y = tissue[0]['ATG7(2)'].to_list()\n",
    "\n",
    "  r_value, p_value = scipy.stats.spearmanr(x, y)\n",
    "  print(\"The correlation between iso1 and iso2 in\",tissue[1],\"is:\", r_value, p_value)\n",
    "\n",
    "  seaborn.regplot(x=x,y=y, x_bins=800, x_ci = 0, marker=\"+\")\n",
    "  name = \"Correlation between the two isoforms in \"+  tissue[1]\n",
    "  plt.title(name)\n",
    "  plt.xlabel(\"ATG7(1) expression in tpm\")\n",
    "  plt.ylabel('ATG7(2) expression tpm')\n",
    "  plt.show()\n",
    "  plt.clf()\n",
    "  print()\n"
   ]
  },
  {
   "cell_type": "markdown",
   "metadata": {
    "id": "RgHYwrKD4LgQ"
   },
   "source": [
    "##2) between all protein coding"
   ]
  },
  {
   "cell_type": "code",
   "execution_count": null,
   "metadata": {
    "colab": {
     "base_uri": "https://localhost:8080/",
     "height": 80
    },
    "id": "LxKzIf-63QkM",
    "outputId": "d3f87990-186f-495a-f239-47666351655f"
   },
   "outputs": [],
   "source": [
    "#to know the ensembl code for HK2\n",
    "protein_coding_list.loc[protein_coding_list['hgnc_symbol'] == 'MFAP3']"
   ]
  },
  {
   "cell_type": "code",
   "execution_count": null,
   "metadata": {
    "colab": {
     "base_uri": "https://localhost:8080/"
    },
    "id": "hsgaqjKl3z5F",
    "outputId": "a615b3c1-2391-49f4-986a-5b9a922069f9"
   },
   "outputs": [],
   "source": [
    "# Spearman Correlation, main genes \n",
    "all_tissue_used = [[normal_blood_protcoding_atg7_expr,'Normal Blood'], [primary_blood_protcoding_atg7_expr,'Primary Blood (Periph)']]\n",
    "\n",
    "HK2 = 'ENSG00000159399'\n",
    "YAP1 = 'ENSG00000137693'\n",
    "AJUBA = 'ENSG00000129474'\n",
    "YBX1 = 'ENSG00000065978'\n",
    "TGFB1 = 'ENSG00000105329'\n",
    "ATG7_1 = 'ATG7_1'\n",
    "ATG7_2 = 'ATG7_2'\n",
    "MTDH = 'ENSG00000147649'\n",
    "MAPK1 = 'ENSG00000100030'\n",
    "KPNA1 = 'ENSG00000114030'\n",
    "TNPO1 = 'ENSG00000083312'\n",
    "\n",
    "for tissue in all_tissue_used:\n",
    "  genes_x = [[KPNA1,'KPNA1'], [MAPK1, 'MAPK1'], [TNPO1,'TNPO1'], [MTDH,'MTDH'], \n",
    "             [HK2, \"HK2\"], [YAP1, 'YAP1'], [AJUBA,'AJUBA'], [YBX1,'YBX1'], \n",
    "             [TGFB1,'TGFB1'], [ATG7_1,'ATG7_1'], [ATG7_2,'ATG7_2']]\n",
    "\n",
    "  print(tissue[1])\n",
    "\n",
    "  for gene in genes_x:\n",
    "    x = tissue[0][gene[0]].to_list()\n",
    "    y = tissue[0]['ATG7'].to_list()\n",
    "    y1 = tissue[0]['ATG7_1'].to_list()\n",
    "    y2 = tissue[0]['ATG7_2'].to_list()  \n",
    "  \n",
    "    r_value, p_value = scipy.stats.spearmanr(x, y)\n",
    "    print('  correlation between ATG7 and', gene[1],  'is:', 'r_value = {:.2f} for a p_value of {:.2e}'.format(r_value, p_value))\n",
    "    r_value, p_value = scipy.stats.spearmanr(x, y1)\n",
    "    print('  correlation between ATG7_1 and', gene[1],  'is:', 'r_value = {:.2f} for a p_value of {:.2e}'.format(r_value, p_value))\n",
    "    r_value, p_value = scipy.stats.spearmanr(x, y2)\n",
    "    print('  correlation between ATG7_2 and', gene[1],  'is:', 'r_value = {:.2f} for a p_value of {:.2e}'.format(r_value, p_value))\n",
    "    print()"
   ]
  },
  {
   "cell_type": "code",
   "execution_count": null,
   "metadata": {},
   "outputs": [],
   "source": [
    "normal_blood_protcoding_atg7_expr.head()"
   ]
  },
  {
   "cell_type": "code",
   "execution_count": null,
   "metadata": {
    "colab": {
     "base_uri": "https://localhost:8080/"
    },
    "id": "w_twmkUU7lt6",
    "outputId": "3962ce10-f3eb-4e40-e976-7b65c90d698b",
    "scrolled": true
   },
   "outputs": [],
   "source": [
    "%%time\n",
    "# Spearman Correlation, all genes WITHOUT cutoff\n",
    "all_tissue_used = [[normal_blood_protcoding_atg7_expr,'Normal_blood'], [primary_blood_protcoding_atg7_expr,'Primary_Blood_Periph']]\n",
    "\n",
    "isoforms = ['ATG7_1', 'ATG7_2']\n",
    "\n",
    "all_positiv_corr_spearman = []\n",
    "all_negativ_corr_spearman = []\n",
    "\n",
    "for tissue in all_tissue_used:\n",
    "  print(tissue[1], tissue[0].shape)\n",
    "\n",
    "  #create a new row with max() for each gene and transpose\n",
    "  tissue[0].loc['max()'] = tissue[0].max()\n",
    "  tissue[0] = tissue[0].T\n",
    "\n",
    "  #select all row where max() > 2.3 (= 5 tpm)\n",
    "  nb_before = tissue[0]['max()'].count()\n",
    "  tissue[0] = tissue[0].drop(tissue[0].index[0:3])\n",
    "  tissue[0] = tissue[0][tissue[0]['max()'] > 2.3]\n",
    "  nb_after = tissue[0]['max()'].count()\n",
    "  print(\"number of genes removed:\", nb_before-nb_after)\n",
    "  print('the minimum of TPM is', tissue[0]['max()'].min())\n",
    "  \n",
    "  #delete the column max() and tranpose back\n",
    "  tissue[0] =  tissue[0].drop('max()', axis = 1) \n",
    "  tissue[0] = tissue[0].T\n",
    "  print('nombre genes after removing < 4tpm', tissue[0].shape)\n",
    "\n",
    "  for isoform in isoforms:\n",
    "\n",
    "    genepos = []\n",
    "    geneneg = []\n",
    "    rvaluepos = []\n",
    "    rvalueneg = []\n",
    "    pvaluepos = []\n",
    "    pvalueneg = []\n",
    "\n",
    "    print(isoform)\n",
    "    x = tissue[0][isoform].to_list()\n",
    "    genes = tissue[0].columns[3:]\n",
    "\n",
    "    for gene in genes:\n",
    "      y = tissue[0][gene].to_list()\n",
    "      r_value, p_value = scipy.stats.spearmanr(x, y)\n",
    "\n",
    "      if r_value > 0:\n",
    "        genepos.append(gene)\n",
    "        rvaluepos.append(r_value)\n",
    "        pvaluepos.append(p_value)\n",
    "        \n",
    "      elif r_value < 0:\n",
    "        geneneg.append(gene)\n",
    "        rvalueneg.append(r_value)\n",
    "        pvalueneg.append(p_value)\n",
    "\n",
    "    #create a dictionnary\n",
    "    d = dict(ensembl_gene_id= genepos, r_value=rvaluepos,  p_value=pvaluepos)\n",
    "    d2 = dict(ensembl_gene_id= geneneg, r_value=rvalueneg,  p_value=pvalueneg)\n",
    "\n",
    "    #Convert to dataframe\n",
    "    df_positiv_corr = pandas.DataFrame.from_dict(d, orient='index')\n",
    "    df_negativ_corr = pandas.DataFrame.from_dict(data=d2, orient='index')\n",
    "\n",
    "    #Transpose to have a better table\n",
    "    df_positiv_corr = df_positiv_corr.transpose()\n",
    "    df_negativ_corr = df_negativ_corr.transpose()\n",
    "\n",
    "    #name\n",
    "    positiv_corr = 'pos_spearman_corr_'+tissue[1]+'_'+isoform\n",
    "    negativ_corr = 'neg_spearman_corr_'+tissue[1]+'_'+isoform\n",
    "\n",
    "    print(positiv_corr, df_positiv_corr.shape)\n",
    "    print(negativ_corr, df_negativ_corr.shape)\n",
    "\n",
    "    #scending orde, save to excel\n",
    "    df_positiv_corr['info'] = tissue[1]+'_'+isoform\n",
    "    df_positiv_corr = protein_coding_list.merge(df_positiv_corr)\n",
    "    df_positiv_corr = df_positiv_corr.drop(['entrezgene_id', 'transcript_biotype'], axis = 1)\n",
    "    df_positiv_corr = df_positiv_corr.sort_values(['r_value'], ascending = False)\n",
    "    df_positiv_corr.to_excel(positiv_corr+'.xlsx', index=False)\n",
    "\n",
    "    df_negativ_corr['info'] = tissue[1]+'_'+isoform\n",
    "    df_negativ_corr = protein_coding_list.merge(df_negativ_corr)\n",
    "    df_negativ_corr = df_negativ_corr.drop(['entrezgene_id', 'transcript_biotype'], axis = 1)\n",
    "    df_negativ_corr = df_negativ_corr.sort_values(['r_value'], ascending = False)\n",
    "    df_negativ_corr.to_excel(negativ_corr+'.xlsx', index=False)\n",
    "\n",
    "    all_positiv_corr_spearman.append(df_positiv_corr)\n",
    "    all_negativ_corr_spearman.append(df_negativ_corr)\n",
    "  print()"
   ]
  },
  {
   "cell_type": "code",
   "execution_count": null,
   "metadata": {},
   "outputs": [],
   "source": [
    "%%time\n",
    "#Graphic representation, two graphs in one, remove the extremities to have better graph\n",
    "\n",
    "all_tissue_used = [[normal_blood_protcoding_atg7_expr,'Normal Blood', 'blue'], \n",
    "                   [primary_blood_protcoding_atg7_expr,'Primary Blood (Periph)', 'chocolate']]\n",
    "\n",
    "HK2 = 'ENSG00000159399'\n",
    "YAP1 = 'ENSG00000137693'\n",
    "AJUBA = 'ENSG00000129474'\n",
    "YBX1 = 'ENSG00000065978'\n",
    "TGFB1 = 'ENSG00000105329'\n",
    "MAPK1 = 'ENSG00000100030'\n",
    "MTDH = 'ENSG00000147649'\n",
    "KPNA1 = 'ENSG00000114030'\n",
    "TNPO1 = 'ENSG00000083312'\n",
    "ATG7 = 'ATG7'\n",
    "ATG7_1 = 'ATG7_1'\n",
    " \n",
    "genes = [[ATG7,'ATG7'], [ATG7_1,'ATG7_1'], [MAPK1,'MAPK1'], [MTDH,'MTDH'], [KPNA1,'KPNA1'], \n",
    "         [TNPO1,'TNPO1'], [HK2,'HK2'], [YAP1,'YAP1'], [AJUBA,'AJUBA'], [YBX1,'YBX1'], [TGFB1,'TGFB1']]\n",
    "\n",
    "for gene in genes:\n",
    "    for df in all_tissue_used:\n",
    "        #sort by value, remove the extremities\n",
    "        print(df[1], ':', df[0].shape)\n",
    "        for_genes = df[0].sort_values([gene[0]], ascending = False) \n",
    "        lenght = len(for_genes)\n",
    "        without_05perc = int(lenght*0.005)\n",
    "        without_head = without_05perc\n",
    "        without_tail = lenght - without_05perc\n",
    "        print('', without_05perc, 'are removed from head and tail')\n",
    "                \n",
    "        df_no_extrem = for_genes.iloc[without_head:without_tail,:]\n",
    "        print(' without extremities:', df_no_extrem.shape)\n",
    "        print()\n",
    "        \n",
    "        print(df[1])\n",
    "        r_value, p_value = scipy.stats.spearmanr(x, y1)\n",
    "        print('  correlation between ATG7_1 and', gene[1],  'is:', 'r_value = {:.2f} for a p_value of {:.2e}'.format(r_value, p_value))\n",
    "        r_value, p_value = scipy.stats.spearmanr(x, y2)\n",
    "        print('  correlation between ATG7_2 and', gene[1],  'is:', 'r_value = {:.2f} for a p_value of {:.2e}'.format(r_value, p_value))\n",
    "        \n",
    "        #graph\n",
    "        fig, ax = plt.subplots(1,2, figsize=(18,8))\n",
    "        name = gene[1]+ \" correlation with the two isoforms\"\n",
    "        name2 = gene[1]+ \" expression (log2 tpm)\"\n",
    "\n",
    "        fig.suptitle(name, fontsize=\"x-large\")\n",
    " \n",
    "        x = df_no_extrem[gene[0]].to_list()\n",
    "        y1 = df_no_extrem['ATG7_1'].to_list()\n",
    "        y2 = df_no_extrem['ATG7_2'].to_list()\n",
    "\n",
    "        fig = seaborn.regplot(x=x,y=y1, ax=ax[0], x_bins=500, x_ci = 0, marker=\"+\", label = df[1], color = df[2])\n",
    "        fig.set_title(\"ATG7(1)\")\n",
    "        fig.set_xlabel(name2)\n",
    "        fig.set_ylabel('ATG7(1) expression (log2 tpm)')\n",
    "\n",
    "        fig = seaborn.regplot(x=x,y=y2, ax=ax[1], x_bins=500, x_ci = 0, marker=\"+\", label = df[1], color = df[2])\n",
    "        fig.set_title(\"ATG7(2)\")\n",
    "        fig.set_xlabel(name2)\n",
    "        fig.set_ylabel('ATG7(2) expression (log2 tpm)')\n",
    "        plt.legend()\n",
    "        plt.show()\n",
    "        plt.clf()\n",
    "    print()"
   ]
  },
  {
   "cell_type": "markdown",
   "metadata": {
    "id": "rPHF5SBtaSeo"
   },
   "source": [
    "# V] Distribution of all rvalue to select cutoff"
   ]
  },
  {
   "cell_type": "code",
   "execution_count": null,
   "metadata": {
    "colab": {
     "base_uri": "https://localhost:8080/",
     "height": 1000
    },
    "id": "ZZBYSa2qgBLX",
    "outputId": "4eddba07-4896-4831-8f09-f9bc742dc938"
   },
   "outputs": [],
   "source": [
    "%%time\n",
    "#Merge Negative and Positive data\n",
    "data =  [\n",
    "         [all_negativ_corr_spearman[0], all_positiv_corr_spearman[0], 'Normal Blood, ATG7(1)'], \n",
    "         [all_negativ_corr_spearman[1], all_positiv_corr_spearman[1], 'Normal Blood, ATG7(2)'],\n",
    "         [all_negativ_corr_spearman[2], all_positiv_corr_spearman[2], 'Primary Blood (Periph), ATG7(1)'], \n",
    "         [all_negativ_corr_spearman[3], all_positiv_corr_spearman[3], 'Primary Blood (Periph), ATG7(2)']\n",
    "         ]\n",
    "\n",
    "all_corr_negpos_merged = []\n",
    "for dfs in data:\n",
    "  print(dfs[2])\n",
    "  print('shape positiv', dfs[0].shape)\n",
    "  print('shape negativ', dfs[1].shape)\n",
    "\n",
    "  df_merged = pandas.concat([dfs[0], dfs[1]], axis=0)\n",
    "  df_merged = df_merged.reset_index(drop = True)\n",
    "  print('shape after merge', df_merged.shape)\n",
    "  all_corr_negpos_merged.append(df_merged)\n",
    "  print()\n",
    "\n",
    "#Merge ATG7(1) and ATG7(2)\n",
    "data = [\n",
    "        [all_corr_negpos_merged[0], all_corr_negpos_merged[1], 'Normal Blood'],\n",
    "        [all_corr_negpos_merged[2], all_corr_negpos_merged[3], 'Primary Blood (Periph)']\n",
    "        ]\n",
    "\n",
    "all_corr_isoforms_merged = []\n",
    "for dfs in data:\n",
    "  print('shape normal', dfs[0].shape)\n",
    "  print('shape primary', dfs[1].shape)\n",
    "\n",
    "  df_merged = pandas.concat([dfs[0], dfs[1]], axis=0)\n",
    "  df_merged = df_merged.reset_index(drop = True)\n",
    "  print('shape after merge', df_merged.shape)\n",
    "  all_corr_isoforms_merged.append(df_merged)\n",
    "  print()\n",
    "\n",
    "#Distribution of correlation\n",
    "data = [\n",
    "        [all_corr_isoforms_merged[0], 'Normal Blood'],\n",
    "        [all_corr_isoforms_merged[1], 'Primary Blood (Periph)']\n",
    "        ]\n",
    "\n",
    "for dfs in data:\n",
    "  seaborn.displot(dfs[0], x=\"r_value\", hue='info', aspect = 2.6)\n",
    "  label_title = 'Distribution of correlation in ' + dfs[1]\n",
    "  plt.title(label_title, fontsize = 22)\n",
    "  plt.show()\n",
    "  plt.clf()\n",
    "  print()"
   ]
  },
  {
   "cell_type": "code",
   "execution_count": null,
   "metadata": {
    "colab": {
     "base_uri": "https://localhost:8080/"
    },
    "id": "bJA52FV4JlAV",
    "outputId": "7e0ec2cd-607d-4974-e234-e4b3c6f243b6"
   },
   "outputs": [],
   "source": [
    "# have to select the 1% in extremities to have only the interesting one.\n",
    "print((len(all_corr_negpos_merged)), '= norm iso1, norm iso2, prim iso1, prim iso2')"
   ]
  },
  {
   "cell_type": "code",
   "execution_count": null,
   "metadata": {
    "id": "2NtZEBOEJk91"
   },
   "outputs": [],
   "source": [
    "all_corr_negpos_extremities = []\n",
    "\n",
    "for df in all_corr_negpos_merged:\n",
    "  df = df.sort_values(['r_value'], ascending = False)\n",
    "  df = df.reset_index(drop = True)\n",
    "  \n",
    "  lenght = len(df)\n",
    "  only_1perc = int(lenght*0.01)\n",
    "  just_head = only_1perc\n",
    "  just_tail = lenght - only_1perc\n",
    "\n",
    "  df_head = df.iloc[0:just_head,:]\n",
    "  df_tail = df.iloc[just_tail:,:]\n",
    "  df_extremeties = pandas.concat([df_head, df_tail], axis=0)\n",
    "\n",
    "  inform = df['info'][1]\n",
    "  extremities_name = 'corr_1%extremities'+ '_' +inform\n",
    "  df_extremeties.to_excel(extremities_name+'.xlsx', index=False)\n",
    "\n",
    "  all_corr_negpos_extremities.append(df_extremeties)"
   ]
  },
  {
   "cell_type": "markdown",
   "metadata": {
    "id": "q808ZjOLTvDm"
   },
   "source": [
    "# VI] Venn diagrams"
   ]
  },
  {
   "cell_type": "code",
   "execution_count": null,
   "metadata": {},
   "outputs": [],
   "source": [
    "len(all_corr_negpos_extremities)"
   ]
  },
  {
   "cell_type": "code",
   "execution_count": null,
   "metadata": {},
   "outputs": [],
   "source": [
    "all_corr_negpos_extremities[0]"
   ]
  },
  {
   "cell_type": "code",
   "execution_count": null,
   "metadata": {
    "scrolled": true
   },
   "outputs": [],
   "source": [
    "#separate pos and neg correlation\n",
    "all_corr_positiv_extremities = []\n",
    "all_corr_negativ_extremities = []\n",
    "\n",
    "for df in all_corr_negpos_extremities:\n",
    "    data_pos = df[df['r_value']>0]\n",
    "    data_neg = df[df['r_value']<0]\n",
    "    all_corr_positiv_extremities.append(data_pos)\n",
    "    all_corr_negativ_extremities.append(data_neg)\n",
    "len(all_corr_positiv_extremities)"
   ]
  },
  {
   "cell_type": "code",
   "execution_count": null,
   "metadata": {},
   "outputs": [],
   "source": [
    "len(all_corr_negativ_extremities[1])"
   ]
  },
  {
   "cell_type": "code",
   "execution_count": null,
   "metadata": {},
   "outputs": [],
   "source": [
    "#VENN DIAGRAMS FOR the 1% of the genes\n",
    "data_pos =  [\n",
    "         [all_corr_positiv_extremities[0], all_corr_positiv_extremities[1], 'Normal_Blood', 'pos'], \n",
    "         [all_corr_positiv_extremities[2], all_corr_positiv_extremities[3], 'Primary_Blood_(Periph)', 'pos']\n",
    "         ]\n",
    "\n",
    "data_neg =  [\n",
    "         [all_corr_negativ_extremities[0], all_corr_negativ_extremities[1], 'Normal_Blood', 'neg'], \n",
    "         [all_corr_negativ_extremities[2], all_corr_negativ_extremities[3], 'Primary_Blood_(Periph)', 'neg']\n",
    "         ]\n",
    "\n",
    "data = data_pos + data_neg\n",
    "\n",
    "for dfs in data:\n",
    "    set1 = set(dfs[0]['hgnc_symbol'])\n",
    "    set2 = set(dfs[1]['hgnc_symbol'])\n",
    "    subset = (set1, set2)\n",
    "\n",
    "    #save results in list\n",
    "    with_only1 = list(set2.symmetric_difference(set1) & set1)\n",
    "    with_only2 = list(set2.symmetric_difference(set1) & set2)\n",
    "    intersection = set1.intersection(set2)\n",
    "\n",
    "    #create a dictionnary\n",
    "    d = dict(Only_ATG7_1 = with_only1, Only_ATG7_2 = with_only2, Intersection= intersection)\n",
    "\n",
    "    #Convert to dataframe\n",
    "    df_only_and_intersection = pandas.DataFrame.from_dict(d, orient='index')\n",
    "    name_file = 'only_and_intersection_isos'+dfs[2]+dfs[3]\n",
    "       \n",
    "    #Transpose to have a better table and save\n",
    "    df_only_and_intersection = df_only_and_intersection.transpose()\n",
    "    df_only_and_intersection['info'] = dfs[2]+dfs[3]\n",
    "    df_only_and_intersection.to_excel(name_file+'.xlsx', index=False)\n",
    "    \n",
    "    #Venn Diagram\n",
    "    venn2(subset, set_labels=('ATG7(1)', 'ATG7(2)'), set_colors=('grey', 'darksalmon'))\n",
    "    label_title = dfs[2] + ' ' + dfs[3]\n",
    "    plt.title(label_title)\n",
    "    plt.show()\n",
    "    plt.clf()\n",
    "    print()"
   ]
  },
  {
   "cell_type": "code",
   "execution_count": null,
   "metadata": {},
   "outputs": [],
   "source": [
    "len(data)"
   ]
  },
  {
   "cell_type": "code",
   "execution_count": null,
   "metadata": {},
   "outputs": [],
   "source": [
    "print(len(list_only1), '= norm_pos', 'prim_pos', 'norm_neg', 'prim_neg')"
   ]
  },
  {
   "cell_type": "code",
   "execution_count": null,
   "metadata": {},
   "outputs": [],
   "source": [
    "#Only one gene is commun in positive correlation. Which one?\n",
    "print('normal_positive:',commun_both[0])\n",
    "print('primaryl_positive:',commun_both[1])"
   ]
  },
  {
   "cell_type": "code",
   "execution_count": null,
   "metadata": {
    "colab": {
     "base_uri": "https://localhost:8080/",
     "height": 1000
    },
    "id": "Q4nXgwefy1rE",
    "outputId": "c860c647-ba4d-4e97-f155-98cb1ed7a765"
   },
   "outputs": [],
   "source": [
    "#VENN DIAGRAMS FOR 100% of the genes\n",
    "\n",
    "data_pos =  [\n",
    "         [all_positiv_corr_spearman[0], all_positiv_corr_spearman[1], 'Normal Blood', 'positive'], \n",
    "         [all_positiv_corr_spearman[2], all_positiv_corr_spearman[3], 'Primary Blood (Periph)', 'positive']\n",
    "         ]\n",
    "\n",
    "data_neg =  [\n",
    "         [all_negativ_corr_spearman[0], all_negativ_corr_spearman[1], 'Normal Blood', 'negative'], \n",
    "         [all_negativ_corr_spearman[2], all_negativ_corr_spearman[3], 'Primary Blood (Periph)', 'negative']\n",
    "         ]\n",
    "\n",
    "data = data_pos + data_neg\n",
    "\n",
    "list_only1 = []\n",
    "list_only2 = []\n",
    "\n",
    "for dfs in data:\n",
    "  set1 = set(dfs[0]['ensembl_gene_id'])\n",
    "  set2 = set(dfs[1]['ensembl_gene_id'])\n",
    "  subset = (set1, set2)\n",
    "\n",
    "  #just to save some results in list\n",
    "  with_only1 = set2.symmetric_difference(set1) & set1\n",
    "  list_only1.append(with_only1)\n",
    "\n",
    "  with_only2 = set2.symmetric_difference(set1) & set2\n",
    "  list_only2.append(with_only2)\n",
    "\n",
    "  #Venn Diagram\n",
    "  venn2(subset, set_labels=('ATG7(1)', 'ATG7(2)'), set_colors=('grey', 'darksalmon'))\n",
    "  label_title = dfs[2] + ' ' + dfs[3]\n",
    "  plt.title(label_title)\n",
    "  plt.show()\n",
    "  plt.clf()\n",
    "  print()\n",
    "\n"
   ]
  },
  {
   "cell_type": "code",
   "execution_count": null,
   "metadata": {},
   "outputs": [],
   "source": [
    "print((len(list_only2)), '= norm_pos_iso2, norm_neg_iso2, prim_pos_iso2, prim_neg_iso2, ')"
   ]
  },
  {
   "cell_type": "code",
   "execution_count": null,
   "metadata": {
    "colab": {
     "base_uri": "https://localhost:8080/",
     "height": 470
    },
    "id": "tPVm9RqkDFxx",
    "outputId": "ebcace3a-dad7-4666-f91d-8b4b222bd7c2"
   },
   "outputs": [],
   "source": [
    "#Interesting to see only 232 in Normal Isoform 2 positive correlation → list_only2[0]\n",
    "set_to_dict = dict.fromkeys(list_only2[0],0)\n",
    "df_only = pandas.DataFrame.from_dict(set_to_dict, orient='index')\n",
    "df_only = df_only.reset_index()\n",
    "df_only.rename(columns = {'index' : 'ensembl_gene_id'}, inplace = True)\n",
    "dfmerged = df_only.merge(all_positiv_corr_spearman[1])\n",
    "dfmerged['Type'] = 'Normal Blood'\n",
    "dfmerged['Isoform'] = 'ATG7(2) only'\n",
    "dfmerged.drop(dfmerged.columns[[1, 5]], axis = 1, inplace = True)\n",
    "\n",
    "#remove duplicates in genes\n",
    "print(dfmerged.shape)\n",
    "print('number of duplicated genes:', dfmerged.duplicated('ensembl_gene_id').sum())\n",
    "dfmerged.drop_duplicates(\"ensembl_gene_id\", inplace = True)\n",
    "print(dfmerged.shape)\n",
    "\n",
    "dfmerged = dfmerged.sort_values(['r_value'], ascending = False)\n",
    "only_iso2_normal_pos = dfmerged.copy()\n",
    "only_iso2_normal_pos"
   ]
  },
  {
   "cell_type": "code",
   "execution_count": null,
   "metadata": {},
   "outputs": [],
   "source": [
    "seaborn.displot(only_iso2_normal_pos, x=\"r_value\", aspect = 2.6)\n",
    "label_title = 'Distribution of pos correlation in iso2 only, normal'\n",
    "plt.title(label_title, fontsize = 22)"
   ]
  },
  {
   "cell_type": "code",
   "execution_count": null,
   "metadata": {},
   "outputs": [],
   "source": [
    "#Save to csv\n",
    "# only_iso2_normal_pos.to_excel('Correlated_only_iso2_normal_pos.xlsx', index=False)"
   ]
  }
 ],
 "metadata": {
  "colab": {
   "collapsed_sections": [
    "scwtwuDCqUKz",
    "fbjL51C8RltI",
    "R8fLWHXOBYJl"
   ],
   "name": "all_organs.v004.ipynb",
   "provenance": []
  },
  "kernelspec": {
   "display_name": "Python 3",
   "language": "python",
   "name": "python3"
  },
  "language_info": {
   "codemirror_mode": {
    "name": "ipython",
    "version": 3
   },
   "file_extension": ".py",
   "mimetype": "text/x-python",
   "name": "python",
   "nbconvert_exporter": "python",
   "pygments_lexer": "ipython3",
   "version": "3.8.5"
  }
 },
 "nbformat": 4,
 "nbformat_minor": 1
}
